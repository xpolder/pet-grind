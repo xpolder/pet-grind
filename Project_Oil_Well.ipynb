{
 "cells": [
  {
   "cell_type": "markdown",
   "metadata": {},
   "source": [
    "# Выбор локации для скважины"
   ]
  },
  {
   "cell_type": "markdown",
   "metadata": {},
   "source": [
    "Нам предоставлены пробы нефти в трёх регионах: в каждом 10 000 месторождений, где измерили качество нефти и объём её запасов. Построим модель машинного обучения, которая поможет определить регион, где добыча принесёт наибольшую прибыль. Проанализируем возможную прибыль и риски техникой *Bootstrap.*\n",
    "\n",
    "Шаги для выбора локации:\n",
    "\n",
    "- В избранном регионе ищут месторождения, для каждого определяют значения признаков;\n",
    "- Строят модель и оценивают объём запасов;\n",
    "- Выбирают месторождения с самым высокими оценками значений. Количество месторождений зависит от бюджета компании и стоимости разработки одной скважины;\n",
    "- Прибыль равна суммарной прибыли отобранных месторождений."
   ]
  },
  {
   "cell_type": "markdown",
   "metadata": {},
   "source": [
    "## Загрузка и подготовка данных"
   ]
  },
  {
   "cell_type": "code",
   "execution_count": 1,
   "metadata": {},
   "outputs": [],
   "source": [
    "import pandas as pd\n",
    "import numpy as np\n",
    "\n",
    "from sklearn.linear_model import LinearRegression\n",
    "\n",
    "from sklearn.metrics import mean_squared_error\n",
    "from sklearn.model_selection import train_test_split\n",
    "from sklearn.preprocessing import StandardScaler\n",
    "\n",
    "import warnings\n",
    "warnings.filterwarnings(\"ignore\", category=DeprecationWarning) "
   ]
  },
  {
   "cell_type": "code",
   "execution_count": 2,
   "metadata": {},
   "outputs": [],
   "source": [
    "try:\n",
    "    df0 = pd.read_csv('/datasets/geo_data_0.csv')\n",
    "    df1 = pd.read_csv('/datasets/geo_data_1.csv')\n",
    "    df2 = pd.read_csv('/datasets/geo_data_2.csv')\n",
    "except:\n",
    "    df0 = pd.read_csv('geo_data_0.csv')\n",
    "    df1 = pd.read_csv('geo_data_1.csv')\n",
    "    df2 = pd.read_csv('geo_data_2.csv')"
   ]
  },
  {
   "cell_type": "code",
   "execution_count": 3,
   "metadata": {
    "scrolled": true
   },
   "outputs": [
    {
     "data": {
      "text/html": [
       "<div>\n",
       "<style scoped>\n",
       "    .dataframe tbody tr th:only-of-type {\n",
       "        vertical-align: middle;\n",
       "    }\n",
       "\n",
       "    .dataframe tbody tr th {\n",
       "        vertical-align: top;\n",
       "    }\n",
       "\n",
       "    .dataframe thead th {\n",
       "        text-align: right;\n",
       "    }\n",
       "</style>\n",
       "<table border=\"1\" class=\"dataframe\">\n",
       "  <thead>\n",
       "    <tr style=\"text-align: right;\">\n",
       "      <th></th>\n",
       "      <th>id</th>\n",
       "      <th>f0</th>\n",
       "      <th>f1</th>\n",
       "      <th>f2</th>\n",
       "      <th>product</th>\n",
       "    </tr>\n",
       "  </thead>\n",
       "  <tbody>\n",
       "    <tr>\n",
       "      <th>0</th>\n",
       "      <td>txEyH</td>\n",
       "      <td>0.705745</td>\n",
       "      <td>-0.497823</td>\n",
       "      <td>1.221170</td>\n",
       "      <td>105.280062</td>\n",
       "    </tr>\n",
       "    <tr>\n",
       "      <th>1</th>\n",
       "      <td>2acmU</td>\n",
       "      <td>1.334711</td>\n",
       "      <td>-0.340164</td>\n",
       "      <td>4.365080</td>\n",
       "      <td>73.037750</td>\n",
       "    </tr>\n",
       "    <tr>\n",
       "      <th>2</th>\n",
       "      <td>409Wp</td>\n",
       "      <td>1.022732</td>\n",
       "      <td>0.151990</td>\n",
       "      <td>1.419926</td>\n",
       "      <td>85.265647</td>\n",
       "    </tr>\n",
       "    <tr>\n",
       "      <th>3</th>\n",
       "      <td>iJLyR</td>\n",
       "      <td>-0.032172</td>\n",
       "      <td>0.139033</td>\n",
       "      <td>2.978566</td>\n",
       "      <td>168.620776</td>\n",
       "    </tr>\n",
       "    <tr>\n",
       "      <th>4</th>\n",
       "      <td>Xdl7t</td>\n",
       "      <td>1.988431</td>\n",
       "      <td>0.155413</td>\n",
       "      <td>4.751769</td>\n",
       "      <td>154.036647</td>\n",
       "    </tr>\n",
       "    <tr>\n",
       "      <th>...</th>\n",
       "      <td>...</td>\n",
       "      <td>...</td>\n",
       "      <td>...</td>\n",
       "      <td>...</td>\n",
       "      <td>...</td>\n",
       "    </tr>\n",
       "    <tr>\n",
       "      <th>99995</th>\n",
       "      <td>DLsed</td>\n",
       "      <td>0.971957</td>\n",
       "      <td>0.370953</td>\n",
       "      <td>6.075346</td>\n",
       "      <td>110.744026</td>\n",
       "    </tr>\n",
       "    <tr>\n",
       "      <th>99996</th>\n",
       "      <td>QKivN</td>\n",
       "      <td>1.392429</td>\n",
       "      <td>-0.382606</td>\n",
       "      <td>1.273912</td>\n",
       "      <td>122.346843</td>\n",
       "    </tr>\n",
       "    <tr>\n",
       "      <th>99997</th>\n",
       "      <td>3rnvd</td>\n",
       "      <td>1.029585</td>\n",
       "      <td>0.018787</td>\n",
       "      <td>-1.348308</td>\n",
       "      <td>64.375443</td>\n",
       "    </tr>\n",
       "    <tr>\n",
       "      <th>99998</th>\n",
       "      <td>7kl59</td>\n",
       "      <td>0.998163</td>\n",
       "      <td>-0.528582</td>\n",
       "      <td>1.583869</td>\n",
       "      <td>74.040764</td>\n",
       "    </tr>\n",
       "    <tr>\n",
       "      <th>99999</th>\n",
       "      <td>1CWhH</td>\n",
       "      <td>1.764754</td>\n",
       "      <td>-0.266417</td>\n",
       "      <td>5.722849</td>\n",
       "      <td>149.633246</td>\n",
       "    </tr>\n",
       "  </tbody>\n",
       "</table>\n",
       "<p>100000 rows × 5 columns</p>\n",
       "</div>"
      ],
      "text/plain": [
       "          id        f0        f1        f2     product\n",
       "0      txEyH  0.705745 -0.497823  1.221170  105.280062\n",
       "1      2acmU  1.334711 -0.340164  4.365080   73.037750\n",
       "2      409Wp  1.022732  0.151990  1.419926   85.265647\n",
       "3      iJLyR -0.032172  0.139033  2.978566  168.620776\n",
       "4      Xdl7t  1.988431  0.155413  4.751769  154.036647\n",
       "...      ...       ...       ...       ...         ...\n",
       "99995  DLsed  0.971957  0.370953  6.075346  110.744026\n",
       "99996  QKivN  1.392429 -0.382606  1.273912  122.346843\n",
       "99997  3rnvd  1.029585  0.018787 -1.348308   64.375443\n",
       "99998  7kl59  0.998163 -0.528582  1.583869   74.040764\n",
       "99999  1CWhH  1.764754 -0.266417  5.722849  149.633246\n",
       "\n",
       "[100000 rows x 5 columns]"
      ]
     },
     "execution_count": 3,
     "metadata": {},
     "output_type": "execute_result"
    }
   ],
   "source": [
    "df0"
   ]
  },
  {
   "cell_type": "code",
   "execution_count": 4,
   "metadata": {},
   "outputs": [
    {
     "name": "stdout",
     "output_type": "stream",
     "text": [
      "\n",
      "<class 'pandas.core.frame.DataFrame'>\n",
      "RangeIndex: 100000 entries, 0 to 99999\n",
      "Data columns (total 5 columns):\n",
      " #   Column   Non-Null Count   Dtype  \n",
      "---  ------   --------------   -----  \n",
      " 0   id       100000 non-null  object \n",
      " 1   f0       100000 non-null  float64\n",
      " 2   f1       100000 non-null  float64\n",
      " 3   f2       100000 non-null  float64\n",
      " 4   product  100000 non-null  float64\n",
      "dtypes: float64(4), object(1)\n",
      "memory usage: 3.8+ MB\n",
      "Info: None\n",
      "\n",
      "NaN: 0\n",
      "\n",
      "Duplicates: 0\n",
      "________________________________________________________________________________\n",
      "\n",
      "<class 'pandas.core.frame.DataFrame'>\n",
      "RangeIndex: 100000 entries, 0 to 99999\n",
      "Data columns (total 5 columns):\n",
      " #   Column   Non-Null Count   Dtype  \n",
      "---  ------   --------------   -----  \n",
      " 0   id       100000 non-null  object \n",
      " 1   f0       100000 non-null  float64\n",
      " 2   f1       100000 non-null  float64\n",
      " 3   f2       100000 non-null  float64\n",
      " 4   product  100000 non-null  float64\n",
      "dtypes: float64(4), object(1)\n",
      "memory usage: 3.8+ MB\n",
      "Info: None\n",
      "\n",
      "NaN: 0\n",
      "\n",
      "Duplicates: 0\n",
      "________________________________________________________________________________\n",
      "\n",
      "<class 'pandas.core.frame.DataFrame'>\n",
      "RangeIndex: 100000 entries, 0 to 99999\n",
      "Data columns (total 5 columns):\n",
      " #   Column   Non-Null Count   Dtype  \n",
      "---  ------   --------------   -----  \n",
      " 0   id       100000 non-null  object \n",
      " 1   f0       100000 non-null  float64\n",
      " 2   f1       100000 non-null  float64\n",
      " 3   f2       100000 non-null  float64\n",
      " 4   product  100000 non-null  float64\n",
      "dtypes: float64(4), object(1)\n",
      "memory usage: 3.8+ MB\n",
      "Info: None\n",
      "\n",
      "NaN: 0\n",
      "\n",
      "Duplicates: 0\n",
      "________________________________________________________________________________\n"
     ]
    }
   ],
   "source": [
    "dfs = [df0, df1, df2]\n",
    "for df in dfs:\n",
    "    print()\n",
    "    print('Info:', df.info())\n",
    "    print()\n",
    "    print('NaN:', df.isna().sum().sum())\n",
    "    print()\n",
    "    print('Duplicates:', df.duplicated().sum())\n",
    "    print('_'*80)"
   ]
  },
  {
   "cell_type": "code",
   "execution_count": 5,
   "metadata": {},
   "outputs": [
    {
     "data": {
      "image/png": "[encoded data removed]",
      "text/plain": [
       "<Figure size 432x288 with 4 Axes>"
      ]
     },
     "metadata": {
      "needs_background": "light"
     },
     "output_type": "display_data"
    },
    {
     "data": {
      "image/png": "[encoded data removed]",
      "text/plain": [
       "<Figure size 432x288 with 4 Axes>"
      ]
     },
     "metadata": {
      "needs_background": "light"
     },
     "output_type": "display_data"
    },
    {
     "data": {
      "image/png": "[encoded data removed]",
      "text/plain": [
       "<Figure size 432x288 with 4 Axes>"
      ]
     },
     "metadata": {
      "needs_background": "light"
     },
     "output_type": "display_data"
    }
   ],
   "source": [
    "for df in dfs:\n",
    "    df[['f0','f1','f2']].hist()"
   ]
  },
  {
   "cell_type": "code",
   "execution_count": 6,
   "metadata": {},
   "outputs": [
    {
     "name": "stdout",
     "output_type": "stream",
     "text": [
      "               f0        f1        f2   product\n",
      "f0       1.000000 -0.440723 -0.003153  0.143536\n",
      "f1      -0.440723  1.000000  0.001724 -0.192356\n",
      "f2      -0.003153  0.001724  1.000000  0.483663\n",
      "product  0.143536 -0.192356  0.483663  1.000000\n",
      "________________________________________________________________________________\n",
      "               f0        f1        f2   product\n",
      "f0       1.000000  0.182287 -0.001777 -0.030491\n",
      "f1       0.182287  1.000000 -0.002595 -0.010155\n",
      "f2      -0.001777 -0.002595  1.000000  0.999397\n",
      "product -0.030491 -0.010155  0.999397  1.000000\n",
      "________________________________________________________________________________\n",
      "               f0        f1        f2   product\n",
      "f0       1.000000  0.000528 -0.000448 -0.001987\n",
      "f1       0.000528  1.000000  0.000779 -0.001012\n",
      "f2      -0.000448  0.000779  1.000000  0.445871\n",
      "product -0.001987 -0.001012  0.445871  1.000000\n",
      "________________________________________________________________________________\n"
     ]
    }
   ],
   "source": [
    "for df in dfs:\n",
    "    print(df.corr())\n",
    "    print(\"_\" * 80)"
   ]
  },
  {
   "cell_type": "markdown",
   "metadata": {},
   "source": [
    "**Вывод:**\n",
    "* Загрузили датафреймы\n",
    "* Посмотрели общую информацию о признаках в датафрейме: пропусков и дубликатов нету. Распределение близко к нормальному, за исключением признака *f2* во втором регионе\n",
    "* Посмотрели корреляцию признаков в каждом регионе: В первом регионе сильная отрицательная корреляция между *f0* и *f1*; Во втором регигоне очень высокая корреляция у признака *f2* и целевой переменной; В третьем регионе наблюдается та же ситуация у признака *f2* и целевой переменной, в то время как остальные признаки почти не коррелируют"
   ]
  },
  {
   "cell_type": "markdown",
   "metadata": {},
   "source": [
    "## Обучение и проверка модели\n",
    "**Напишем функцию, которая будет обучать модель линейной регрессии. В начале разделим датафрейм на тренировочный и валидационный, а затем создадим *features* и *target*. По распределению заметили, что в столбце *f2* разброс сильнее, чем в столбцах *f0* b *f1*, поэтому нужно стандартизировать признаки методом StandardScaler(). Далее функция посчитает RMSE, среднее значение в столбце *product* и средний объем сырья**"
   ]
  },
  {
   "cell_type": "code",
   "execution_count": 7,
   "metadata": {},
   "outputs": [],
   "source": [
    "rndst = 12345"
   ]
  },
  {
   "cell_type": "code",
   "execution_count": 8,
   "metadata": {},
   "outputs": [],
   "source": [
    "def training(df):\n",
    "    df_train, df_valid = train_test_split(df, test_size = 0.25, random_state = rndst)\n",
    "    \n",
    "    features_train = df_train.drop(['product', 'id'], axis = 1)\n",
    "    target_train = df_train['product']\n",
    "    features_valid = df_valid.drop(['product', 'id'], axis = 1)\n",
    "    target_valid = df_valid['product']\n",
    "    \n",
    "    numeric = ['f0', 'f1', 'f2']\n",
    "    scaler = StandardScaler()\n",
    "    scaler.fit(features_train[numeric])\n",
    "    \n",
    "    features_train[numeric] = scaler.transform(features_train[numeric])\n",
    "    features_valid[numeric] = scaler.transform(features_valid[numeric])\n",
    "    \n",
    "    \n",
    "    model = LinearRegression()\n",
    "    model.fit(features_train, target_train)\n",
    "    predictions = pd.Series(model.predict(features_valid))\n",
    "    \n",
    "    RMSE = np.sqrt(mean_squared_error(predictions, target_valid))\n",
    "    avg_prod = sum(predictions)/len(predictions)\n",
    "    \n",
    "    print('RMSE: {0:.3f}'.format(RMSE))\n",
    "    print('Average Product: {0:.3f}'.format(avg_prod))\n",
    "    print('Average predicted volume:', np.round(predictions.mean(),2))\n",
    "    return (predictions, target_valid.reset_index(drop = True))"
   ]
  },
  {
   "cell_type": "code",
   "execution_count": 9,
   "metadata": {},
   "outputs": [
    {
     "name": "stdout",
     "output_type": "stream",
     "text": [
      "RMSE: 37.579\n",
      "Average Product: 92.593\n",
      "Average predicted volume: 92.59\n",
      "RMSE: 0.893\n",
      "Average Product: 68.729\n",
      "Average predicted volume: 68.73\n",
      "RMSE: 40.030\n",
      "Average Product: 94.965\n",
      "Average predicted volume: 94.97\n"
     ]
    }
   ],
   "source": [
    "# сохраним значения для дальнейшей работы\n",
    "predict0, target_valid_0 = training(df0)\n",
    "predict1, target_valid_1 = training(df1)\n",
    "predict2, target_valid_2 = training(df2)"
   ]
  },
  {
   "cell_type": "code",
   "execution_count": 10,
   "metadata": {
    "scrolled": true
   },
   "outputs": [
    {
     "name": "stdout",
     "output_type": "stream",
     "text": [
      "Region 1 :\n",
      "RMSE: 37.579\n",
      "Average Product: 92.593\n",
      "Average predicted volume: 92.59\n",
      "________________________________________________________________________________\n",
      "\n",
      "Region 2 :\n",
      "RMSE: 0.893\n",
      "Average Product: 68.729\n",
      "Average predicted volume: 68.73\n",
      "________________________________________________________________________________\n",
      "\n",
      "Region 3 :\n",
      "RMSE: 40.030\n",
      "Average Product: 94.965\n",
      "Average predicted volume: 94.97\n",
      "________________________________________________________________________________\n",
      "\n"
     ]
    }
   ],
   "source": [
    "i = 1\n",
    "for df in dfs:\n",
    "    print(f'Region {i}', ':')\n",
    "    training(df)\n",
    "    i += 1\n",
    "    print(\"_\" * 80)\n",
    "    print()"
   ]
  },
  {
   "cell_type": "markdown",
   "metadata": {},
   "source": [
    "**Вывод:**\n",
    "* Посчитаны RMSE, Average Product, Average Predicted Volume для каждого региона\n",
    "* Максимальное среднее предсказанное значение в третьем регионе (и самое большое RMSE), самое маленькое RMSE и самое маленькое среднее предсказанное значение объема –– в регионе 2"
   ]
  },
  {
   "cell_type": "markdown",
   "metadata": {},
   "source": [
    "## Подготовка к расчёту прибыли"
   ]
  },
  {
   "cell_type": "code",
   "execution_count": 11,
   "metadata": {},
   "outputs": [],
   "source": [
    "budget = 1e10\n",
    "rev = 450000"
   ]
  },
  {
   "cell_type": "code",
   "execution_count": 12,
   "metadata": {},
   "outputs": [
    {
     "data": {
      "text/plain": [
       "22222.22"
      ]
     },
     "execution_count": 12,
     "metadata": {},
     "output_type": "execute_result"
    }
   ],
   "source": [
    "breakeven_point = np.round(budget / rev, 2)\n",
    "breakeven_point"
   ]
  },
  {
   "cell_type": "code",
   "execution_count": 13,
   "metadata": {
    "scrolled": true
   },
   "outputs": [
    {
     "data": {
      "text/plain": [
       "111.11"
      ]
     },
     "execution_count": 13,
     "metadata": {},
     "output_type": "execute_result"
    }
   ],
   "source": [
    "best_volume = np.round(breakeven_point / 200, 2)\n",
    "best_volume"
   ]
  },
  {
   "cell_type": "code",
   "execution_count": 14,
   "metadata": {
    "scrolled": true
   },
   "outputs": [
    {
     "name": "stdout",
     "output_type": "stream",
     "text": [
      "Профит по регигону 1: -16.749\n",
      "Средний запас нефти на скважину в регионе 1: 92.5\n",
      "________________________________________________________________________________\n",
      "\n",
      "Профит по регигону 2: -38.057\n",
      "Средний запас нефти на скважину в регионе 2: 68.825\n",
      "________________________________________________________________________________\n",
      "\n",
      "Профит по регигону 3: -14.499\n",
      "Средний запас нефти на скважину в регионе 3: 95.0\n",
      "________________________________________________________________________________\n",
      "\n"
     ]
    }
   ],
   "source": [
    "i = 1\n",
    "for df in dfs:\n",
    "    profit = np.round((df['product'].mean() - best_volume)/best_volume * 100, 3)\n",
    "    print(f'Профит по регигону {i}:', profit)\n",
    "    print(f'Средний запас нефти на скважину в регионе {i}:', np.round(df['product'].mean(), 3))\n",
    "    print(\"_\" * 80)\n",
    "    print()\n",
    "    i += 1\n",
    "    "
   ]
  },
  {
   "cell_type": "markdown",
   "metadata": {},
   "source": [
    "**Получили, что у каждого региона профит отрицательный (если взять рандомные 200 точек). В дальнейшем будем опираться на 200 лучших. Средний объем каждого региона меньше break-even point. Логично, что эти два высказывания взаимосвязаны**"
   ]
  },
  {
   "cell_type": "code",
   "execution_count": 15,
   "metadata": {},
   "outputs": [
    {
     "name": "stdout",
     "output_type": "stream",
     "text": [
      "Volume in 1st region: 31102.33\n",
      "Profit in 1nd region: 4.0 Billion\n",
      "________________________________________________________________________________\n",
      "Volume in 2nd region: 27746.03\n",
      "Profit in 2nd region: 2.49 Billion\n",
      "________________________________________________________________________________\n",
      "Volume in 3rd region: 29603.9\n",
      "Profit in 3nd region: 3.32 Billion\n"
     ]
    }
   ],
   "source": [
    "predict_200_0 = pd.Series(predict0, target_valid_0.index).sort_values(ascending = False)[:200]\n",
    "sum_200_0 = predict_200_0.sum()\n",
    "profit_200_0 = sum_200_0 * rev - budget\n",
    "print('Volume in 1st region:', sum_200_0.round(2))\n",
    "print('Profit in 1nd region:', np.round(profit_200_0/10**9, 2), 'Billion')\n",
    "print(\"_\"*80)\n",
    "predict_200_1 = pd.Series(predict1, target_valid_1.index).sort_values(ascending = False)[:200]\n",
    "sum_200_1 = predict_200_1.sum()\n",
    "profit_200_1 = sum_200_1 * rev - budget\n",
    "print('Volume in 2nd region:', sum_200_1.round(2))\n",
    "print('Profit in 2nd region:', np.round(profit_200_1/10**9, 2), 'Billion')\n",
    "print(\"_\"*80)\n",
    "predict_200_2 = pd.Series(predict2, target_valid_2.index).sort_values(ascending = False)[:200]\n",
    "sum_200_2 = predict_200_2.sum()\n",
    "profit_200_2 = sum_200_2 * rev - budget\n",
    "print('Volume in 3rd region:', sum_200_2.round(2))\n",
    "print('Profit in 3nd region:', np.round(profit_200_2/10**9, 2), 'Billion')"
   ]
  },
  {
   "cell_type": "markdown",
   "metadata": {},
   "source": [
    "**Посчитали объем и профит для каждого региона с 200 лучшими точками. Лучшая прибыль у первого региона –– 4 миллиарда рублей; больший объем также у первого региона –– 31102 тыс. баррелей**"
   ]
  },
  {
   "cell_type": "markdown",
   "metadata": {},
   "source": [
    "## Расчёт прибыли и рисков "
   ]
  },
  {
   "cell_type": "code",
   "execution_count": 18,
   "metadata": {},
   "outputs": [],
   "source": [
    "rndst = np.random.RandomState(12345)\n",
    "n_500 = 500 \n",
    "best = 200\n",
    "\n",
    "# Функция для расчета прибыли\n",
    "def profit_200(target, predict, best):\n",
    "    predict_200 = predict.sort_values(ascending=False)\n",
    "    target_200 = target[predict_200.index][:best]\n",
    "    return target_200.sum() * rev - budget\n",
    "    \n",
    "    \n",
    "def profit_risk_bootstrap(predictions, target):\n",
    "    profit = []\n",
    "    \n",
    "    for i in range(1000):\n",
    "        target_subsample = target.sample(n_500, replace = True, random_state = rndst)\n",
    "        predict_subsample = predictions[target_subsample.index]\n",
    "        \n",
    "        profit.append(profit_200(target, predict_subsample, best))\n",
    "\n",
    "    profit = pd.Series(profit)\n",
    "    \n",
    "    lower = np.round(profit.quantile(0.025), 3)\n",
    "    upper = np.round(profit.quantile(0.975), 3)\n",
    "    CI95 = (lower, upper)\n",
    "    \n",
    "    mean_profit = sum(profit)/len(profit)\n",
    "    \n",
    "    risk_of_loss = (profit < 0).mean() * 100\n",
    "    \n",
    "    return (CI95, mean_profit, risk_of_loss)"
   ]
  },
  {
   "cell_type": "code",
   "execution_count": 19,
   "metadata": {},
   "outputs": [
    {
     "name": "stdout",
     "output_type": "stream",
     "text": [
      "Region 1:\n",
      "\n",
      "95% Confidence Interval: (-111215545.89, 909766941.553)\n",
      "Mean Profit: 396164984.802\n",
      "Risk of Loss: 6.9\n",
      "________________________________________________________________________________\n",
      "Region 2:\n",
      "\n",
      "95% Confidence Interval: (78050810.752, 862952060.264)\n",
      "Mean Profit: 461155817.277\n",
      "Risk of Loss: 0.7\n",
      "________________________________________________________________________________\n",
      "Region 3:\n",
      "\n",
      "95% Confidence Interval: (-112227625.379, 934562914.551)\n",
      "Mean Profit: 392950475.171\n",
      "Risk of Loss: 6.5\n",
      "________________________________________________________________________________\n"
     ]
    }
   ],
   "source": [
    "i = 1\n",
    "for predicted, target in zip([predict0, predict1, predict2],\n",
    "                             [target_valid_0, target_valid_1, target_valid_2]):\n",
    "    CI, mean, risk = profit_risk_bootstrap(predicted, target)\n",
    "    \n",
    "    print(f'Region {i}:')\n",
    "    i += 1\n",
    "    print()\n",
    "    print('95% Confidence Interval:', CI)\n",
    "    print('Mean Profit:',np.round(mean, 3))\n",
    "    print('Risk of Loss:', np.round(risk,2))\n",
    "    print('_' * 80)"
   ]
  },
  {
   "cell_type": "markdown",
   "metadata": {},
   "source": [
    "## Общий вывод\n",
    "* Загрузили и изучили данные. В данных не обнаружилось пропусков и дубликатов, почти у всех признаков распределение близко к нормальному, за исключением *f2* во втором регионе\n",
    "* Обучили модель линейной регрессии на каждом датасете\n",
    "* Посчитали средние значения для каждого региона. Пришли к выводу об убыточности добычи нефти в каждом регионе при случайном выборе точек бурения скважин\n",
    "* Получили те же значения для каждого региона, но с учетом выбора 200 лучших точек для бурения. Прибыль теперь есть, и самая большая прибыль и самый большой объем нефти у первого региона. \n",
    "* Выполнили процедуру бутстрепа, посчитали среднюю прибыль, риск убытка и 95% доверительный интервал для каждого региона. Исходя из полученных данных, предпочтительнее всего выглядит регион 2, так как в остальных регионах доверительный интервал содержит 0 (доверительный интервал включает в себя как положительные, так и отрицательные значения), соответственно и риск убытка будет наименьшим во втором регионе. "
   ]
  }
 ],
 "metadata": {
  "ExecuteTimeLog": [
   {
    "duration": 422,
    "start_time": "2023-06-15T15:13:25.313Z"
   },
   {
    "duration": 993,
    "start_time": "2023-06-15T15:16:16.921Z"
   },
   {
    "duration": 19,
    "start_time": "2023-06-15T17:47:04.782Z"
   },
   {
    "duration": 417,
    "start_time": "2023-06-15T17:52:23.402Z"
   },
   {
    "duration": 13,
    "start_time": "2023-06-15T17:52:24.695Z"
   },
   {
    "duration": 15,
    "start_time": "2023-06-15T17:52:27.347Z"
   },
   {
    "duration": 12,
    "start_time": "2023-06-15T17:52:32.970Z"
   },
   {
    "duration": 70,
    "start_time": "2023-06-15T17:52:36.039Z"
   },
   {
    "duration": 14,
    "start_time": "2023-06-15T17:52:38.870Z"
   },
   {
    "duration": 14,
    "start_time": "2023-06-15T17:52:40.642Z"
   },
   {
    "duration": 12,
    "start_time": "2023-06-15T17:52:43.073Z"
   },
   {
    "duration": 1842,
    "start_time": "2023-06-15T17:55:11.221Z"
   },
   {
    "duration": 12,
    "start_time": "2023-06-15T17:55:24.004Z"
   },
   {
    "duration": 761,
    "start_time": "2023-06-15T17:55:43.880Z"
   },
   {
    "duration": 332,
    "start_time": "2023-06-15T17:57:53.212Z"
   },
   {
    "duration": 372,
    "start_time": "2023-06-15T17:57:58.662Z"
   },
   {
    "duration": 342,
    "start_time": "2023-06-15T17:58:11.960Z"
   },
   {
    "duration": 328,
    "start_time": "2023-06-15T17:58:17.771Z"
   },
   {
    "duration": 341,
    "start_time": "2023-06-15T17:59:15.041Z"
   },
   {
    "duration": 10,
    "start_time": "2023-06-15T17:59:32.906Z"
   },
   {
    "duration": 301,
    "start_time": "2023-06-15T17:59:45.731Z"
   },
   {
    "duration": 4,
    "start_time": "2023-06-15T18:03:25.254Z"
   },
   {
    "duration": 17,
    "start_time": "2023-06-15T18:03:27.667Z"
   },
   {
    "duration": 20,
    "start_time": "2023-06-15T18:04:37.710Z"
   },
   {
    "duration": 117,
    "start_time": "2023-06-15T18:04:42.151Z"
   },
   {
    "duration": 21,
    "start_time": "2023-06-15T18:04:46.305Z"
   },
   {
    "duration": 15,
    "start_time": "2023-06-15T18:07:51.138Z"
   },
   {
    "duration": 15,
    "start_time": "2023-06-15T18:07:53.812Z"
   },
   {
    "duration": 7,
    "start_time": "2023-06-15T18:12:09.224Z"
   },
   {
    "duration": 46,
    "start_time": "2023-06-15T18:12:14.722Z"
   },
   {
    "duration": 10,
    "start_time": "2023-06-15T18:12:23.776Z"
   },
   {
    "duration": 34,
    "start_time": "2023-06-15T18:12:56.307Z"
   },
   {
    "duration": 59,
    "start_time": "2023-06-15T18:13:04.348Z"
   },
   {
    "duration": 71,
    "start_time": "2023-06-15T18:14:10.170Z"
   },
   {
    "duration": 16,
    "start_time": "2023-06-15T18:14:38.772Z"
   },
   {
    "duration": 14,
    "start_time": "2023-06-15T18:14:43.505Z"
   },
   {
    "duration": 61,
    "start_time": "2023-06-15T18:14:57.222Z"
   },
   {
    "duration": 56,
    "start_time": "2023-06-15T18:14:59.160Z"
   },
   {
    "duration": 177,
    "start_time": "2023-06-15T18:15:15.653Z"
   },
   {
    "duration": 236,
    "start_time": "2023-06-15T18:15:39.021Z"
   },
   {
    "duration": 204,
    "start_time": "2023-06-15T18:16:16.845Z"
   },
   {
    "duration": 214,
    "start_time": "2023-06-15T18:16:29.565Z"
   },
   {
    "duration": 236,
    "start_time": "2023-06-15T18:16:38.753Z"
   },
   {
    "duration": 944,
    "start_time": "2023-06-15T18:23:18.905Z"
   },
   {
    "duration": 899,
    "start_time": "2023-06-15T18:23:30.426Z"
   },
   {
    "duration": 1016,
    "start_time": "2023-06-15T18:23:48.776Z"
   },
   {
    "duration": 951,
    "start_time": "2023-06-15T18:23:52.975Z"
   },
   {
    "duration": 981,
    "start_time": "2023-06-15T18:23:56.053Z"
   },
   {
    "duration": 5,
    "start_time": "2023-06-17T07:40:45.402Z"
   },
   {
    "duration": 365,
    "start_time": "2023-06-17T07:40:53.001Z"
   },
   {
    "duration": 1663,
    "start_time": "2023-06-17T07:40:54.045Z"
   },
   {
    "duration": 16,
    "start_time": "2023-06-17T07:40:55.710Z"
   },
   {
    "duration": 36,
    "start_time": "2023-06-17T07:40:56.650Z"
   },
   {
    "duration": 178,
    "start_time": "2023-06-17T07:41:09.443Z"
   },
   {
    "duration": 1264,
    "start_time": "2023-06-17T07:41:13.243Z"
   },
   {
    "duration": 25,
    "start_time": "2023-06-17T07:41:16.671Z"
   },
   {
    "duration": 34,
    "start_time": "2023-06-17T07:41:23.638Z"
   },
   {
    "duration": 622,
    "start_time": "2023-06-17T07:47:42.864Z"
   },
   {
    "duration": 4,
    "start_time": "2023-06-17T07:52:16.895Z"
   },
   {
    "duration": 15,
    "start_time": "2023-06-17T07:53:53.543Z"
   },
   {
    "duration": 235,
    "start_time": "2023-06-17T07:54:01.427Z"
   },
   {
    "duration": 154,
    "start_time": "2023-06-17T07:54:06.670Z"
   },
   {
    "duration": 4,
    "start_time": "2023-06-17T07:59:51.750Z"
   },
   {
    "duration": 3,
    "start_time": "2023-06-17T08:02:43.452Z"
   },
   {
    "duration": 73,
    "start_time": "2023-06-17T08:08:07.967Z"
   },
   {
    "duration": 2,
    "start_time": "2023-06-17T08:08:12.897Z"
   },
   {
    "duration": 5,
    "start_time": "2023-06-17T08:08:14.235Z"
   },
   {
    "duration": 67,
    "start_time": "2023-06-17T08:08:15.756Z"
   },
   {
    "duration": 7,
    "start_time": "2023-06-17T08:08:36.639Z"
   },
   {
    "duration": 498,
    "start_time": "2023-06-17T08:08:38.470Z"
   },
   {
    "duration": 563,
    "start_time": "2023-06-17T08:09:12.594Z"
   },
   {
    "duration": 660,
    "start_time": "2023-06-17T08:09:21.295Z"
   },
   {
    "duration": 245,
    "start_time": "2023-06-17T08:10:34.923Z"
   },
   {
    "duration": 554,
    "start_time": "2023-06-17T08:12:38.014Z"
   },
   {
    "duration": 17,
    "start_time": "2023-06-17T08:13:05.328Z"
   },
   {
    "duration": 14,
    "start_time": "2023-06-17T08:13:09.165Z"
   },
   {
    "duration": 20,
    "start_time": "2023-06-17T08:13:17.907Z"
   },
   {
    "duration": 25,
    "start_time": "2023-06-17T08:13:26.440Z"
   },
   {
    "duration": 21,
    "start_time": "2023-06-17T08:13:32.877Z"
   },
   {
    "duration": 29,
    "start_time": "2023-06-17T08:13:46.719Z"
   },
   {
    "duration": 3,
    "start_time": "2023-06-17T08:13:51.209Z"
   },
   {
    "duration": 24,
    "start_time": "2023-06-17T08:13:53.534Z"
   },
   {
    "duration": 480,
    "start_time": "2023-06-17T08:15:00.810Z"
   },
   {
    "duration": 5,
    "start_time": "2023-06-17T08:24:51.599Z"
   },
   {
    "duration": 517,
    "start_time": "2023-06-17T08:24:52.644Z"
   },
   {
    "duration": 9,
    "start_time": "2023-06-17T08:36:48.520Z"
   },
   {
    "duration": 3,
    "start_time": "2023-06-17T08:36:50.399Z"
   },
   {
    "duration": 9,
    "start_time": "2023-06-17T08:36:51.524Z"
   },
   {
    "duration": 3,
    "start_time": "2023-06-17T08:36:56.749Z"
   },
   {
    "duration": 4,
    "start_time": "2023-06-17T08:37:02.795Z"
   },
   {
    "duration": 9,
    "start_time": "2023-06-17T08:37:06.732Z"
   },
   {
    "duration": 7,
    "start_time": "2023-06-17T08:37:16.371Z"
   },
   {
    "duration": 5,
    "start_time": "2023-06-17T08:37:19.830Z"
   },
   {
    "duration": 18,
    "start_time": "2023-06-17T08:37:36.753Z"
   },
   {
    "duration": 3,
    "start_time": "2023-06-17T08:44:33.894Z"
   },
   {
    "duration": 4,
    "start_time": "2023-06-17T08:44:40.671Z"
   },
   {
    "duration": 4,
    "start_time": "2023-06-17T08:44:46.931Z"
   },
   {
    "duration": 5,
    "start_time": "2023-06-17T08:44:59.347Z"
   },
   {
    "duration": 14,
    "start_time": "2023-06-17T08:45:03.255Z"
   },
   {
    "duration": 5,
    "start_time": "2023-06-17T08:45:15.239Z"
   },
   {
    "duration": 6,
    "start_time": "2023-06-17T08:46:53.795Z"
   },
   {
    "duration": 5,
    "start_time": "2023-06-17T08:47:00.835Z"
   },
   {
    "duration": 6,
    "start_time": "2023-06-17T08:47:21.521Z"
   },
   {
    "duration": 75,
    "start_time": "2023-06-17T08:48:17.838Z"
   },
   {
    "duration": 8,
    "start_time": "2023-06-17T08:48:21.489Z"
   },
   {
    "duration": 9,
    "start_time": "2023-06-17T08:56:22.707Z"
   },
   {
    "duration": 9,
    "start_time": "2023-06-17T08:56:36.197Z"
   },
   {
    "duration": 8,
    "start_time": "2023-06-17T08:56:57.818Z"
   },
   {
    "duration": 10,
    "start_time": "2023-06-17T08:58:18.810Z"
   },
   {
    "duration": 11,
    "start_time": "2023-06-17T08:58:26.418Z"
   },
   {
    "duration": 11,
    "start_time": "2023-06-17T08:58:45.636Z"
   },
   {
    "duration": 11,
    "start_time": "2023-06-17T08:58:51.688Z"
   },
   {
    "duration": 9,
    "start_time": "2023-06-17T09:00:29.141Z"
   },
   {
    "duration": 173,
    "start_time": "2023-06-17T09:00:32.885Z"
   },
   {
    "duration": 509,
    "start_time": "2023-06-17T09:04:20.945Z"
   },
   {
    "duration": 57,
    "start_time": "2023-06-17T09:08:29.827Z"
   },
   {
    "duration": 66,
    "start_time": "2023-06-17T09:08:38.097Z"
   },
   {
    "duration": 64,
    "start_time": "2023-06-17T09:08:45.555Z"
   },
   {
    "duration": 61,
    "start_time": "2023-06-17T09:09:03.576Z"
   },
   {
    "duration": 3,
    "start_time": "2023-06-17T09:11:04.944Z"
   },
   {
    "duration": 3,
    "start_time": "2023-06-17T09:11:16.884Z"
   },
   {
    "duration": 229,
    "start_time": "2023-06-17T09:12:19.027Z"
   },
   {
    "duration": 50,
    "start_time": "2023-06-17T09:12:41.127Z"
   },
   {
    "duration": 125,
    "start_time": "2023-06-17T09:12:49.731Z"
   },
   {
    "duration": 189,
    "start_time": "2023-06-17T09:13:58.467Z"
   },
   {
    "duration": 92,
    "start_time": "2023-06-17T09:14:19.265Z"
   },
   {
    "duration": 96,
    "start_time": "2023-06-17T09:14:24.371Z"
   },
   {
    "duration": 3,
    "start_time": "2023-06-17T09:15:04.542Z"
   },
   {
    "duration": 85,
    "start_time": "2023-06-17T09:15:08.173Z"
   },
   {
    "duration": 3,
    "start_time": "2023-06-17T09:15:11.158Z"
   },
   {
    "duration": 498,
    "start_time": "2023-06-17T09:15:12.357Z"
   },
   {
    "duration": 95,
    "start_time": "2023-06-17T09:17:26.069Z"
   },
   {
    "duration": 214,
    "start_time": "2023-06-17T09:19:47.045Z"
   },
   {
    "duration": 6,
    "start_time": "2023-06-17T09:20:02.145Z"
   },
   {
    "duration": 48,
    "start_time": "2023-06-17T09:20:03.407Z"
   },
   {
    "duration": 3,
    "start_time": "2023-06-17T09:21:04.530Z"
   },
   {
    "duration": 407,
    "start_time": "2023-06-17T09:21:07.054Z"
   },
   {
    "duration": 7,
    "start_time": "2023-06-17T09:25:46.661Z"
   },
   {
    "duration": 208,
    "start_time": "2023-06-17T09:25:48.053Z"
   },
   {
    "duration": 5,
    "start_time": "2023-06-17T09:25:55.458Z"
   },
   {
    "duration": 8,
    "start_time": "2023-06-17T09:25:56.358Z"
   },
   {
    "duration": 163,
    "start_time": "2023-06-17T09:25:58.091Z"
   },
   {
    "duration": 389,
    "start_time": "2023-06-17T09:26:09.695Z"
   },
   {
    "duration": 544,
    "start_time": "2023-06-17T09:29:11.014Z"
   },
   {
    "duration": 7,
    "start_time": "2023-06-17T09:32:02.870Z"
   },
   {
    "duration": 14,
    "start_time": "2023-06-17T09:32:52.106Z"
   },
   {
    "duration": 19,
    "start_time": "2023-06-17T09:33:11.269Z"
   },
   {
    "duration": 18,
    "start_time": "2023-06-17T09:33:15.952Z"
   },
   {
    "duration": 20,
    "start_time": "2023-06-17T09:33:26.475Z"
   },
   {
    "duration": 14,
    "start_time": "2023-06-17T09:33:38.894Z"
   },
   {
    "duration": 14,
    "start_time": "2023-06-17T09:33:44.598Z"
   },
   {
    "duration": 15,
    "start_time": "2023-06-17T09:34:28.223Z"
   },
   {
    "duration": 17,
    "start_time": "2023-06-17T09:34:36.682Z"
   },
   {
    "duration": 2,
    "start_time": "2023-06-17T09:37:06.572Z"
   },
   {
    "duration": 5,
    "start_time": "2023-06-17T09:37:07.332Z"
   },
   {
    "duration": 4,
    "start_time": "2023-06-17T09:37:09.337Z"
   },
   {
    "duration": 19,
    "start_time": "2023-06-17T09:37:23.866Z"
   },
   {
    "duration": 16,
    "start_time": "2023-06-17T09:38:40.093Z"
   },
   {
    "duration": 15,
    "start_time": "2023-06-17T09:39:50.267Z"
   },
   {
    "duration": 15,
    "start_time": "2023-06-17T09:41:28.630Z"
   },
   {
    "duration": 15,
    "start_time": "2023-06-17T09:41:36.206Z"
   },
   {
    "duration": 17,
    "start_time": "2023-06-17T09:41:53.344Z"
   },
   {
    "duration": 19,
    "start_time": "2023-06-17T09:41:57.758Z"
   },
   {
    "duration": 18,
    "start_time": "2023-06-17T09:42:03.074Z"
   },
   {
    "duration": 19,
    "start_time": "2023-06-17T09:42:05.007Z"
   },
   {
    "duration": 15,
    "start_time": "2023-06-17T09:42:15.516Z"
   },
   {
    "duration": 14,
    "start_time": "2023-06-17T09:42:20.163Z"
   },
   {
    "duration": 16,
    "start_time": "2023-06-17T09:42:47.810Z"
   },
   {
    "duration": 18,
    "start_time": "2023-06-17T09:43:00.412Z"
   },
   {
    "duration": 18,
    "start_time": "2023-06-17T09:44:13.813Z"
   },
   {
    "duration": 86,
    "start_time": "2023-06-17T10:03:36.437Z"
   },
   {
    "duration": 58,
    "start_time": "2023-06-17T10:03:52.852Z"
   },
   {
    "duration": 3,
    "start_time": "2023-06-17T10:04:00.771Z"
   },
   {
    "duration": 5,
    "start_time": "2023-06-17T10:04:04.716Z"
   },
   {
    "duration": 5,
    "start_time": "2023-06-17T10:15:18.706Z"
   },
   {
    "duration": 13,
    "start_time": "2023-06-17T10:15:27.427Z"
   },
   {
    "duration": 6,
    "start_time": "2023-06-17T10:15:55.428Z"
   },
   {
    "duration": 1299,
    "start_time": "2023-06-17T10:15:57.372Z"
   },
   {
    "duration": 5,
    "start_time": "2023-06-17T10:16:48.028Z"
   },
   {
    "duration": 3666,
    "start_time": "2023-06-17T10:16:49.093Z"
   },
   {
    "duration": 3927,
    "start_time": "2023-06-17T10:18:38.128Z"
   },
   {
    "duration": 1286,
    "start_time": "2023-06-17T10:18:59.680Z"
   },
   {
    "duration": 5,
    "start_time": "2023-06-17T10:19:23.923Z"
   },
   {
    "duration": 1385,
    "start_time": "2023-06-17T10:19:26.217Z"
   },
   {
    "duration": 1239,
    "start_time": "2023-06-17T10:19:33.680Z"
   },
   {
    "duration": 4118,
    "start_time": "2023-06-17T10:20:06.119Z"
   },
   {
    "duration": 3896,
    "start_time": "2023-06-17T10:20:27.382Z"
   },
   {
    "duration": 67,
    "start_time": "2023-06-17T10:32:44.948Z"
   },
   {
    "duration": 65,
    "start_time": "2023-06-17T10:32:54.674Z"
   },
   {
    "duration": 154,
    "start_time": "2023-06-17T10:32:58.968Z"
   },
   {
    "duration": 8,
    "start_time": "2023-06-17T10:33:26.959Z"
   },
   {
    "duration": 113,
    "start_time": "2023-06-17T10:33:28.949Z"
   },
   {
    "duration": 6,
    "start_time": "2023-06-17T10:33:35.745Z"
   },
   {
    "duration": 409,
    "start_time": "2023-06-17T10:33:38.373Z"
   },
   {
    "duration": 507,
    "start_time": "2023-06-17T10:37:56.051Z"
   },
   {
    "duration": 17,
    "start_time": "2023-06-17T10:45:48.715Z"
   },
   {
    "duration": 16,
    "start_time": "2023-06-17T10:46:12.555Z"
   },
   {
    "duration": 1723,
    "start_time": "2023-06-18T07:30:37.316Z"
   },
   {
    "duration": 346,
    "start_time": "2023-06-18T07:30:39.041Z"
   },
   {
    "duration": 18,
    "start_time": "2023-06-18T07:30:39.388Z"
   },
   {
    "duration": 164,
    "start_time": "2023-06-18T07:30:39.407Z"
   },
   {
    "duration": 973,
    "start_time": "2023-06-18T07:30:39.572Z"
   },
   {
    "duration": 28,
    "start_time": "2023-06-18T07:30:40.547Z"
   },
   {
    "duration": 2,
    "start_time": "2023-06-18T07:30:40.577Z"
   },
   {
    "duration": 6,
    "start_time": "2023-06-18T07:30:40.580Z"
   },
   {
    "duration": 472,
    "start_time": "2023-06-18T07:30:40.587Z"
   },
   {
    "duration": 672,
    "start_time": "2023-06-18T07:30:41.061Z"
   },
   {
    "duration": 92,
    "start_time": "2023-06-18T07:30:41.740Z"
   },
   {
    "duration": 23,
    "start_time": "2023-06-18T07:30:41.834Z"
   },
   {
    "duration": 17,
    "start_time": "2023-06-18T07:30:41.858Z"
   },
   {
    "duration": 20,
    "start_time": "2023-06-18T07:30:41.877Z"
   },
   {
    "duration": 111,
    "start_time": "2023-06-18T07:30:41.898Z"
   },
   {
    "duration": 0,
    "start_time": "2023-06-18T07:30:42.010Z"
   },
   {
    "duration": 0,
    "start_time": "2023-06-18T07:30:42.011Z"
   },
   {
    "duration": 16,
    "start_time": "2023-06-18T07:31:04.175Z"
   },
   {
    "duration": 5,
    "start_time": "2023-06-18T07:31:06.881Z"
   },
   {
    "duration": 3515,
    "start_time": "2023-06-18T07:31:07.529Z"
   },
   {
    "duration": 123,
    "start_time": "2023-06-18T10:46:50.454Z"
   },
   {
    "duration": 1215,
    "start_time": "2023-06-18T10:47:00.729Z"
   },
   {
    "duration": 3290,
    "start_time": "2023-06-18T10:47:01.946Z"
   },
   {
    "duration": 21,
    "start_time": "2023-06-18T10:47:05.238Z"
   },
   {
    "duration": 265,
    "start_time": "2023-06-18T10:47:05.262Z"
   },
   {
    "duration": 1563,
    "start_time": "2023-06-18T10:47:05.529Z"
   },
   {
    "duration": 36,
    "start_time": "2023-06-18T10:47:07.094Z"
   },
   {
    "duration": 3,
    "start_time": "2023-06-18T10:47:07.133Z"
   },
   {
    "duration": 149,
    "start_time": "2023-06-18T10:47:07.138Z"
   },
   {
    "duration": 533,
    "start_time": "2023-06-18T10:47:07.299Z"
   },
   {
    "duration": 586,
    "start_time": "2023-06-18T10:47:07.877Z"
   },
   {
    "duration": 7,
    "start_time": "2023-06-18T10:47:08.469Z"
   },
   {
    "duration": 9,
    "start_time": "2023-06-18T10:47:08.483Z"
   },
   {
    "duration": 10,
    "start_time": "2023-06-18T10:47:08.553Z"
   },
   {
    "duration": 15,
    "start_time": "2023-06-18T10:47:08.569Z"
   },
   {
    "duration": 24,
    "start_time": "2023-06-18T10:47:08.590Z"
   },
   {
    "duration": 6,
    "start_time": "2023-06-18T10:47:08.616Z"
   },
   {
    "duration": 166,
    "start_time": "2023-06-18T10:47:08.623Z"
   },
   {
    "duration": 27,
    "start_time": "2023-06-18T10:49:15.646Z"
   },
   {
    "duration": 3080,
    "start_time": "2023-06-18T10:49:21.058Z"
   }
  ],
  "kernelspec": {
   "display_name": "Python 3 (ipykernel)",
   "language": "python",
   "name": "python3"
  },
  "language_info": {
   "codemirror_mode": {
    "name": "ipython",
    "version": 3
   },
   "file_extension": ".py",
   "mimetype": "text/x-python",
   "name": "python",
   "nbconvert_exporter": "python",
   "pygments_lexer": "ipython3",
   "version": "3.11.5"
  },
  "toc": {
   "base_numbering": 1,
   "nav_menu": {},
   "number_sections": true,
   "sideBar": true,
   "skip_h1_title": true,
   "title_cell": "Table of Contents",
   "title_sidebar": "Contents",
   "toc_cell": false,
   "toc_position": {},
   "toc_section_display": true,
   "toc_window_display": false
  }
 },
 "nbformat": 4,
 "nbformat_minor": 2
}
