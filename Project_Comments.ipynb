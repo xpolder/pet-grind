{
 "cells": [
  {
   "cell_type": "markdown",
   "metadata": {
    "toc": true
   },
   "source": [
    "<h1>Содержание<span class=\"tocSkip\"></span></h1>\n",
    "<div class=\"toc\"><ul class=\"toc-item\"><li><span><a href=\"#Подготовка\" data-toc-modified-id=\"Подготовка-1\"><span class=\"toc-item-num\">1&nbsp;&nbsp;</span>Подготовка</a></span><ul class=\"toc-item\"><li><span><a href=\"#Знакомство-с-данными\" data-toc-modified-id=\"Знакомство-с-данными-1.1\"><span class=\"toc-item-num\">1.1&nbsp;&nbsp;</span>Знакомство с данными</a></span></li><li><span><a href=\"#Лемматизация-и-очистка-текста\" data-toc-modified-id=\"Лемматизация-и-очистка-текста-1.2\"><span class=\"toc-item-num\">1.2&nbsp;&nbsp;</span>Лемматизация и очистка текста</a></span></li><li><span><a href=\"#Стоп-слова-и-разделение-на-выборки\" data-toc-modified-id=\"Стоп-слова-и-разделение-на-выборки-1.3\"><span class=\"toc-item-num\">1.3&nbsp;&nbsp;</span>Стоп-слова и разделение на выборки</a></span></li></ul></li><li><span><a href=\"#Обучение\" data-toc-modified-id=\"Обучение-2\"><span class=\"toc-item-num\">2&nbsp;&nbsp;</span>Обучение</a></span><ul class=\"toc-item\"><li><span><a href=\"#Logistic-Regression\" data-toc-modified-id=\"Logistic-Regression-2.1\"><span class=\"toc-item-num\">2.1&nbsp;&nbsp;</span>Logistic Regression</a></span></li><li><span><a href=\"#Decision-Tree-Classifier\" data-toc-modified-id=\"Decision-Tree-Classifier-2.2\"><span class=\"toc-item-num\">2.2&nbsp;&nbsp;</span>Decision Tree Classifier</a></span></li><li><span><a href=\"#Random-Forest-Classifier\" data-toc-modified-id=\"Random-Forest-Classifier-2.3\"><span class=\"toc-item-num\">2.3&nbsp;&nbsp;</span>Random Forest Classifier</a></span></li><li><span><a href=\"#Cat-Boost-Classifier-(умирает-ядро-на-запуске)\" data-toc-modified-id=\"Cat-Boost-Classifier-(умирает-ядро-на-запуске)-2.4\"><span class=\"toc-item-num\">2.4&nbsp;&nbsp;</span>Cat Boost Classifier (умирает ядро на запуске)</a></span></li></ul></li><li><span><a href=\"#Проверяем-на-тестовой-выборке\" data-toc-modified-id=\"Проверяем-на-тестовой-выборке-3\"><span class=\"toc-item-num\">3&nbsp;&nbsp;</span>Проверяем на тестовой выборке</a></span></li><li><span><a href=\"#Выводы\" data-toc-modified-id=\"Выводы-4\"><span class=\"toc-item-num\">4&nbsp;&nbsp;</span>Выводы</a></span></li><li><span><a href=\"#Чек-лист-проверки\" data-toc-modified-id=\"Чек-лист-проверки-5\"><span class=\"toc-item-num\">5&nbsp;&nbsp;</span>Чек-лист проверки</a></span></li></ul></div>"
   ]
  },
  {
   "cell_type": "markdown",
   "metadata": {},
   "source": [
    "# Модерация комментариев"
   ]
  },
  {
   "cell_type": "markdown",
   "metadata": {},
   "source": [
    "Интернет-магазин запускает новый сервис. Теперь пользователи могут редактировать и дополнять описания товаров, как в вики-сообществах. То есть клиенты предлагают свои правки и комментируют изменения других. Магазину нужен инструмент, который будет искать токсичные комментарии и отправлять их на модерацию. \n",
    "\n",
    "Обучим модель классифицировать комментарии на позитивные и негативные. В нашем распоряжении набор данных с разметкой о токсичности правок.\n",
    "\n",
    "**План по выполнению проекта**\n",
    "\n",
    "1. Загрузим и подготовьте данные.\n",
    "2. Обучим разные модели. \n",
    "3. Сделаем выводы.\n",
    "\n",
    "**Описание данных**\n",
    "\n",
    "Данные находятся в файле `toxic_comments.csv`. Столбец *text* в нём содержит текст комментария, а *toxic* — целевой признак."
   ]
  },
  {
   "cell_type": "markdown",
   "metadata": {},
   "source": [
    "## Подготовка"
   ]
  },
  {
   "cell_type": "markdown",
   "metadata": {},
   "source": [
    "### Знакомство с данными"
   ]
  },
  {
   "cell_type": "code",
   "execution_count": 1,
   "metadata": {},
   "outputs": [],
   "source": [
    "import pandas as pd\n",
    "\n",
    "import re\n",
    "import nltk\n",
    "from nltk.stem import WordNetLemmatizer \n",
    "import spacy\n",
    "\n",
    "from sklearn.feature_extraction.text import TfidfVectorizer\n",
    "from sklearn.model_selection import train_test_split\n",
    "from sklearn.model_selection import RandomizedSearchCV\n",
    "from sklearn.linear_model import LogisticRegression\n",
    "from sklearn.ensemble import RandomForestClassifier\n",
    "from sklearn.tree import DecisionTreeClassifier\n",
    "from catboost import CatBoostClassifier\n",
    "from sklearn.metrics import f1_score"
   ]
  },
  {
   "cell_type": "code",
   "execution_count": 2,
   "metadata": {},
   "outputs": [
    {
     "data": {
      "text/html": [
       "<div>\n",
       "<style scoped>\n",
       "    .dataframe tbody tr th:only-of-type {\n",
       "        vertical-align: middle;\n",
       "    }\n",
       "\n",
       "    .dataframe tbody tr th {\n",
       "        vertical-align: top;\n",
       "    }\n",
       "\n",
       "    .dataframe thead th {\n",
       "        text-align: right;\n",
       "    }\n",
       "</style>\n",
       "<table border=\"1\" class=\"dataframe\">\n",
       "  <thead>\n",
       "    <tr style=\"text-align: right;\">\n",
       "      <th></th>\n",
       "      <th>Unnamed: 0</th>\n",
       "      <th>text</th>\n",
       "      <th>toxic</th>\n",
       "    </tr>\n",
       "  </thead>\n",
       "  <tbody>\n",
       "    <tr>\n",
       "      <th>0</th>\n",
       "      <td>0</td>\n",
       "      <td>Explanation\\nWhy the edits made under my usern...</td>\n",
       "      <td>0</td>\n",
       "    </tr>\n",
       "    <tr>\n",
       "      <th>1</th>\n",
       "      <td>1</td>\n",
       "      <td>D'aww! He matches this background colour I'm s...</td>\n",
       "      <td>0</td>\n",
       "    </tr>\n",
       "    <tr>\n",
       "      <th>2</th>\n",
       "      <td>2</td>\n",
       "      <td>Hey man, I'm really not trying to edit war. It...</td>\n",
       "      <td>0</td>\n",
       "    </tr>\n",
       "    <tr>\n",
       "      <th>3</th>\n",
       "      <td>3</td>\n",
       "      <td>\"\\nMore\\nI can't make any real suggestions on ...</td>\n",
       "      <td>0</td>\n",
       "    </tr>\n",
       "    <tr>\n",
       "      <th>4</th>\n",
       "      <td>4</td>\n",
       "      <td>You, sir, are my hero. Any chance you remember...</td>\n",
       "      <td>0</td>\n",
       "    </tr>\n",
       "  </tbody>\n",
       "</table>\n",
       "</div>"
      ],
      "text/plain": [
       "  Unnamed: 0                                               text toxic\n",
       "0          0  Explanation\\nWhy the edits made under my usern...     0\n",
       "1          1  D'aww! He matches this background colour I'm s...     0\n",
       "2          2  Hey man, I'm really not trying to edit war. It...     0\n",
       "3          3  \"\\nMore\\nI can't make any real suggestions on ...     0\n",
       "4          4  You, sir, are my hero. Any chance you remember...     0"
      ]
     },
     "execution_count": 2,
     "metadata": {},
     "output_type": "execute_result"
    }
   ],
   "source": [
    "df = pd.read_csv('/datasets/toxic_comments.csv', dtype = str)\n",
    "df.head()"
   ]
  },
  {
   "cell_type": "code",
   "execution_count": 3,
   "metadata": {},
   "outputs": [
    {
     "data": {
      "text/html": [
       "<div>\n",
       "<style scoped>\n",
       "    .dataframe tbody tr th:only-of-type {\n",
       "        vertical-align: middle;\n",
       "    }\n",
       "\n",
       "    .dataframe tbody tr th {\n",
       "        vertical-align: top;\n",
       "    }\n",
       "\n",
       "    .dataframe thead th {\n",
       "        text-align: right;\n",
       "    }\n",
       "</style>\n",
       "<table border=\"1\" class=\"dataframe\">\n",
       "  <thead>\n",
       "    <tr style=\"text-align: right;\">\n",
       "      <th></th>\n",
       "      <th>text</th>\n",
       "      <th>toxic</th>\n",
       "    </tr>\n",
       "  </thead>\n",
       "  <tbody>\n",
       "    <tr>\n",
       "      <th>0</th>\n",
       "      <td>Explanation\\nWhy the edits made under my usern...</td>\n",
       "      <td>0</td>\n",
       "    </tr>\n",
       "    <tr>\n",
       "      <th>1</th>\n",
       "      <td>D'aww! He matches this background colour I'm s...</td>\n",
       "      <td>0</td>\n",
       "    </tr>\n",
       "    <tr>\n",
       "      <th>2</th>\n",
       "      <td>Hey man, I'm really not trying to edit war. It...</td>\n",
       "      <td>0</td>\n",
       "    </tr>\n",
       "    <tr>\n",
       "      <th>3</th>\n",
       "      <td>\"\\nMore\\nI can't make any real suggestions on ...</td>\n",
       "      <td>0</td>\n",
       "    </tr>\n",
       "    <tr>\n",
       "      <th>4</th>\n",
       "      <td>You, sir, are my hero. Any chance you remember...</td>\n",
       "      <td>0</td>\n",
       "    </tr>\n",
       "    <tr>\n",
       "      <th>...</th>\n",
       "      <td>...</td>\n",
       "      <td>...</td>\n",
       "    </tr>\n",
       "    <tr>\n",
       "      <th>159287</th>\n",
       "      <td>\":::::And for the second time of asking, when ...</td>\n",
       "      <td>0</td>\n",
       "    </tr>\n",
       "    <tr>\n",
       "      <th>159288</th>\n",
       "      <td>You should be ashamed of yourself \\n\\nThat is ...</td>\n",
       "      <td>0</td>\n",
       "    </tr>\n",
       "    <tr>\n",
       "      <th>159289</th>\n",
       "      <td>Spitzer \\n\\nUmm, theres no actual article for ...</td>\n",
       "      <td>0</td>\n",
       "    </tr>\n",
       "    <tr>\n",
       "      <th>159290</th>\n",
       "      <td>And it looks like it was actually you who put ...</td>\n",
       "      <td>0</td>\n",
       "    </tr>\n",
       "    <tr>\n",
       "      <th>159291</th>\n",
       "      <td>\"\\nAnd ... I really don't think you understand...</td>\n",
       "      <td>0</td>\n",
       "    </tr>\n",
       "  </tbody>\n",
       "</table>\n",
       "<p>159292 rows × 2 columns</p>\n",
       "</div>"
      ],
      "text/plain": [
       "                                                     text toxic\n",
       "0       Explanation\\nWhy the edits made under my usern...     0\n",
       "1       D'aww! He matches this background colour I'm s...     0\n",
       "2       Hey man, I'm really not trying to edit war. It...     0\n",
       "3       \"\\nMore\\nI can't make any real suggestions on ...     0\n",
       "4       You, sir, are my hero. Any chance you remember...     0\n",
       "...                                                   ...   ...\n",
       "159287  \":::::And for the second time of asking, when ...     0\n",
       "159288  You should be ashamed of yourself \\n\\nThat is ...     0\n",
       "159289  Spitzer \\n\\nUmm, theres no actual article for ...     0\n",
       "159290  And it looks like it was actually you who put ...     0\n",
       "159291  \"\\nAnd ... I really don't think you understand...     0\n",
       "\n",
       "[159292 rows x 2 columns]"
      ]
     },
     "execution_count": 3,
     "metadata": {},
     "output_type": "execute_result"
    }
   ],
   "source": [
    "df = df.drop('Unnamed: 0', axis = 1)\n",
    "df"
   ]
  },
  {
   "cell_type": "markdown",
   "metadata": {},
   "source": [
    "### Лемматизация и очистка текста"
   ]
  },
  {
   "cell_type": "code",
   "execution_count": 4,
   "metadata": {},
   "outputs": [],
   "source": [
    "def lemmatize(text):\n",
    "    nlp = spacy.load('en_core_web_sm', disable = ['parser', 'ner'])\n",
    "    doc = nlp(text)\n",
    "    return ''.join([token.lemma_ for token in doc])\n",
    "\n",
    "def clear_text(text):\n",
    "    txt = re.sub(r'[^a-zA-Z ]', ' ', text)\n",
    "    txt = txt.lower()\n",
    "    return ' '.join(txt.split())"
   ]
  },
  {
   "cell_type": "code",
   "execution_count": 5,
   "metadata": {},
   "outputs": [],
   "source": [
    "df['text'] = df['text'].apply(lambda x: clear_text(x))\n",
    "corpus = df['text'].values.astype('U')\n",
    "corpus[0] = lemmatize(clear_text(corpus[0]))"
   ]
  },
  {
   "cell_type": "markdown",
   "metadata": {},
   "source": [
    "### Стоп-слова и разделение на выборки"
   ]
  },
  {
   "cell_type": "code",
   "execution_count": 6,
   "metadata": {},
   "outputs": [],
   "source": [
    "features = df['text']\n",
    "target = df['toxic'].values"
   ]
  },
  {
   "cell_type": "code",
   "execution_count": 7,
   "metadata": {},
   "outputs": [],
   "source": [
    "features_train, features_test, target_train, target_test = train_test_split(\n",
    "                                                           features, target, test_size = 0.1, shuffle = False)"
   ]
  },
  {
   "cell_type": "code",
   "execution_count": 8,
   "metadata": {},
   "outputs": [
    {
     "data": {
      "text/plain": [
       "((143362,), (143362,), (15930,), (15930,))"
      ]
     },
     "execution_count": 8,
     "metadata": {},
     "output_type": "execute_result"
    }
   ],
   "source": [
    "features_train.shape, target_train.shape, features_test.shape, target_test.shape"
   ]
  },
  {
   "cell_type": "code",
   "execution_count": 9,
   "metadata": {
    "scrolled": false
   },
   "outputs": [
    {
     "name": "stderr",
     "output_type": "stream",
     "text": [
      "[nltk_data] Downloading package stopwords to /home/jovyan/nltk_data...\n",
      "[nltk_data]   Package stopwords is already up-to-date!\n"
     ]
    }
   ],
   "source": [
    "nltk.download('stopwords')\n",
    "stop_words = set(nltk.corpus.stopwords.words('english'))\n",
    "tf_idf = TfidfVectorizer(stop_words = stop_words, lowercase = False)"
   ]
  },
  {
   "cell_type": "code",
   "execution_count": 10,
   "metadata": {},
   "outputs": [],
   "source": [
    "features_train_tfidf = tf_idf.fit_transform(features_train)"
   ]
  },
  {
   "cell_type": "code",
   "execution_count": 11,
   "metadata": {},
   "outputs": [],
   "source": [
    "features_test_tfidf = tf_idf.transform(features_test)"
   ]
  },
  {
   "cell_type": "markdown",
   "metadata": {},
   "source": [
    "## Обучение"
   ]
  },
  {
   "cell_type": "markdown",
   "metadata": {},
   "source": [
    "### Logistic Regression"
   ]
  },
  {
   "cell_type": "code",
   "execution_count": 23,
   "metadata": {},
   "outputs": [],
   "source": [
    "from sklearn.metrics import f1_score\n",
    "from sklearn.metrics import make_scorer\n",
    "\n",
    "f1_scorer = make_scorer(f1_score, pos_label=\"0\")"
   ]
  },
  {
   "cell_type": "code",
   "execution_count": 24,
   "metadata": {},
   "outputs": [
    {
     "name": "stdout",
     "output_type": "stream",
     "text": [
      "0.9746645656455906 {'warm_start': True, 'solver': 'newton-cg', 'max_iter': 400}\n"
     ]
    }
   ],
   "source": [
    "params = {\n",
    "          'max_iter' : range(100,500,100),\n",
    "          'solver' : ['newton-cg', 'liblinear'],\n",
    "          'warm_start' : [True, False]\n",
    "         }\n",
    "\n",
    "random_log = RandomizedSearchCV(LogisticRegression(), params, n_jobs = -1, cv = 5, scoring = f1_scorer)\n",
    "\n",
    "random_log.fit(features_train_tfidf, target_train)\n",
    "print(random_log.best_score_, random_log.best_params_)"
   ]
  },
  {
   "cell_type": "markdown",
   "metadata": {},
   "source": [
    "### Decision Tree Classifier"
   ]
  },
  {
   "cell_type": "code",
   "execution_count": 15,
   "metadata": {},
   "outputs": [
    {
     "name": "stdout",
     "output_type": "stream",
     "text": [
      "{'min_samples_split': 5, 'min_samples_leaf': 2, 'max_depth': 10} 0.966161344849642\n"
     ]
    }
   ],
   "source": [
    "params = {\n",
    "          \"min_samples_split\": [2, 5, 10],\n",
    "          \"max_depth\": [2, 4, 10],\n",
    "          \"min_samples_leaf\": [2, 4, 6],\n",
    "              }\n",
    "\n",
    "random_dt = RandomizedSearchCV(DecisionTreeClassifier(), params, cv = 5, n_jobs = 1, scoring = f1_scorer)\n",
    "random_dt.fit(features_train_tfidf, target_train)\n",
    "\n",
    "print(random_dt.best_params_, random_dt.best_score_)"
   ]
  },
  {
   "cell_type": "markdown",
   "metadata": {},
   "source": [
    "### Random Forest Classifier"
   ]
  },
  {
   "cell_type": "code",
   "execution_count": 16,
   "metadata": {},
   "outputs": [
    {
     "name": "stdout",
     "output_type": "stream",
     "text": [
      "0.9465376800939316 {'n_estimators': 500, 'max_features': 'sqrt', 'max_depth': 8, 'criterion': 'entropy'}\n"
     ]
    }
   ],
   "source": [
    "params = { \n",
    "    'n_estimators': [200, 500],\n",
    "    'max_features': ['auto', 'sqrt', 'log2'],\n",
    "    'max_depth' : [4,5,6,7,8],\n",
    "    'criterion' : ['gini', 'entropy']\n",
    "        }\n",
    "\n",
    "random_rfc = RandomizedSearchCV(RandomForestClassifier(), params, cv = 5, n_jobs = -1, scoring = f1_scorer)\n",
    "random_rfc.fit(features_train_tfidf, target_train)\n",
    "\n",
    "print(random_rfc.best_score_, random_rfc.best_params_)"
   ]
  },
  {
   "cell_type": "markdown",
   "metadata": {},
   "source": [
    "## Проверяем на тестовой выборке"
   ]
  },
  {
   "cell_type": "code",
   "execution_count": 25,
   "metadata": {},
   "outputs": [
    {
     "data": {
      "text/plain": [
       "0.9755060034305317"
      ]
     },
     "execution_count": 25,
     "metadata": {},
     "output_type": "execute_result"
    }
   ],
   "source": [
    "f1_score(random_log.predict(features_test_tfidf), target_test, pos_label = '0')"
   ]
  },
  {
   "cell_type": "markdown",
   "metadata": {},
   "source": [
    "## Выводы\n",
    "1. Открыли и изучили данные\n",
    "2. Лемматизировали и очистили текст\n",
    "3. Убрали стоп-слова\n",
    "4. Разделили на тренировочную и тестовую выборки в соотношении 9:1\n",
    "5. Обучили следующие модели: **LogisticRegression, DecisionTreeClassifier, RandomForestClassifier**\n",
    "6. Лучшая метрика на тренировочной выбокре **F1** у модели Логистической Регрессии: 0,974\n",
    "7. На тестовой выборке метрика **F1** у Логистической Регрессии равна 0,9755"
   ]
  }
 ],
 "metadata": {
  "ExecuteTimeLog": [
   {
    "duration": 488,
    "start_time": "2023-09-20T16:03:29.681Z"
   },
   {
    "duration": 3056,
    "start_time": "2023-09-20T16:05:32.411Z"
   },
   {
    "duration": 6,
    "start_time": "2023-09-20T16:06:50.429Z"
   },
   {
    "duration": 106,
    "start_time": "2023-09-20T16:07:03.868Z"
   },
   {
    "duration": 16,
    "start_time": "2023-09-20T16:07:13.873Z"
   },
   {
    "duration": 12,
    "start_time": "2023-09-20T16:13:57.336Z"
   },
   {
    "duration": 3,
    "start_time": "2023-09-20T16:14:04.017Z"
   },
   {
    "duration": 3,
    "start_time": "2023-09-20T16:15:00.103Z"
   },
   {
    "duration": 2032,
    "start_time": "2023-09-20T16:15:26.269Z"
   },
   {
    "duration": 4,
    "start_time": "2023-09-20T16:15:33.914Z"
   },
   {
    "duration": 3,
    "start_time": "2023-09-20T16:16:51.944Z"
   },
   {
    "duration": 997,
    "start_time": "2023-09-20T16:17:03.988Z"
   },
   {
    "duration": 1781,
    "start_time": "2023-09-20T16:17:49.619Z"
   },
   {
    "duration": 2954,
    "start_time": "2023-09-20T16:17:51.402Z"
   },
   {
    "duration": 28,
    "start_time": "2023-09-20T16:17:54.358Z"
   },
   {
    "duration": 6,
    "start_time": "2023-09-20T16:17:54.390Z"
   },
   {
    "duration": 2296,
    "start_time": "2023-09-20T16:17:54.398Z"
   },
   {
    "duration": 1627,
    "start_time": "2023-09-20T16:18:57.400Z"
   },
   {
    "duration": 2829,
    "start_time": "2023-09-20T16:18:59.029Z"
   },
   {
    "duration": 19,
    "start_time": "2023-09-20T16:19:01.859Z"
   },
   {
    "duration": 63,
    "start_time": "2023-09-20T16:19:01.880Z"
   },
   {
    "duration": 2034,
    "start_time": "2023-09-20T16:19:01.946Z"
   },
   {
    "duration": 77,
    "start_time": "2023-09-20T16:19:19.986Z"
   },
   {
    "duration": 1619,
    "start_time": "2023-09-20T16:19:25.273Z"
   },
   {
    "duration": 2906,
    "start_time": "2023-09-20T16:19:26.894Z"
   },
   {
    "duration": 27,
    "start_time": "2023-09-20T16:19:29.802Z"
   },
   {
    "duration": 10,
    "start_time": "2023-09-20T16:19:29.831Z"
   },
   {
    "duration": 1947,
    "start_time": "2023-09-20T16:19:29.843Z"
   },
   {
    "duration": 47,
    "start_time": "2023-09-20T16:19:31.792Z"
   },
   {
    "duration": 4,
    "start_time": "2023-09-20T16:21:15.342Z"
   },
   {
    "duration": 6,
    "start_time": "2023-09-20T16:21:42.399Z"
   },
   {
    "duration": 6,
    "start_time": "2023-09-20T16:24:06.379Z"
   },
   {
    "duration": 282,
    "start_time": "2023-09-20T16:24:20.084Z"
   },
   {
    "duration": 15,
    "start_time": "2023-09-20T16:24:22.365Z"
   },
   {
    "duration": 4,
    "start_time": "2023-09-20T16:24:31.100Z"
   },
   {
    "duration": 7,
    "start_time": "2023-09-20T16:24:37.252Z"
   },
   {
    "duration": 4,
    "start_time": "2023-09-20T16:26:49.640Z"
   },
   {
    "duration": 33,
    "start_time": "2023-09-20T16:30:07.137Z"
   },
   {
    "duration": 5,
    "start_time": "2023-09-20T16:30:46.614Z"
   },
   {
    "duration": 1596,
    "start_time": "2023-09-20T16:33:10.933Z"
   },
   {
    "duration": 1069,
    "start_time": "2023-09-20T16:33:12.531Z"
   },
   {
    "duration": 28,
    "start_time": "2023-09-20T16:33:13.604Z"
   },
   {
    "duration": 7,
    "start_time": "2023-09-20T16:33:13.634Z"
   },
   {
    "duration": 2042,
    "start_time": "2023-09-20T16:33:13.652Z"
   },
   {
    "duration": 264,
    "start_time": "2023-09-20T16:33:15.695Z"
   },
   {
    "duration": 12094,
    "start_time": "2023-09-20T16:33:15.961Z"
   },
   {
    "duration": 1798,
    "start_time": "2023-09-20T16:37:17.814Z"
   },
   {
    "duration": 1333,
    "start_time": "2023-09-20T16:37:19.616Z"
   },
   {
    "duration": 40,
    "start_time": "2023-09-20T16:37:20.957Z"
   },
   {
    "duration": 23,
    "start_time": "2023-09-20T16:37:21.000Z"
   },
   {
    "duration": 51,
    "start_time": "2023-09-20T16:37:21.025Z"
   },
   {
    "duration": 2402,
    "start_time": "2023-09-20T16:37:21.078Z"
   },
   {
    "duration": 7,
    "start_time": "2023-09-20T16:37:23.484Z"
   },
   {
    "duration": 244,
    "start_time": "2023-09-20T16:37:23.493Z"
   },
   {
    "duration": 207,
    "start_time": "2023-09-20T16:37:23.740Z"
   },
   {
    "duration": 12,
    "start_time": "2023-09-20T16:43:42.155Z"
   },
   {
    "duration": 12,
    "start_time": "2023-09-20T16:43:46.376Z"
   },
   {
    "duration": 1921,
    "start_time": "2023-09-20T16:43:50.311Z"
   },
   {
    "duration": 3174,
    "start_time": "2023-09-20T16:43:52.235Z"
   },
   {
    "duration": 25,
    "start_time": "2023-09-20T16:43:55.411Z"
   },
   {
    "duration": 6,
    "start_time": "2023-09-20T16:43:55.438Z"
   },
   {
    "duration": 2878,
    "start_time": "2023-09-20T16:43:55.453Z"
   },
   {
    "duration": 250,
    "start_time": "2023-09-20T16:43:58.333Z"
   },
   {
    "duration": 142,
    "start_time": "2023-09-20T16:43:58.585Z"
   },
   {
    "duration": 31,
    "start_time": "2023-09-20T16:46:38.934Z"
   },
   {
    "duration": 1663,
    "start_time": "2023-09-20T16:46:59.308Z"
   },
   {
    "duration": 2945,
    "start_time": "2023-09-20T16:47:00.979Z"
   },
   {
    "duration": 40,
    "start_time": "2023-09-20T16:47:03.926Z"
   },
   {
    "duration": 3,
    "start_time": "2023-09-20T16:47:03.976Z"
   },
   {
    "duration": 5381,
    "start_time": "2023-09-20T16:47:03.981Z"
   },
   {
    "duration": 6,
    "start_time": "2023-09-20T16:47:09.366Z"
   },
   {
    "duration": 184,
    "start_time": "2023-09-20T16:47:09.375Z"
   },
   {
    "duration": 125,
    "start_time": "2023-09-20T16:47:09.567Z"
   },
   {
    "duration": 2384,
    "start_time": "2023-09-20T16:50:14.773Z"
   },
   {
    "duration": 3079,
    "start_time": "2023-09-20T16:50:17.160Z"
   },
   {
    "duration": 23,
    "start_time": "2023-09-20T16:50:20.241Z"
   },
   {
    "duration": 12,
    "start_time": "2023-09-20T16:50:20.266Z"
   },
   {
    "duration": 5306,
    "start_time": "2023-09-20T16:50:20.281Z"
   },
   {
    "duration": 4,
    "start_time": "2023-09-20T16:50:25.590Z"
   },
   {
    "duration": 280,
    "start_time": "2023-09-20T16:50:25.595Z"
   },
   {
    "duration": 182,
    "start_time": "2023-09-20T16:50:25.878Z"
   },
   {
    "duration": 3,
    "start_time": "2023-09-20T16:52:12.002Z"
   },
   {
    "duration": 41,
    "start_time": "2023-09-20T16:52:49.237Z"
   },
   {
    "duration": 3,
    "start_time": "2023-09-20T16:55:17.514Z"
   },
   {
    "duration": 7639,
    "start_time": "2023-09-20T16:55:49.977Z"
   },
   {
    "duration": 7300,
    "start_time": "2023-09-20T16:56:19.890Z"
   },
   {
    "duration": 18,
    "start_time": "2023-09-20T16:56:37.511Z"
   },
   {
    "duration": 1560,
    "start_time": "2023-09-20T16:57:21.169Z"
   },
   {
    "duration": 1066,
    "start_time": "2023-09-20T16:57:22.731Z"
   },
   {
    "duration": 20,
    "start_time": "2023-09-20T16:57:23.798Z"
   },
   {
    "duration": 24,
    "start_time": "2023-09-20T16:57:23.820Z"
   },
   {
    "duration": 5499,
    "start_time": "2023-09-20T16:57:23.847Z"
   },
   {
    "duration": 11,
    "start_time": "2023-09-20T16:57:29.349Z"
   },
   {
    "duration": 50,
    "start_time": "2023-09-20T16:57:29.362Z"
   },
   {
    "duration": 264,
    "start_time": "2023-09-20T16:57:29.413Z"
   },
   {
    "duration": 6849,
    "start_time": "2023-09-20T16:57:29.679Z"
   },
   {
    "duration": 135,
    "start_time": "2023-09-20T16:57:36.530Z"
   },
   {
    "duration": 106,
    "start_time": "2023-09-20T16:58:12.032Z"
   },
   {
    "duration": 27,
    "start_time": "2023-09-20T16:58:34.431Z"
   },
   {
    "duration": 1473,
    "start_time": "2023-09-20T17:00:36.622Z"
   },
   {
    "duration": 1079,
    "start_time": "2023-09-20T17:00:38.097Z"
   },
   {
    "duration": 22,
    "start_time": "2023-09-20T17:00:39.179Z"
   },
   {
    "duration": 10,
    "start_time": "2023-09-20T17:00:39.202Z"
   },
   {
    "duration": 5382,
    "start_time": "2023-09-20T17:00:39.215Z"
   },
   {
    "duration": 4,
    "start_time": "2023-09-20T17:00:44.599Z"
   },
   {
    "duration": 89,
    "start_time": "2023-09-20T17:00:44.605Z"
   },
   {
    "duration": 231,
    "start_time": "2023-09-20T17:00:44.696Z"
   },
   {
    "duration": 6899,
    "start_time": "2023-09-20T17:00:44.929Z"
   },
   {
    "duration": 147,
    "start_time": "2023-09-20T17:00:51.829Z"
   },
   {
    "duration": 7,
    "start_time": "2023-09-20T17:03:28.974Z"
   },
   {
    "duration": 12,
    "start_time": "2023-09-20T17:03:30.932Z"
   },
   {
    "duration": 3,
    "start_time": "2023-09-20T17:03:39.827Z"
   },
   {
    "duration": 18,
    "start_time": "2023-09-20T17:03:41.303Z"
   },
   {
    "duration": 5,
    "start_time": "2023-09-20T17:03:51.783Z"
   },
   {
    "duration": 1426,
    "start_time": "2023-09-20T17:04:14.824Z"
   },
   {
    "duration": 1044,
    "start_time": "2023-09-20T17:04:16.253Z"
   },
   {
    "duration": 18,
    "start_time": "2023-09-20T17:04:17.299Z"
   },
   {
    "duration": 6,
    "start_time": "2023-09-20T17:04:17.319Z"
   },
   {
    "duration": 5359,
    "start_time": "2023-09-20T17:04:17.327Z"
   },
   {
    "duration": 4,
    "start_time": "2023-09-20T17:04:22.689Z"
   },
   {
    "duration": 131,
    "start_time": "2023-09-20T17:04:22.695Z"
   },
   {
    "duration": 174,
    "start_time": "2023-09-20T17:04:22.828Z"
   },
   {
    "duration": 7323,
    "start_time": "2023-09-20T17:04:23.004Z"
   },
   {
    "duration": 159,
    "start_time": "2023-09-20T17:04:30.329Z"
   },
   {
    "duration": 24,
    "start_time": "2023-09-20T17:05:20.475Z"
   },
   {
    "duration": 3,
    "start_time": "2023-09-20T17:05:34.866Z"
   },
   {
    "duration": 13,
    "start_time": "2023-09-20T17:05:39.376Z"
   },
   {
    "duration": 1402,
    "start_time": "2023-09-20T17:05:45.146Z"
   },
   {
    "duration": 1019,
    "start_time": "2023-09-20T17:05:46.562Z"
   },
   {
    "duration": 17,
    "start_time": "2023-09-20T17:05:47.583Z"
   },
   {
    "duration": 32,
    "start_time": "2023-09-20T17:05:47.602Z"
   },
   {
    "duration": 5344,
    "start_time": "2023-09-20T17:05:47.636Z"
   },
   {
    "duration": 3,
    "start_time": "2023-09-20T17:05:52.982Z"
   },
   {
    "duration": 56,
    "start_time": "2023-09-20T17:05:52.987Z"
   },
   {
    "duration": 282,
    "start_time": "2023-09-20T17:05:53.045Z"
   },
   {
    "duration": 6838,
    "start_time": "2023-09-20T17:05:53.329Z"
   },
   {
    "duration": 146,
    "start_time": "2023-09-20T17:06:00.170Z"
   },
   {
    "duration": 1371,
    "start_time": "2023-09-20T17:43:17.107Z"
   },
   {
    "duration": 1022,
    "start_time": "2023-09-20T17:43:18.485Z"
   },
   {
    "duration": 17,
    "start_time": "2023-09-20T17:43:19.509Z"
   },
   {
    "duration": 17,
    "start_time": "2023-09-20T17:43:19.529Z"
   },
   {
    "duration": 5203,
    "start_time": "2023-09-20T17:43:19.551Z"
   },
   {
    "duration": 7,
    "start_time": "2023-09-20T17:43:24.757Z"
   },
   {
    "duration": 61,
    "start_time": "2023-09-20T17:43:24.766Z"
   },
   {
    "duration": 172,
    "start_time": "2023-09-20T17:43:24.829Z"
   },
   {
    "duration": 6575,
    "start_time": "2023-09-20T17:43:25.003Z"
   },
   {
    "duration": 119,
    "start_time": "2023-09-20T17:43:31.580Z"
   },
   {
    "duration": 1302,
    "start_time": "2023-09-20T17:44:07.627Z"
   },
   {
    "duration": 922,
    "start_time": "2023-09-20T17:44:08.930Z"
   },
   {
    "duration": 24,
    "start_time": "2023-09-20T17:44:09.854Z"
   },
   {
    "duration": 21,
    "start_time": "2023-09-20T17:44:09.879Z"
   },
   {
    "duration": 4740,
    "start_time": "2023-09-20T17:44:09.902Z"
   },
   {
    "duration": 11,
    "start_time": "2023-09-20T17:44:14.644Z"
   },
   {
    "duration": 77,
    "start_time": "2023-09-20T17:44:14.658Z"
   },
   {
    "duration": 222,
    "start_time": "2023-09-20T17:44:14.737Z"
   },
   {
    "duration": 6521,
    "start_time": "2023-09-20T17:44:14.960Z"
   },
   {
    "duration": 116,
    "start_time": "2023-09-20T17:44:21.482Z"
   },
   {
    "duration": 1465,
    "start_time": "2023-09-20T17:45:24.811Z"
   },
   {
    "duration": 1069,
    "start_time": "2023-09-20T17:45:26.281Z"
   },
   {
    "duration": 20,
    "start_time": "2023-09-20T17:45:27.352Z"
   },
   {
    "duration": 11,
    "start_time": "2023-09-20T17:45:27.374Z"
   },
   {
    "duration": 4694,
    "start_time": "2023-09-20T17:45:27.387Z"
   },
   {
    "duration": 3,
    "start_time": "2023-09-20T17:45:32.083Z"
   },
   {
    "duration": 56,
    "start_time": "2023-09-20T17:45:32.088Z"
   },
   {
    "duration": 140,
    "start_time": "2023-09-20T17:45:32.145Z"
   },
   {
    "duration": 6442,
    "start_time": "2023-09-20T17:45:32.287Z"
   },
   {
    "duration": 253,
    "start_time": "2023-09-20T17:45:38.731Z"
   },
   {
    "duration": 129,
    "start_time": "2023-09-20T17:47:55.292Z"
   },
   {
    "duration": 3,
    "start_time": "2023-09-20T17:48:14.138Z"
   },
   {
    "duration": 3,
    "start_time": "2023-09-20T17:52:43.691Z"
   },
   {
    "duration": 11,
    "start_time": "2023-09-20T17:53:26.503Z"
   },
   {
    "duration": 3,
    "start_time": "2023-09-20T17:53:44.798Z"
   },
   {
    "duration": 4,
    "start_time": "2023-09-20T17:53:47.507Z"
   },
   {
    "duration": 23,
    "start_time": "2023-09-20T17:56:11.448Z"
   },
   {
    "duration": 294,
    "start_time": "2023-09-20T17:56:47.576Z"
   },
   {
    "duration": 296,
    "start_time": "2023-09-20T17:56:54.020Z"
   },
   {
    "duration": 1347,
    "start_time": "2023-09-20T17:57:26.579Z"
   },
   {
    "duration": 1108,
    "start_time": "2023-09-20T17:57:27.928Z"
   },
   {
    "duration": 29,
    "start_time": "2023-09-20T17:57:29.037Z"
   },
   {
    "duration": 38,
    "start_time": "2023-09-20T17:57:29.067Z"
   },
   {
    "duration": 5348,
    "start_time": "2023-09-20T17:57:29.108Z"
   },
   {
    "duration": 6,
    "start_time": "2023-09-20T17:57:34.462Z"
   },
   {
    "duration": 78,
    "start_time": "2023-09-20T17:57:34.470Z"
   },
   {
    "duration": 277,
    "start_time": "2023-09-20T17:57:34.557Z"
   },
   {
    "duration": 7454,
    "start_time": "2023-09-20T17:57:34.836Z"
   },
   {
    "duration": 299,
    "start_time": "2023-09-20T17:57:42.291Z"
   },
   {
    "duration": 132,
    "start_time": "2023-09-20T17:57:42.591Z"
   },
   {
    "duration": 1495,
    "start_time": "2023-09-20T18:00:24.024Z"
   },
   {
    "duration": 1271,
    "start_time": "2023-09-20T18:00:25.521Z"
   },
   {
    "duration": 17,
    "start_time": "2023-09-20T18:00:26.793Z"
   },
   {
    "duration": 8,
    "start_time": "2023-09-20T18:00:26.812Z"
   },
   {
    "duration": 5578,
    "start_time": "2023-09-20T18:00:26.822Z"
   },
   {
    "duration": 5,
    "start_time": "2023-09-20T18:00:32.403Z"
   },
   {
    "duration": 123,
    "start_time": "2023-09-20T18:00:32.410Z"
   },
   {
    "duration": 249,
    "start_time": "2023-09-20T18:00:32.535Z"
   },
   {
    "duration": 7980,
    "start_time": "2023-09-20T18:00:32.785Z"
   },
   {
    "duration": 418,
    "start_time": "2023-09-20T18:00:40.770Z"
   },
   {
    "duration": 0,
    "start_time": "2023-09-20T18:00:41.190Z"
   },
   {
    "duration": 290,
    "start_time": "2023-09-20T18:00:50.929Z"
   },
   {
    "duration": 20,
    "start_time": "2023-09-20T18:00:52.976Z"
   },
   {
    "duration": 5,
    "start_time": "2023-09-20T18:01:37.910Z"
   },
   {
    "duration": 5,
    "start_time": "2023-09-20T18:02:06.129Z"
   },
   {
    "duration": 6,
    "start_time": "2023-09-20T18:02:17.035Z"
   },
   {
    "duration": 8,
    "start_time": "2023-09-20T18:02:21.576Z"
   },
   {
    "duration": 6,
    "start_time": "2023-09-20T18:02:37.377Z"
   },
   {
    "duration": 4,
    "start_time": "2023-09-20T18:02:57.409Z"
   },
   {
    "duration": 19,
    "start_time": "2023-09-20T18:03:26.783Z"
   },
   {
    "duration": 6,
    "start_time": "2023-09-20T18:03:35.904Z"
   },
   {
    "duration": 37,
    "start_time": "2023-09-20T18:04:38.229Z"
   },
   {
    "duration": 4,
    "start_time": "2023-09-20T18:04:40.010Z"
   },
   {
    "duration": 3,
    "start_time": "2023-09-20T18:04:42.912Z"
   },
   {
    "duration": 36,
    "start_time": "2023-09-20T18:04:44.216Z"
   },
   {
    "duration": 4,
    "start_time": "2023-09-20T18:04:44.992Z"
   },
   {
    "duration": 4,
    "start_time": "2023-09-20T18:06:30.472Z"
   },
   {
    "duration": 26,
    "start_time": "2023-09-20T18:06:42.551Z"
   },
   {
    "duration": 4,
    "start_time": "2023-09-20T18:06:44.069Z"
   },
   {
    "duration": 4,
    "start_time": "2023-09-20T18:06:50.162Z"
   },
   {
    "duration": 4,
    "start_time": "2023-09-20T18:07:04.420Z"
   },
   {
    "duration": 1305,
    "start_time": "2023-09-20T18:07:11.588Z"
   },
   {
    "duration": 1073,
    "start_time": "2023-09-20T18:07:12.895Z"
   },
   {
    "duration": 16,
    "start_time": "2023-09-20T18:07:13.969Z"
   },
   {
    "duration": 7,
    "start_time": "2023-09-20T18:07:13.987Z"
   },
   {
    "duration": 5265,
    "start_time": "2023-09-20T18:07:13.996Z"
   },
   {
    "duration": 4,
    "start_time": "2023-09-20T18:07:19.268Z"
   },
   {
    "duration": 65,
    "start_time": "2023-09-20T18:07:19.274Z"
   },
   {
    "duration": 5,
    "start_time": "2023-09-20T18:07:19.341Z"
   },
   {
    "duration": 237,
    "start_time": "2023-09-20T18:07:19.347Z"
   },
   {
    "duration": 7277,
    "start_time": "2023-09-20T18:07:19.586Z"
   },
   {
    "duration": 718,
    "start_time": "2023-09-20T18:07:26.865Z"
   },
   {
    "duration": 202,
    "start_time": "2023-09-20T18:07:27.585Z"
   },
   {
    "duration": 315417,
    "start_time": "2023-09-20T18:08:50.377Z"
   },
   {
    "duration": 4,
    "start_time": "2023-09-20T18:14:10.233Z"
   },
   {
    "duration": 42958,
    "start_time": "2023-09-20T18:14:19.235Z"
   },
   {
    "duration": 0,
    "start_time": "2023-09-20T18:15:02.196Z"
   },
   {
    "duration": 3,
    "start_time": "2023-09-20T18:15:03.291Z"
   },
   {
    "duration": 17316,
    "start_time": "2023-09-20T18:15:04.718Z"
   },
   {
    "duration": 1786,
    "start_time": "2023-09-20T18:34:37.210Z"
   },
   {
    "duration": 2874,
    "start_time": "2023-09-20T18:34:39.000Z"
   },
   {
    "duration": 20,
    "start_time": "2023-09-20T18:34:41.876Z"
   },
   {
    "duration": 4,
    "start_time": "2023-09-20T18:34:41.898Z"
   },
   {
    "duration": 5899,
    "start_time": "2023-09-20T18:34:41.904Z"
   },
   {
    "duration": 4,
    "start_time": "2023-09-20T18:34:47.805Z"
   },
   {
    "duration": 118,
    "start_time": "2023-09-20T18:34:47.810Z"
   },
   {
    "duration": 5,
    "start_time": "2023-09-20T18:34:47.929Z"
   },
   {
    "duration": 178,
    "start_time": "2023-09-20T18:34:47.935Z"
   },
   {
    "duration": 7879,
    "start_time": "2023-09-20T18:34:48.115Z"
   },
   {
    "duration": 812,
    "start_time": "2023-09-20T18:34:55.996Z"
   },
   {
    "duration": 3,
    "start_time": "2023-09-20T18:34:56.810Z"
   },
   {
    "duration": 631380,
    "start_time": "2023-09-20T18:34:56.814Z"
   },
   {
    "duration": 1753085,
    "start_time": "2023-09-20T18:45:28.197Z"
   },
   {
    "duration": 0,
    "start_time": "2023-09-20T19:14:41.284Z"
   },
   {
    "duration": 14,
    "start_time": "2023-09-20T19:14:48.882Z"
   },
   {
    "duration": 13,
    "start_time": "2023-09-20T19:15:17.160Z"
   },
   {
    "duration": 5,
    "start_time": "2023-09-20T19:15:42.446Z"
   },
   {
    "duration": 99,
    "start_time": "2023-09-21T12:41:41.065Z"
   },
   {
    "duration": 1556,
    "start_time": "2023-09-21T12:43:17.585Z"
   },
   {
    "duration": 3029,
    "start_time": "2023-09-21T13:02:07.463Z"
   },
   {
    "duration": 2895,
    "start_time": "2023-09-21T13:02:18.412Z"
   },
   {
    "duration": 4385,
    "start_time": "2023-09-21T13:06:35.679Z"
   },
   {
    "duration": 2409,
    "start_time": "2023-09-21T13:06:40.066Z"
   },
   {
    "duration": 16,
    "start_time": "2023-09-21T13:06:42.477Z"
   },
   {
    "duration": 10,
    "start_time": "2023-09-21T13:06:42.494Z"
   },
   {
    "duration": 5697,
    "start_time": "2023-09-21T13:06:42.507Z"
   },
   {
    "duration": 0,
    "start_time": "2023-09-21T13:06:48.206Z"
   },
   {
    "duration": 0,
    "start_time": "2023-09-21T13:06:48.208Z"
   },
   {
    "duration": 0,
    "start_time": "2023-09-21T13:06:48.210Z"
   },
   {
    "duration": 0,
    "start_time": "2023-09-21T13:06:48.211Z"
   },
   {
    "duration": 0,
    "start_time": "2023-09-21T13:06:48.212Z"
   },
   {
    "duration": 0,
    "start_time": "2023-09-21T13:06:48.213Z"
   },
   {
    "duration": 0,
    "start_time": "2023-09-21T13:06:48.215Z"
   },
   {
    "duration": 0,
    "start_time": "2023-09-21T13:06:48.216Z"
   },
   {
    "duration": 0,
    "start_time": "2023-09-21T13:06:48.217Z"
   },
   {
    "duration": 0,
    "start_time": "2023-09-21T13:06:48.218Z"
   },
   {
    "duration": 0,
    "start_time": "2023-09-21T13:06:48.219Z"
   },
   {
    "duration": 4,
    "start_time": "2023-09-21T13:07:25.191Z"
   },
   {
    "duration": 4567,
    "start_time": "2023-09-21T13:07:42.655Z"
   },
   {
    "duration": 2452,
    "start_time": "2023-09-21T13:07:47.224Z"
   },
   {
    "duration": 14,
    "start_time": "2023-09-21T13:07:49.678Z"
   },
   {
    "duration": 19,
    "start_time": "2023-09-21T13:07:49.693Z"
   },
   {
    "duration": 4828,
    "start_time": "2023-09-21T13:07:49.713Z"
   },
   {
    "duration": 3,
    "start_time": "2023-09-21T13:07:54.543Z"
   },
   {
    "duration": 35,
    "start_time": "2023-09-21T13:07:54.548Z"
   },
   {
    "duration": 5,
    "start_time": "2023-09-21T13:07:54.585Z"
   },
   {
    "duration": 170,
    "start_time": "2023-09-21T13:07:54.592Z"
   },
   {
    "duration": 6637,
    "start_time": "2023-09-21T13:07:54.764Z"
   },
   {
    "duration": 687,
    "start_time": "2023-09-21T13:08:01.403Z"
   },
   {
    "duration": 4,
    "start_time": "2023-09-21T13:08:02.092Z"
   },
   {
    "duration": 897766,
    "start_time": "2023-09-21T13:08:02.097Z"
   },
   {
    "duration": 767153,
    "start_time": "2023-09-21T13:22:59.865Z"
   },
   {
    "duration": 0,
    "start_time": "2023-09-21T13:35:47.020Z"
   },
   {
    "duration": 0,
    "start_time": "2023-09-21T13:35:47.021Z"
   },
   {
    "duration": 801268,
    "start_time": "2023-09-21T13:56:45.907Z"
   },
   {
    "duration": 2846080,
    "start_time": "2023-09-21T14:33:28.662Z"
   },
   {
    "duration": 177,
    "start_time": "2023-09-21T15:20:54.744Z"
   },
   {
    "duration": 87,
    "start_time": "2023-09-21T15:21:38.034Z"
   },
   {
    "duration": 21,
    "start_time": "2023-09-21T15:21:53.625Z"
   },
   {
    "duration": 21,
    "start_time": "2023-09-21T15:30:18.974Z"
   },
   {
    "duration": 59,
    "start_time": "2023-09-21T15:30:58.811Z"
   },
   {
    "duration": 4357,
    "start_time": "2023-09-21T15:31:13.298Z"
   },
   {
    "duration": 2478,
    "start_time": "2023-09-21T15:31:54.726Z"
   },
   {
    "duration": 15,
    "start_time": "2023-09-21T15:31:57.206Z"
   },
   {
    "duration": 4,
    "start_time": "2023-09-21T15:31:58.013Z"
   },
   {
    "duration": 4991,
    "start_time": "2023-09-21T15:32:01.816Z"
   },
   {
    "duration": 3,
    "start_time": "2023-09-21T15:32:06.809Z"
   },
   {
    "duration": 55,
    "start_time": "2023-09-21T15:32:06.813Z"
   },
   {
    "duration": 13,
    "start_time": "2023-09-21T15:32:06.870Z"
   },
   {
    "duration": 143,
    "start_time": "2023-09-21T15:32:06.977Z"
   },
   {
    "duration": 6295,
    "start_time": "2023-09-21T15:32:07.121Z"
   },
   {
    "duration": 661,
    "start_time": "2023-09-21T15:32:13.418Z"
   },
   {
    "duration": 306,
    "start_time": "2023-09-21T15:32:14.080Z"
   },
   {
    "duration": 3,
    "start_time": "2023-09-21T15:48:21.973Z"
   },
   {
    "duration": 55,
    "start_time": "2023-09-21T15:48:40.812Z"
   },
   {
    "duration": 4126,
    "start_time": "2023-09-21T15:49:01.236Z"
   },
   {
    "duration": 2494,
    "start_time": "2023-09-21T15:49:05.364Z"
   },
   {
    "duration": 16,
    "start_time": "2023-09-21T15:49:07.860Z"
   },
   {
    "duration": 6,
    "start_time": "2023-09-21T15:49:07.878Z"
   },
   {
    "duration": 4902,
    "start_time": "2023-09-21T15:49:07.886Z"
   },
   {
    "duration": 3,
    "start_time": "2023-09-21T15:49:12.790Z"
   },
   {
    "duration": 29,
    "start_time": "2023-09-21T15:49:12.795Z"
   },
   {
    "duration": 18,
    "start_time": "2023-09-21T15:49:12.825Z"
   },
   {
    "duration": 213,
    "start_time": "2023-09-21T15:49:12.845Z"
   },
   {
    "duration": 6621,
    "start_time": "2023-09-21T15:49:13.060Z"
   },
   {
    "duration": 675,
    "start_time": "2023-09-21T15:49:19.683Z"
   },
   {
    "duration": 3,
    "start_time": "2023-09-21T15:49:20.360Z"
   },
   {
    "duration": 64,
    "start_time": "2023-09-21T15:49:41.498Z"
   },
   {
    "duration": 4144,
    "start_time": "2023-09-21T15:49:54.070Z"
   },
   {
    "duration": 2521,
    "start_time": "2023-09-21T15:49:58.216Z"
   },
   {
    "duration": 15,
    "start_time": "2023-09-21T15:50:00.739Z"
   },
   {
    "duration": 94,
    "start_time": "2023-09-21T15:50:00.756Z"
   },
   {
    "duration": 4950,
    "start_time": "2023-09-21T15:50:00.853Z"
   },
   {
    "duration": 2,
    "start_time": "2023-09-21T15:50:05.805Z"
   },
   {
    "duration": 54,
    "start_time": "2023-09-21T15:50:05.809Z"
   },
   {
    "duration": 7,
    "start_time": "2023-09-21T15:50:05.865Z"
   },
   {
    "duration": 204,
    "start_time": "2023-09-21T15:50:05.874Z"
   },
   {
    "duration": 6495,
    "start_time": "2023-09-21T15:50:06.080Z"
   },
   {
    "duration": 681,
    "start_time": "2023-09-21T15:50:12.577Z"
   },
   {
    "duration": 3,
    "start_time": "2023-09-21T15:50:13.260Z"
   },
   {
    "duration": 50,
    "start_time": "2023-09-21T15:55:00.929Z"
   },
   {
    "duration": 8,
    "start_time": "2023-09-21T15:55:09.825Z"
   },
   {
    "duration": 0,
    "start_time": "2023-09-21T15:55:09.834Z"
   },
   {
    "duration": 4356,
    "start_time": "2023-09-21T15:55:20.888Z"
   },
   {
    "duration": 2503,
    "start_time": "2023-09-21T15:55:25.246Z"
   },
   {
    "duration": 16,
    "start_time": "2023-09-21T15:55:27.751Z"
   },
   {
    "duration": 7,
    "start_time": "2023-09-21T15:55:27.768Z"
   },
   {
    "duration": 5039,
    "start_time": "2023-09-21T15:55:27.777Z"
   },
   {
    "duration": 3,
    "start_time": "2023-09-21T15:55:32.817Z"
   },
   {
    "duration": 21,
    "start_time": "2023-09-21T15:55:32.822Z"
   },
   {
    "duration": 18,
    "start_time": "2023-09-21T15:55:32.844Z"
   },
   {
    "duration": 146,
    "start_time": "2023-09-21T15:55:32.864Z"
   },
   {
    "duration": 6438,
    "start_time": "2023-09-21T15:55:33.012Z"
   },
   {
    "duration": 673,
    "start_time": "2023-09-21T15:55:39.452Z"
   },
   {
    "duration": 3,
    "start_time": "2023-09-21T15:55:40.126Z"
   },
   {
    "duration": 975737,
    "start_time": "2023-09-21T15:55:40.131Z"
   },
   {
    "duration": 289,
    "start_time": "2023-09-21T16:39:32.547Z"
   },
   {
    "duration": 156372,
    "start_time": "2023-09-21T16:40:47.615Z"
   },
   {
    "duration": 96,
    "start_time": "2023-09-21T16:46:36.781Z"
   },
   {
    "duration": 4785,
    "start_time": "2023-09-22T12:43:54.605Z"
   },
   {
    "duration": 46,
    "start_time": "2023-09-22T15:25:04.251Z"
   },
   {
    "duration": 3998,
    "start_time": "2023-09-22T15:25:08.695Z"
   },
   {
    "duration": 2458,
    "start_time": "2023-09-22T15:25:12.695Z"
   },
   {
    "duration": 16,
    "start_time": "2023-09-22T15:25:15.155Z"
   },
   {
    "duration": 116,
    "start_time": "2023-09-22T15:25:15.173Z"
   },
   {
    "duration": 4649,
    "start_time": "2023-09-22T15:25:15.292Z"
   },
   {
    "duration": 3,
    "start_time": "2023-09-22T15:25:19.943Z"
   },
   {
    "duration": 44,
    "start_time": "2023-09-22T15:25:19.948Z"
   },
   {
    "duration": 34,
    "start_time": "2023-09-22T15:25:19.994Z"
   },
   {
    "duration": 146,
    "start_time": "2023-09-22T15:25:20.030Z"
   },
   {
    "duration": 6119,
    "start_time": "2023-09-22T15:25:20.177Z"
   },
   {
    "duration": 663,
    "start_time": "2023-09-22T15:25:26.298Z"
   },
   {
    "duration": 3,
    "start_time": "2023-09-22T15:25:26.962Z"
   },
   {
    "duration": 5810,
    "start_time": "2023-09-22T17:13:10.480Z"
   },
   {
    "duration": 3395,
    "start_time": "2023-09-22T17:13:16.292Z"
   },
   {
    "duration": 28,
    "start_time": "2023-09-22T17:13:19.690Z"
   },
   {
    "duration": 16,
    "start_time": "2023-09-22T17:13:19.724Z"
   },
   {
    "duration": 6057,
    "start_time": "2023-09-22T17:13:19.744Z"
   },
   {
    "duration": 7,
    "start_time": "2023-09-22T17:13:25.810Z"
   },
   {
    "duration": 26,
    "start_time": "2023-09-22T17:13:25.823Z"
   },
   {
    "duration": 8,
    "start_time": "2023-09-22T17:13:25.851Z"
   },
   {
    "duration": 225,
    "start_time": "2023-09-22T17:13:25.860Z"
   },
   {
    "duration": 8483,
    "start_time": "2023-09-22T17:13:26.087Z"
   },
   {
    "duration": 976,
    "start_time": "2023-09-22T17:13:34.573Z"
   },
   {
    "duration": 4,
    "start_time": "2023-09-22T17:13:35.551Z"
   },
   {
    "duration": 860769,
    "start_time": "2023-09-22T17:13:35.556Z"
   },
   {
    "duration": 13758,
    "start_time": "2023-09-22T17:28:31.868Z"
   },
   {
    "duration": 103,
    "start_time": "2023-09-22T17:28:48.653Z"
   },
   {
    "duration": 3,
    "start_time": "2023-09-22T17:29:12.434Z"
   },
   {
    "duration": 115,
    "start_time": "2023-09-22T17:29:16.620Z"
   },
   {
    "duration": 5,
    "start_time": "2023-09-22T17:30:30.856Z"
   },
   {
    "duration": 716903,
    "start_time": "2023-09-22T17:30:35.275Z"
   },
   {
    "duration": 112,
    "start_time": "2023-09-22T17:45:42.920Z"
   },
   {
    "duration": 130,
    "start_time": "2023-09-22T17:46:45.154Z"
   },
   {
    "duration": 141,
    "start_time": "2023-09-22T17:46:48.852Z"
   },
   {
    "duration": 3,
    "start_time": "2023-09-22T17:47:01.771Z"
   },
   {
    "duration": 799708,
    "start_time": "2023-09-22T17:47:03.887Z"
   },
   {
    "duration": 130,
    "start_time": "2023-09-22T18:00:45.962Z"
   }
  ],
  "kernelspec": {
   "display_name": "Python 3 (ipykernel)",
   "language": "python",
   "name": "python3"
  },
  "language_info": {
   "codemirror_mode": {
    "name": "ipython",
    "version": 3
   },
   "file_extension": ".py",
   "mimetype": "text/x-python",
   "name": "python",
   "nbconvert_exporter": "python",
   "pygments_lexer": "ipython3",
   "version": "3.11.5"
  },
  "toc": {
   "base_numbering": 1,
   "nav_menu": {},
   "number_sections": true,
   "sideBar": true,
   "skip_h1_title": true,
   "title_cell": "Содержание",
   "title_sidebar": "Contents",
   "toc_cell": true,
   "toc_position": {
    "height": "calc(100% - 180px)",
    "left": "10px",
    "top": "150px",
    "width": "180px"
   },
   "toc_section_display": true,
   "toc_window_display": true
  }
 },
 "nbformat": 4,
 "nbformat_minor": 2
}
