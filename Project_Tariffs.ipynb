{
 "cells": [
  {
   "cell_type": "markdown",
   "metadata": {},
   "source": [
    "# Рекомендация тарифов"
   ]
  },
  {
   "cell_type": "markdown",
   "metadata": {},
   "source": [
    "В нашем распоряжении данные о поведении клиентов, которые уже перешли на эти тарифы. Нужно построить модель для задачи классификации, которая выберет подходящий тариф. Предобработка данных не понадобится — мы её уже сделали в другом проекте."
   ]
  },
  {
   "cell_type": "markdown",
   "metadata": {},
   "source": [
    "## Откроем и изучим файл"
   ]
  },
  {
   "cell_type": "code",
   "execution_count": 1,
   "metadata": {},
   "outputs": [],
   "source": [
    "import pandas as pd\n",
    "import seaborn as sns\n",
    "from sklearn.tree import DecisionTreeClassifier\n",
    "from sklearn.ensemble import RandomForestClassifier \n",
    "from sklearn.linear_model import LogisticRegression\n",
    "from sklearn.model_selection import train_test_split\n",
    "from sklearn.metrics import accuracy_score\n",
    "from sklearn.metrics import precision_score\n",
    "from sklearn.metrics import recall_score"
   ]
  },
  {
   "cell_type": "code",
   "execution_count": 2,
   "metadata": {},
   "outputs": [],
   "source": [
    "try:\n",
    "    df = pd.read_csv('/datasets/users_behavior.csv')\n",
    "except:\n",
    "    df = pd.read_csv('users_behavior.csv')"
   ]
  },
  {
   "cell_type": "markdown",
   "metadata": {},
   "source": [
    "Изучим файл с помощью функций **.head(), .info(), .describe(), .hist()**. Данные функции дадут представление о типах значений в каждом столбце, их рарпделениях и, возможно, о выбросах"
   ]
  },
  {
   "cell_type": "code",
   "execution_count": 3,
   "metadata": {},
   "outputs": [
    {
     "data": {
      "text/html": [
       "<div>\n",
       "<style scoped>\n",
       "    .dataframe tbody tr th:only-of-type {\n",
       "        vertical-align: middle;\n",
       "    }\n",
       "\n",
       "    .dataframe tbody tr th {\n",
       "        vertical-align: top;\n",
       "    }\n",
       "\n",
       "    .dataframe thead th {\n",
       "        text-align: right;\n",
       "    }\n",
       "</style>\n",
       "<table border=\"1\" class=\"dataframe\">\n",
       "  <thead>\n",
       "    <tr style=\"text-align: right;\">\n",
       "      <th></th>\n",
       "      <th>calls</th>\n",
       "      <th>minutes</th>\n",
       "      <th>messages</th>\n",
       "      <th>mb_used</th>\n",
       "      <th>is_ultra</th>\n",
       "    </tr>\n",
       "  </thead>\n",
       "  <tbody>\n",
       "    <tr>\n",
       "      <th>0</th>\n",
       "      <td>40.0</td>\n",
       "      <td>311.90</td>\n",
       "      <td>83.0</td>\n",
       "      <td>19915.42</td>\n",
       "      <td>0</td>\n",
       "    </tr>\n",
       "    <tr>\n",
       "      <th>1</th>\n",
       "      <td>85.0</td>\n",
       "      <td>516.75</td>\n",
       "      <td>56.0</td>\n",
       "      <td>22696.96</td>\n",
       "      <td>0</td>\n",
       "    </tr>\n",
       "    <tr>\n",
       "      <th>2</th>\n",
       "      <td>77.0</td>\n",
       "      <td>467.66</td>\n",
       "      <td>86.0</td>\n",
       "      <td>21060.45</td>\n",
       "      <td>0</td>\n",
       "    </tr>\n",
       "    <tr>\n",
       "      <th>3</th>\n",
       "      <td>106.0</td>\n",
       "      <td>745.53</td>\n",
       "      <td>81.0</td>\n",
       "      <td>8437.39</td>\n",
       "      <td>1</td>\n",
       "    </tr>\n",
       "    <tr>\n",
       "      <th>4</th>\n",
       "      <td>66.0</td>\n",
       "      <td>418.74</td>\n",
       "      <td>1.0</td>\n",
       "      <td>14502.75</td>\n",
       "      <td>0</td>\n",
       "    </tr>\n",
       "    <tr>\n",
       "      <th>5</th>\n",
       "      <td>58.0</td>\n",
       "      <td>344.56</td>\n",
       "      <td>21.0</td>\n",
       "      <td>15823.37</td>\n",
       "      <td>0</td>\n",
       "    </tr>\n",
       "    <tr>\n",
       "      <th>6</th>\n",
       "      <td>57.0</td>\n",
       "      <td>431.64</td>\n",
       "      <td>20.0</td>\n",
       "      <td>3738.90</td>\n",
       "      <td>1</td>\n",
       "    </tr>\n",
       "    <tr>\n",
       "      <th>7</th>\n",
       "      <td>15.0</td>\n",
       "      <td>132.40</td>\n",
       "      <td>6.0</td>\n",
       "      <td>21911.60</td>\n",
       "      <td>0</td>\n",
       "    </tr>\n",
       "    <tr>\n",
       "      <th>8</th>\n",
       "      <td>7.0</td>\n",
       "      <td>43.39</td>\n",
       "      <td>3.0</td>\n",
       "      <td>2538.67</td>\n",
       "      <td>1</td>\n",
       "    </tr>\n",
       "    <tr>\n",
       "      <th>9</th>\n",
       "      <td>90.0</td>\n",
       "      <td>665.41</td>\n",
       "      <td>38.0</td>\n",
       "      <td>17358.61</td>\n",
       "      <td>0</td>\n",
       "    </tr>\n",
       "  </tbody>\n",
       "</table>\n",
       "</div>"
      ],
      "text/plain": [
       "   calls  minutes  messages   mb_used  is_ultra\n",
       "0   40.0   311.90      83.0  19915.42         0\n",
       "1   85.0   516.75      56.0  22696.96         0\n",
       "2   77.0   467.66      86.0  21060.45         0\n",
       "3  106.0   745.53      81.0   8437.39         1\n",
       "4   66.0   418.74       1.0  14502.75         0\n",
       "5   58.0   344.56      21.0  15823.37         0\n",
       "6   57.0   431.64      20.0   3738.90         1\n",
       "7   15.0   132.40       6.0  21911.60         0\n",
       "8    7.0    43.39       3.0   2538.67         1\n",
       "9   90.0   665.41      38.0  17358.61         0"
      ]
     },
     "execution_count": 3,
     "metadata": {},
     "output_type": "execute_result"
    }
   ],
   "source": [
    "df.head(10)"
   ]
  },
  {
   "cell_type": "code",
   "execution_count": 4,
   "metadata": {},
   "outputs": [
    {
     "name": "stdout",
     "output_type": "stream",
     "text": [
      "<class 'pandas.core.frame.DataFrame'>\n",
      "RangeIndex: 3214 entries, 0 to 3213\n",
      "Data columns (total 5 columns):\n",
      " #   Column    Non-Null Count  Dtype  \n",
      "---  ------    --------------  -----  \n",
      " 0   calls     3214 non-null   float64\n",
      " 1   minutes   3214 non-null   float64\n",
      " 2   messages  3214 non-null   float64\n",
      " 3   mb_used   3214 non-null   float64\n",
      " 4   is_ultra  3214 non-null   int64  \n",
      "dtypes: float64(4), int64(1)\n",
      "memory usage: 125.7 KB\n"
     ]
    }
   ],
   "source": [
    "df.info()"
   ]
  },
  {
   "cell_type": "code",
   "execution_count": 5,
   "metadata": {},
   "outputs": [
    {
     "data": {
      "text/html": [
       "<div>\n",
       "<style scoped>\n",
       "    .dataframe tbody tr th:only-of-type {\n",
       "        vertical-align: middle;\n",
       "    }\n",
       "\n",
       "    .dataframe tbody tr th {\n",
       "        vertical-align: top;\n",
       "    }\n",
       "\n",
       "    .dataframe thead th {\n",
       "        text-align: right;\n",
       "    }\n",
       "</style>\n",
       "<table border=\"1\" class=\"dataframe\">\n",
       "  <thead>\n",
       "    <tr style=\"text-align: right;\">\n",
       "      <th></th>\n",
       "      <th>calls</th>\n",
       "      <th>minutes</th>\n",
       "      <th>messages</th>\n",
       "      <th>mb_used</th>\n",
       "      <th>is_ultra</th>\n",
       "    </tr>\n",
       "  </thead>\n",
       "  <tbody>\n",
       "    <tr>\n",
       "      <th>count</th>\n",
       "      <td>3214.000000</td>\n",
       "      <td>3214.000000</td>\n",
       "      <td>3214.000000</td>\n",
       "      <td>3214.000000</td>\n",
       "      <td>3214.000000</td>\n",
       "    </tr>\n",
       "    <tr>\n",
       "      <th>mean</th>\n",
       "      <td>63.038892</td>\n",
       "      <td>438.208787</td>\n",
       "      <td>38.281269</td>\n",
       "      <td>17207.673836</td>\n",
       "      <td>0.306472</td>\n",
       "    </tr>\n",
       "    <tr>\n",
       "      <th>std</th>\n",
       "      <td>33.236368</td>\n",
       "      <td>234.569872</td>\n",
       "      <td>36.148326</td>\n",
       "      <td>7570.968246</td>\n",
       "      <td>0.461100</td>\n",
       "    </tr>\n",
       "    <tr>\n",
       "      <th>min</th>\n",
       "      <td>0.000000</td>\n",
       "      <td>0.000000</td>\n",
       "      <td>0.000000</td>\n",
       "      <td>0.000000</td>\n",
       "      <td>0.000000</td>\n",
       "    </tr>\n",
       "    <tr>\n",
       "      <th>25%</th>\n",
       "      <td>40.000000</td>\n",
       "      <td>274.575000</td>\n",
       "      <td>9.000000</td>\n",
       "      <td>12491.902500</td>\n",
       "      <td>0.000000</td>\n",
       "    </tr>\n",
       "    <tr>\n",
       "      <th>50%</th>\n",
       "      <td>62.000000</td>\n",
       "      <td>430.600000</td>\n",
       "      <td>30.000000</td>\n",
       "      <td>16943.235000</td>\n",
       "      <td>0.000000</td>\n",
       "    </tr>\n",
       "    <tr>\n",
       "      <th>75%</th>\n",
       "      <td>82.000000</td>\n",
       "      <td>571.927500</td>\n",
       "      <td>57.000000</td>\n",
       "      <td>21424.700000</td>\n",
       "      <td>1.000000</td>\n",
       "    </tr>\n",
       "    <tr>\n",
       "      <th>max</th>\n",
       "      <td>244.000000</td>\n",
       "      <td>1632.060000</td>\n",
       "      <td>224.000000</td>\n",
       "      <td>49745.730000</td>\n",
       "      <td>1.000000</td>\n",
       "    </tr>\n",
       "  </tbody>\n",
       "</table>\n",
       "</div>"
      ],
      "text/plain": [
       "             calls      minutes     messages       mb_used     is_ultra\n",
       "count  3214.000000  3214.000000  3214.000000   3214.000000  3214.000000\n",
       "mean     63.038892   438.208787    38.281269  17207.673836     0.306472\n",
       "std      33.236368   234.569872    36.148326   7570.968246     0.461100\n",
       "min       0.000000     0.000000     0.000000      0.000000     0.000000\n",
       "25%      40.000000   274.575000     9.000000  12491.902500     0.000000\n",
       "50%      62.000000   430.600000    30.000000  16943.235000     0.000000\n",
       "75%      82.000000   571.927500    57.000000  21424.700000     1.000000\n",
       "max     244.000000  1632.060000   224.000000  49745.730000     1.000000"
      ]
     },
     "execution_count": 5,
     "metadata": {},
     "output_type": "execute_result"
    }
   ],
   "source": [
    "df.describe()"
   ]
  },
  {
   "cell_type": "code",
   "execution_count": 6,
   "metadata": {},
   "outputs": [
    {
     "data": {
      "image/png": "[encoded data removed]",
      "text/plain": [
       "<Figure size 720x720 with 6 Axes>"
      ]
     },
     "metadata": {
      "needs_background": "light"
     },
     "output_type": "display_data"
    }
   ],
   "source": [
    "df.hist(figsize = (10,10));"
   ]
  },
  {
   "cell_type": "markdown",
   "metadata": {},
   "source": [
    "В столбце **is_ultra** значения делятся на 1 и 0. Процентное соотношение единиц составляет 21,7%"
   ]
  },
  {
   "cell_type": "code",
   "execution_count": 7,
   "metadata": {},
   "outputs": [
    {
     "data": {
      "image/png": "[encoded data removed]",
      "text/plain": [
       "<Figure size 432x288 with 2 Axes>"
      ]
     },
     "metadata": {
      "needs_background": "light"
     },
     "output_type": "display_data"
    }
   ],
   "source": [
    "sns.heatmap(df.corr(), annot = True, cmap = 'Blues');"
   ]
  },
  {
   "cell_type": "markdown",
   "metadata": {},
   "source": [
    "Посмотрели на матрицу корреляций между столбцами датафрейма. Лучшая корреляция у столбцов **calls** и **minutes**, что очевидно. У столбца **is_ultra** самая высокая корреляция со столбцами **calls**  и **minutes**"
   ]
  },
  {
   "cell_type": "code",
   "execution_count": 8,
   "metadata": {},
   "outputs": [
    {
     "data": {
      "text/plain": [
       "calls       0\n",
       "minutes     0\n",
       "messages    0\n",
       "mb_used     0\n",
       "is_ultra    0\n",
       "dtype: int64"
      ]
     },
     "execution_count": 8,
     "metadata": {},
     "output_type": "execute_result"
    }
   ],
   "source": [
    "df.isna().sum()"
   ]
  },
  {
   "cell_type": "markdown",
   "metadata": {},
   "source": [
    "Пропусков в датафрейме нету"
   ]
  },
  {
   "cell_type": "code",
   "execution_count": 9,
   "metadata": {},
   "outputs": [
    {
     "data": {
      "text/plain": [
       "0    0.69\n",
       "1    0.31\n",
       "Name: is_ultra, dtype: float64"
      ]
     },
     "execution_count": 9,
     "metadata": {},
     "output_type": "execute_result"
    }
   ],
   "source": [
    "df['is_ultra'].value_counts(normalize = True).round(2)"
   ]
  },
  {
   "cell_type": "markdown",
   "metadata": {},
   "source": [
    "В столбце **is_ultra** единицы составляют 31%"
   ]
  },
  {
   "cell_type": "code",
   "execution_count": 10,
   "metadata": {},
   "outputs": [
    {
     "data": {
      "text/plain": [
       "0"
      ]
     },
     "execution_count": 10,
     "metadata": {},
     "output_type": "execute_result"
    }
   ],
   "source": [
    "df.duplicated().sum()"
   ]
  },
  {
   "cell_type": "markdown",
   "metadata": {},
   "source": [
    "Дубликатов не найдено"
   ]
  },
  {
   "cell_type": "markdown",
   "metadata": {},
   "source": [
    "Вывод по шагу 1 \n",
    "* Открыт и изучен файл\n",
    "* Просмотрели распределения значений в каждом столбце с помощью гистограмм\n",
    "* Дубликатов и пропущенных значений в датафрейме не найдено\n",
    "* Количество \"1\" в столбце is_ultra составляет 31%"
   ]
  },
  {
   "cell_type": "markdown",
   "metadata": {},
   "source": [
    "## Разобьем данные на выборки"
   ]
  },
  {
   "cell_type": "markdown",
   "metadata": {},
   "source": [
    "Наш *target variable* будет столбец **is_ultra**. В переменную *features* запишем значения всех столбцов датафрейма за исключением is_ultra"
   ]
  },
  {
   "cell_type": "code",
   "execution_count": 11,
   "metadata": {},
   "outputs": [],
   "source": [
    "features = df.drop(['is_ultra'], axis = 1)\n",
    "target = df['is_ultra']"
   ]
  },
  {
   "cell_type": "markdown",
   "metadata": {},
   "source": [
    "Так как нам не предоставлено отдельной тестовой выборки, поделим исходный датафрейм в соотношении 3:1:1, т.е на 60, 20, 20 процентов. В 60 процентов выборки будут входить данные, на которых модель будет обучаться. Для этого с помощью метода **train_test_split** разделим выборку на 60 и 40 процентов между train и valid, а потом valid с помощью того же метода разобьем на valid и test и укажем параметр test_size = 0.50"
   ]
  },
  {
   "cell_type": "code",
   "execution_count": 12,
   "metadata": {},
   "outputs": [],
   "source": [
    "df_train, df_valid = train_test_split(df, test_size = 0.40, random_state = 12345)\n",
    "\n",
    "df_valid, df_test = train_test_split(df_valid, test_size = 0.50, random_state = 12345)"
   ]
  },
  {
   "cell_type": "markdown",
   "metadata": {},
   "source": [
    "Запишем к каждой выборке переменные features и target"
   ]
  },
  {
   "cell_type": "code",
   "execution_count": 13,
   "metadata": {},
   "outputs": [],
   "source": [
    "features_train = df_train.drop(['is_ultra'], axis = 1)\n",
    "target_train = df_train['is_ultra']\n",
    "\n",
    "features_valid = df_valid.drop(['is_ultra'], axis = 1)\n",
    "target_valid = df_valid['is_ultra']\n",
    "\n",
    "features_test = df_test.drop(['is_ultra'], axis = 1)\n",
    "target_test = df_test['is_ultra']"
   ]
  },
  {
   "cell_type": "markdown",
   "metadata": {},
   "source": [
    "## Исследуем модели"
   ]
  },
  {
   "cell_type": "markdown",
   "metadata": {},
   "source": [
    "Работать будем с тремя моделями: **DecisionTreeClassifier, RandomForestClassifier, LogisticRegression**."
   ]
  },
  {
   "cell_type": "markdown",
   "metadata": {},
   "source": [
    "### DecisionTreeClassifier:"
   ]
  },
  {
   "cell_type": "markdown",
   "metadata": {},
   "source": [
    "Для начала подберем оптимальную глубину дерева:"
   ]
  },
  {
   "cell_type": "code",
   "execution_count": 14,
   "metadata": {},
   "outputs": [
    {
     "name": "stdout",
     "output_type": "stream",
     "text": [
      "Оптимальная глубина: 3\n",
      "Лучшая точность: 0.7853810264385692\n"
     ]
    }
   ],
   "source": [
    "best_depth = 0\n",
    "best_accuracy = 0\n",
    "\n",
    "for depth in range(1,101):\n",
    "    model = DecisionTreeClassifier(random_state = 12345, max_depth = depth, criterion = 'gini')\n",
    "    model.fit(features_train, target_train)\n",
    "    predictions = model.predict(features_valid)\n",
    "    accuracy = accuracy_score(target_valid, predictions)\n",
    "    \n",
    "    if accuracy > best_accuracy:\n",
    "        best_depth = depth\n",
    "        best_accuracy = accuracy\n",
    "print('Оптимальная глубина:', best_depth)\n",
    "print('Лучшая точность:', best_accuracy)"
   ]
  },
  {
   "cell_type": "markdown",
   "metadata": {},
   "source": [
    "Изменим гиперпараметр с gini на entropy"
   ]
  },
  {
   "cell_type": "code",
   "execution_count": 15,
   "metadata": {},
   "outputs": [
    {
     "name": "stdout",
     "output_type": "stream",
     "text": [
      "0.7853810264385692\n",
      "Критерий: gini\n",
      "Splitter: best\n",
      "0.7853810264385692\n",
      "Критерий: gini\n",
      "Splitter: random\n",
      "0.7853810264385692\n",
      "Критерий: entropy\n",
      "Splitter: best\n",
      "0.7853810264385692\n",
      "Критерий: entropy\n",
      "Splitter: random\n"
     ]
    }
   ],
   "source": [
    "for criteria in ['gini', 'entropy']:\n",
    "    for splitter in ['best', 'random']:\n",
    "        model = DecisionTreeClassifier(random_state = 12345, max_depth = 3, criterion = criteria)\n",
    "        model.fit(features_train, target_train)\n",
    "        predictions = model.predict(features_valid)\n",
    "        print(accuracy_score(target_valid, predictions))\n",
    "        print('Критерий:', criteria)\n",
    "        print('Splitter:', splitter)"
   ]
  },
  {
   "cell_type": "markdown",
   "metadata": {},
   "source": [
    "Никаких изменений. Параметры лучшей модели: глубина 3, точность 0.7853"
   ]
  },
  {
   "cell_type": "markdown",
   "metadata": {},
   "source": [
    "### RandomForestClassifier"
   ]
  },
  {
   "cell_type": "code",
   "execution_count": 16,
   "metadata": {},
   "outputs": [
    {
     "name": "stdout",
     "output_type": "stream",
     "text": [
      "Лучшая точность: 0.7947122861586314\n",
      "Лучший эстиматор: 23\n"
     ]
    }
   ],
   "source": [
    "best_accuracy = 0\n",
    "best_estimator = 0\n",
    "for estimator in range(1,101):\n",
    "    model = RandomForestClassifier(random_state = 12345, n_estimators = estimator)\n",
    "    model.fit(features_train, target_train)\n",
    "    predictions = model.predict(features_valid)\n",
    "    if accuracy_score(target_valid, predictions) > best_accuracy:\n",
    "        best_accuracy = accuracy_score(target_valid, predictions)\n",
    "        best_estimator = estimator\n",
    "        \n",
    "print('Лучшая точность:', best_accuracy)\n",
    "print('Лучший эстиматор:', best_estimator)"
   ]
  },
  {
   "cell_type": "markdown",
   "metadata": {},
   "source": [
    "Лучшее количество эстиматоров –– 23. Поменяем bootstrap, warm_start и criterion"
   ]
  },
  {
   "cell_type": "code",
   "execution_count": 17,
   "metadata": {},
   "outputs": [
    {
     "name": "stdout",
     "output_type": "stream",
     "text": [
      "0.7853810264385692\n"
     ]
    }
   ],
   "source": [
    "model = RandomForestClassifier(random_state = 12345, n_estimators = 100, warm_start = False)\n",
    "model.fit(features_train, target_train)\n",
    "predictions = model.predict(features_valid)\n",
    "print(accuracy_score(target_valid, predictions))"
   ]
  },
  {
   "cell_type": "code",
   "execution_count": 18,
   "metadata": {},
   "outputs": [
    {
     "name": "stdout",
     "output_type": "stream",
     "text": [
      "0.7853810264385692\n"
     ]
    }
   ],
   "source": [
    "model = RandomForestClassifier(random_state = 12345, n_estimators = 100, warm_start = True)\n",
    "model.fit(features_train, target_train)\n",
    "predictions = model.predict(features_valid)\n",
    "print(accuracy_score(target_valid, predictions))"
   ]
  },
  {
   "cell_type": "code",
   "execution_count": 19,
   "metadata": {},
   "outputs": [
    {
     "name": "stdout",
     "output_type": "stream",
     "text": [
      "0.7853810264385692\n"
     ]
    }
   ],
   "source": [
    "model = RandomForestClassifier(random_state = 12345, n_estimators = 100, bootstrap = True)\n",
    "model.fit(features_train, target_train)\n",
    "predictions = model.predict(features_valid)\n",
    "print(accuracy_score(target_valid, predictions))"
   ]
  },
  {
   "cell_type": "code",
   "execution_count": 20,
   "metadata": {},
   "outputs": [
    {
     "name": "stdout",
     "output_type": "stream",
     "text": [
      "0.7651632970451011\n"
     ]
    }
   ],
   "source": [
    "model = RandomForestClassifier(random_state = 12345, n_estimators = 100, bootstrap = False)\n",
    "model.fit(features_train, target_train)\n",
    "predictions = model.predict(features_valid)\n",
    "print(accuracy_score(target_valid, predictions))"
   ]
  },
  {
   "cell_type": "markdown",
   "metadata": {},
   "source": [
    "Стало только хуже. Оптимальные параметры модели: эстиматоры –– 23, точность –- 0.794"
   ]
  },
  {
   "cell_type": "markdown",
   "metadata": {},
   "source": [
    "### Logistic Regression"
   ]
  },
  {
   "cell_type": "code",
   "execution_count": 21,
   "metadata": {},
   "outputs": [],
   "source": [
    "import warnings\n",
    "warnings.filterwarnings('ignore')"
   ]
  },
  {
   "cell_type": "code",
   "execution_count": 22,
   "metadata": {},
   "outputs": [
    {
     "name": "stdout",
     "output_type": "stream",
     "text": [
      "Accuracy: 0.7107309486780715\n",
      "Iterations: 39\n",
      "Solver: newton-cg\n"
     ]
    }
   ],
   "source": [
    "best_iter = 0\n",
    "best_solver = 0\n",
    "best_accuracy = 0\n",
    "for iter in range(1,101):\n",
    "    for solver in ['newton-cg', 'lbfgs', 'liblinear', 'sag', 'saga']:\n",
    "        model = LogisticRegression(random_state = 12345, max_iter = iter)\n",
    "        model.fit(features_train, target_train)\n",
    "        predictions = model.predict(features_valid)\n",
    "        accuracy = accuracy_score(target_valid, predictions)\n",
    "    \n",
    "        if accuracy > best_accuracy:\n",
    "            best_accuracy = accuracy\n",
    "            best_iter = iter\n",
    "            best_solver = solver \n",
    "print('Accuracy:', accuracy)\n",
    "print('Iterations:', best_iter)\n",
    "print('Solver:', best_solver)"
   ]
  },
  {
   "cell_type": "markdown",
   "metadata": {},
   "source": [
    "Характеристики лучшей модели: точность –– 0.7107, iteractions –- 39, solver –- newton-cg"
   ]
  },
  {
   "cell_type": "markdown",
   "metadata": {},
   "source": [
    "Общий вывод по моделям\n",
    "\n",
    "* Протестировали и подобрали оптимальные параметры к алгоритму **DecisionTreeClassifier**. Показал себя неплохо, точность 78% при глубине дерева 3\n",
    "* Исследована модель **RandomForestClassifier**. Лучший показатель точности 79% при n_estimators = 23\n",
    "* Хуже всего себя показала LogisticRegression. Самая лучшая точность составляет 71% при параметрах iterations = 39, solver –– newton-cg\n",
    "\n",
    "**У алгоритма RandomForestClassifier лучшие показатели**"
   ]
  },
  {
   "cell_type": "markdown",
   "metadata": {},
   "source": [
    "## Проверим модель на тестовой выборке"
   ]
  },
  {
   "cell_type": "markdown",
   "metadata": {},
   "source": [
    "Протестируем каждую модель на тестовой выборке и посмотрим на результат:"
   ]
  },
  {
   "cell_type": "code",
   "execution_count": 23,
   "metadata": {},
   "outputs": [
    {
     "name": "stdout",
     "output_type": "stream",
     "text": [
      "Accuracy of DecisionTreeClassifier:  0.7791601866251944\n",
      "Accuracy of RandomForestClassifier:  0.7807153965785381\n",
      "Accuracy of LogisticRegression:  0.6842923794712286\n"
     ]
    }
   ],
   "source": [
    "model = DecisionTreeClassifier(random_state = 12345, max_depth = 3)\n",
    "model.fit(features_train, target_train)\n",
    "predictions = model.predict(features_test)\n",
    "print('Accuracy of DecisionTreeClassifier: ',accuracy_score(target_test, predictions))\n",
    "\n",
    "\n",
    "model = RandomForestClassifier(random_state = 12345, n_estimators = 23)\n",
    "model.fit(features_train, target_train)\n",
    "predictions = model.predict(features_test)\n",
    "print('Accuracy of RandomForestClassifier: ',accuracy_score(target_test, predictions))\n",
    "\n",
    "model = LogisticRegression(random_state = 12345, max_iter = 39)\n",
    "model.fit(features_train, target_train)\n",
    "predictions = model.predict(features_test)\n",
    "\n",
    "print('Accuracy of LogisticRegression: ',accuracy_score(target_test, predictions))"
   ]
  },
  {
   "cell_type": "markdown",
   "metadata": {},
   "source": [
    "**RandomForestClassifier** показал себя лучше всех, хотя и **DecisionTreeClassifier** недалеко. Логистическая регрессия совсем подкачала"
   ]
  },
  {
   "cell_type": "markdown",
   "metadata": {},
   "source": [
    "## Проверим модели на адекватность"
   ]
  },
  {
   "cell_type": "markdown",
   "metadata": {},
   "source": [
    "Проверим адекватность лучшей модели (случайный лес) на основе методов precision, recall и f1 score"
   ]
  },
  {
   "cell_type": "code",
   "execution_count": 24,
   "metadata": {},
   "outputs": [],
   "source": [
    "from sklearn.metrics import f1_score"
   ]
  },
  {
   "cell_type": "code",
   "execution_count": 25,
   "metadata": {},
   "outputs": [
    {
     "name": "stdout",
     "output_type": "stream",
     "text": [
      "Accuracy =  0.7807153965785381\n",
      "Precision =  0.6781609195402298\n",
      "Recall =  0.5812807881773399\n",
      "F-score: 0.6259946949602121\n"
     ]
    }
   ],
   "source": [
    "model = RandomForestClassifier(random_state = 12345, n_estimators = 23)\n",
    "model.fit(features_train, target_train)\n",
    "\n",
    "predictions = model.predict(features_test)\n",
    "\n",
    "accuracy = accuracy_score(target_test, predictions)\n",
    "precision = precision_score(target_test, predictions)\n",
    "recall = recall_score(target_test, predictions)\n",
    "\n",
    "print('Accuracy = ', accuracy)\n",
    "print('Precision = ', precision)\n",
    "print('Recall = ', recall)\n",
    "print('F-score:', f1_score(target_test, predictions))"
   ]
  },
  {
   "cell_type": "markdown",
   "metadata": {},
   "source": [
    "## Вывод\n",
    "\n",
    "Проделанная работа:\n",
    " * Открыт и изучен файл с данными\n",
    " * Данные разбили на обучающую, валидационную и тестовую выборки в соотношении 3:1:1\n",
    " * Воспользовались тремя моделями классификации: **DecisionTreeClassifier, RandomForestClassifier, Logistic Regression**\n",
    " * По каждой модели подобрали оптимальные гиперпарпметры и сохранили лучшие модели для использования на тестовой выборке\n",
    " * Каждую модель протестировали на финальной выборке, лучшей оказалась модель **RandomForestClassifier** с количеством эстиматоров 23\n",
    " * Оценили адекватность модели. У Случайного Леса F-мера приемлемая для данной задачи –– 0,625"
   ]
  }
 ],
 "metadata": {
  "ExecuteTimeLog": [
   {
    "duration": 400,
    "start_time": "2023-04-11T22:49:09.319Z"
   },
   {
    "duration": 118,
    "start_time": "2023-04-11T22:50:20.156Z"
   },
   {
    "duration": 416,
    "start_time": "2023-04-12T09:01:19.905Z"
   },
   {
    "duration": 29,
    "start_time": "2023-04-12T09:01:21.027Z"
   },
   {
    "duration": 11,
    "start_time": "2023-04-12T09:01:21.989Z"
   },
   {
    "duration": 802,
    "start_time": "2023-04-12T09:01:26.793Z"
   },
   {
    "duration": 454,
    "start_time": "2023-04-12T09:01:29.976Z"
   },
   {
    "duration": 373,
    "start_time": "2023-04-12T09:01:37.535Z"
   },
   {
    "duration": 527,
    "start_time": "2023-04-12T09:04:02.236Z"
   },
   {
    "duration": 358,
    "start_time": "2023-04-12T09:04:16.519Z"
   },
   {
    "duration": 161,
    "start_time": "2023-04-12T09:04:59.184Z"
   },
   {
    "duration": 329,
    "start_time": "2023-04-12T09:05:01.693Z"
   },
   {
    "duration": 353,
    "start_time": "2023-04-12T09:05:07.413Z"
   },
   {
    "duration": 325,
    "start_time": "2023-04-12T09:50:56.982Z"
   },
   {
    "duration": 340,
    "start_time": "2023-04-12T09:51:01.639Z"
   },
   {
    "duration": 375,
    "start_time": "2023-04-12T09:52:10.525Z"
   },
   {
    "duration": 109,
    "start_time": "2023-04-12T09:52:18.315Z"
   },
   {
    "duration": 387,
    "start_time": "2023-04-12T09:52:23.419Z"
   },
   {
    "duration": 466,
    "start_time": "2023-04-12T09:52:25.619Z"
   },
   {
    "duration": 467,
    "start_time": "2023-04-12T09:52:29.255Z"
   },
   {
    "duration": 551,
    "start_time": "2023-04-12T09:52:34.208Z"
   },
   {
    "duration": 11,
    "start_time": "2023-04-12T09:52:41.602Z"
   },
   {
    "duration": 10,
    "start_time": "2023-04-12T09:52:43.812Z"
   },
   {
    "duration": 27,
    "start_time": "2023-04-12T09:52:53.915Z"
   },
   {
    "duration": 9,
    "start_time": "2023-04-12T09:56:45.134Z"
   },
   {
    "duration": 3,
    "start_time": "2023-04-12T09:56:48.812Z"
   },
   {
    "duration": 796,
    "start_time": "2023-04-12T09:56:50.052Z"
   },
   {
    "duration": 3,
    "start_time": "2023-04-12T09:56:55.676Z"
   },
   {
    "duration": 909,
    "start_time": "2023-04-12T09:56:57.235Z"
   },
   {
    "duration": 3,
    "start_time": "2023-04-12T09:57:19.400Z"
   },
   {
    "duration": 3,
    "start_time": "2023-04-12T09:57:27.283Z"
   },
   {
    "duration": 511,
    "start_time": "2023-04-12T09:57:29.883Z"
   },
   {
    "duration": 185,
    "start_time": "2023-04-12T09:57:37.729Z"
   },
   {
    "duration": 6,
    "start_time": "2023-04-12T09:58:32.711Z"
   },
   {
    "duration": 5,
    "start_time": "2023-04-12T09:58:54.712Z"
   },
   {
    "duration": 5,
    "start_time": "2023-04-12T09:58:57.684Z"
   },
   {
    "duration": 7,
    "start_time": "2023-04-12T09:59:58.080Z"
   },
   {
    "duration": 10,
    "start_time": "2023-04-12T10:02:13.624Z"
   },
   {
    "duration": 15,
    "start_time": "2023-04-12T10:02:35.808Z"
   },
   {
    "duration": 12,
    "start_time": "2023-04-12T10:02:45.973Z"
   },
   {
    "duration": 5,
    "start_time": "2023-04-12T10:03:11.249Z"
   },
   {
    "duration": 6,
    "start_time": "2023-04-12T10:03:17.924Z"
   },
   {
    "duration": 6,
    "start_time": "2023-04-12T10:03:22.143Z"
   },
   {
    "duration": 9,
    "start_time": "2023-04-12T10:03:33.816Z"
   },
   {
    "duration": 276,
    "start_time": "2023-04-12T10:03:36.319Z"
   },
   {
    "duration": 6,
    "start_time": "2023-04-12T10:03:39.132Z"
   },
   {
    "duration": 648,
    "start_time": "2023-04-12T10:05:19.729Z"
   },
   {
    "duration": 4,
    "start_time": "2023-04-12T10:05:58.616Z"
   },
   {
    "duration": 5,
    "start_time": "2023-04-12T10:35:22.302Z"
   },
   {
    "duration": 8,
    "start_time": "2023-04-12T10:38:45.047Z"
   },
   {
    "duration": 23,
    "start_time": "2023-04-12T10:46:21.237Z"
   },
   {
    "duration": 102,
    "start_time": "2023-04-12T10:46:29.269Z"
   },
   {
    "duration": 7,
    "start_time": "2023-04-12T10:46:50.507Z"
   },
   {
    "duration": 6,
    "start_time": "2023-04-12T10:48:18.819Z"
   },
   {
    "duration": 3,
    "start_time": "2023-04-12T11:10:09.509Z"
   },
   {
    "duration": 916,
    "start_time": "2023-04-12T11:13:21.539Z"
   },
   {
    "duration": 16,
    "start_time": "2023-04-12T11:17:23.666Z"
   },
   {
    "duration": 14,
    "start_time": "2023-04-12T11:17:27.571Z"
   },
   {
    "duration": 22,
    "start_time": "2023-04-12T11:17:28.142Z"
   },
   {
    "duration": 15,
    "start_time": "2023-04-12T11:17:28.674Z"
   },
   {
    "duration": 16,
    "start_time": "2023-04-12T11:17:29.127Z"
   },
   {
    "duration": 14,
    "start_time": "2023-04-12T11:17:29.542Z"
   },
   {
    "duration": 14,
    "start_time": "2023-04-12T11:17:29.858Z"
   },
   {
    "duration": 15,
    "start_time": "2023-04-12T11:17:30.195Z"
   },
   {
    "duration": 18,
    "start_time": "2023-04-12T11:17:35.117Z"
   },
   {
    "duration": 15,
    "start_time": "2023-04-12T11:17:39.197Z"
   },
   {
    "duration": 14,
    "start_time": "2023-04-12T11:17:41.831Z"
   },
   {
    "duration": 15,
    "start_time": "2023-04-12T11:17:44.772Z"
   },
   {
    "duration": 14,
    "start_time": "2023-04-12T11:17:47.806Z"
   },
   {
    "duration": 12,
    "start_time": "2023-04-12T11:17:54.080Z"
   },
   {
    "duration": 905,
    "start_time": "2023-04-12T11:18:05.763Z"
   },
   {
    "duration": 61,
    "start_time": "2023-04-16T15:05:55.213Z"
   },
   {
    "duration": 1716,
    "start_time": "2023-04-16T15:06:03.231Z"
   },
   {
    "duration": 160,
    "start_time": "2023-04-16T15:06:04.951Z"
   },
   {
    "duration": 14,
    "start_time": "2023-04-16T15:06:05.113Z"
   },
   {
    "duration": 14,
    "start_time": "2023-04-16T15:06:05.129Z"
   },
   {
    "duration": 53,
    "start_time": "2023-04-16T15:06:05.144Z"
   },
   {
    "duration": 533,
    "start_time": "2023-04-16T15:06:05.199Z"
   },
   {
    "duration": 390,
    "start_time": "2023-04-16T15:06:05.733Z"
   },
   {
    "duration": 6,
    "start_time": "2023-04-16T15:06:06.125Z"
   },
   {
    "duration": 54,
    "start_time": "2023-04-16T15:06:06.133Z"
   },
   {
    "duration": 17,
    "start_time": "2023-04-16T15:06:06.189Z"
   },
   {
    "duration": 5,
    "start_time": "2023-04-16T15:06:06.207Z"
   },
   {
    "duration": 20,
    "start_time": "2023-04-16T15:06:06.214Z"
   },
   {
    "duration": 39,
    "start_time": "2023-04-16T15:06:06.236Z"
   },
   {
    "duration": 9,
    "start_time": "2023-04-16T15:06:06.277Z"
   },
   {
    "duration": 108,
    "start_time": "2023-04-16T15:06:06.288Z"
   },
   {
    "duration": 9,
    "start_time": "2023-04-16T15:06:06.398Z"
   },
   {
    "duration": 6,
    "start_time": "2023-04-16T15:06:06.408Z"
   },
   {
    "duration": 4,
    "start_time": "2023-04-16T15:06:06.415Z"
   },
   {
    "duration": 1151,
    "start_time": "2023-04-16T15:06:06.421Z"
   },
   {
    "duration": 3,
    "start_time": "2023-04-16T15:06:07.574Z"
   },
   {
    "duration": 14,
    "start_time": "2023-04-16T15:06:07.578Z"
   },
   {
    "duration": 9,
    "start_time": "2023-04-16T15:06:41.138Z"
   },
   {
    "duration": 10,
    "start_time": "2023-04-16T15:07:04.227Z"
   },
   {
    "duration": 1383,
    "start_time": "2023-04-16T15:07:14.516Z"
   },
   {
    "duration": 30,
    "start_time": "2023-04-16T15:07:15.902Z"
   },
   {
    "duration": 15,
    "start_time": "2023-04-16T15:07:15.933Z"
   },
   {
    "duration": 15,
    "start_time": "2023-04-16T15:07:15.967Z"
   },
   {
    "duration": 22,
    "start_time": "2023-04-16T15:07:15.985Z"
   },
   {
    "duration": 561,
    "start_time": "2023-04-16T15:07:16.009Z"
   },
   {
    "duration": 325,
    "start_time": "2023-04-16T15:07:16.577Z"
   },
   {
    "duration": 6,
    "start_time": "2023-04-16T15:07:16.904Z"
   },
   {
    "duration": 16,
    "start_time": "2023-04-16T15:07:16.911Z"
   },
   {
    "duration": 27,
    "start_time": "2023-04-16T15:07:16.928Z"
   },
   {
    "duration": 14,
    "start_time": "2023-04-16T15:07:16.957Z"
   },
   {
    "duration": 6,
    "start_time": "2023-04-16T15:07:16.976Z"
   },
   {
    "duration": 4,
    "start_time": "2023-04-16T15:07:16.984Z"
   },
   {
    "duration": 11,
    "start_time": "2023-04-16T15:07:16.990Z"
   },
   {
    "duration": 8,
    "start_time": "2023-04-16T15:07:17.002Z"
   },
   {
    "duration": 8,
    "start_time": "2023-04-16T15:07:17.011Z"
   },
   {
    "duration": 10,
    "start_time": "2023-04-16T15:07:17.020Z"
   },
   {
    "duration": 5,
    "start_time": "2023-04-16T15:07:17.032Z"
   },
   {
    "duration": 1197,
    "start_time": "2023-04-16T15:07:17.039Z"
   },
   {
    "duration": 2,
    "start_time": "2023-04-16T15:07:18.237Z"
   },
   {
    "duration": 34,
    "start_time": "2023-04-16T15:07:18.248Z"
   },
   {
    "duration": 153,
    "start_time": "2023-04-16T15:13:31.920Z"
   },
   {
    "duration": 3,
    "start_time": "2023-04-16T15:15:28.331Z"
   },
   {
    "duration": 43,
    "start_time": "2023-04-16T15:15:36.537Z"
   },
   {
    "duration": 11323,
    "start_time": "2023-04-16T15:17:15.544Z"
   },
   {
    "duration": 19,
    "start_time": "2023-04-16T15:18:10.225Z"
   },
   {
    "duration": 27,
    "start_time": "2023-04-16T15:18:53.017Z"
   },
   {
    "duration": 5766,
    "start_time": "2023-04-16T15:21:14.925Z"
   },
   {
    "duration": 22084,
    "start_time": "2023-04-16T15:23:27.282Z"
   },
   {
    "duration": 23623,
    "start_time": "2023-04-16T15:25:00.040Z"
   },
   {
    "duration": 22818,
    "start_time": "2023-04-16T15:27:14.170Z"
   },
   {
    "duration": 4200,
    "start_time": "2023-04-16T15:38:22.509Z"
   },
   {
    "duration": 4248,
    "start_time": "2023-04-16T15:38:59.280Z"
   },
   {
    "duration": 464,
    "start_time": "2023-04-16T15:39:56.127Z"
   },
   {
    "duration": 457,
    "start_time": "2023-04-16T15:40:02.402Z"
   },
   {
    "duration": 485,
    "start_time": "2023-04-16T15:40:09.412Z"
   },
   {
    "duration": 483,
    "start_time": "2023-04-16T15:40:17.900Z"
   },
   {
    "duration": 634,
    "start_time": "2023-04-16T15:40:30.678Z"
   },
   {
    "duration": 477,
    "start_time": "2023-04-16T15:40:59.619Z"
   },
   {
    "duration": 487,
    "start_time": "2023-04-16T15:41:09.896Z"
   },
   {
    "duration": 479,
    "start_time": "2023-04-16T15:41:11.396Z"
   },
   {
    "duration": 454,
    "start_time": "2023-04-16T15:41:26.282Z"
   },
   {
    "duration": 596,
    "start_time": "2023-04-16T15:41:39.897Z"
   },
   {
    "duration": 1398,
    "start_time": "2023-04-16T15:45:05.994Z"
   },
   {
    "duration": 3,
    "start_time": "2023-04-16T15:45:24.509Z"
   },
   {
    "duration": 1351,
    "start_time": "2023-04-16T15:45:25.992Z"
   },
   {
    "duration": 7297,
    "start_time": "2023-04-16T15:47:39.326Z"
   },
   {
    "duration": 22799,
    "start_time": "2023-04-16T15:49:20.809Z"
   },
   {
    "duration": 1264,
    "start_time": "2023-04-16T15:53:49.686Z"
   },
   {
    "duration": 10,
    "start_time": "2023-04-16T15:55:47.236Z"
   },
   {
    "duration": 131,
    "start_time": "2023-04-16T15:58:06.996Z"
   },
   {
    "duration": 11,
    "start_time": "2023-04-16T16:03:41.085Z"
   },
   {
    "duration": 137,
    "start_time": "2023-04-16T16:03:54.833Z"
   },
   {
    "duration": 3,
    "start_time": "2023-04-16T16:04:12.689Z"
   },
   {
    "duration": 112,
    "start_time": "2023-04-16T16:04:32.720Z"
   },
   {
    "duration": 103,
    "start_time": "2023-04-16T16:04:38.804Z"
   },
   {
    "duration": 1883,
    "start_time": "2023-04-16T19:49:23.362Z"
   },
   {
    "duration": 143,
    "start_time": "2023-04-16T19:52:56.922Z"
   },
   {
    "duration": 1564,
    "start_time": "2023-04-16T19:53:05.663Z"
   },
   {
    "duration": 69,
    "start_time": "2023-04-16T19:53:07.232Z"
   },
   {
    "duration": 24,
    "start_time": "2023-04-16T19:53:07.305Z"
   },
   {
    "duration": 12,
    "start_time": "2023-04-16T19:53:07.333Z"
   },
   {
    "duration": 24,
    "start_time": "2023-04-16T19:53:07.346Z"
   },
   {
    "duration": 697,
    "start_time": "2023-04-16T19:53:07.371Z"
   },
   {
    "duration": 6,
    "start_time": "2023-04-16T19:53:08.071Z"
   },
   {
    "duration": 433,
    "start_time": "2023-04-16T19:53:08.078Z"
   },
   {
    "duration": 17,
    "start_time": "2023-04-16T19:53:08.513Z"
   },
   {
    "duration": 8,
    "start_time": "2023-04-16T19:53:08.533Z"
   },
   {
    "duration": 6,
    "start_time": "2023-04-16T19:53:08.543Z"
   },
   {
    "duration": 2,
    "start_time": "2023-04-16T19:53:08.551Z"
   },
   {
    "duration": 6,
    "start_time": "2023-04-16T19:53:08.554Z"
   },
   {
    "duration": 24,
    "start_time": "2023-04-16T19:53:08.561Z"
   },
   {
    "duration": 102,
    "start_time": "2023-04-16T19:53:08.588Z"
   },
   {
    "duration": 8,
    "start_time": "2023-04-16T19:53:08.692Z"
   },
   {
    "duration": 9,
    "start_time": "2023-04-16T19:53:08.702Z"
   },
   {
    "duration": 4,
    "start_time": "2023-04-16T19:53:08.713Z"
   },
   {
    "duration": 15,
    "start_time": "2023-04-16T19:53:08.719Z"
   },
   {
    "duration": 1146,
    "start_time": "2023-04-16T19:53:08.736Z"
   },
   {
    "duration": 3,
    "start_time": "2023-04-16T19:53:09.883Z"
   },
   {
    "duration": 48,
    "start_time": "2023-04-16T19:53:09.888Z"
   },
   {
    "duration": 2,
    "start_time": "2023-04-16T19:53:09.938Z"
   },
   {
    "duration": 23032,
    "start_time": "2023-04-16T19:53:09.942Z"
   },
   {
    "duration": 2,
    "start_time": "2023-04-16T19:53:32.976Z"
   },
   {
    "duration": 482,
    "start_time": "2023-04-16T19:53:32.985Z"
   },
   {
    "duration": 497,
    "start_time": "2023-04-16T19:53:33.468Z"
   },
   {
    "duration": 527,
    "start_time": "2023-04-16T19:53:33.969Z"
   },
   {
    "duration": 621,
    "start_time": "2023-04-16T19:53:34.498Z"
   },
   {
    "duration": 3,
    "start_time": "2023-04-16T19:53:35.121Z"
   },
   {
    "duration": 6,
    "start_time": "2023-04-16T19:53:35.126Z"
   },
   {
    "duration": 7023,
    "start_time": "2023-04-16T19:53:35.134Z"
   },
   {
    "duration": 0,
    "start_time": "2023-04-16T19:53:42.158Z"
   },
   {
    "duration": 0,
    "start_time": "2023-04-16T19:53:42.160Z"
   },
   {
    "duration": 0,
    "start_time": "2023-04-16T19:53:42.161Z"
   },
   {
    "duration": 0,
    "start_time": "2023-04-16T19:53:42.161Z"
   },
   {
    "duration": 0,
    "start_time": "2023-04-16T19:53:42.162Z"
   },
   {
    "duration": 0,
    "start_time": "2023-04-16T19:53:42.163Z"
   },
   {
    "duration": 9,
    "start_time": "2023-04-16T19:53:42.820Z"
   },
   {
    "duration": 7,
    "start_time": "2023-04-16T19:56:26.870Z"
   },
   {
    "duration": 2,
    "start_time": "2023-04-16T19:57:12.361Z"
   },
   {
    "duration": 79,
    "start_time": "2023-04-16T20:04:50.254Z"
   },
   {
    "duration": 1851,
    "start_time": "2023-04-16T20:13:34.486Z"
   },
   {
    "duration": 28,
    "start_time": "2023-04-16T20:13:36.339Z"
   },
   {
    "duration": 21,
    "start_time": "2023-04-16T20:13:36.370Z"
   },
   {
    "duration": 16,
    "start_time": "2023-04-16T20:13:36.393Z"
   },
   {
    "duration": 39,
    "start_time": "2023-04-16T20:13:36.414Z"
   },
   {
    "duration": 715,
    "start_time": "2023-04-16T20:13:36.455Z"
   },
   {
    "duration": 431,
    "start_time": "2023-04-16T20:13:37.172Z"
   },
   {
    "duration": 9,
    "start_time": "2023-04-16T20:13:37.605Z"
   },
   {
    "duration": 26,
    "start_time": "2023-04-16T20:13:37.616Z"
   },
   {
    "duration": 26,
    "start_time": "2023-04-16T20:13:37.645Z"
   },
   {
    "duration": 6,
    "start_time": "2023-04-16T20:13:37.673Z"
   },
   {
    "duration": 9,
    "start_time": "2023-04-16T20:13:37.685Z"
   },
   {
    "duration": 8,
    "start_time": "2023-04-16T20:13:37.710Z"
   },
   {
    "duration": 1317,
    "start_time": "2023-04-16T20:13:37.723Z"
   },
   {
    "duration": 44,
    "start_time": "2023-04-16T20:13:39.043Z"
   },
   {
    "duration": 23514,
    "start_time": "2023-04-16T20:13:39.089Z"
   },
   {
    "duration": 495,
    "start_time": "2023-04-16T20:14:02.605Z"
   },
   {
    "duration": 475,
    "start_time": "2023-04-16T20:14:03.103Z"
   },
   {
    "duration": 525,
    "start_time": "2023-04-16T20:14:03.580Z"
   },
   {
    "duration": 725,
    "start_time": "2023-04-16T20:14:04.113Z"
   },
   {
    "duration": 3,
    "start_time": "2023-04-16T20:14:04.842Z"
   },
   {
    "duration": 10494,
    "start_time": "2023-04-16T20:14:04.848Z"
   },
   {
    "duration": 2,
    "start_time": "2023-04-16T20:14:15.345Z"
   },
   {
    "duration": 179,
    "start_time": "2023-04-16T20:14:15.349Z"
   },
   {
    "duration": 2,
    "start_time": "2023-04-16T20:14:15.531Z"
   },
   {
    "duration": 4,
    "start_time": "2023-04-16T20:14:15.536Z"
   },
   {
    "duration": 142,
    "start_time": "2023-04-16T20:14:15.542Z"
   },
   {
    "duration": 3,
    "start_time": "2023-04-16T20:14:55.546Z"
   },
   {
    "duration": 74,
    "start_time": "2023-04-16T20:16:19.441Z"
   },
   {
    "duration": 45,
    "start_time": "2023-04-16T20:24:50.431Z"
   },
   {
    "duration": 280,
    "start_time": "2023-04-16T20:24:53.740Z"
   },
   {
    "duration": 1034,
    "start_time": "2023-04-17T16:37:00.309Z"
   },
   {
    "duration": 110,
    "start_time": "2023-04-17T16:37:03.734Z"
   },
   {
    "duration": 1732,
    "start_time": "2023-04-17T16:37:10.122Z"
   },
   {
    "duration": 119,
    "start_time": "2023-04-17T16:37:11.856Z"
   },
   {
    "duration": 18,
    "start_time": "2023-04-17T16:37:11.976Z"
   },
   {
    "duration": 14,
    "start_time": "2023-04-17T16:37:11.996Z"
   },
   {
    "duration": 27,
    "start_time": "2023-04-17T16:37:12.012Z"
   },
   {
    "duration": 630,
    "start_time": "2023-04-17T16:37:12.041Z"
   },
   {
    "duration": 433,
    "start_time": "2023-04-17T16:37:12.673Z"
   },
   {
    "duration": 6,
    "start_time": "2023-04-17T16:37:13.108Z"
   },
   {
    "duration": 9,
    "start_time": "2023-04-17T16:37:13.116Z"
   },
   {
    "duration": 6,
    "start_time": "2023-04-17T16:37:13.128Z"
   },
   {
    "duration": 4,
    "start_time": "2023-04-17T16:37:13.135Z"
   },
   {
    "duration": 13,
    "start_time": "2023-04-17T16:37:13.141Z"
   },
   {
    "duration": 131,
    "start_time": "2023-04-17T16:37:13.156Z"
   },
   {
    "duration": 1092,
    "start_time": "2023-04-17T16:37:13.289Z"
   },
   {
    "duration": 34,
    "start_time": "2023-04-17T16:37:14.395Z"
   },
   {
    "duration": 22191,
    "start_time": "2023-04-17T16:37:14.431Z"
   },
   {
    "duration": 431,
    "start_time": "2023-04-17T16:37:36.624Z"
   },
   {
    "duration": 446,
    "start_time": "2023-04-17T16:37:37.058Z"
   },
   {
    "duration": 425,
    "start_time": "2023-04-17T16:37:37.506Z"
   },
   {
    "duration": 566,
    "start_time": "2023-04-17T16:37:37.933Z"
   },
   {
    "duration": 3,
    "start_time": "2023-04-17T16:37:38.500Z"
   },
   {
    "duration": 8688,
    "start_time": "2023-04-17T16:37:38.505Z"
   },
   {
    "duration": 143,
    "start_time": "2023-04-17T16:37:47.195Z"
   },
   {
    "duration": 3,
    "start_time": "2023-04-17T16:37:47.339Z"
   },
   {
    "duration": 124,
    "start_time": "2023-04-17T16:37:47.344Z"
   }
  ],
  "kernelspec": {
   "display_name": "Python 3 (ipykernel)",
   "language": "python",
   "name": "python3"
  },
  "language_info": {
   "codemirror_mode": {
    "name": "ipython",
    "version": 3
   },
   "file_extension": ".py",
   "mimetype": "text/x-python",
   "name": "python",
   "nbconvert_exporter": "python",
   "pygments_lexer": "ipython3",
   "version": "3.11.5"
  },
  "toc": {
   "base_numbering": 1,
   "nav_menu": {},
   "number_sections": true,
   "sideBar": true,
   "skip_h1_title": true,
   "title_cell": "Table of Contents",
   "title_sidebar": "Contents",
   "toc_cell": false,
   "toc_position": {},
   "toc_section_display": true,
   "toc_window_display": false
  }
 },
 "nbformat": 4,
 "nbformat_minor": 2
}
