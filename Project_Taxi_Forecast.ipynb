{
 "cells": [
  {
   "cell_type": "markdown",
   "metadata": {
    "toc": true
   },
   "source": [
    "<h1>Содержание<span class=\"tocSkip\"></span></h1>\n",
    "<div class=\"toc\"><ul class=\"toc-item\"><li><span><a href=\"#Подготовка\" data-toc-modified-id=\"Подготовка-1\"><span class=\"toc-item-num\">1&nbsp;&nbsp;</span>Подготовка</a></span></li><li><span><a href=\"#Анализ\" data-toc-modified-id=\"Анализ-2\"><span class=\"toc-item-num\">2&nbsp;&nbsp;</span>Анализ</a></span></li><li><span><a href=\"#Обучение\" data-toc-modified-id=\"Обучение-3\"><span class=\"toc-item-num\">3&nbsp;&nbsp;</span>Обучение</a></span><ul class=\"toc-item\"><li><span><a href=\"#Подготовка-датасета\" data-toc-modified-id=\"Подготовка-датасета-3.1\"><span class=\"toc-item-num\">3.1&nbsp;&nbsp;</span>Подготовка датасета</a></span></li><li><span><a href=\"#Разделение-на-выборки\" data-toc-modified-id=\"Разделение-на-выборки-3.2\"><span class=\"toc-item-num\">3.2&nbsp;&nbsp;</span>Разделение на выборки</a></span></li><li><span><a href=\"#Стандартизация-числовых-признаков-(StandardScaler)\" data-toc-modified-id=\"Стандартизация-числовых-признаков-(StandardScaler)-3.3\"><span class=\"toc-item-num\">3.3&nbsp;&nbsp;</span>Стандартизация числовых признаков (StandardScaler)</a></span></li></ul></li><li><span><a href=\"#Обучение-моделей\" data-toc-modified-id=\"Обучение-моделей-4\"><span class=\"toc-item-num\">4&nbsp;&nbsp;</span>Обучение моделей</a></span><ul class=\"toc-item\"><li><span><a href=\"#Модель-LinearRegression\" data-toc-modified-id=\"Модель-LinearRegression-4.1\"><span class=\"toc-item-num\">4.1&nbsp;&nbsp;</span>Модель LinearRegression</a></span></li><li><span><a href=\"#Модель-DecisionTreeRergessor\" data-toc-modified-id=\"Модель-DecisionTreeRergessor-4.2\"><span class=\"toc-item-num\">4.2&nbsp;&nbsp;</span>Модель DecisionTreeRergessor</a></span></li><li><span><a href=\"#Random-Forest-Regressor\" data-toc-modified-id=\"Random-Forest-Regressor-4.3\"><span class=\"toc-item-num\">4.3&nbsp;&nbsp;</span>Random Forest Regressor</a></span></li></ul></li><li><span><a href=\"#Тестирование\" data-toc-modified-id=\"Тестирование-5\"><span class=\"toc-item-num\">5&nbsp;&nbsp;</span>Тестирование</a></span></li><li><span><a href=\"#Вывод-по-проекту\" data-toc-modified-id=\"Вывод-по-проекту-6\"><span class=\"toc-item-num\">6&nbsp;&nbsp;</span>Вывод по проекту</a></span></li><li><span><a href=\"#Чек-лист-проверки\" data-toc-modified-id=\"Чек-лист-проверки-7\"><span class=\"toc-item-num\">7&nbsp;&nbsp;</span>Чек-лист проверки</a></span></li></ul></div>"
   ]
  },
  {
   "cell_type": "markdown",
   "metadata": {},
   "source": [
    "#  Прогнозирование заказов такси"
   ]
  },
  {
   "cell_type": "markdown",
   "metadata": {},
   "source": [
    "Компания собрала исторические данные о заказах такси в аэропортах. Чтобы привлекать больше водителей в период пиковой нагрузки, нужно спрогнозировать количество заказов такси на следующий час. Построим модель для такого предсказания.\n",
    "\n",
    "Нам нужно:\n",
    "\n",
    "1. Загрузить данные и выполнить их ресемплирование по одному часу.\n",
    "2. Проанализировать данные.\n",
    "3. Обучить разные модели с различными гиперпараметрами.\n",
    "4. Проверить данные на тестовой выборке и сделать выводы.\n",
    "\n",
    "\n",
    "Данные лежат в файле `taxi.csv`. Количество заказов находится в столбце `num_orders`"
   ]
  },
  {
   "cell_type": "markdown",
   "metadata": {},
   "source": [
    "## Подготовка"
   ]
  },
  {
   "cell_type": "code",
   "execution_count": 1,
   "metadata": {},
   "outputs": [],
   "source": [
    "import pandas as pd\n",
    "from statsmodels.tsa.seasonal import seasonal_decompose\n",
    "from sklearn.model_selection import train_test_split, GridSearchCV\n",
    "from sklearn.metrics import mean_squared_error\n",
    "import sklearn\n",
    "\n",
    "from sklearn.linear_model import LinearRegression\n",
    "from sklearn.ensemble import RandomForestRegressor\n",
    "from sklearn.tree import DecisionTreeRegressor\n",
    "from sklearn.preprocessing import StandardScaler\n",
    "from sklearn.model_selection import TimeSeriesSplit\n",
    "\n",
    "from statsmodels.tsa.stattools import adfuller"
   ]
  },
  {
   "cell_type": "code",
   "execution_count": 2,
   "metadata": {},
   "outputs": [
    {
     "data": {
      "text/html": [
       "<div>\n",
       "<style scoped>\n",
       "    .dataframe tbody tr th:only-of-type {\n",
       "        vertical-align: middle;\n",
       "    }\n",
       "\n",
       "    .dataframe tbody tr th {\n",
       "        vertical-align: top;\n",
       "    }\n",
       "\n",
       "    .dataframe thead th {\n",
       "        text-align: right;\n",
       "    }\n",
       "</style>\n",
       "<table border=\"1\" class=\"dataframe\">\n",
       "  <thead>\n",
       "    <tr style=\"text-align: right;\">\n",
       "      <th></th>\n",
       "      <th>num_orders</th>\n",
       "    </tr>\n",
       "    <tr>\n",
       "      <th>datetime</th>\n",
       "      <th></th>\n",
       "    </tr>\n",
       "  </thead>\n",
       "  <tbody>\n",
       "    <tr>\n",
       "      <th>2018-03-01 00:00:00</th>\n",
       "      <td>9</td>\n",
       "    </tr>\n",
       "    <tr>\n",
       "      <th>2018-03-01 00:10:00</th>\n",
       "      <td>14</td>\n",
       "    </tr>\n",
       "    <tr>\n",
       "      <th>2018-03-01 00:20:00</th>\n",
       "      <td>28</td>\n",
       "    </tr>\n",
       "    <tr>\n",
       "      <th>2018-03-01 00:30:00</th>\n",
       "      <td>20</td>\n",
       "    </tr>\n",
       "    <tr>\n",
       "      <th>2018-03-01 00:40:00</th>\n",
       "      <td>32</td>\n",
       "    </tr>\n",
       "  </tbody>\n",
       "</table>\n",
       "</div>"
      ],
      "text/plain": [
       "                     num_orders\n",
       "datetime                       \n",
       "2018-03-01 00:00:00           9\n",
       "2018-03-01 00:10:00          14\n",
       "2018-03-01 00:20:00          28\n",
       "2018-03-01 00:30:00          20\n",
       "2018-03-01 00:40:00          32"
      ]
     },
     "execution_count": 2,
     "metadata": {},
     "output_type": "execute_result"
    }
   ],
   "source": [
    "df = pd.read_csv('/datasets/taxi.csv', index_col = [0], parse_dates = [0])\n",
    "df.sort_index(inplace=True)\n",
    "df.head()"
   ]
  },
  {
   "cell_type": "code",
   "execution_count": 3,
   "metadata": {},
   "outputs": [],
   "source": [
    "df = df.resample('1H').sum()"
   ]
  },
  {
   "cell_type": "markdown",
   "metadata": {},
   "source": [
    "## Анализ"
   ]
  },
  {
   "cell_type": "code",
   "execution_count": 4,
   "metadata": {},
   "outputs": [
    {
     "name": "stdout",
     "output_type": "stream",
     "text": [
      "<class 'pandas.core.frame.DataFrame'>\n",
      "DatetimeIndex: 4416 entries, 2018-03-01 00:00:00 to 2018-08-31 23:00:00\n",
      "Freq: H\n",
      "Data columns (total 1 columns):\n",
      " #   Column      Non-Null Count  Dtype\n",
      "---  ------      --------------  -----\n",
      " 0   num_orders  4416 non-null   int64\n",
      "dtypes: int64(1)\n",
      "memory usage: 69.0 KB\n"
     ]
    }
   ],
   "source": [
    "df.info();"
   ]
  },
  {
   "cell_type": "code",
   "execution_count": 5,
   "metadata": {},
   "outputs": [
    {
     "data": {
      "text/html": [
       "<div>\n",
       "<style scoped>\n",
       "    .dataframe tbody tr th:only-of-type {\n",
       "        vertical-align: middle;\n",
       "    }\n",
       "\n",
       "    .dataframe tbody tr th {\n",
       "        vertical-align: top;\n",
       "    }\n",
       "\n",
       "    .dataframe thead th {\n",
       "        text-align: right;\n",
       "    }\n",
       "</style>\n",
       "<table border=\"1\" class=\"dataframe\">\n",
       "  <thead>\n",
       "    <tr style=\"text-align: right;\">\n",
       "      <th></th>\n",
       "      <th>num_orders</th>\n",
       "    </tr>\n",
       "  </thead>\n",
       "  <tbody>\n",
       "    <tr>\n",
       "      <th>count</th>\n",
       "      <td>4416.000000</td>\n",
       "    </tr>\n",
       "    <tr>\n",
       "      <th>mean</th>\n",
       "      <td>84.422781</td>\n",
       "    </tr>\n",
       "    <tr>\n",
       "      <th>std</th>\n",
       "      <td>45.023853</td>\n",
       "    </tr>\n",
       "    <tr>\n",
       "      <th>min</th>\n",
       "      <td>0.000000</td>\n",
       "    </tr>\n",
       "    <tr>\n",
       "      <th>25%</th>\n",
       "      <td>54.000000</td>\n",
       "    </tr>\n",
       "    <tr>\n",
       "      <th>50%</th>\n",
       "      <td>78.000000</td>\n",
       "    </tr>\n",
       "    <tr>\n",
       "      <th>75%</th>\n",
       "      <td>107.000000</td>\n",
       "    </tr>\n",
       "    <tr>\n",
       "      <th>max</th>\n",
       "      <td>462.000000</td>\n",
       "    </tr>\n",
       "  </tbody>\n",
       "</table>\n",
       "</div>"
      ],
      "text/plain": [
       "        num_orders\n",
       "count  4416.000000\n",
       "mean     84.422781\n",
       "std      45.023853\n",
       "min       0.000000\n",
       "25%      54.000000\n",
       "50%      78.000000\n",
       "75%     107.000000\n",
       "max     462.000000"
      ]
     },
     "execution_count": 5,
     "metadata": {},
     "output_type": "execute_result"
    }
   ],
   "source": [
    "df.describe()"
   ]
  },
  {
   "cell_type": "code",
   "execution_count": 6,
   "metadata": {},
   "outputs": [
    {
     "data": {
      "image/png": "[encoded data removed]",
      "text/plain": [
       "<Figure size 720x360 with 1 Axes>"
      ]
     },
     "metadata": {
      "needs_background": "light"
     },
     "output_type": "display_data"
    }
   ],
   "source": [
    "df.hist(figsize = (10,5), bins = 40);"
   ]
  },
  {
   "cell_type": "code",
   "execution_count": 7,
   "metadata": {},
   "outputs": [
    {
     "data": {
      "text/plain": [
       "num_orders    0\n",
       "dtype: int64"
      ]
     },
     "execution_count": 7,
     "metadata": {},
     "output_type": "execute_result"
    }
   ],
   "source": [
    "df.isna().sum()"
   ]
  },
  {
   "cell_type": "code",
   "execution_count": 8,
   "metadata": {},
   "outputs": [
    {
     "data": {
      "image/png": "[encoded data removed]",
      "text/plain": [
       "<Figure size 1080x720 with 1 Axes>"
      ]
     },
     "metadata": {
      "needs_background": "light"
     },
     "output_type": "display_data"
    }
   ],
   "source": [
    "df.plot(kind = 'box', figsize = (15,10));"
   ]
  },
  {
   "cell_type": "markdown",
   "metadata": {},
   "source": [
    "**Теперь попробуем отследить динамику заказов такси, проверим тренды и сезонность**"
   ]
  },
  {
   "cell_type": "code",
   "execution_count": 9,
   "metadata": {},
   "outputs": [
    {
     "data": {
      "image/png": "[encoded data removed]",
      "text/plain": [
       "<Figure size 720x360 with 1 Axes>"
      ]
     },
     "metadata": {
      "needs_background": "light"
     },
     "output_type": "display_data"
    }
   ],
   "source": [
    "decomposed = seasonal_decompose(df)\n",
    "decomposed.trend.plot(figsize = (10,5));"
   ]
  },
  {
   "cell_type": "markdown",
   "metadata": {},
   "source": [
    "**Видим, что тренд восходящий, то есть заказы растут с каждым месяцем. Теперь посмотрим на сезонность**"
   ]
  },
  {
   "cell_type": "code",
   "execution_count": 10,
   "metadata": {},
   "outputs": [
    {
     "data": {
      "image/png": "[encoded data removed]",
      "text/plain": [
       "<Figure size 1440x720 with 1 Axes>"
      ]
     },
     "metadata": {
      "needs_background": "light"
     },
     "output_type": "display_data"
    }
   ],
   "source": [
    "decomposed.seasonal.plot(figsize = (20,10));"
   ]
  },
  {
   "cell_type": "markdown",
   "metadata": {},
   "source": [
    "**Для определения сезонности данные слишком сильно варьируются. Теперь посмотрим на динамику в течение одного дня**"
   ]
  },
  {
   "cell_type": "code",
   "execution_count": 11,
   "metadata": {},
   "outputs": [
    {
     "data": {
      "image/png": "[encoded data removed]",
      "text/plain": [
       "<Figure size 1440x720 with 1 Axes>"
      ]
     },
     "metadata": {
      "needs_background": "light"
     },
     "output_type": "display_data"
    }
   ],
   "source": [
    "decomposed.seasonal['2018-03-01':'2018-03-02'].plot(figsize = (20,10));"
   ]
  },
  {
   "cell_type": "markdown",
   "metadata": {},
   "source": [
    "**Видно, что больше всего такси вызывают днем (в районе 17 часов) и ночью (около 00:00)**"
   ]
  },
  {
   "cell_type": "markdown",
   "metadata": {},
   "source": [
    "**Вывод по анализу:**\n",
    "* В датасете присутствует 4416 значений типа *int64*\n",
    "* Среднее по заказам 84. Значения варьируются от 0 до 462\n",
    "* В датасете присутствуют выбросы и дубликаты\n",
    "* Пропусков не обнаружено\n",
    "* Отследили тренд, сезонность и динамику в течение дня:\n",
    "    1. Тренд восходящий, заказы такси растут с каждым месяцем\n",
    "    2. Сезонности нет ввиду сильного колебания значений\n",
    "    3. В течение дня большинство заказов приходится на ночь и на ранний вечер около 17:00\n"
   ]
  },
  {
   "cell_type": "markdown",
   "metadata": {},
   "source": [
    "**Бонус: определяем стационарность временного ряда тестом Дики-Фуллера:**"
   ]
  },
  {
   "cell_type": "code",
   "execution_count": 12,
   "metadata": {},
   "outputs": [
    {
     "name": "stdout",
     "output_type": "stream",
     "text": [
      "ADF Statistics: -3.0689242890279558\n",
      "p-value: 0.028940051402612906\n",
      "Critical Values: {'1%': -3.431842162413052, '5%': -2.8621993540813637, '10%': -2.567120978470452}\n"
     ]
    }
   ],
   "source": [
    "result = adfuller(df)\n",
    "print('ADF Statistics:', result[0])\n",
    "print('p-value:', result[1])\n",
    "print('Critical Values:', result[4])"
   ]
  },
  {
   "cell_type": "markdown",
   "metadata": {},
   "source": [
    "**p-value** меньше заданного уровня значимости 0.05, значит не принимаем гипотезу о нестационарности ряда. Соответственно, ряд можно считать стационарным и сделать вывод, что сезонности нет"
   ]
  },
  {
   "cell_type": "markdown",
   "metadata": {},
   "source": [
    "## Обучение"
   ]
  },
  {
   "cell_type": "markdown",
   "metadata": {},
   "source": [
    "### Подготовка датасета"
   ]
  },
  {
   "cell_type": "markdown",
   "metadata": {},
   "source": [
    "Подготовка датасета необходима для того, чтобы создать признаки, по которым модель будет обучаться предсказывать количество заказов такси. Для этого напишем функцию **make_features**, которая на вход будет получать: датасет, максимальный размер отставания и окно для скользящей средней"
   ]
  },
  {
   "cell_type": "code",
   "execution_count": 13,
   "metadata": {},
   "outputs": [],
   "source": [
    "def make_features(df, max_lag, rolling_mean_size): \n",
    "    df['day'] = df.index.day\n",
    "    df['dayofweek'] = df.index.dayofweek\n",
    "    \n",
    "    for lag in range(1, max_lag + 1):\n",
    "        df['lag_{}'.format(lag)] = df['num_orders'].shift(lag)\n",
    "        \n",
    "    df['MA'] = df['num_orders'].shift().rolling(rolling_mean_size).mean()\n",
    "    return df"
   ]
  },
  {
   "cell_type": "code",
   "execution_count": 14,
   "metadata": {
    "scrolled": false
   },
   "outputs": [
    {
     "data": {
      "text/html": [
       "<div>\n",
       "<style scoped>\n",
       "    .dataframe tbody tr th:only-of-type {\n",
       "        vertical-align: middle;\n",
       "    }\n",
       "\n",
       "    .dataframe tbody tr th {\n",
       "        vertical-align: top;\n",
       "    }\n",
       "\n",
       "    .dataframe thead th {\n",
       "        text-align: right;\n",
       "    }\n",
       "</style>\n",
       "<table border=\"1\" class=\"dataframe\">\n",
       "  <thead>\n",
       "    <tr style=\"text-align: right;\">\n",
       "      <th></th>\n",
       "      <th>num_orders</th>\n",
       "      <th>day</th>\n",
       "      <th>dayofweek</th>\n",
       "      <th>lag_1</th>\n",
       "      <th>lag_2</th>\n",
       "      <th>lag_3</th>\n",
       "      <th>lag_4</th>\n",
       "      <th>lag_5</th>\n",
       "      <th>lag_6</th>\n",
       "      <th>lag_7</th>\n",
       "      <th>...</th>\n",
       "      <th>lag_16</th>\n",
       "      <th>lag_17</th>\n",
       "      <th>lag_18</th>\n",
       "      <th>lag_19</th>\n",
       "      <th>lag_20</th>\n",
       "      <th>lag_21</th>\n",
       "      <th>lag_22</th>\n",
       "      <th>lag_23</th>\n",
       "      <th>lag_24</th>\n",
       "      <th>MA</th>\n",
       "    </tr>\n",
       "    <tr>\n",
       "      <th>datetime</th>\n",
       "      <th></th>\n",
       "      <th></th>\n",
       "      <th></th>\n",
       "      <th></th>\n",
       "      <th></th>\n",
       "      <th></th>\n",
       "      <th></th>\n",
       "      <th></th>\n",
       "      <th></th>\n",
       "      <th></th>\n",
       "      <th></th>\n",
       "      <th></th>\n",
       "      <th></th>\n",
       "      <th></th>\n",
       "      <th></th>\n",
       "      <th></th>\n",
       "      <th></th>\n",
       "      <th></th>\n",
       "      <th></th>\n",
       "      <th></th>\n",
       "      <th></th>\n",
       "    </tr>\n",
       "  </thead>\n",
       "  <tbody>\n",
       "    <tr>\n",
       "      <th>2018-03-01 00:00:00</th>\n",
       "      <td>124</td>\n",
       "      <td>1</td>\n",
       "      <td>3</td>\n",
       "      <td>NaN</td>\n",
       "      <td>NaN</td>\n",
       "      <td>NaN</td>\n",
       "      <td>NaN</td>\n",
       "      <td>NaN</td>\n",
       "      <td>NaN</td>\n",
       "      <td>NaN</td>\n",
       "      <td>...</td>\n",
       "      <td>NaN</td>\n",
       "      <td>NaN</td>\n",
       "      <td>NaN</td>\n",
       "      <td>NaN</td>\n",
       "      <td>NaN</td>\n",
       "      <td>NaN</td>\n",
       "      <td>NaN</td>\n",
       "      <td>NaN</td>\n",
       "      <td>NaN</td>\n",
       "      <td>NaN</td>\n",
       "    </tr>\n",
       "    <tr>\n",
       "      <th>2018-03-01 01:00:00</th>\n",
       "      <td>85</td>\n",
       "      <td>1</td>\n",
       "      <td>3</td>\n",
       "      <td>124.0</td>\n",
       "      <td>NaN</td>\n",
       "      <td>NaN</td>\n",
       "      <td>NaN</td>\n",
       "      <td>NaN</td>\n",
       "      <td>NaN</td>\n",
       "      <td>NaN</td>\n",
       "      <td>...</td>\n",
       "      <td>NaN</td>\n",
       "      <td>NaN</td>\n",
       "      <td>NaN</td>\n",
       "      <td>NaN</td>\n",
       "      <td>NaN</td>\n",
       "      <td>NaN</td>\n",
       "      <td>NaN</td>\n",
       "      <td>NaN</td>\n",
       "      <td>NaN</td>\n",
       "      <td>NaN</td>\n",
       "    </tr>\n",
       "    <tr>\n",
       "      <th>2018-03-01 02:00:00</th>\n",
       "      <td>71</td>\n",
       "      <td>1</td>\n",
       "      <td>3</td>\n",
       "      <td>85.0</td>\n",
       "      <td>124.0</td>\n",
       "      <td>NaN</td>\n",
       "      <td>NaN</td>\n",
       "      <td>NaN</td>\n",
       "      <td>NaN</td>\n",
       "      <td>NaN</td>\n",
       "      <td>...</td>\n",
       "      <td>NaN</td>\n",
       "      <td>NaN</td>\n",
       "      <td>NaN</td>\n",
       "      <td>NaN</td>\n",
       "      <td>NaN</td>\n",
       "      <td>NaN</td>\n",
       "      <td>NaN</td>\n",
       "      <td>NaN</td>\n",
       "      <td>NaN</td>\n",
       "      <td>NaN</td>\n",
       "    </tr>\n",
       "    <tr>\n",
       "      <th>2018-03-01 03:00:00</th>\n",
       "      <td>66</td>\n",
       "      <td>1</td>\n",
       "      <td>3</td>\n",
       "      <td>71.0</td>\n",
       "      <td>85.0</td>\n",
       "      <td>124.0</td>\n",
       "      <td>NaN</td>\n",
       "      <td>NaN</td>\n",
       "      <td>NaN</td>\n",
       "      <td>NaN</td>\n",
       "      <td>...</td>\n",
       "      <td>NaN</td>\n",
       "      <td>NaN</td>\n",
       "      <td>NaN</td>\n",
       "      <td>NaN</td>\n",
       "      <td>NaN</td>\n",
       "      <td>NaN</td>\n",
       "      <td>NaN</td>\n",
       "      <td>NaN</td>\n",
       "      <td>NaN</td>\n",
       "      <td>NaN</td>\n",
       "    </tr>\n",
       "    <tr>\n",
       "      <th>2018-03-01 04:00:00</th>\n",
       "      <td>43</td>\n",
       "      <td>1</td>\n",
       "      <td>3</td>\n",
       "      <td>66.0</td>\n",
       "      <td>71.0</td>\n",
       "      <td>85.0</td>\n",
       "      <td>124.0</td>\n",
       "      <td>NaN</td>\n",
       "      <td>NaN</td>\n",
       "      <td>NaN</td>\n",
       "      <td>...</td>\n",
       "      <td>NaN</td>\n",
       "      <td>NaN</td>\n",
       "      <td>NaN</td>\n",
       "      <td>NaN</td>\n",
       "      <td>NaN</td>\n",
       "      <td>NaN</td>\n",
       "      <td>NaN</td>\n",
       "      <td>NaN</td>\n",
       "      <td>NaN</td>\n",
       "      <td>NaN</td>\n",
       "    </tr>\n",
       "    <tr>\n",
       "      <th>...</th>\n",
       "      <td>...</td>\n",
       "      <td>...</td>\n",
       "      <td>...</td>\n",
       "      <td>...</td>\n",
       "      <td>...</td>\n",
       "      <td>...</td>\n",
       "      <td>...</td>\n",
       "      <td>...</td>\n",
       "      <td>...</td>\n",
       "      <td>...</td>\n",
       "      <td>...</td>\n",
       "      <td>...</td>\n",
       "      <td>...</td>\n",
       "      <td>...</td>\n",
       "      <td>...</td>\n",
       "      <td>...</td>\n",
       "      <td>...</td>\n",
       "      <td>...</td>\n",
       "      <td>...</td>\n",
       "      <td>...</td>\n",
       "      <td>...</td>\n",
       "    </tr>\n",
       "    <tr>\n",
       "      <th>2018-08-31 19:00:00</th>\n",
       "      <td>136</td>\n",
       "      <td>31</td>\n",
       "      <td>4</td>\n",
       "      <td>207.0</td>\n",
       "      <td>217.0</td>\n",
       "      <td>197.0</td>\n",
       "      <td>116.0</td>\n",
       "      <td>133.0</td>\n",
       "      <td>166.0</td>\n",
       "      <td>136.0</td>\n",
       "      <td>...</td>\n",
       "      <td>99.0</td>\n",
       "      <td>230.0</td>\n",
       "      <td>194.0</td>\n",
       "      <td>276.0</td>\n",
       "      <td>246.0</td>\n",
       "      <td>158.0</td>\n",
       "      <td>198.0</td>\n",
       "      <td>142.0</td>\n",
       "      <td>72.0</td>\n",
       "      <td>156.133333</td>\n",
       "    </tr>\n",
       "    <tr>\n",
       "      <th>2018-08-31 20:00:00</th>\n",
       "      <td>154</td>\n",
       "      <td>31</td>\n",
       "      <td>4</td>\n",
       "      <td>136.0</td>\n",
       "      <td>207.0</td>\n",
       "      <td>217.0</td>\n",
       "      <td>197.0</td>\n",
       "      <td>116.0</td>\n",
       "      <td>133.0</td>\n",
       "      <td>166.0</td>\n",
       "      <td>...</td>\n",
       "      <td>268.0</td>\n",
       "      <td>99.0</td>\n",
       "      <td>230.0</td>\n",
       "      <td>194.0</td>\n",
       "      <td>276.0</td>\n",
       "      <td>246.0</td>\n",
       "      <td>158.0</td>\n",
       "      <td>198.0</td>\n",
       "      <td>142.0</td>\n",
       "      <td>147.333333</td>\n",
       "    </tr>\n",
       "    <tr>\n",
       "      <th>2018-08-31 21:00:00</th>\n",
       "      <td>159</td>\n",
       "      <td>31</td>\n",
       "      <td>4</td>\n",
       "      <td>154.0</td>\n",
       "      <td>136.0</td>\n",
       "      <td>207.0</td>\n",
       "      <td>217.0</td>\n",
       "      <td>197.0</td>\n",
       "      <td>116.0</td>\n",
       "      <td>133.0</td>\n",
       "      <td>...</td>\n",
       "      <td>78.0</td>\n",
       "      <td>268.0</td>\n",
       "      <td>99.0</td>\n",
       "      <td>230.0</td>\n",
       "      <td>194.0</td>\n",
       "      <td>276.0</td>\n",
       "      <td>246.0</td>\n",
       "      <td>158.0</td>\n",
       "      <td>198.0</td>\n",
       "      <td>152.400000</td>\n",
       "    </tr>\n",
       "    <tr>\n",
       "      <th>2018-08-31 22:00:00</th>\n",
       "      <td>223</td>\n",
       "      <td>31</td>\n",
       "      <td>4</td>\n",
       "      <td>159.0</td>\n",
       "      <td>154.0</td>\n",
       "      <td>136.0</td>\n",
       "      <td>207.0</td>\n",
       "      <td>217.0</td>\n",
       "      <td>197.0</td>\n",
       "      <td>116.0</td>\n",
       "      <td>...</td>\n",
       "      <td>35.0</td>\n",
       "      <td>78.0</td>\n",
       "      <td>268.0</td>\n",
       "      <td>99.0</td>\n",
       "      <td>230.0</td>\n",
       "      <td>194.0</td>\n",
       "      <td>276.0</td>\n",
       "      <td>246.0</td>\n",
       "      <td>158.0</td>\n",
       "      <td>160.666667</td>\n",
       "    </tr>\n",
       "    <tr>\n",
       "      <th>2018-08-31 23:00:00</th>\n",
       "      <td>205</td>\n",
       "      <td>31</td>\n",
       "      <td>4</td>\n",
       "      <td>223.0</td>\n",
       "      <td>159.0</td>\n",
       "      <td>154.0</td>\n",
       "      <td>136.0</td>\n",
       "      <td>207.0</td>\n",
       "      <td>217.0</td>\n",
       "      <td>197.0</td>\n",
       "      <td>...</td>\n",
       "      <td>46.0</td>\n",
       "      <td>35.0</td>\n",
       "      <td>78.0</td>\n",
       "      <td>268.0</td>\n",
       "      <td>99.0</td>\n",
       "      <td>230.0</td>\n",
       "      <td>194.0</td>\n",
       "      <td>276.0</td>\n",
       "      <td>246.0</td>\n",
       "      <td>172.466667</td>\n",
       "    </tr>\n",
       "  </tbody>\n",
       "</table>\n",
       "<p>4416 rows × 28 columns</p>\n",
       "</div>"
      ],
      "text/plain": [
       "                     num_orders  day  dayofweek  lag_1  lag_2  lag_3  lag_4  \\\n",
       "datetime                                                                      \n",
       "2018-03-01 00:00:00         124    1          3    NaN    NaN    NaN    NaN   \n",
       "2018-03-01 01:00:00          85    1          3  124.0    NaN    NaN    NaN   \n",
       "2018-03-01 02:00:00          71    1          3   85.0  124.0    NaN    NaN   \n",
       "2018-03-01 03:00:00          66    1          3   71.0   85.0  124.0    NaN   \n",
       "2018-03-01 04:00:00          43    1          3   66.0   71.0   85.0  124.0   \n",
       "...                         ...  ...        ...    ...    ...    ...    ...   \n",
       "2018-08-31 19:00:00         136   31          4  207.0  217.0  197.0  116.0   \n",
       "2018-08-31 20:00:00         154   31          4  136.0  207.0  217.0  197.0   \n",
       "2018-08-31 21:00:00         159   31          4  154.0  136.0  207.0  217.0   \n",
       "2018-08-31 22:00:00         223   31          4  159.0  154.0  136.0  207.0   \n",
       "2018-08-31 23:00:00         205   31          4  223.0  159.0  154.0  136.0   \n",
       "\n",
       "                     lag_5  lag_6  lag_7  ...  lag_16  lag_17  lag_18  lag_19  \\\n",
       "datetime                                  ...                                   \n",
       "2018-03-01 00:00:00    NaN    NaN    NaN  ...     NaN     NaN     NaN     NaN   \n",
       "2018-03-01 01:00:00    NaN    NaN    NaN  ...     NaN     NaN     NaN     NaN   \n",
       "2018-03-01 02:00:00    NaN    NaN    NaN  ...     NaN     NaN     NaN     NaN   \n",
       "2018-03-01 03:00:00    NaN    NaN    NaN  ...     NaN     NaN     NaN     NaN   \n",
       "2018-03-01 04:00:00    NaN    NaN    NaN  ...     NaN     NaN     NaN     NaN   \n",
       "...                    ...    ...    ...  ...     ...     ...     ...     ...   \n",
       "2018-08-31 19:00:00  133.0  166.0  136.0  ...    99.0   230.0   194.0   276.0   \n",
       "2018-08-31 20:00:00  116.0  133.0  166.0  ...   268.0    99.0   230.0   194.0   \n",
       "2018-08-31 21:00:00  197.0  116.0  133.0  ...    78.0   268.0    99.0   230.0   \n",
       "2018-08-31 22:00:00  217.0  197.0  116.0  ...    35.0    78.0   268.0    99.0   \n",
       "2018-08-31 23:00:00  207.0  217.0  197.0  ...    46.0    35.0    78.0   268.0   \n",
       "\n",
       "                     lag_20  lag_21  lag_22  lag_23  lag_24          MA  \n",
       "datetime                                                                 \n",
       "2018-03-01 00:00:00     NaN     NaN     NaN     NaN     NaN         NaN  \n",
       "2018-03-01 01:00:00     NaN     NaN     NaN     NaN     NaN         NaN  \n",
       "2018-03-01 02:00:00     NaN     NaN     NaN     NaN     NaN         NaN  \n",
       "2018-03-01 03:00:00     NaN     NaN     NaN     NaN     NaN         NaN  \n",
       "2018-03-01 04:00:00     NaN     NaN     NaN     NaN     NaN         NaN  \n",
       "...                     ...     ...     ...     ...     ...         ...  \n",
       "2018-08-31 19:00:00   246.0   158.0   198.0   142.0    72.0  156.133333  \n",
       "2018-08-31 20:00:00   276.0   246.0   158.0   198.0   142.0  147.333333  \n",
       "2018-08-31 21:00:00   194.0   276.0   246.0   158.0   198.0  152.400000  \n",
       "2018-08-31 22:00:00   230.0   194.0   276.0   246.0   158.0  160.666667  \n",
       "2018-08-31 23:00:00    99.0   230.0   194.0   276.0   246.0  172.466667  \n",
       "\n",
       "[4416 rows x 28 columns]"
      ]
     },
     "execution_count": 14,
     "metadata": {},
     "output_type": "execute_result"
    }
   ],
   "source": [
    "make_features(df,24,15)"
   ]
  },
  {
   "cell_type": "markdown",
   "metadata": {},
   "source": [
    "### Разделение на выборки"
   ]
  },
  {
   "cell_type": "markdown",
   "metadata": {},
   "source": [
    "Разделим исходный датасет на тренировочную и тестовую выборки в соотношении 9:1"
   ]
  },
  {
   "cell_type": "code",
   "execution_count": 15,
   "metadata": {},
   "outputs": [],
   "source": [
    "train, test = train_test_split(df, test_size = 0.1, shuffle = False)"
   ]
  },
  {
   "cell_type": "code",
   "execution_count": 16,
   "metadata": {},
   "outputs": [],
   "source": [
    "train = train.dropna()"
   ]
  },
  {
   "cell_type": "code",
   "execution_count": 17,
   "metadata": {},
   "outputs": [],
   "source": [
    "features_train = train.drop('num_orders', axis = 1)\n",
    "target_train = train['num_orders']\n",
    "\n",
    "features_test = test.drop('num_orders', axis = 1)\n",
    "target_test = test['num_orders']"
   ]
  },
  {
   "cell_type": "markdown",
   "metadata": {},
   "source": [
    "### Стандартизация числовых признаков (StandardScaler)"
   ]
  },
  {
   "cell_type": "code",
   "execution_count": 18,
   "metadata": {},
   "outputs": [],
   "source": [
    "scaler = StandardScaler()\n",
    "scaler.fit(features_train)\n",
    "\n",
    "features_train_scaled = scaler.transform(features_train)\n",
    "features_test_scaled = scaler.transform(features_test)"
   ]
  },
  {
   "cell_type": "markdown",
   "metadata": {},
   "source": [
    "## Обучение моделей"
   ]
  },
  {
   "cell_type": "markdown",
   "metadata": {},
   "source": [
    "### Модель LinearRegression"
   ]
  },
  {
   "cell_type": "code",
   "execution_count": 19,
   "metadata": {},
   "outputs": [],
   "source": [
    "ts_cv = TimeSeriesSplit(n_splits = 3)"
   ]
  },
  {
   "cell_type": "code",
   "execution_count": 20,
   "metadata": {},
   "outputs": [
    {
     "name": "stdout",
     "output_type": "stream",
     "text": [
      "27.734691017809542\n"
     ]
    }
   ],
   "source": [
    "params = {'fit_intercept':[True,False],\n",
    "          'normalize':[True,False],\n",
    "          'copy_X':[True, False]\n",
    "}\n",
    "\n",
    "grid_lr = GridSearchCV(LinearRegression(), params, cv = ts_cv, n_jobs = -1, scoring = 'neg_root_mean_squared_error')\n",
    "grid_lr.fit(features_train_scaled, target_train)\n",
    "print(-grid_lr.best_score_)"
   ]
  },
  {
   "cell_type": "markdown",
   "metadata": {},
   "source": [
    "### Модель DecisionTreeRergessor"
   ]
  },
  {
   "cell_type": "code",
   "execution_count": 22,
   "metadata": {},
   "outputs": [
    {
     "name": "stdout",
     "output_type": "stream",
     "text": [
      "31.678889795651227\n"
     ]
    }
   ],
   "source": [
    "params = {\"criterion\": ['mse'],\n",
    "              \"min_samples_split\": [2, 5, 10],\n",
    "              \"max_depth\": [2, 4, 10],\n",
    "              \"min_samples_leaf\": [2, 4, 6],\n",
    "              }\n",
    "\n",
    "grid_dtr = GridSearchCV(DecisionTreeRegressor(), params, cv = ts_cv,\n",
    "                        scoring = 'neg_root_mean_squared_error', n_jobs = 1)\n",
    "grid_dtr.fit(features_train, target_train)\n",
    "\n",
    "print(-grid_dtr.best_score_)"
   ]
  },
  {
   "cell_type": "markdown",
   "metadata": {},
   "source": [
    "### Random Forest Regressor"
   ]
  },
  {
   "cell_type": "code",
   "execution_count": 23,
   "metadata": {
    "scrolled": true
   },
   "outputs": [
    {
     "name": "stdout",
     "output_type": "stream",
     "text": [
      "30.233613688001242\n"
     ]
    }
   ],
   "source": [
    "params = {\n",
    "    'n_estimators': [100, 150, 200, 250],\n",
    "    'max_depth': [1,2,3,4]\n",
    "}\n",
    "grid_rfs = GridSearchCV(RandomForestRegressor(random_state = 12345), params, cv = ts_cv,\n",
    "                                              n_jobs = -1, scoring = 'neg_root_mean_squared_error')\n",
    "grid_rfs.fit(features_train, target_train)\n",
    "\n",
    "print(-grid_rfs.best_score_)"
   ]
  },
  {
   "cell_type": "code",
   "execution_count": 24,
   "metadata": {},
   "outputs": [
    {
     "data": {
      "text/plain": [
       "{'copy_X': True, 'fit_intercept': True, 'normalize': True}"
      ]
     },
     "execution_count": 24,
     "metadata": {},
     "output_type": "execute_result"
    }
   ],
   "source": [
    "grid_lr.best_params_"
   ]
  },
  {
   "cell_type": "markdown",
   "metadata": {},
   "source": [
    "**Лучшая метрика RMSE на модели LinearRegression: RMSE = 27. Проверим эту модель на тестовой выборке**"
   ]
  },
  {
   "cell_type": "markdown",
   "metadata": {},
   "source": [
    "## Тестирование"
   ]
  },
  {
   "cell_type": "code",
   "execution_count": 25,
   "metadata": {},
   "outputs": [
    {
     "data": {
      "text/plain": [
       "44.98369119885845"
      ]
     },
     "execution_count": 25,
     "metadata": {},
     "output_type": "execute_result"
    }
   ],
   "source": [
    "mean_squared_error(grid_lr.predict(features_test_scaled), target_test)**0.5"
   ]
  },
  {
   "cell_type": "markdown",
   "metadata": {},
   "source": [
    "## Вывод по проекту\n",
    "\n",
    "* Выполнили загрузку датасета и проанализировали данные:   \n",
    "    1. В данных нет пропусков, \n",
    "    2. Тренд восходящий, но сезонности нету. В течение дня количество заказов такси максимальное ночью и в районе 17 часов вечера\n",
    "    3. В датасете присутствует 4416 значений типа *int64*\n",
    "    4. Среднее по заказам 84. Значения варьируются от 0 до 462\n",
    "* Написали функцию **make_features**, которая создает признаки в датасете, по которым модель будет обучаться\n",
    "* Разделили выборки на тренировочную и тестовую в соотношении 9:1. \n",
    "* Обучили три модели: **LinearRegression, DecisionTreeRegressor, RandomForestRegressor**\n",
    "* Лучшая метрика **RMSE** на тренировочной выборке у модели **RandomForestRegressor** (25), на тестовой –– у  модели **LinearRegression (45)**"
   ]
  }
 ],
 "metadata": {
  "ExecuteTimeLog": [
   {
    "duration": 379,
    "start_time": "2023-09-13T15:58:42.077Z"
   },
   {
    "duration": 398,
    "start_time": "2023-09-13T18:08:15.121Z"
   },
   {
    "duration": 154,
    "start_time": "2023-09-13T18:08:16.376Z"
   },
   {
    "duration": 134,
    "start_time": "2023-09-13T18:08:22.725Z"
   },
   {
    "duration": 58,
    "start_time": "2023-09-13T18:08:32.442Z"
   },
   {
    "duration": 124,
    "start_time": "2023-09-13T18:08:37.769Z"
   },
   {
    "duration": 48,
    "start_time": "2023-09-13T18:08:42.093Z"
   },
   {
    "duration": 48,
    "start_time": "2023-09-13T18:08:46.503Z"
   },
   {
    "duration": 67,
    "start_time": "2023-09-13T18:09:03.262Z"
   },
   {
    "duration": 58,
    "start_time": "2023-09-13T18:09:10.253Z"
   },
   {
    "duration": 18,
    "start_time": "2023-09-13T18:13:58.704Z"
   },
   {
    "duration": 7,
    "start_time": "2023-09-13T18:14:03.342Z"
   },
   {
    "duration": 12,
    "start_time": "2023-09-13T18:14:20.519Z"
   },
   {
    "duration": 10,
    "start_time": "2023-09-13T18:14:24.230Z"
   },
   {
    "duration": 7,
    "start_time": "2023-09-13T18:15:22.830Z"
   },
   {
    "duration": 7,
    "start_time": "2023-09-13T18:15:28.739Z"
   },
   {
    "duration": 665,
    "start_time": "2023-09-13T18:15:48.181Z"
   },
   {
    "duration": 169,
    "start_time": "2023-09-13T18:15:54.941Z"
   },
   {
    "duration": 196,
    "start_time": "2023-09-13T18:16:24.000Z"
   },
   {
    "duration": 179,
    "start_time": "2023-09-13T18:16:28.221Z"
   },
   {
    "duration": 7,
    "start_time": "2023-09-13T18:16:33.863Z"
   },
   {
    "duration": 5,
    "start_time": "2023-09-13T18:16:41.329Z"
   },
   {
    "duration": 7,
    "start_time": "2023-09-13T18:17:05.097Z"
   },
   {
    "duration": 6,
    "start_time": "2023-09-13T18:17:27.889Z"
   },
   {
    "duration": 4,
    "start_time": "2023-09-13T18:17:32.638Z"
   },
   {
    "duration": 8,
    "start_time": "2023-09-13T18:17:41.661Z"
   },
   {
    "duration": 5,
    "start_time": "2023-09-13T18:17:45.673Z"
   },
   {
    "duration": 160,
    "start_time": "2023-09-13T18:18:40.009Z"
   },
   {
    "duration": 166,
    "start_time": "2023-09-13T18:18:46.840Z"
   },
   {
    "duration": 12,
    "start_time": "2023-09-13T18:20:10.759Z"
   },
   {
    "duration": 457,
    "start_time": "2023-09-13T18:31:43.870Z"
   },
   {
    "duration": 8,
    "start_time": "2023-09-13T18:32:07.625Z"
   },
   {
    "duration": 56,
    "start_time": "2023-09-13T18:32:25.625Z"
   },
   {
    "duration": 264,
    "start_time": "2023-09-13T18:32:30.626Z"
   },
   {
    "duration": 334,
    "start_time": "2023-09-13T18:32:32.831Z"
   },
   {
    "duration": 250,
    "start_time": "2023-09-13T18:34:08.153Z"
   },
   {
    "duration": 464,
    "start_time": "2023-09-13T18:34:15.093Z"
   },
   {
    "duration": 110,
    "start_time": "2023-09-13T18:34:18.123Z"
   },
   {
    "duration": 419,
    "start_time": "2023-09-13T18:34:21.126Z"
   },
   {
    "duration": 156,
    "start_time": "2023-09-13T18:36:21.452Z"
   },
   {
    "duration": 227,
    "start_time": "2023-09-13T18:36:29.028Z"
   },
   {
    "duration": 364,
    "start_time": "2023-09-13T18:39:25.688Z"
   },
   {
    "duration": 104,
    "start_time": "2023-09-13T18:43:27.803Z"
   },
   {
    "duration": 9,
    "start_time": "2023-09-14T06:14:43.124Z"
   },
   {
    "duration": 41,
    "start_time": "2023-09-14T06:15:13.191Z"
   },
   {
    "duration": 1051,
    "start_time": "2023-09-14T06:15:21.470Z"
   },
   {
    "duration": 207,
    "start_time": "2023-09-14T06:15:22.523Z"
   },
   {
    "duration": 9,
    "start_time": "2023-09-14T06:15:22.732Z"
   },
   {
    "duration": 13,
    "start_time": "2023-09-14T06:15:22.743Z"
   },
   {
    "duration": 14,
    "start_time": "2023-09-14T06:15:22.758Z"
   },
   {
    "duration": 620,
    "start_time": "2023-09-14T06:15:22.774Z"
   },
   {
    "duration": 5,
    "start_time": "2023-09-14T06:15:23.396Z"
   },
   {
    "duration": 10,
    "start_time": "2023-09-14T06:15:23.403Z"
   },
   {
    "duration": 134,
    "start_time": "2023-09-14T06:15:23.415Z"
   },
   {
    "duration": 214,
    "start_time": "2023-09-14T06:15:23.551Z"
   },
   {
    "duration": 410,
    "start_time": "2023-09-14T06:15:23.766Z"
   },
   {
    "duration": 197,
    "start_time": "2023-09-14T06:15:24.178Z"
   },
   {
    "duration": 4,
    "start_time": "2023-09-14T06:15:24.376Z"
   },
   {
    "duration": 1574,
    "start_time": "2023-09-14T06:15:24.382Z"
   },
   {
    "duration": 3,
    "start_time": "2023-09-14T06:15:54.914Z"
   },
   {
    "duration": 47,
    "start_time": "2023-09-14T06:15:55.988Z"
   },
   {
    "duration": 5,
    "start_time": "2023-09-14T06:17:43.675Z"
   },
   {
    "duration": 6,
    "start_time": "2023-09-14T06:17:53.090Z"
   },
   {
    "duration": 6,
    "start_time": "2023-09-14T06:18:36.148Z"
   },
   {
    "duration": 5,
    "start_time": "2023-09-14T06:18:38.354Z"
   },
   {
    "duration": 31,
    "start_time": "2023-09-14T06:21:30.357Z"
   },
   {
    "duration": 28,
    "start_time": "2023-09-14T06:21:45.254Z"
   },
   {
    "duration": 22,
    "start_time": "2023-09-14T06:22:36.252Z"
   },
   {
    "duration": 3,
    "start_time": "2023-09-14T06:22:42.073Z"
   },
   {
    "duration": 15,
    "start_time": "2023-09-14T06:25:20.450Z"
   },
   {
    "duration": 4,
    "start_time": "2023-09-14T06:27:31.782Z"
   },
   {
    "duration": 151,
    "start_time": "2023-09-14T06:28:10.500Z"
   },
   {
    "duration": 2,
    "start_time": "2023-09-14T06:28:58.573Z"
   },
   {
    "duration": 1260,
    "start_time": "2023-09-14T06:29:11.300Z"
   },
   {
    "duration": 3,
    "start_time": "2023-09-14T06:35:09.207Z"
   },
   {
    "duration": 4,
    "start_time": "2023-09-14T06:36:52.834Z"
   },
   {
    "duration": 4,
    "start_time": "2023-09-14T06:39:16.461Z"
   },
   {
    "duration": 21,
    "start_time": "2023-09-14T06:39:31.831Z"
   },
   {
    "duration": 13,
    "start_time": "2023-09-14T06:39:37.824Z"
   },
   {
    "duration": 9,
    "start_time": "2023-09-14T06:39:49.813Z"
   },
   {
    "duration": 0,
    "start_time": "2023-09-14T06:40:22.278Z"
   },
   {
    "duration": 14,
    "start_time": "2023-09-14T06:40:23.823Z"
   },
   {
    "duration": 3,
    "start_time": "2023-09-14T06:40:52.003Z"
   },
   {
    "duration": 6,
    "start_time": "2023-09-14T06:40:54.447Z"
   },
   {
    "duration": 1205,
    "start_time": "2023-09-14T06:46:09.109Z"
   },
   {
    "duration": 57,
    "start_time": "2023-09-14T06:46:10.316Z"
   },
   {
    "duration": 8,
    "start_time": "2023-09-14T06:46:10.375Z"
   },
   {
    "duration": 9,
    "start_time": "2023-09-14T06:46:10.384Z"
   },
   {
    "duration": 16,
    "start_time": "2023-09-14T06:46:10.395Z"
   },
   {
    "duration": 295,
    "start_time": "2023-09-14T06:46:10.413Z"
   },
   {
    "duration": 5,
    "start_time": "2023-09-14T06:46:10.710Z"
   },
   {
    "duration": 9,
    "start_time": "2023-09-14T06:46:10.716Z"
   },
   {
    "duration": 124,
    "start_time": "2023-09-14T06:46:10.727Z"
   },
   {
    "duration": 268,
    "start_time": "2023-09-14T06:46:10.853Z"
   },
   {
    "duration": 337,
    "start_time": "2023-09-14T06:46:11.123Z"
   },
   {
    "duration": 230,
    "start_time": "2023-09-14T06:46:11.462Z"
   },
   {
    "duration": 5,
    "start_time": "2023-09-14T06:46:11.694Z"
   },
   {
    "duration": 68,
    "start_time": "2023-09-14T06:46:11.703Z"
   },
   {
    "duration": 5,
    "start_time": "2023-09-14T06:46:11.772Z"
   },
   {
    "duration": 17,
    "start_time": "2023-09-14T06:46:11.779Z"
   },
   {
    "duration": 15,
    "start_time": "2023-09-14T06:46:11.797Z"
   },
   {
    "duration": 137,
    "start_time": "2023-09-14T06:46:11.813Z"
   },
   {
    "duration": 5,
    "start_time": "2023-09-14T06:46:11.954Z"
   },
   {
    "duration": 1262,
    "start_time": "2023-09-14T06:48:54.548Z"
   },
   {
    "duration": 55,
    "start_time": "2023-09-14T06:48:55.811Z"
   },
   {
    "duration": 8,
    "start_time": "2023-09-14T06:48:55.867Z"
   },
   {
    "duration": 9,
    "start_time": "2023-09-14T06:48:55.876Z"
   },
   {
    "duration": 14,
    "start_time": "2023-09-14T06:48:55.887Z"
   },
   {
    "duration": 334,
    "start_time": "2023-09-14T06:48:55.903Z"
   },
   {
    "duration": 11,
    "start_time": "2023-09-14T06:48:56.238Z"
   },
   {
    "duration": 4,
    "start_time": "2023-09-14T06:48:56.251Z"
   },
   {
    "duration": 131,
    "start_time": "2023-09-14T06:48:56.256Z"
   },
   {
    "duration": 274,
    "start_time": "2023-09-14T06:48:56.389Z"
   },
   {
    "duration": 311,
    "start_time": "2023-09-14T06:48:56.665Z"
   },
   {
    "duration": 182,
    "start_time": "2023-09-14T06:48:56.978Z"
   },
   {
    "duration": 4,
    "start_time": "2023-09-14T06:48:57.161Z"
   },
   {
    "duration": 57,
    "start_time": "2023-09-14T06:48:57.167Z"
   },
   {
    "duration": 4,
    "start_time": "2023-09-14T06:48:57.226Z"
   },
   {
    "duration": 14,
    "start_time": "2023-09-14T06:48:57.232Z"
   },
   {
    "duration": 5,
    "start_time": "2023-09-14T06:48:57.247Z"
   },
   {
    "duration": 98,
    "start_time": "2023-09-14T06:48:57.253Z"
   },
   {
    "duration": 98,
    "start_time": "2023-09-14T06:48:57.353Z"
   },
   {
    "duration": 1593,
    "start_time": "2023-09-14T08:42:44.944Z"
   },
   {
    "duration": 146,
    "start_time": "2023-09-14T08:42:46.539Z"
   },
   {
    "duration": 12,
    "start_time": "2023-09-14T08:42:46.686Z"
   },
   {
    "duration": 22,
    "start_time": "2023-09-14T08:42:46.700Z"
   },
   {
    "duration": 27,
    "start_time": "2023-09-14T08:42:46.724Z"
   },
   {
    "duration": 552,
    "start_time": "2023-09-14T08:42:46.753Z"
   },
   {
    "duration": 7,
    "start_time": "2023-09-14T08:42:47.307Z"
   },
   {
    "duration": 24,
    "start_time": "2023-09-14T08:42:47.315Z"
   },
   {
    "duration": 153,
    "start_time": "2023-09-14T08:42:47.341Z"
   },
   {
    "duration": 339,
    "start_time": "2023-09-14T08:42:47.497Z"
   },
   {
    "duration": 407,
    "start_time": "2023-09-14T08:42:47.838Z"
   },
   {
    "duration": 245,
    "start_time": "2023-09-14T08:42:48.247Z"
   },
   {
    "duration": 4,
    "start_time": "2023-09-14T08:42:48.494Z"
   },
   {
    "duration": 63,
    "start_time": "2023-09-14T08:42:48.499Z"
   },
   {
    "duration": 6,
    "start_time": "2023-09-14T08:42:48.563Z"
   },
   {
    "duration": 15,
    "start_time": "2023-09-14T08:42:48.570Z"
   },
   {
    "duration": 24,
    "start_time": "2023-09-14T08:42:48.587Z"
   },
   {
    "duration": 135,
    "start_time": "2023-09-14T08:42:48.613Z"
   },
   {
    "duration": 97,
    "start_time": "2023-09-14T08:42:48.750Z"
   },
   {
    "duration": 1364,
    "start_time": "2023-09-14T10:03:17.070Z"
   },
   {
    "duration": 60,
    "start_time": "2023-09-14T10:03:18.437Z"
   },
   {
    "duration": 10,
    "start_time": "2023-09-14T10:03:18.499Z"
   },
   {
    "duration": 28,
    "start_time": "2023-09-14T10:03:18.512Z"
   },
   {
    "duration": 21,
    "start_time": "2023-09-14T10:03:18.542Z"
   },
   {
    "duration": 336,
    "start_time": "2023-09-14T10:03:18.566Z"
   },
   {
    "duration": 6,
    "start_time": "2023-09-14T10:03:18.904Z"
   },
   {
    "duration": 13,
    "start_time": "2023-09-14T10:03:18.912Z"
   },
   {
    "duration": 186,
    "start_time": "2023-09-14T10:03:18.927Z"
   },
   {
    "duration": 330,
    "start_time": "2023-09-14T10:03:19.116Z"
   },
   {
    "duration": 439,
    "start_time": "2023-09-14T10:03:19.447Z"
   },
   {
    "duration": 261,
    "start_time": "2023-09-14T10:03:19.887Z"
   },
   {
    "duration": 4,
    "start_time": "2023-09-14T10:03:20.150Z"
   },
   {
    "duration": 76,
    "start_time": "2023-09-14T10:03:20.155Z"
   },
   {
    "duration": 5,
    "start_time": "2023-09-14T10:03:20.233Z"
   },
   {
    "duration": 62,
    "start_time": "2023-09-14T10:03:20.239Z"
   },
   {
    "duration": 35,
    "start_time": "2023-09-14T10:03:20.303Z"
   },
   {
    "duration": 118,
    "start_time": "2023-09-14T10:03:20.339Z"
   },
   {
    "duration": 95,
    "start_time": "2023-09-14T10:03:20.460Z"
   },
   {
    "duration": 525862,
    "start_time": "2023-09-14T10:03:20.557Z"
   },
   {
    "duration": 0,
    "start_time": "2023-09-14T10:12:06.421Z"
   },
   {
    "duration": 37333,
    "start_time": "2023-09-14T10:12:22.341Z"
   },
   {
    "duration": 186512,
    "start_time": "2023-09-14T10:13:03.438Z"
   },
   {
    "duration": 52972,
    "start_time": "2023-09-14T10:16:18.112Z"
   },
   {
    "duration": 0,
    "start_time": "2023-09-14T10:17:11.087Z"
   },
   {
    "duration": 5,
    "start_time": "2023-09-14T10:17:14.088Z"
   },
   {
    "duration": 0,
    "start_time": "2023-09-14T10:36:23.865Z"
   },
   {
    "duration": 0,
    "start_time": "2023-09-14T10:36:23.867Z"
   },
   {
    "duration": 58,
    "start_time": "2023-09-14T10:36:29.212Z"
   },
   {
    "duration": 13430,
    "start_time": "2023-09-14T10:37:29.345Z"
   },
   {
    "duration": 0,
    "start_time": "2023-09-14T10:37:42.777Z"
   },
   {
    "duration": 0,
    "start_time": "2023-09-14T11:57:28.889Z"
   },
   {
    "duration": 154700,
    "start_time": "2023-09-14T11:57:31.290Z"
   },
   {
    "duration": 346829,
    "start_time": "2023-09-14T12:00:09.050Z"
   },
   {
    "duration": 11,
    "start_time": "2023-09-14T12:07:57.764Z"
   },
   {
    "duration": 18,
    "start_time": "2023-09-14T12:08:36.344Z"
   },
   {
    "duration": 37,
    "start_time": "2023-09-14T12:08:41.943Z"
   },
   {
    "duration": 28,
    "start_time": "2023-09-14T12:10:16.568Z"
   },
   {
    "duration": 25,
    "start_time": "2023-09-14T12:10:39.798Z"
   },
   {
    "duration": 14,
    "start_time": "2023-09-14T12:11:24.500Z"
   },
   {
    "duration": 11,
    "start_time": "2023-09-14T12:11:47.677Z"
   },
   {
    "duration": 24,
    "start_time": "2023-09-14T12:13:20.459Z"
   },
   {
    "duration": 11,
    "start_time": "2023-09-14T12:15:43.858Z"
   },
   {
    "duration": 4,
    "start_time": "2023-09-14T12:15:55.601Z"
   },
   {
    "duration": 11,
    "start_time": "2023-09-14T12:18:26.664Z"
   },
   {
    "duration": 14,
    "start_time": "2023-09-14T12:18:32.264Z"
   },
   {
    "duration": 1248,
    "start_time": "2023-09-14T12:19:30.357Z"
   },
   {
    "duration": 68,
    "start_time": "2023-09-14T12:19:31.607Z"
   },
   {
    "duration": 10,
    "start_time": "2023-09-14T12:19:31.677Z"
   },
   {
    "duration": 41,
    "start_time": "2023-09-14T12:19:31.688Z"
   },
   {
    "duration": 55,
    "start_time": "2023-09-14T12:19:31.732Z"
   },
   {
    "duration": 593,
    "start_time": "2023-09-14T12:19:31.788Z"
   },
   {
    "duration": 8,
    "start_time": "2023-09-14T12:19:32.383Z"
   },
   {
    "duration": 37,
    "start_time": "2023-09-14T12:19:32.393Z"
   },
   {
    "duration": 181,
    "start_time": "2023-09-14T12:19:32.432Z"
   },
   {
    "duration": 271,
    "start_time": "2023-09-14T12:19:32.615Z"
   },
   {
    "duration": 485,
    "start_time": "2023-09-14T12:19:32.888Z"
   },
   {
    "duration": 240,
    "start_time": "2023-09-14T12:19:33.375Z"
   },
   {
    "duration": 4,
    "start_time": "2023-09-14T12:19:33.617Z"
   },
   {
    "duration": 71,
    "start_time": "2023-09-14T12:19:33.625Z"
   },
   {
    "duration": 6,
    "start_time": "2023-09-14T12:19:33.698Z"
   },
   {
    "duration": 15,
    "start_time": "2023-09-14T12:19:33.706Z"
   },
   {
    "duration": 8,
    "start_time": "2023-09-14T12:19:33.723Z"
   },
   {
    "duration": 325,
    "start_time": "2023-09-14T12:19:33.733Z"
   },
   {
    "duration": 5,
    "start_time": "2023-09-14T12:19:34.060Z"
   },
   {
    "duration": 82,
    "start_time": "2023-09-14T12:19:34.068Z"
   },
   {
    "duration": 212,
    "start_time": "2023-09-14T12:19:34.155Z"
   },
   {
    "duration": 0,
    "start_time": "2023-09-14T12:19:34.369Z"
   },
   {
    "duration": 0,
    "start_time": "2023-09-14T12:19:34.370Z"
   },
   {
    "duration": 0,
    "start_time": "2023-09-14T12:19:34.371Z"
   },
   {
    "duration": 0,
    "start_time": "2023-09-14T12:19:34.373Z"
   },
   {
    "duration": 15,
    "start_time": "2023-09-14T12:19:59.175Z"
   },
   {
    "duration": 3200,
    "start_time": "2023-09-14T12:20:25.391Z"
   },
   {
    "duration": 4486,
    "start_time": "2023-09-14T12:20:43.808Z"
   },
   {
    "duration": 4508,
    "start_time": "2023-09-14T12:21:37.217Z"
   },
   {
    "duration": 6497,
    "start_time": "2023-09-14T12:22:07.895Z"
   },
   {
    "duration": 4346,
    "start_time": "2023-09-14T12:22:25.128Z"
   },
   {
    "duration": 4339,
    "start_time": "2023-09-14T12:22:42.445Z"
   },
   {
    "duration": 133779,
    "start_time": "2023-09-14T12:23:22.314Z"
   },
   {
    "duration": 0,
    "start_time": "2023-09-14T12:26:00.104Z"
   },
   {
    "duration": 133725,
    "start_time": "2023-09-14T12:26:05.347Z"
   },
   {
    "duration": 17,
    "start_time": "2023-09-14T12:29:51.443Z"
   },
   {
    "duration": 4372,
    "start_time": "2023-09-14T12:33:13.741Z"
   },
   {
    "duration": 17,
    "start_time": "2023-09-14T12:34:59.924Z"
   },
   {
    "duration": 4312,
    "start_time": "2023-09-14T12:36:12.663Z"
   },
   {
    "duration": 35,
    "start_time": "2023-09-14T12:36:30.662Z"
   },
   {
    "duration": 15,
    "start_time": "2023-09-14T12:43:50.053Z"
   },
   {
    "duration": 13,
    "start_time": "2023-09-14T12:44:07.291Z"
   },
   {
    "duration": 11,
    "start_time": "2023-09-14T12:44:17.114Z"
   },
   {
    "duration": 2019,
    "start_time": "2023-09-14T12:44:34.358Z"
   },
   {
    "duration": 56,
    "start_time": "2023-09-14T12:47:57.177Z"
   },
   {
    "duration": 4,
    "start_time": "2023-09-14T12:48:13.814Z"
   },
   {
    "duration": 0,
    "start_time": "2023-09-14T13:03:45.866Z"
   },
   {
    "duration": 110,
    "start_time": "2023-09-14T13:03:47.319Z"
   },
   {
    "duration": 14,
    "start_time": "2023-09-14T13:03:55.827Z"
   },
   {
    "duration": 2600,
    "start_time": "2023-09-14T17:37:03.565Z"
   },
   {
    "duration": 125,
    "start_time": "2023-09-14T17:37:06.167Z"
   },
   {
    "duration": 11,
    "start_time": "2023-09-14T17:37:06.294Z"
   },
   {
    "duration": 11,
    "start_time": "2023-09-14T17:37:06.307Z"
   },
   {
    "duration": 11,
    "start_time": "2023-09-14T17:37:06.321Z"
   },
   {
    "duration": 284,
    "start_time": "2023-09-14T17:37:06.333Z"
   },
   {
    "duration": 5,
    "start_time": "2023-09-14T17:37:06.619Z"
   },
   {
    "duration": 131,
    "start_time": "2023-09-14T17:37:06.625Z"
   },
   {
    "duration": 274,
    "start_time": "2023-09-14T17:37:06.758Z"
   },
   {
    "duration": 319,
    "start_time": "2023-09-14T17:37:07.033Z"
   },
   {
    "duration": 195,
    "start_time": "2023-09-14T17:37:07.354Z"
   },
   {
    "duration": 5,
    "start_time": "2023-09-14T17:37:07.551Z"
   },
   {
    "duration": 48,
    "start_time": "2023-09-14T17:37:07.557Z"
   },
   {
    "duration": 5,
    "start_time": "2023-09-14T17:37:07.608Z"
   },
   {
    "duration": 7,
    "start_time": "2023-09-14T17:37:07.615Z"
   },
   {
    "duration": 27,
    "start_time": "2023-09-14T17:37:07.623Z"
   },
   {
    "duration": 104,
    "start_time": "2023-09-14T17:37:07.652Z"
   },
   {
    "duration": 97,
    "start_time": "2023-09-14T17:37:07.759Z"
   },
   {
    "duration": 4,
    "start_time": "2023-09-14T17:37:07.860Z"
   },
   {
    "duration": 16,
    "start_time": "2023-09-14T17:37:07.949Z"
   },
   {
    "duration": 3500,
    "start_time": "2023-09-14T17:37:07.967Z"
   },
   {
    "duration": 109568,
    "start_time": "2023-09-14T17:37:11.468Z"
   },
   {
    "duration": 4,
    "start_time": "2023-09-14T17:39:01.038Z"
   },
   {
    "duration": 3573,
    "start_time": "2023-09-14T17:39:01.044Z"
   },
   {
    "duration": 45,
    "start_time": "2023-09-14T17:39:04.618Z"
   },
   {
    "duration": 106,
    "start_time": "2023-09-14T17:39:04.750Z"
   },
   {
    "duration": 133,
    "start_time": "2023-09-14T19:36:30.813Z"
   },
   {
    "duration": 1391,
    "start_time": "2023-09-15T05:27:49.399Z"
   },
   {
    "duration": 131,
    "start_time": "2023-09-15T05:28:01.340Z"
   },
   {
    "duration": 9,
    "start_time": "2023-09-15T05:28:04.459Z"
   },
   {
    "duration": 11,
    "start_time": "2023-09-15T05:28:06.951Z"
   },
   {
    "duration": 12,
    "start_time": "2023-09-15T05:28:08.122Z"
   },
   {
    "duration": 519,
    "start_time": "2023-09-15T05:28:08.934Z"
   },
   {
    "duration": 7,
    "start_time": "2023-09-15T05:28:10.898Z"
   },
   {
    "duration": 211,
    "start_time": "2023-09-15T05:28:11.535Z"
   },
   {
    "duration": 227,
    "start_time": "2023-09-15T05:28:13.037Z"
   },
   {
    "duration": 381,
    "start_time": "2023-09-15T05:28:14.229Z"
   },
   {
    "duration": 2003,
    "start_time": "2023-09-15T05:29:56.443Z"
   },
   {
    "duration": 4,
    "start_time": "2023-09-15T05:33:19.643Z"
   },
   {
    "duration": 53,
    "start_time": "2023-09-15T05:33:41.521Z"
   },
   {
    "duration": 132,
    "start_time": "2023-09-15T05:35:18.887Z"
   },
   {
    "duration": 3209,
    "start_time": "2023-09-15T05:35:26.185Z"
   },
   {
    "duration": 60,
    "start_time": "2023-09-15T05:35:36.139Z"
   },
   {
    "duration": 101,
    "start_time": "2023-09-15T05:37:59.317Z"
   },
   {
    "duration": 99,
    "start_time": "2023-09-15T05:38:33.324Z"
   },
   {
    "duration": 13,
    "start_time": "2023-09-15T05:38:37.517Z"
   },
   {
    "duration": 12,
    "start_time": "2023-09-15T05:38:45.874Z"
   },
   {
    "duration": 11,
    "start_time": "2023-09-15T05:38:52.272Z"
   },
   {
    "duration": 10,
    "start_time": "2023-09-15T05:38:56.592Z"
   },
   {
    "duration": 25,
    "start_time": "2023-09-15T05:39:05.283Z"
   },
   {
    "duration": 10,
    "start_time": "2023-09-15T05:39:09.409Z"
   },
   {
    "duration": 3,
    "start_time": "2023-09-15T05:40:24.991Z"
   },
   {
    "duration": 4,
    "start_time": "2023-09-15T05:40:27.693Z"
   },
   {
    "duration": 115,
    "start_time": "2023-09-15T05:48:40.648Z"
   },
   {
    "duration": 4,
    "start_time": "2023-09-15T05:50:58.360Z"
   },
   {
    "duration": 3,
    "start_time": "2023-09-15T05:51:28.994Z"
   },
   {
    "duration": 5,
    "start_time": "2023-09-15T05:51:40.043Z"
   },
   {
    "duration": 6,
    "start_time": "2023-09-15T05:51:55.387Z"
   },
   {
    "duration": 5,
    "start_time": "2023-09-15T05:52:02.693Z"
   },
   {
    "duration": 3,
    "start_time": "2023-09-15T05:52:13.410Z"
   },
   {
    "duration": 3,
    "start_time": "2023-09-15T05:52:32.141Z"
   },
   {
    "duration": 10,
    "start_time": "2023-09-15T05:52:40.814Z"
   },
   {
    "duration": 11,
    "start_time": "2023-09-15T05:52:53.231Z"
   },
   {
    "duration": 35,
    "start_time": "2023-09-15T05:52:59.294Z"
   },
   {
    "duration": 35,
    "start_time": "2023-09-15T05:53:15.449Z"
   },
   {
    "duration": 1700,
    "start_time": "2023-09-15T05:54:36.119Z"
   },
   {
    "duration": 74,
    "start_time": "2023-09-15T05:54:37.821Z"
   },
   {
    "duration": 12,
    "start_time": "2023-09-15T05:54:37.898Z"
   },
   {
    "duration": 39,
    "start_time": "2023-09-15T05:54:37.913Z"
   },
   {
    "duration": 48,
    "start_time": "2023-09-15T05:54:37.953Z"
   },
   {
    "duration": 245,
    "start_time": "2023-09-15T05:54:38.003Z"
   },
   {
    "duration": 6,
    "start_time": "2023-09-15T05:54:38.250Z"
   },
   {
    "duration": 243,
    "start_time": "2023-09-15T05:54:38.259Z"
   },
   {
    "duration": 269,
    "start_time": "2023-09-15T05:54:38.504Z"
   },
   {
    "duration": 408,
    "start_time": "2023-09-15T05:54:38.777Z"
   },
   {
    "duration": 227,
    "start_time": "2023-09-15T05:54:39.187Z"
   },
   {
    "duration": 2445,
    "start_time": "2023-09-15T05:54:39.416Z"
   },
   {
    "duration": 6,
    "start_time": "2023-09-15T05:54:41.948Z"
   },
   {
    "duration": 174,
    "start_time": "2023-09-15T05:54:41.956Z"
   },
   {
    "duration": 18,
    "start_time": "2023-09-15T05:54:42.132Z"
   },
   {
    "duration": 7,
    "start_time": "2023-09-15T05:54:42.152Z"
   },
   {
    "duration": 20,
    "start_time": "2023-09-15T05:54:42.163Z"
   },
   {
    "duration": 15,
    "start_time": "2023-09-15T05:54:42.185Z"
   },
   {
    "duration": 18,
    "start_time": "2023-09-15T05:54:42.201Z"
   },
   {
    "duration": 6,
    "start_time": "2023-09-15T05:54:42.221Z"
   },
   {
    "duration": 29,
    "start_time": "2023-09-15T05:54:42.229Z"
   },
   {
    "duration": 155,
    "start_time": "2023-09-15T05:54:42.260Z"
   },
   {
    "duration": 0,
    "start_time": "2023-09-15T05:54:42.417Z"
   },
   {
    "duration": 0,
    "start_time": "2023-09-15T05:54:42.418Z"
   },
   {
    "duration": 0,
    "start_time": "2023-09-15T05:54:42.419Z"
   },
   {
    "duration": 0,
    "start_time": "2023-09-15T05:54:42.420Z"
   },
   {
    "duration": 0,
    "start_time": "2023-09-15T05:54:42.421Z"
   },
   {
    "duration": 0,
    "start_time": "2023-09-15T05:54:42.422Z"
   },
   {
    "duration": 0,
    "start_time": "2023-09-15T05:54:42.423Z"
   },
   {
    "duration": 1,
    "start_time": "2023-09-15T05:54:42.423Z"
   },
   {
    "duration": 0,
    "start_time": "2023-09-15T05:54:42.425Z"
   },
   {
    "duration": 22,
    "start_time": "2023-09-15T05:54:54.599Z"
   },
   {
    "duration": 1550,
    "start_time": "2023-09-15T05:55:09.306Z"
   },
   {
    "duration": 57,
    "start_time": "2023-09-15T05:55:10.858Z"
   },
   {
    "duration": 9,
    "start_time": "2023-09-15T05:55:10.917Z"
   },
   {
    "duration": 23,
    "start_time": "2023-09-15T05:55:10.928Z"
   },
   {
    "duration": 15,
    "start_time": "2023-09-15T05:55:10.953Z"
   },
   {
    "duration": 197,
    "start_time": "2023-09-15T05:55:10.970Z"
   },
   {
    "duration": 6,
    "start_time": "2023-09-15T05:55:11.169Z"
   },
   {
    "duration": 246,
    "start_time": "2023-09-15T05:55:11.177Z"
   },
   {
    "duration": 256,
    "start_time": "2023-09-15T05:55:11.425Z"
   },
   {
    "duration": 414,
    "start_time": "2023-09-15T05:55:11.684Z"
   },
   {
    "duration": 236,
    "start_time": "2023-09-15T05:55:12.100Z"
   },
   {
    "duration": 1814,
    "start_time": "2023-09-15T05:55:12.338Z"
   },
   {
    "duration": 94,
    "start_time": "2023-09-15T05:55:14.154Z"
   },
   {
    "duration": 171,
    "start_time": "2023-09-15T05:55:14.251Z"
   },
   {
    "duration": 10,
    "start_time": "2023-09-15T05:55:14.424Z"
   },
   {
    "duration": 3,
    "start_time": "2023-09-15T05:55:14.436Z"
   },
   {
    "duration": 16,
    "start_time": "2023-09-15T05:55:14.441Z"
   },
   {
    "duration": 14,
    "start_time": "2023-09-15T05:55:14.459Z"
   },
   {
    "duration": 14,
    "start_time": "2023-09-15T05:55:14.475Z"
   },
   {
    "duration": 24,
    "start_time": "2023-09-15T05:55:14.491Z"
   },
   {
    "duration": 56,
    "start_time": "2023-09-15T05:55:14.516Z"
   },
   {
    "duration": 157,
    "start_time": "2023-09-15T05:55:14.574Z"
   },
   {
    "duration": 0,
    "start_time": "2023-09-15T05:55:14.733Z"
   },
   {
    "duration": 0,
    "start_time": "2023-09-15T05:55:14.735Z"
   },
   {
    "duration": 0,
    "start_time": "2023-09-15T05:55:14.736Z"
   },
   {
    "duration": 0,
    "start_time": "2023-09-15T05:55:14.747Z"
   },
   {
    "duration": 0,
    "start_time": "2023-09-15T05:55:14.748Z"
   },
   {
    "duration": 0,
    "start_time": "2023-09-15T05:55:14.750Z"
   },
   {
    "duration": 0,
    "start_time": "2023-09-15T05:55:14.751Z"
   },
   {
    "duration": 0,
    "start_time": "2023-09-15T05:55:14.753Z"
   },
   {
    "duration": 0,
    "start_time": "2023-09-15T05:55:14.755Z"
   },
   {
    "duration": 5,
    "start_time": "2023-09-15T05:55:55.370Z"
   },
   {
    "duration": 7,
    "start_time": "2023-09-15T05:56:02.094Z"
   },
   {
    "duration": 21,
    "start_time": "2023-09-15T05:56:06.630Z"
   },
   {
    "duration": 6,
    "start_time": "2023-09-15T05:56:19.205Z"
   },
   {
    "duration": 1744,
    "start_time": "2023-09-15T06:02:17.548Z"
   },
   {
    "duration": 59,
    "start_time": "2023-09-15T06:02:19.294Z"
   },
   {
    "duration": 9,
    "start_time": "2023-09-15T06:02:19.355Z"
   },
   {
    "duration": 23,
    "start_time": "2023-09-15T06:02:19.366Z"
   },
   {
    "duration": 19,
    "start_time": "2023-09-15T06:02:19.391Z"
   },
   {
    "duration": 211,
    "start_time": "2023-09-15T06:02:19.411Z"
   },
   {
    "duration": 6,
    "start_time": "2023-09-15T06:02:19.624Z"
   },
   {
    "duration": 219,
    "start_time": "2023-09-15T06:02:19.646Z"
   },
   {
    "duration": 251,
    "start_time": "2023-09-15T06:02:19.868Z"
   },
   {
    "duration": 415,
    "start_time": "2023-09-15T06:02:20.122Z"
   },
   {
    "duration": 228,
    "start_time": "2023-09-15T06:02:20.539Z"
   },
   {
    "duration": 2282,
    "start_time": "2023-09-15T06:02:20.769Z"
   },
   {
    "duration": 93,
    "start_time": "2023-09-15T06:02:23.054Z"
   },
   {
    "duration": 151,
    "start_time": "2023-09-15T06:02:23.150Z"
   },
   {
    "duration": 10,
    "start_time": "2023-09-15T06:02:23.303Z"
   },
   {
    "duration": 37,
    "start_time": "2023-09-15T06:02:23.315Z"
   },
   {
    "duration": 76,
    "start_time": "2023-09-15T06:02:23.354Z"
   },
   {
    "duration": 36,
    "start_time": "2023-09-15T06:02:23.431Z"
   },
   {
    "duration": 44,
    "start_time": "2023-09-15T06:02:23.468Z"
   },
   {
    "duration": 69,
    "start_time": "2023-09-15T06:02:23.514Z"
   },
   {
    "duration": 174,
    "start_time": "2023-09-15T06:02:23.585Z"
   },
   {
    "duration": 0,
    "start_time": "2023-09-15T06:02:23.761Z"
   },
   {
    "duration": 0,
    "start_time": "2023-09-15T06:02:23.763Z"
   },
   {
    "duration": 0,
    "start_time": "2023-09-15T06:02:23.764Z"
   },
   {
    "duration": 0,
    "start_time": "2023-09-15T06:02:23.765Z"
   },
   {
    "duration": 0,
    "start_time": "2023-09-15T06:02:23.766Z"
   },
   {
    "duration": 0,
    "start_time": "2023-09-15T06:02:23.767Z"
   },
   {
    "duration": 0,
    "start_time": "2023-09-15T06:02:23.768Z"
   },
   {
    "duration": 0,
    "start_time": "2023-09-15T06:02:23.769Z"
   },
   {
    "duration": 0,
    "start_time": "2023-09-15T06:02:23.770Z"
   },
   {
    "duration": 0,
    "start_time": "2023-09-15T06:02:23.771Z"
   },
   {
    "duration": 0,
    "start_time": "2023-09-15T06:02:23.772Z"
   },
   {
    "duration": 38,
    "start_time": "2023-09-15T06:02:41.559Z"
   },
   {
    "duration": 45,
    "start_time": "2023-09-15T06:03:19.133Z"
   },
   {
    "duration": 50,
    "start_time": "2023-09-15T06:03:43.682Z"
   },
   {
    "duration": 77,
    "start_time": "2023-09-15T06:05:26.111Z"
   },
   {
    "duration": 14,
    "start_time": "2023-09-15T06:05:49.858Z"
   },
   {
    "duration": 6,
    "start_time": "2023-09-15T06:05:53.768Z"
   },
   {
    "duration": 74,
    "start_time": "2023-09-15T06:06:23.786Z"
   },
   {
    "duration": 72,
    "start_time": "2023-09-15T06:06:39.761Z"
   },
   {
    "duration": 53,
    "start_time": "2023-09-15T06:06:55.989Z"
   },
   {
    "duration": 49,
    "start_time": "2023-09-15T06:07:05.821Z"
   },
   {
    "duration": 57,
    "start_time": "2023-09-15T06:07:37.414Z"
   },
   {
    "duration": 81,
    "start_time": "2023-09-15T06:07:46.665Z"
   },
   {
    "duration": 58,
    "start_time": "2023-09-15T06:08:03.349Z"
   },
   {
    "duration": 18,
    "start_time": "2023-09-15T06:08:33.817Z"
   },
   {
    "duration": 8,
    "start_time": "2023-09-15T06:08:51.277Z"
   },
   {
    "duration": 53,
    "start_time": "2023-09-15T06:09:31.838Z"
   },
   {
    "duration": 54,
    "start_time": "2023-09-15T06:09:44.716Z"
   },
   {
    "duration": 31,
    "start_time": "2023-09-15T06:10:00.434Z"
   },
   {
    "duration": 55,
    "start_time": "2023-09-15T06:10:05.835Z"
   },
   {
    "duration": 59,
    "start_time": "2023-09-15T06:11:08.365Z"
   },
   {
    "duration": 63,
    "start_time": "2023-09-15T06:11:14.416Z"
   },
   {
    "duration": 58,
    "start_time": "2023-09-15T06:11:24.803Z"
   },
   {
    "duration": 70,
    "start_time": "2023-09-15T06:11:33.930Z"
   },
   {
    "duration": 78,
    "start_time": "2023-09-15T06:12:10.976Z"
   },
   {
    "duration": 84,
    "start_time": "2023-09-15T06:12:26.496Z"
   },
   {
    "duration": 73,
    "start_time": "2023-09-15T06:13:46.485Z"
   },
   {
    "duration": 50,
    "start_time": "2023-09-15T06:17:32.808Z"
   },
   {
    "duration": 48,
    "start_time": "2023-09-15T06:17:42.720Z"
   },
   {
    "duration": 1681,
    "start_time": "2023-09-15T06:22:29.865Z"
   },
   {
    "duration": 59,
    "start_time": "2023-09-15T06:22:31.549Z"
   },
   {
    "duration": 9,
    "start_time": "2023-09-15T06:22:31.609Z"
   },
   {
    "duration": 35,
    "start_time": "2023-09-15T06:22:31.620Z"
   },
   {
    "duration": 37,
    "start_time": "2023-09-15T06:22:31.658Z"
   },
   {
    "duration": 283,
    "start_time": "2023-09-15T06:22:31.697Z"
   },
   {
    "duration": 7,
    "start_time": "2023-09-15T06:22:31.981Z"
   },
   {
    "duration": 281,
    "start_time": "2023-09-15T06:22:31.989Z"
   },
   {
    "duration": 266,
    "start_time": "2023-09-15T06:22:32.272Z"
   },
   {
    "duration": 392,
    "start_time": "2023-09-15T06:22:32.541Z"
   },
   {
    "duration": 232,
    "start_time": "2023-09-15T06:22:32.935Z"
   },
   {
    "duration": 2078,
    "start_time": "2023-09-15T06:22:33.169Z"
   },
   {
    "duration": 6,
    "start_time": "2023-09-15T06:22:35.250Z"
   },
   {
    "duration": 184,
    "start_time": "2023-09-15T06:22:35.260Z"
   },
   {
    "duration": 12,
    "start_time": "2023-09-15T06:22:35.446Z"
   },
   {
    "duration": 28,
    "start_time": "2023-09-15T06:22:35.460Z"
   },
   {
    "duration": 32,
    "start_time": "2023-09-15T06:22:35.491Z"
   },
   {
    "duration": 9,
    "start_time": "2023-09-15T06:22:35.526Z"
   },
   {
    "duration": 7,
    "start_time": "2023-09-15T06:22:35.537Z"
   },
   {
    "duration": 7,
    "start_time": "2023-09-15T06:22:35.546Z"
   },
   {
    "duration": 72,
    "start_time": "2023-09-15T06:22:35.555Z"
   },
   {
    "duration": 149,
    "start_time": "2023-09-15T06:22:35.629Z"
   },
   {
    "duration": 0,
    "start_time": "2023-09-15T06:22:35.779Z"
   },
   {
    "duration": 0,
    "start_time": "2023-09-15T06:22:35.780Z"
   },
   {
    "duration": 0,
    "start_time": "2023-09-15T06:22:35.781Z"
   },
   {
    "duration": 0,
    "start_time": "2023-09-15T06:22:35.783Z"
   },
   {
    "duration": 0,
    "start_time": "2023-09-15T06:22:35.784Z"
   },
   {
    "duration": 0,
    "start_time": "2023-09-15T06:22:35.786Z"
   },
   {
    "duration": 0,
    "start_time": "2023-09-15T06:22:35.787Z"
   },
   {
    "duration": 0,
    "start_time": "2023-09-15T06:22:35.788Z"
   },
   {
    "duration": 0,
    "start_time": "2023-09-15T06:22:35.789Z"
   },
   {
    "duration": 11,
    "start_time": "2023-09-15T06:22:53.508Z"
   },
   {
    "duration": 19,
    "start_time": "2023-09-15T06:23:00.417Z"
   },
   {
    "duration": 1741,
    "start_time": "2023-09-15T06:30:36.677Z"
   },
   {
    "duration": 65,
    "start_time": "2023-09-15T06:30:38.420Z"
   },
   {
    "duration": 9,
    "start_time": "2023-09-15T06:30:38.486Z"
   },
   {
    "duration": 25,
    "start_time": "2023-09-15T06:30:38.497Z"
   },
   {
    "duration": 18,
    "start_time": "2023-09-15T06:30:38.524Z"
   },
   {
    "duration": 228,
    "start_time": "2023-09-15T06:30:38.544Z"
   },
   {
    "duration": 7,
    "start_time": "2023-09-15T06:30:38.774Z"
   },
   {
    "duration": 269,
    "start_time": "2023-09-15T06:30:38.783Z"
   },
   {
    "duration": 281,
    "start_time": "2023-09-15T06:30:39.054Z"
   },
   {
    "duration": 464,
    "start_time": "2023-09-15T06:30:39.346Z"
   },
   {
    "duration": 261,
    "start_time": "2023-09-15T06:30:39.812Z"
   },
   {
    "duration": 2389,
    "start_time": "2023-09-15T06:30:40.076Z"
   },
   {
    "duration": 13,
    "start_time": "2023-09-15T06:30:42.548Z"
   },
   {
    "duration": 132,
    "start_time": "2023-09-15T06:30:42.576Z"
   },
   {
    "duration": 15,
    "start_time": "2023-09-15T06:30:42.710Z"
   },
   {
    "duration": 32,
    "start_time": "2023-09-15T06:30:42.730Z"
   },
   {
    "duration": 47,
    "start_time": "2023-09-15T06:30:42.764Z"
   },
   {
    "duration": 51,
    "start_time": "2023-09-15T06:30:42.813Z"
   },
   {
    "duration": 21,
    "start_time": "2023-09-15T06:30:42.866Z"
   },
   {
    "duration": 32,
    "start_time": "2023-09-15T06:30:42.889Z"
   },
   {
    "duration": 20,
    "start_time": "2023-09-15T06:30:42.922Z"
   },
   {
    "duration": 173,
    "start_time": "2023-09-15T06:30:42.944Z"
   },
   {
    "duration": 0,
    "start_time": "2023-09-15T06:30:43.119Z"
   },
   {
    "duration": 0,
    "start_time": "2023-09-15T06:30:43.121Z"
   },
   {
    "duration": 0,
    "start_time": "2023-09-15T06:30:43.122Z"
   },
   {
    "duration": 0,
    "start_time": "2023-09-15T06:30:43.123Z"
   },
   {
    "duration": 0,
    "start_time": "2023-09-15T06:30:43.124Z"
   },
   {
    "duration": 0,
    "start_time": "2023-09-15T06:30:43.125Z"
   },
   {
    "duration": 0,
    "start_time": "2023-09-15T06:30:43.126Z"
   },
   {
    "duration": 0,
    "start_time": "2023-09-15T06:30:43.127Z"
   },
   {
    "duration": 0,
    "start_time": "2023-09-15T06:30:43.128Z"
   },
   {
    "duration": 26,
    "start_time": "2023-09-15T06:30:48.334Z"
   },
   {
    "duration": 40,
    "start_time": "2023-09-15T06:31:31.434Z"
   },
   {
    "duration": 9,
    "start_time": "2023-09-15T06:31:37.282Z"
   },
   {
    "duration": 39,
    "start_time": "2023-09-15T06:32:03.573Z"
   },
   {
    "duration": 26,
    "start_time": "2023-09-15T06:32:08.683Z"
   },
   {
    "duration": 8,
    "start_time": "2023-09-15T06:32:21.489Z"
   },
   {
    "duration": 12,
    "start_time": "2023-09-15T06:33:44.648Z"
   },
   {
    "duration": 1625,
    "start_time": "2023-09-15T06:33:52.368Z"
   },
   {
    "duration": 57,
    "start_time": "2023-09-15T06:33:53.995Z"
   },
   {
    "duration": 9,
    "start_time": "2023-09-15T06:33:54.054Z"
   },
   {
    "duration": 46,
    "start_time": "2023-09-15T06:33:54.065Z"
   },
   {
    "duration": 38,
    "start_time": "2023-09-15T06:33:54.113Z"
   },
   {
    "duration": 196,
    "start_time": "2023-09-15T06:33:54.153Z"
   },
   {
    "duration": 7,
    "start_time": "2023-09-15T06:33:54.351Z"
   },
   {
    "duration": 238,
    "start_time": "2023-09-15T06:33:54.360Z"
   },
   {
    "duration": 241,
    "start_time": "2023-09-15T06:33:54.600Z"
   },
   {
    "duration": 402,
    "start_time": "2023-09-15T06:33:54.844Z"
   },
   {
    "duration": 285,
    "start_time": "2023-09-15T06:33:55.248Z"
   },
   {
    "duration": 2523,
    "start_time": "2023-09-15T06:33:55.535Z"
   },
   {
    "duration": 92,
    "start_time": "2023-09-15T06:33:58.061Z"
   },
   {
    "duration": 166,
    "start_time": "2023-09-15T06:33:58.157Z"
   },
   {
    "duration": 9,
    "start_time": "2023-09-15T06:33:58.326Z"
   },
   {
    "duration": 29,
    "start_time": "2023-09-15T06:33:58.337Z"
   },
   {
    "duration": 30,
    "start_time": "2023-09-15T06:33:58.369Z"
   },
   {
    "duration": 64,
    "start_time": "2023-09-15T06:33:58.401Z"
   },
   {
    "duration": 28,
    "start_time": "2023-09-15T06:33:58.468Z"
   },
   {
    "duration": 28,
    "start_time": "2023-09-15T06:33:58.498Z"
   },
   {
    "duration": 44,
    "start_time": "2023-09-15T06:33:58.528Z"
   },
   {
    "duration": 31,
    "start_time": "2023-09-15T06:33:58.575Z"
   },
   {
    "duration": 71,
    "start_time": "2023-09-15T06:33:58.609Z"
   },
   {
    "duration": 7,
    "start_time": "2023-09-15T06:33:58.682Z"
   },
   {
    "duration": 260,
    "start_time": "2023-09-15T06:33:58.691Z"
   },
   {
    "duration": 5,
    "start_time": "2023-09-15T06:33:58.953Z"
   },
   {
    "duration": 11,
    "start_time": "2023-09-15T06:33:58.960Z"
   },
   {
    "duration": 73,
    "start_time": "2023-09-15T06:33:58.976Z"
   },
   {
    "duration": 4488,
    "start_time": "2023-09-15T06:33:59.053Z"
   },
   {
    "duration": 133913,
    "start_time": "2023-09-15T06:34:03.546Z"
   },
   {
    "duration": 5,
    "start_time": "2023-09-15T06:36:17.461Z"
   },
   {
    "duration": 4192,
    "start_time": "2023-09-15T06:36:17.468Z"
   },
   {
    "duration": 189,
    "start_time": "2023-09-15T06:36:21.662Z"
   },
   {
    "duration": 121,
    "start_time": "2023-09-15T06:36:21.853Z"
   },
   {
    "duration": 12,
    "start_time": "2023-09-15T06:36:22.046Z"
   },
   {
    "duration": 1668,
    "start_time": "2023-09-15T06:36:31.290Z"
   },
   {
    "duration": 58,
    "start_time": "2023-09-15T06:36:32.960Z"
   },
   {
    "duration": 10,
    "start_time": "2023-09-15T06:36:33.020Z"
   },
   {
    "duration": 20,
    "start_time": "2023-09-15T06:36:33.032Z"
   },
   {
    "duration": 19,
    "start_time": "2023-09-15T06:36:33.053Z"
   },
   {
    "duration": 195,
    "start_time": "2023-09-15T06:36:33.074Z"
   },
   {
    "duration": 6,
    "start_time": "2023-09-15T06:36:33.270Z"
   },
   {
    "duration": 224,
    "start_time": "2023-09-15T06:36:33.278Z"
   },
   {
    "duration": 255,
    "start_time": "2023-09-15T06:36:33.504Z"
   },
   {
    "duration": 404,
    "start_time": "2023-09-15T06:36:33.762Z"
   },
   {
    "duration": 258,
    "start_time": "2023-09-15T06:36:34.168Z"
   },
   {
    "duration": 1620,
    "start_time": "2023-09-15T06:36:34.428Z"
   },
   {
    "duration": 5,
    "start_time": "2023-09-15T06:36:36.050Z"
   },
   {
    "duration": 141,
    "start_time": "2023-09-15T06:36:36.058Z"
   },
   {
    "duration": 11,
    "start_time": "2023-09-15T06:36:36.200Z"
   },
   {
    "duration": 18,
    "start_time": "2023-09-15T06:36:36.212Z"
   },
   {
    "duration": 16,
    "start_time": "2023-09-15T06:36:36.232Z"
   },
   {
    "duration": 11,
    "start_time": "2023-09-15T06:36:36.250Z"
   },
   {
    "duration": 15,
    "start_time": "2023-09-15T06:36:36.263Z"
   },
   {
    "duration": 6,
    "start_time": "2023-09-15T06:36:36.280Z"
   },
   {
    "duration": 20,
    "start_time": "2023-09-15T06:36:36.288Z"
   },
   {
    "duration": 24,
    "start_time": "2023-09-15T06:36:36.310Z"
   },
   {
    "duration": 57,
    "start_time": "2023-09-15T06:36:36.336Z"
   },
   {
    "duration": 5,
    "start_time": "2023-09-15T06:36:36.394Z"
   },
   {
    "duration": 172,
    "start_time": "2023-09-15T06:36:36.401Z"
   },
   {
    "duration": 0,
    "start_time": "2023-09-15T06:36:36.575Z"
   },
   {
    "duration": 0,
    "start_time": "2023-09-15T06:36:36.576Z"
   },
   {
    "duration": 0,
    "start_time": "2023-09-15T06:36:36.577Z"
   },
   {
    "duration": 0,
    "start_time": "2023-09-15T06:36:36.579Z"
   },
   {
    "duration": 0,
    "start_time": "2023-09-15T06:36:36.580Z"
   },
   {
    "duration": 0,
    "start_time": "2023-09-15T06:36:36.581Z"
   },
   {
    "duration": 0,
    "start_time": "2023-09-15T06:36:36.582Z"
   },
   {
    "duration": 0,
    "start_time": "2023-09-15T06:36:36.583Z"
   },
   {
    "duration": 0,
    "start_time": "2023-09-15T06:36:36.585Z"
   },
   {
    "duration": 16,
    "start_time": "2023-09-15T06:38:55.764Z"
   },
   {
    "duration": 7,
    "start_time": "2023-09-15T06:39:04.286Z"
   },
   {
    "duration": 18,
    "start_time": "2023-09-15T06:39:07.521Z"
   },
   {
    "duration": 1734,
    "start_time": "2023-09-15T06:40:07.740Z"
   },
   {
    "duration": 58,
    "start_time": "2023-09-15T06:40:09.476Z"
   },
   {
    "duration": 10,
    "start_time": "2023-09-15T06:40:09.537Z"
   },
   {
    "duration": 34,
    "start_time": "2023-09-15T06:40:09.549Z"
   },
   {
    "duration": 35,
    "start_time": "2023-09-15T06:40:09.585Z"
   },
   {
    "duration": 231,
    "start_time": "2023-09-15T06:40:09.622Z"
   },
   {
    "duration": 9,
    "start_time": "2023-09-15T06:40:09.856Z"
   },
   {
    "duration": 254,
    "start_time": "2023-09-15T06:40:09.867Z"
   },
   {
    "duration": 285,
    "start_time": "2023-09-15T06:40:10.123Z"
   },
   {
    "duration": 452,
    "start_time": "2023-09-15T06:40:10.410Z"
   },
   {
    "duration": 245,
    "start_time": "2023-09-15T06:40:10.864Z"
   },
   {
    "duration": 1743,
    "start_time": "2023-09-15T06:40:11.111Z"
   },
   {
    "duration": 89,
    "start_time": "2023-09-15T06:40:12.858Z"
   },
   {
    "duration": 134,
    "start_time": "2023-09-15T06:40:12.961Z"
   },
   {
    "duration": 10,
    "start_time": "2023-09-15T06:40:13.097Z"
   },
   {
    "duration": 14,
    "start_time": "2023-09-15T06:40:13.109Z"
   },
   {
    "duration": 4,
    "start_time": "2023-09-15T06:40:13.146Z"
   },
   {
    "duration": 13,
    "start_time": "2023-09-15T06:40:13.154Z"
   },
   {
    "duration": 20,
    "start_time": "2023-09-15T06:40:13.169Z"
   },
   {
    "duration": 4,
    "start_time": "2023-09-15T06:40:13.191Z"
   },
   {
    "duration": 11,
    "start_time": "2023-09-15T06:40:13.197Z"
   },
   {
    "duration": 10,
    "start_time": "2023-09-15T06:40:13.209Z"
   },
   {
    "duration": 49,
    "start_time": "2023-09-15T06:40:13.220Z"
   },
   {
    "duration": 5,
    "start_time": "2023-09-15T06:40:13.271Z"
   },
   {
    "duration": 155,
    "start_time": "2023-09-15T06:40:13.278Z"
   },
   {
    "duration": 0,
    "start_time": "2023-09-15T06:40:13.434Z"
   },
   {
    "duration": 0,
    "start_time": "2023-09-15T06:40:13.436Z"
   },
   {
    "duration": 0,
    "start_time": "2023-09-15T06:40:13.447Z"
   },
   {
    "duration": 0,
    "start_time": "2023-09-15T06:40:13.449Z"
   },
   {
    "duration": 0,
    "start_time": "2023-09-15T06:40:13.451Z"
   },
   {
    "duration": 0,
    "start_time": "2023-09-15T06:40:13.452Z"
   },
   {
    "duration": 0,
    "start_time": "2023-09-15T06:40:13.454Z"
   },
   {
    "duration": 0,
    "start_time": "2023-09-15T06:40:13.455Z"
   },
   {
    "duration": 0,
    "start_time": "2023-09-15T06:40:13.457Z"
   },
   {
    "duration": 6207,
    "start_time": "2023-09-15T08:17:00.868Z"
   },
   {
    "duration": 0,
    "start_time": "2023-09-15T08:17:07.077Z"
   },
   {
    "duration": 0,
    "start_time": "2023-09-15T08:17:07.078Z"
   },
   {
    "duration": 0,
    "start_time": "2023-09-15T08:17:07.080Z"
   },
   {
    "duration": 0,
    "start_time": "2023-09-15T08:17:07.081Z"
   },
   {
    "duration": 0,
    "start_time": "2023-09-15T08:17:07.082Z"
   },
   {
    "duration": 0,
    "start_time": "2023-09-15T08:17:07.083Z"
   },
   {
    "duration": 0,
    "start_time": "2023-09-15T08:17:07.084Z"
   },
   {
    "duration": 0,
    "start_time": "2023-09-15T08:17:07.085Z"
   },
   {
    "duration": 0,
    "start_time": "2023-09-15T08:17:07.086Z"
   },
   {
    "duration": 0,
    "start_time": "2023-09-15T08:17:07.087Z"
   },
   {
    "duration": 0,
    "start_time": "2023-09-15T08:17:07.088Z"
   },
   {
    "duration": 0,
    "start_time": "2023-09-15T08:17:07.089Z"
   },
   {
    "duration": 0,
    "start_time": "2023-09-15T08:17:07.090Z"
   },
   {
    "duration": 0,
    "start_time": "2023-09-15T08:17:07.091Z"
   },
   {
    "duration": 0,
    "start_time": "2023-09-15T08:17:07.092Z"
   },
   {
    "duration": 0,
    "start_time": "2023-09-15T08:17:07.093Z"
   },
   {
    "duration": 0,
    "start_time": "2023-09-15T08:17:07.094Z"
   },
   {
    "duration": 0,
    "start_time": "2023-09-15T08:17:07.095Z"
   },
   {
    "duration": 0,
    "start_time": "2023-09-15T08:17:07.096Z"
   },
   {
    "duration": 0,
    "start_time": "2023-09-15T08:17:07.097Z"
   },
   {
    "duration": 3742,
    "start_time": "2023-09-15T08:17:47.557Z"
   },
   {
    "duration": 562,
    "start_time": "2023-09-15T08:17:51.302Z"
   },
   {
    "duration": 152,
    "start_time": "2023-09-15T08:17:51.866Z"
   },
   {
    "duration": 9,
    "start_time": "2023-09-15T08:17:52.019Z"
   },
   {
    "duration": 35,
    "start_time": "2023-09-15T08:17:52.030Z"
   },
   {
    "duration": 25,
    "start_time": "2023-09-15T08:17:52.067Z"
   },
   {
    "duration": 289,
    "start_time": "2023-09-15T08:17:52.095Z"
   },
   {
    "duration": 6,
    "start_time": "2023-09-15T08:17:52.385Z"
   },
   {
    "duration": 189,
    "start_time": "2023-09-15T08:17:52.392Z"
   },
   {
    "duration": 250,
    "start_time": "2023-09-15T08:17:52.582Z"
   },
   {
    "duration": 362,
    "start_time": "2023-09-15T08:17:52.834Z"
   },
   {
    "duration": 233,
    "start_time": "2023-09-15T08:17:53.198Z"
   },
   {
    "duration": 5328,
    "start_time": "2023-09-15T08:17:53.433Z"
   },
   {
    "duration": 84,
    "start_time": "2023-09-15T08:17:58.769Z"
   },
   {
    "duration": 144,
    "start_time": "2023-09-15T08:17:58.856Z"
   },
   {
    "duration": 8,
    "start_time": "2023-09-15T08:17:59.002Z"
   },
   {
    "duration": 8,
    "start_time": "2023-09-15T08:17:59.011Z"
   },
   {
    "duration": 4,
    "start_time": "2023-09-15T08:17:59.021Z"
   },
   {
    "duration": 4,
    "start_time": "2023-09-15T08:17:59.026Z"
   },
   {
    "duration": 4,
    "start_time": "2023-09-15T08:17:59.032Z"
   },
   {
    "duration": 21,
    "start_time": "2023-09-15T08:17:59.045Z"
   },
   {
    "duration": 7,
    "start_time": "2023-09-15T08:17:59.068Z"
   },
   {
    "duration": 43,
    "start_time": "2023-09-15T08:18:07.922Z"
   },
   {
    "duration": 6,
    "start_time": "2023-09-15T08:18:21.686Z"
   },
   {
    "duration": 3,
    "start_time": "2023-09-15T08:18:32.160Z"
   },
   {
    "duration": 38,
    "start_time": "2023-09-15T08:18:36.464Z"
   },
   {
    "duration": 11,
    "start_time": "2023-09-15T08:21:48.103Z"
   },
   {
    "duration": 10,
    "start_time": "2023-09-15T08:24:26.611Z"
   },
   {
    "duration": 1990,
    "start_time": "2023-09-15T08:41:28.167Z"
   },
   {
    "duration": 5,
    "start_time": "2023-09-15T08:41:30.159Z"
   },
   {
    "duration": 107,
    "start_time": "2023-09-15T08:41:30.166Z"
   },
   {
    "duration": 12,
    "start_time": "2023-09-15T08:41:30.275Z"
   },
   {
    "duration": 106,
    "start_time": "2023-09-15T08:41:30.289Z"
   },
   {
    "duration": 55,
    "start_time": "2023-09-15T08:41:30.397Z"
   },
   {
    "duration": 331,
    "start_time": "2023-09-15T08:41:30.454Z"
   },
   {
    "duration": 6,
    "start_time": "2023-09-15T08:41:30.787Z"
   },
   {
    "duration": 321,
    "start_time": "2023-09-15T08:41:30.795Z"
   },
   {
    "duration": 208,
    "start_time": "2023-09-15T08:41:31.118Z"
   },
   {
    "duration": 410,
    "start_time": "2023-09-15T08:41:31.328Z"
   },
   {
    "duration": 193,
    "start_time": "2023-09-15T08:41:31.744Z"
   },
   {
    "duration": 1907,
    "start_time": "2023-09-15T08:41:31.938Z"
   },
   {
    "duration": 95,
    "start_time": "2023-09-15T08:41:33.849Z"
   },
   {
    "duration": 48,
    "start_time": "2023-09-15T08:41:33.946Z"
   },
   {
    "duration": 8,
    "start_time": "2023-09-15T08:41:33.996Z"
   },
   {
    "duration": 17,
    "start_time": "2023-09-15T08:41:34.006Z"
   },
   {
    "duration": 20,
    "start_time": "2023-09-15T08:41:34.025Z"
   },
   {
    "duration": 26,
    "start_time": "2023-09-15T08:41:34.047Z"
   },
   {
    "duration": 15,
    "start_time": "2023-09-15T08:41:34.074Z"
   },
   {
    "duration": 5,
    "start_time": "2023-09-15T08:41:34.091Z"
   },
   {
    "duration": 27,
    "start_time": "2023-09-15T08:41:34.098Z"
   },
   {
    "duration": 13,
    "start_time": "2023-09-15T08:41:34.127Z"
   },
   {
    "duration": 1398,
    "start_time": "2023-09-15T16:03:44.922Z"
   },
   {
    "duration": 159,
    "start_time": "2023-09-15T16:03:56.634Z"
   },
   {
    "duration": 1329,
    "start_time": "2023-09-15T16:07:39.856Z"
   },
   {
    "duration": 207,
    "start_time": "2023-09-15T16:07:41.187Z"
   },
   {
    "duration": 10,
    "start_time": "2023-09-15T16:07:41.395Z"
   },
   {
    "duration": 11,
    "start_time": "2023-09-15T16:07:41.406Z"
   },
   {
    "duration": 17,
    "start_time": "2023-09-15T16:07:41.419Z"
   },
   {
    "duration": 452,
    "start_time": "2023-09-15T16:07:41.438Z"
   },
   {
    "duration": 6,
    "start_time": "2023-09-15T16:07:41.892Z"
   },
   {
    "duration": 202,
    "start_time": "2023-09-15T16:07:41.900Z"
   },
   {
    "duration": 201,
    "start_time": "2023-09-15T16:07:42.104Z"
   },
   {
    "duration": 326,
    "start_time": "2023-09-15T16:07:42.306Z"
   },
   {
    "duration": 195,
    "start_time": "2023-09-15T16:07:42.634Z"
   },
   {
    "duration": 2121,
    "start_time": "2023-09-15T16:07:42.831Z"
   },
   {
    "duration": 95,
    "start_time": "2023-09-15T16:07:44.954Z"
   },
   {
    "duration": 64,
    "start_time": "2023-09-15T16:07:45.052Z"
   },
   {
    "duration": 4,
    "start_time": "2023-09-15T16:07:45.118Z"
   },
   {
    "duration": 39,
    "start_time": "2023-09-15T16:07:45.124Z"
   },
   {
    "duration": 25,
    "start_time": "2023-09-15T16:07:45.164Z"
   },
   {
    "duration": 11,
    "start_time": "2023-09-15T16:07:45.190Z"
   },
   {
    "duration": 19,
    "start_time": "2023-09-15T16:07:45.202Z"
   },
   {
    "duration": 3,
    "start_time": "2023-09-15T16:07:45.222Z"
   },
   {
    "duration": 123,
    "start_time": "2023-09-15T16:07:45.226Z"
   },
   {
    "duration": 0,
    "start_time": "2023-09-15T16:07:45.351Z"
   },
   {
    "duration": 0,
    "start_time": "2023-09-15T16:07:45.352Z"
   },
   {
    "duration": 0,
    "start_time": "2023-09-15T16:07:45.353Z"
   },
   {
    "duration": 0,
    "start_time": "2023-09-15T16:07:45.354Z"
   },
   {
    "duration": 1243,
    "start_time": "2023-09-15T19:22:24.290Z"
   },
   {
    "duration": 59,
    "start_time": "2023-09-15T19:22:25.534Z"
   },
   {
    "duration": 8,
    "start_time": "2023-09-15T19:22:25.595Z"
   },
   {
    "duration": 9,
    "start_time": "2023-09-15T19:22:25.606Z"
   },
   {
    "duration": 12,
    "start_time": "2023-09-15T19:22:25.616Z"
   },
   {
    "duration": 282,
    "start_time": "2023-09-15T19:22:25.630Z"
   },
   {
    "duration": 6,
    "start_time": "2023-09-15T19:22:25.914Z"
   },
   {
    "duration": 188,
    "start_time": "2023-09-15T19:22:25.922Z"
   },
   {
    "duration": 201,
    "start_time": "2023-09-15T19:22:26.111Z"
   },
   {
    "duration": 318,
    "start_time": "2023-09-15T19:22:26.314Z"
   },
   {
    "duration": 184,
    "start_time": "2023-09-15T19:22:26.633Z"
   },
   {
    "duration": 1840,
    "start_time": "2023-09-15T19:22:26.819Z"
   },
   {
    "duration": 5,
    "start_time": "2023-09-15T19:22:28.752Z"
   },
   {
    "duration": 138,
    "start_time": "2023-09-15T19:22:28.759Z"
   },
   {
    "duration": 5,
    "start_time": "2023-09-15T19:22:28.898Z"
   },
   {
    "duration": 19,
    "start_time": "2023-09-15T19:22:28.904Z"
   },
   {
    "duration": 30,
    "start_time": "2023-09-15T19:22:28.924Z"
   },
   {
    "duration": 15,
    "start_time": "2023-09-15T19:22:28.955Z"
   },
   {
    "duration": 30,
    "start_time": "2023-09-15T19:22:28.972Z"
   },
   {
    "duration": 2,
    "start_time": "2023-09-15T19:22:29.004Z"
   },
   {
    "duration": 136,
    "start_time": "2023-09-15T19:22:29.007Z"
   },
   {
    "duration": 0,
    "start_time": "2023-09-15T19:22:29.145Z"
   },
   {
    "duration": 0,
    "start_time": "2023-09-15T19:22:29.146Z"
   },
   {
    "duration": 0,
    "start_time": "2023-09-15T19:22:29.149Z"
   },
   {
    "duration": 0,
    "start_time": "2023-09-15T19:22:29.149Z"
   },
   {
    "duration": 13,
    "start_time": "2023-09-15T19:22:38.532Z"
   },
   {
    "duration": 2359,
    "start_time": "2023-09-15T19:23:57.492Z"
   },
   {
    "duration": 1259,
    "start_time": "2023-09-15T19:24:14.111Z"
   },
   {
    "duration": 57,
    "start_time": "2023-09-15T19:24:15.372Z"
   },
   {
    "duration": 8,
    "start_time": "2023-09-15T19:24:15.430Z"
   },
   {
    "duration": 10,
    "start_time": "2023-09-15T19:24:15.440Z"
   },
   {
    "duration": 48,
    "start_time": "2023-09-15T19:24:15.451Z"
   },
   {
    "duration": 285,
    "start_time": "2023-09-15T19:24:15.501Z"
   },
   {
    "duration": 5,
    "start_time": "2023-09-15T19:24:15.787Z"
   },
   {
    "duration": 196,
    "start_time": "2023-09-15T19:24:15.794Z"
   },
   {
    "duration": 229,
    "start_time": "2023-09-15T19:24:15.992Z"
   },
   {
    "duration": 361,
    "start_time": "2023-09-15T19:24:16.223Z"
   },
   {
    "duration": 191,
    "start_time": "2023-09-15T19:24:16.586Z"
   },
   {
    "duration": 1875,
    "start_time": "2023-09-15T19:24:16.779Z"
   },
   {
    "duration": 93,
    "start_time": "2023-09-15T19:24:18.657Z"
   },
   {
    "duration": 140,
    "start_time": "2023-09-15T19:24:18.753Z"
   },
   {
    "duration": 4,
    "start_time": "2023-09-15T19:24:18.895Z"
   },
   {
    "duration": 6,
    "start_time": "2023-09-15T19:24:18.900Z"
   },
   {
    "duration": 12,
    "start_time": "2023-09-15T19:24:18.907Z"
   },
   {
    "duration": 6,
    "start_time": "2023-09-15T19:24:18.920Z"
   },
   {
    "duration": 21,
    "start_time": "2023-09-15T19:24:18.928Z"
   },
   {
    "duration": 2,
    "start_time": "2023-09-15T19:24:18.951Z"
   },
   {
    "duration": 2400,
    "start_time": "2023-09-15T19:24:18.954Z"
   },
   {
    "duration": 1521,
    "start_time": "2023-09-15T19:24:21.356Z"
   },
   {
    "duration": 103228,
    "start_time": "2023-09-15T19:24:22.878Z"
   },
   {
    "duration": 4,
    "start_time": "2023-09-15T19:26:06.107Z"
   },
   {
    "duration": 33,
    "start_time": "2023-09-15T19:26:06.112Z"
   },
   {
    "duration": 76,
    "start_time": "2023-09-15T19:26:27.109Z"
   },
   {
    "duration": 43212,
    "start_time": "2023-09-15T19:26:31.363Z"
   },
   {
    "duration": 110,
    "start_time": "2023-09-15T19:30:34.502Z"
   },
   {
    "duration": 4,
    "start_time": "2023-09-15T19:30:44.734Z"
   },
   {
    "duration": 2257,
    "start_time": "2023-09-15T19:32:27.296Z"
   },
   {
    "duration": 14,
    "start_time": "2023-09-15T19:34:40.365Z"
   },
   {
    "duration": 1305,
    "start_time": "2023-09-15T19:35:27.746Z"
   },
   {
    "duration": 3117,
    "start_time": "2023-09-15T19:37:01.036Z"
   },
   {
    "duration": 1234,
    "start_time": "2023-09-15T19:37:27.494Z"
   },
   {
    "duration": 57,
    "start_time": "2023-09-15T19:37:28.730Z"
   },
   {
    "duration": 8,
    "start_time": "2023-09-15T19:37:28.789Z"
   },
   {
    "duration": 51,
    "start_time": "2023-09-15T19:37:28.798Z"
   },
   {
    "duration": 43,
    "start_time": "2023-09-15T19:37:28.850Z"
   },
   {
    "duration": 316,
    "start_time": "2023-09-15T19:37:28.895Z"
   },
   {
    "duration": 6,
    "start_time": "2023-09-15T19:37:29.213Z"
   },
   {
    "duration": 192,
    "start_time": "2023-09-15T19:37:29.221Z"
   },
   {
    "duration": 209,
    "start_time": "2023-09-15T19:37:29.415Z"
   },
   {
    "duration": 317,
    "start_time": "2023-09-15T19:37:29.627Z"
   },
   {
    "duration": 195,
    "start_time": "2023-09-15T19:37:29.946Z"
   },
   {
    "duration": 1515,
    "start_time": "2023-09-15T19:37:30.143Z"
   },
   {
    "duration": 6,
    "start_time": "2023-09-15T19:37:31.751Z"
   },
   {
    "duration": 133,
    "start_time": "2023-09-15T19:37:31.759Z"
   },
   {
    "duration": 8,
    "start_time": "2023-09-15T19:37:31.893Z"
   },
   {
    "duration": 25,
    "start_time": "2023-09-15T19:37:31.902Z"
   },
   {
    "duration": 53,
    "start_time": "2023-09-15T19:37:31.928Z"
   },
   {
    "duration": 32,
    "start_time": "2023-09-15T19:37:31.983Z"
   },
   {
    "duration": 25,
    "start_time": "2023-09-15T19:37:32.016Z"
   },
   {
    "duration": 22,
    "start_time": "2023-09-15T19:37:32.043Z"
   },
   {
    "duration": 1685,
    "start_time": "2023-09-15T19:37:32.067Z"
   },
   {
    "duration": 3,
    "start_time": "2023-09-15T19:37:33.757Z"
   },
   {
    "duration": 1528,
    "start_time": "2023-09-15T19:37:33.762Z"
   },
   {
    "duration": 43468,
    "start_time": "2023-09-15T19:37:35.292Z"
   },
   {
    "duration": 3,
    "start_time": "2023-09-15T19:38:18.761Z"
   },
   {
    "duration": 32,
    "start_time": "2023-09-15T19:38:18.766Z"
   },
   {
    "duration": 4,
    "start_time": "2023-09-15T19:40:44.936Z"
   },
   {
    "duration": 3583,
    "start_time": "2023-09-15T19:41:06.669Z"
   },
   {
    "duration": 73,
    "start_time": "2023-09-15T19:41:43.509Z"
   },
   {
    "duration": 2,
    "start_time": "2023-09-15T19:41:53.381Z"
   },
   {
    "duration": 10,
    "start_time": "2023-09-15T19:42:04.047Z"
   },
   {
    "duration": 50,
    "start_time": "2023-09-15T19:42:35.605Z"
   },
   {
    "duration": 111,
    "start_time": "2023-09-15T19:46:31.953Z"
   },
   {
    "duration": 202,
    "start_time": "2023-09-15T19:46:52.051Z"
   },
   {
    "duration": 79,
    "start_time": "2023-09-15T19:46:57.778Z"
   },
   {
    "duration": 1263,
    "start_time": "2023-09-15T19:47:29.809Z"
   },
   {
    "duration": 57,
    "start_time": "2023-09-15T19:47:31.074Z"
   },
   {
    "duration": 7,
    "start_time": "2023-09-15T19:47:31.132Z"
   },
   {
    "duration": 35,
    "start_time": "2023-09-15T19:47:31.141Z"
   },
   {
    "duration": 38,
    "start_time": "2023-09-15T19:47:31.178Z"
   },
   {
    "duration": 311,
    "start_time": "2023-09-15T19:47:31.218Z"
   },
   {
    "duration": 6,
    "start_time": "2023-09-15T19:47:31.530Z"
   },
   {
    "duration": 222,
    "start_time": "2023-09-15T19:47:31.537Z"
   },
   {
    "duration": 202,
    "start_time": "2023-09-15T19:47:31.761Z"
   },
   {
    "duration": 327,
    "start_time": "2023-09-15T19:47:31.965Z"
   },
   {
    "duration": 192,
    "start_time": "2023-09-15T19:47:32.294Z"
   },
   {
    "duration": 2268,
    "start_time": "2023-09-15T19:47:32.488Z"
   },
   {
    "duration": 93,
    "start_time": "2023-09-15T19:47:34.758Z"
   },
   {
    "duration": 138,
    "start_time": "2023-09-15T19:47:34.853Z"
   },
   {
    "duration": 4,
    "start_time": "2023-09-15T19:47:34.992Z"
   },
   {
    "duration": 7,
    "start_time": "2023-09-15T19:47:34.997Z"
   },
   {
    "duration": 8,
    "start_time": "2023-09-15T19:47:35.005Z"
   },
   {
    "duration": 46,
    "start_time": "2023-09-15T19:47:35.015Z"
   },
   {
    "duration": 3,
    "start_time": "2023-09-15T19:47:35.062Z"
   },
   {
    "duration": 1192,
    "start_time": "2023-09-15T19:47:35.066Z"
   },
   {
    "duration": 3,
    "start_time": "2023-09-15T19:47:36.351Z"
   },
   {
    "duration": 1426,
    "start_time": "2023-09-15T19:47:36.356Z"
   },
   {
    "duration": 43599,
    "start_time": "2023-09-15T19:47:37.784Z"
   },
   {
    "duration": 3,
    "start_time": "2023-09-15T19:48:21.384Z"
   },
   {
    "duration": 64,
    "start_time": "2023-09-15T19:48:21.389Z"
   },
   {
    "duration": 90,
    "start_time": "2023-09-15T19:48:36.660Z"
   },
   {
    "duration": 7,
    "start_time": "2023-09-15T19:48:41.064Z"
   },
   {
    "duration": 8,
    "start_time": "2023-09-15T19:48:46.107Z"
   },
   {
    "duration": 7,
    "start_time": "2023-09-15T19:49:29.828Z"
   },
   {
    "duration": 91,
    "start_time": "2023-09-15T19:50:55.503Z"
   },
   {
    "duration": 2685,
    "start_time": "2023-09-16T08:18:21.462Z"
   },
   {
    "duration": 133,
    "start_time": "2023-09-16T08:18:24.149Z"
   },
   {
    "duration": 10,
    "start_time": "2023-09-16T08:18:24.283Z"
   },
   {
    "duration": 12,
    "start_time": "2023-09-16T08:18:24.295Z"
   },
   {
    "duration": 23,
    "start_time": "2023-09-16T08:18:24.309Z"
   },
   {
    "duration": 354,
    "start_time": "2023-09-16T08:18:24.333Z"
   },
   {
    "duration": 6,
    "start_time": "2023-09-16T08:18:24.689Z"
   },
   {
    "duration": 238,
    "start_time": "2023-09-16T08:18:24.697Z"
   },
   {
    "duration": 256,
    "start_time": "2023-09-16T08:18:24.937Z"
   },
   {
    "duration": 451,
    "start_time": "2023-09-16T08:18:25.196Z"
   },
   {
    "duration": 242,
    "start_time": "2023-09-16T08:18:25.650Z"
   },
   {
    "duration": 3326,
    "start_time": "2023-09-16T08:18:25.893Z"
   },
   {
    "duration": 89,
    "start_time": "2023-09-16T08:18:29.222Z"
   },
   {
    "duration": 154,
    "start_time": "2023-09-16T08:18:29.313Z"
   },
   {
    "duration": 7,
    "start_time": "2023-09-16T08:18:29.469Z"
   },
   {
    "duration": 8,
    "start_time": "2023-09-16T08:18:29.478Z"
   },
   {
    "duration": 7,
    "start_time": "2023-09-16T08:18:29.508Z"
   },
   {
    "duration": 20,
    "start_time": "2023-09-16T08:18:29.516Z"
   },
   {
    "duration": 3,
    "start_time": "2023-09-16T08:18:29.538Z"
   },
   {
    "duration": 1776,
    "start_time": "2023-09-16T08:18:29.542Z"
   },
   {
    "duration": 6,
    "start_time": "2023-09-16T08:18:31.409Z"
   },
   {
    "duration": 1911,
    "start_time": "2023-09-16T08:18:31.417Z"
   },
   {
    "duration": 54403,
    "start_time": "2023-09-16T08:18:33.330Z"
   },
   {
    "duration": 4,
    "start_time": "2023-09-16T08:19:27.735Z"
   },
   {
    "duration": 8,
    "start_time": "2023-09-16T08:20:00.845Z"
   },
   {
    "duration": 4,
    "start_time": "2023-09-16T08:20:13.234Z"
   },
   {
    "duration": 129,
    "start_time": "2023-09-16T08:20:46.381Z"
   },
   {
    "duration": 9,
    "start_time": "2023-09-16T08:21:06.771Z"
   },
   {
    "duration": 44,
    "start_time": "2023-09-16T08:21:17.565Z"
   },
   {
    "duration": 10,
    "start_time": "2023-09-16T08:21:33.667Z"
   },
   {
    "duration": 3379,
    "start_time": "2023-09-16T08:21:48.126Z"
   },
   {
    "duration": 70,
    "start_time": "2023-09-16T08:21:51.509Z"
   },
   {
    "duration": 9,
    "start_time": "2023-09-16T08:21:51.581Z"
   },
   {
    "duration": 15,
    "start_time": "2023-09-16T08:21:51.593Z"
   },
   {
    "duration": 19,
    "start_time": "2023-09-16T08:21:51.610Z"
   },
   {
    "duration": 350,
    "start_time": "2023-09-16T08:21:51.631Z"
   },
   {
    "duration": 7,
    "start_time": "2023-09-16T08:21:51.984Z"
   },
   {
    "duration": 235,
    "start_time": "2023-09-16T08:21:51.993Z"
   },
   {
    "duration": 292,
    "start_time": "2023-09-16T08:21:52.230Z"
   },
   {
    "duration": 462,
    "start_time": "2023-09-16T08:21:52.525Z"
   },
   {
    "duration": 253,
    "start_time": "2023-09-16T08:21:52.990Z"
   },
   {
    "duration": 6063,
    "start_time": "2023-09-16T08:21:53.245Z"
   },
   {
    "duration": 95,
    "start_time": "2023-09-16T08:21:59.315Z"
   },
   {
    "duration": 75,
    "start_time": "2023-09-16T08:21:59.413Z"
   },
   {
    "duration": 23,
    "start_time": "2023-09-16T08:21:59.490Z"
   },
   {
    "duration": 15,
    "start_time": "2023-09-16T08:21:59.515Z"
   },
   {
    "duration": 21,
    "start_time": "2023-09-16T08:21:59.532Z"
   },
   {
    "duration": 27,
    "start_time": "2023-09-16T08:21:59.555Z"
   },
   {
    "duration": 4,
    "start_time": "2023-09-16T08:21:59.584Z"
   },
   {
    "duration": 4020,
    "start_time": "2023-09-16T08:21:59.590Z"
   },
   {
    "duration": 3,
    "start_time": "2023-09-16T08:22:03.612Z"
   },
   {
    "duration": 1862,
    "start_time": "2023-09-16T08:22:03.617Z"
   },
   {
    "duration": 54573,
    "start_time": "2023-09-16T08:22:05.482Z"
   },
   {
    "duration": 6,
    "start_time": "2023-09-16T08:23:00.057Z"
   },
   {
    "duration": 51,
    "start_time": "2023-09-16T08:23:00.064Z"
   }
  ],
  "kernelspec": {
   "display_name": "Python 3 (ipykernel)",
   "language": "python",
   "name": "python3"
  },
  "language_info": {
   "codemirror_mode": {
    "name": "ipython",
    "version": 3
   },
   "file_extension": ".py",
   "mimetype": "text/x-python",
   "name": "python",
   "nbconvert_exporter": "python",
   "pygments_lexer": "ipython3",
   "version": "3.11.5"
  },
  "toc": {
   "base_numbering": 1,
   "nav_menu": {},
   "number_sections": true,
   "sideBar": true,
   "skip_h1_title": true,
   "title_cell": "Содержание",
   "title_sidebar": "Contents",
   "toc_cell": true,
   "toc_position": {
    "height": "calc(100% - 180px)",
    "left": "10px",
    "top": "150px",
    "width": "179px"
   },
   "toc_section_display": true,
   "toc_window_display": true
  }
 },
 "nbformat": 4,
 "nbformat_minor": 2
}
