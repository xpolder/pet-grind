{
 "cells": [
  {
   "cell_type": "markdown",
   "metadata": {
    "toc": true
   },
   "source": [
    "<h1>Содержание<span class=\"tocSkip\"></span></h1>\n",
    "<div class=\"toc\"><ul class=\"toc-item\"><li><span><a href=\"#Подготовка-данных\" data-toc-modified-id=\"Подготовка-данных-1\"><span class=\"toc-item-num\">1&nbsp;&nbsp;</span>Подготовка данных</a></span><ul class=\"toc-item\"><li><span><a href=\"#Импортируем-библиотеки\" data-toc-modified-id=\"Импортируем-библиотеки-1.1\"><span class=\"toc-item-num\">1.1&nbsp;&nbsp;</span>Импортируем библиотеки</a></span></li><li><span><a href=\"#Откроем-и-исследуем-файл\" data-toc-modified-id=\"Откроем-и-исследуем-файл-1.2\"><span class=\"toc-item-num\">1.2&nbsp;&nbsp;</span>Откроем и исследуем файл</a></span></li></ul></li><li><span><a href=\"#Исследование-задачи\" data-toc-modified-id=\"Исследование-задачи-2\"><span class=\"toc-item-num\">2&nbsp;&nbsp;</span>Исследование задачи</a></span></li><li><span><a href=\"#Борьба-с-дисбалансом\" data-toc-modified-id=\"Борьба-с-дисбалансом-3\"><span class=\"toc-item-num\">3&nbsp;&nbsp;</span>Борьба с дисбалансом</a></span></li><li><span><a href=\"#Тестирование-модели\" data-toc-modified-id=\"Тестирование-модели-4\"><span class=\"toc-item-num\">4&nbsp;&nbsp;</span>Тестирование модели</a></span></li><li><span><a href=\"#Чек-лист-готовности-проекта\" data-toc-modified-id=\"Чек-лист-готовности-проекта-5\"><span class=\"toc-item-num\">5&nbsp;&nbsp;</span>Чек-лист готовности проекта</a></span></li></ul></div>"
   ]
  },
  {
   "cell_type": "markdown",
   "metadata": {},
   "source": [
    "# Отток клиентов"
   ]
  },
  {
   "cell_type": "markdown",
   "metadata": {},
   "source": [
    "Из банка стали уходить клиенты. Каждый месяц. Немного, но заметно. Банковские маркетологи посчитали: сохранять текущих клиентов дешевле, чем привлекать новых.\n",
    "\n",
    "Нужно спрогнозировать, уйдёт клиент из банка в ближайшее время или нет. Нам предоставлены исторические данные о поведении клиентов и расторжении договоров с банком. \n",
    "\n",
    "Построим модель с предельно большим значением *F1*-меры.\n",
    "\n",
    "Дополнительно измерим *AUC-ROC*, будем сравнивать её значение с *F1*-мерой.\n",
    "\n",
    "Источник данных: [https://www.kaggle.com/barelydedicated/bank-customer-churn-modeling](https://www.kaggle.com/barelydedicated/bank-customer-churn-modeling)"
   ]
  },
  {
   "cell_type": "markdown",
   "metadata": {},
   "source": [
    "## Подготовка данных"
   ]
  },
  {
   "cell_type": "markdown",
   "metadata": {},
   "source": [
    "### Импортируем библиотеки"
   ]
  },
  {
   "cell_type": "code",
   "execution_count": 1,
   "metadata": {},
   "outputs": [
    {
     "name": "stdout",
     "output_type": "stream",
     "text": [
      "Collecting imblearn\n",
      "  Downloading imblearn-0.0-py2.py3-none-any.whl (1.9 kB)\n",
      "Collecting imbalanced-learn\n",
      "  Downloading imbalanced_learn-0.10.1-py3-none-any.whl (226 kB)\n",
      "\u001b[K     |████████████████████████████████| 226 kB 1.2 MB/s eta 0:00:01\n",
      "\u001b[?25hRequirement already satisfied: scipy>=1.3.2 in /opt/conda/lib/python3.9/site-packages (from imbalanced-learn->imblearn) (1.9.1)\n",
      "Collecting joblib>=1.1.1\n",
      "  Downloading joblib-1.2.0-py3-none-any.whl (297 kB)\n",
      "\u001b[K     |████████████████████████████████| 297 kB 13.8 MB/s eta 0:00:01\n",
      "\u001b[?25hRequirement already satisfied: numpy>=1.17.3 in /opt/conda/lib/python3.9/site-packages (from imbalanced-learn->imblearn) (1.21.1)\n",
      "Collecting scikit-learn>=1.0.2\n",
      "  Downloading scikit_learn-1.2.2-cp39-cp39-manylinux_2_17_x86_64.manylinux2014_x86_64.whl (9.6 MB)\n",
      "\u001b[K     |████████████████████████████████| 9.6 MB 30.8 MB/s eta 0:00:01\n",
      "\u001b[?25hRequirement already satisfied: threadpoolctl>=2.0.0 in /opt/conda/lib/python3.9/site-packages (from imbalanced-learn->imblearn) (3.1.0)\n",
      "Installing collected packages: joblib, scikit-learn, imbalanced-learn, imblearn\n",
      "  Attempting uninstall: joblib\n",
      "    Found existing installation: joblib 1.1.0\n",
      "    Uninstalling joblib-1.1.0:\n",
      "      Successfully uninstalled joblib-1.1.0\n",
      "  Attempting uninstall: scikit-learn\n",
      "    Found existing installation: scikit-learn 0.24.1\n",
      "    Uninstalling scikit-learn-0.24.1:\n",
      "      Successfully uninstalled scikit-learn-0.24.1\n",
      "Successfully installed imbalanced-learn-0.10.1 imblearn-0.0 joblib-1.2.0 scikit-learn-1.2.2\n"
     ]
    }
   ],
   "source": [
    "!pip install imblearn"
   ]
  },
  {
   "cell_type": "code",
   "execution_count": 2,
   "metadata": {},
   "outputs": [],
   "source": [
    "import pandas as pd\n",
    "import seaborn as sns\n",
    "from sklearn.linear_model import LogisticRegressionw\n",
    "from sklearn.ensemble import RandomForestClassifier\n",
    "from sklearn.preprocessing import StandardScaler\n",
    "from sklearn.model_selection import train_test_split, GridSearchCV\n",
    "from sklearn.utils import shuffle\n",
    "from sklearn.metrics import (roc_curve,\n",
    "                             roc_auc_score,\n",
    "                             f1_score,\n",
    "                             confusion_matrix,\n",
    "                             precision_score,\n",
    "                             recall_score,\n",
    "                             accuracy_score\n",
    "                            )\n",
    "\n",
    "import imblearn.over_sampling"
   ]
  },
  {
   "cell_type": "markdown",
   "metadata": {},
   "source": [
    "### Откроем и исследуем файл"
   ]
  },
  {
   "cell_type": "code",
   "execution_count": 3,
   "metadata": {},
   "outputs": [],
   "source": [
    "try:\n",
    "    df = pd.read_csv('Churn.csv')\n",
    "except:\n",
    "    df = pd.read_csv('/datasets/Churn.csv')"
   ]
  },
  {
   "cell_type": "markdown",
   "metadata": {},
   "source": [
    "**Посмотрим общую информацию**:"
   ]
  },
  {
   "cell_type": "code",
   "execution_count": 4,
   "metadata": {},
   "outputs": [
    {
     "name": "stdout",
     "output_type": "stream",
     "text": [
      "<class 'pandas.core.frame.DataFrame'>\n",
      "RangeIndex: 10000 entries, 0 to 9999\n",
      "Data columns (total 14 columns):\n",
      " #   Column           Non-Null Count  Dtype  \n",
      "---  ------           --------------  -----  \n",
      " 0   RowNumber        10000 non-null  int64  \n",
      " 1   CustomerId       10000 non-null  int64  \n",
      " 2   Surname          10000 non-null  object \n",
      " 3   CreditScore      10000 non-null  int64  \n",
      " 4   Geography        10000 non-null  object \n",
      " 5   Gender           10000 non-null  object \n",
      " 6   Age              10000 non-null  int64  \n",
      " 7   Tenure           9091 non-null   float64\n",
      " 8   Balance          10000 non-null  float64\n",
      " 9   NumOfProducts    10000 non-null  int64  \n",
      " 10  HasCrCard        10000 non-null  int64  \n",
      " 11  IsActiveMember   10000 non-null  int64  \n",
      " 12  EstimatedSalary  10000 non-null  float64\n",
      " 13  Exited           10000 non-null  int64  \n",
      "dtypes: float64(3), int64(8), object(3)\n",
      "memory usage: 1.1+ MB\n"
     ]
    }
   ],
   "source": [
    "df.info()"
   ]
  },
  {
   "cell_type": "code",
   "execution_count": 5,
   "metadata": {},
   "outputs": [
    {
     "data": {
      "text/html": [
       "<div>\n",
       "<style scoped>\n",
       "    .dataframe tbody tr th:only-of-type {\n",
       "        vertical-align: middle;\n",
       "    }\n",
       "\n",
       "    .dataframe tbody tr th {\n",
       "        vertical-align: top;\n",
       "    }\n",
       "\n",
       "    .dataframe thead th {\n",
       "        text-align: right;\n",
       "    }\n",
       "</style>\n",
       "<table border=\"1\" class=\"dataframe\">\n",
       "  <thead>\n",
       "    <tr style=\"text-align: right;\">\n",
       "      <th></th>\n",
       "      <th>RowNumber</th>\n",
       "      <th>CustomerId</th>\n",
       "      <th>Surname</th>\n",
       "      <th>CreditScore</th>\n",
       "      <th>Geography</th>\n",
       "      <th>Gender</th>\n",
       "      <th>Age</th>\n",
       "      <th>Tenure</th>\n",
       "      <th>Balance</th>\n",
       "      <th>NumOfProducts</th>\n",
       "      <th>HasCrCard</th>\n",
       "      <th>IsActiveMember</th>\n",
       "      <th>EstimatedSalary</th>\n",
       "      <th>Exited</th>\n",
       "    </tr>\n",
       "  </thead>\n",
       "  <tbody>\n",
       "    <tr>\n",
       "      <th>0</th>\n",
       "      <td>1</td>\n",
       "      <td>15634602</td>\n",
       "      <td>Hargrave</td>\n",
       "      <td>619</td>\n",
       "      <td>France</td>\n",
       "      <td>Female</td>\n",
       "      <td>42</td>\n",
       "      <td>2.0</td>\n",
       "      <td>0.00</td>\n",
       "      <td>1</td>\n",
       "      <td>1</td>\n",
       "      <td>1</td>\n",
       "      <td>101348.88</td>\n",
       "      <td>1</td>\n",
       "    </tr>\n",
       "    <tr>\n",
       "      <th>1</th>\n",
       "      <td>2</td>\n",
       "      <td>15647311</td>\n",
       "      <td>Hill</td>\n",
       "      <td>608</td>\n",
       "      <td>Spain</td>\n",
       "      <td>Female</td>\n",
       "      <td>41</td>\n",
       "      <td>1.0</td>\n",
       "      <td>83807.86</td>\n",
       "      <td>1</td>\n",
       "      <td>0</td>\n",
       "      <td>1</td>\n",
       "      <td>112542.58</td>\n",
       "      <td>0</td>\n",
       "    </tr>\n",
       "    <tr>\n",
       "      <th>2</th>\n",
       "      <td>3</td>\n",
       "      <td>15619304</td>\n",
       "      <td>Onio</td>\n",
       "      <td>502</td>\n",
       "      <td>France</td>\n",
       "      <td>Female</td>\n",
       "      <td>42</td>\n",
       "      <td>8.0</td>\n",
       "      <td>159660.80</td>\n",
       "      <td>3</td>\n",
       "      <td>1</td>\n",
       "      <td>0</td>\n",
       "      <td>113931.57</td>\n",
       "      <td>1</td>\n",
       "    </tr>\n",
       "    <tr>\n",
       "      <th>3</th>\n",
       "      <td>4</td>\n",
       "      <td>15701354</td>\n",
       "      <td>Boni</td>\n",
       "      <td>699</td>\n",
       "      <td>France</td>\n",
       "      <td>Female</td>\n",
       "      <td>39</td>\n",
       "      <td>1.0</td>\n",
       "      <td>0.00</td>\n",
       "      <td>2</td>\n",
       "      <td>0</td>\n",
       "      <td>0</td>\n",
       "      <td>93826.63</td>\n",
       "      <td>0</td>\n",
       "    </tr>\n",
       "    <tr>\n",
       "      <th>4</th>\n",
       "      <td>5</td>\n",
       "      <td>15737888</td>\n",
       "      <td>Mitchell</td>\n",
       "      <td>850</td>\n",
       "      <td>Spain</td>\n",
       "      <td>Female</td>\n",
       "      <td>43</td>\n",
       "      <td>2.0</td>\n",
       "      <td>125510.82</td>\n",
       "      <td>1</td>\n",
       "      <td>1</td>\n",
       "      <td>1</td>\n",
       "      <td>79084.10</td>\n",
       "      <td>0</td>\n",
       "    </tr>\n",
       "  </tbody>\n",
       "</table>\n",
       "</div>"
      ],
      "text/plain": [
       "   RowNumber  CustomerId   Surname  CreditScore Geography  Gender  Age  \\\n",
       "0          1    15634602  Hargrave          619    France  Female   42   \n",
       "1          2    15647311      Hill          608     Spain  Female   41   \n",
       "2          3    15619304      Onio          502    France  Female   42   \n",
       "3          4    15701354      Boni          699    France  Female   39   \n",
       "4          5    15737888  Mitchell          850     Spain  Female   43   \n",
       "\n",
       "   Tenure    Balance  NumOfProducts  HasCrCard  IsActiveMember  \\\n",
       "0     2.0       0.00              1          1               1   \n",
       "1     1.0   83807.86              1          0               1   \n",
       "2     8.0  159660.80              3          1               0   \n",
       "3     1.0       0.00              2          0               0   \n",
       "4     2.0  125510.82              1          1               1   \n",
       "\n",
       "   EstimatedSalary  Exited  \n",
       "0        101348.88       1  \n",
       "1        112542.58       0  \n",
       "2        113931.57       1  \n",
       "3         93826.63       0  \n",
       "4         79084.10       0  "
      ]
     },
     "execution_count": 5,
     "metadata": {},
     "output_type": "execute_result"
    }
   ],
   "source": [
    "df.head()"
   ]
  },
  {
   "cell_type": "markdown",
   "metadata": {},
   "source": [
    "**Признаки:**\n",
    "\n",
    "* *RowNumber* — индекс строки в данных\n",
    "* *CustomerId* — уникальный идентификатор клиента\n",
    "* *Surname* — фамилия\n",
    "* *CreditScore* — кредитный рейтинг\n",
    "* *Geography* — страна проживания\n",
    "* *Gender* — пол\n",
    "* *Age* — возраст\n",
    "* *Tenure* — количество недвижимости у клиента\n",
    "* *Balance* — баланс на счёте\n",
    "* *NumOfProducts* — количество продуктов банка, используемых клиентом\n",
    "* *HasCrCard* — наличие кредитной карты\n",
    "* *IsActiveMember* — активность клиента\n",
    "* *EstimatedSalary* — предполагаемая зарплата\n",
    "\n",
    "**Целевой признак:**\n",
    "\n",
    "* *Exited* — факт ухода клиента\n",
    "\n",
    "\n",
    "Нам не понадобятся столбцы *RowNumber, CustomerId, Surname*"
   ]
  },
  {
   "cell_type": "code",
   "execution_count": 6,
   "metadata": {},
   "outputs": [],
   "source": [
    "df = df.drop(columns = ['Surname', 'RowNumber', 'CustomerId'], axis = 1)"
   ]
  },
  {
   "cell_type": "code",
   "execution_count": 7,
   "metadata": {},
   "outputs": [
    {
     "data": {
      "text/html": [
       "<div>\n",
       "<style scoped>\n",
       "    .dataframe tbody tr th:only-of-type {\n",
       "        vertical-align: middle;\n",
       "    }\n",
       "\n",
       "    .dataframe tbody tr th {\n",
       "        vertical-align: top;\n",
       "    }\n",
       "\n",
       "    .dataframe thead th {\n",
       "        text-align: right;\n",
       "    }\n",
       "</style>\n",
       "<table border=\"1\" class=\"dataframe\">\n",
       "  <thead>\n",
       "    <tr style=\"text-align: right;\">\n",
       "      <th></th>\n",
       "      <th>CreditScore</th>\n",
       "      <th>Age</th>\n",
       "      <th>Tenure</th>\n",
       "      <th>Balance</th>\n",
       "      <th>NumOfProducts</th>\n",
       "      <th>HasCrCard</th>\n",
       "      <th>IsActiveMember</th>\n",
       "      <th>EstimatedSalary</th>\n",
       "      <th>Exited</th>\n",
       "    </tr>\n",
       "  </thead>\n",
       "  <tbody>\n",
       "    <tr>\n",
       "      <th>count</th>\n",
       "      <td>10000.000000</td>\n",
       "      <td>10000.000000</td>\n",
       "      <td>9091.000000</td>\n",
       "      <td>10000.000000</td>\n",
       "      <td>10000.000000</td>\n",
       "      <td>10000.00000</td>\n",
       "      <td>10000.000000</td>\n",
       "      <td>10000.000000</td>\n",
       "      <td>10000.000000</td>\n",
       "    </tr>\n",
       "    <tr>\n",
       "      <th>mean</th>\n",
       "      <td>650.528800</td>\n",
       "      <td>38.921800</td>\n",
       "      <td>4.997690</td>\n",
       "      <td>76485.889288</td>\n",
       "      <td>1.530200</td>\n",
       "      <td>0.70550</td>\n",
       "      <td>0.515100</td>\n",
       "      <td>100090.239881</td>\n",
       "      <td>0.203700</td>\n",
       "    </tr>\n",
       "    <tr>\n",
       "      <th>std</th>\n",
       "      <td>96.653299</td>\n",
       "      <td>10.487806</td>\n",
       "      <td>2.894723</td>\n",
       "      <td>62397.405202</td>\n",
       "      <td>0.581654</td>\n",
       "      <td>0.45584</td>\n",
       "      <td>0.499797</td>\n",
       "      <td>57510.492818</td>\n",
       "      <td>0.402769</td>\n",
       "    </tr>\n",
       "    <tr>\n",
       "      <th>min</th>\n",
       "      <td>350.000000</td>\n",
       "      <td>18.000000</td>\n",
       "      <td>0.000000</td>\n",
       "      <td>0.000000</td>\n",
       "      <td>1.000000</td>\n",
       "      <td>0.00000</td>\n",
       "      <td>0.000000</td>\n",
       "      <td>11.580000</td>\n",
       "      <td>0.000000</td>\n",
       "    </tr>\n",
       "    <tr>\n",
       "      <th>25%</th>\n",
       "      <td>584.000000</td>\n",
       "      <td>32.000000</td>\n",
       "      <td>2.000000</td>\n",
       "      <td>0.000000</td>\n",
       "      <td>1.000000</td>\n",
       "      <td>0.00000</td>\n",
       "      <td>0.000000</td>\n",
       "      <td>51002.110000</td>\n",
       "      <td>0.000000</td>\n",
       "    </tr>\n",
       "    <tr>\n",
       "      <th>50%</th>\n",
       "      <td>652.000000</td>\n",
       "      <td>37.000000</td>\n",
       "      <td>5.000000</td>\n",
       "      <td>97198.540000</td>\n",
       "      <td>1.000000</td>\n",
       "      <td>1.00000</td>\n",
       "      <td>1.000000</td>\n",
       "      <td>100193.915000</td>\n",
       "      <td>0.000000</td>\n",
       "    </tr>\n",
       "    <tr>\n",
       "      <th>75%</th>\n",
       "      <td>718.000000</td>\n",
       "      <td>44.000000</td>\n",
       "      <td>7.000000</td>\n",
       "      <td>127644.240000</td>\n",
       "      <td>2.000000</td>\n",
       "      <td>1.00000</td>\n",
       "      <td>1.000000</td>\n",
       "      <td>149388.247500</td>\n",
       "      <td>0.000000</td>\n",
       "    </tr>\n",
       "    <tr>\n",
       "      <th>max</th>\n",
       "      <td>850.000000</td>\n",
       "      <td>92.000000</td>\n",
       "      <td>10.000000</td>\n",
       "      <td>250898.090000</td>\n",
       "      <td>4.000000</td>\n",
       "      <td>1.00000</td>\n",
       "      <td>1.000000</td>\n",
       "      <td>199992.480000</td>\n",
       "      <td>1.000000</td>\n",
       "    </tr>\n",
       "  </tbody>\n",
       "</table>\n",
       "</div>"
      ],
      "text/plain": [
       "        CreditScore           Age       Tenure        Balance  NumOfProducts  \\\n",
       "count  10000.000000  10000.000000  9091.000000   10000.000000   10000.000000   \n",
       "mean     650.528800     38.921800     4.997690   76485.889288       1.530200   \n",
       "std       96.653299     10.487806     2.894723   62397.405202       0.581654   \n",
       "min      350.000000     18.000000     0.000000       0.000000       1.000000   \n",
       "25%      584.000000     32.000000     2.000000       0.000000       1.000000   \n",
       "50%      652.000000     37.000000     5.000000   97198.540000       1.000000   \n",
       "75%      718.000000     44.000000     7.000000  127644.240000       2.000000   \n",
       "max      850.000000     92.000000    10.000000  250898.090000       4.000000   \n",
       "\n",
       "         HasCrCard  IsActiveMember  EstimatedSalary        Exited  \n",
       "count  10000.00000    10000.000000     10000.000000  10000.000000  \n",
       "mean       0.70550        0.515100    100090.239881      0.203700  \n",
       "std        0.45584        0.499797     57510.492818      0.402769  \n",
       "min        0.00000        0.000000        11.580000      0.000000  \n",
       "25%        0.00000        0.000000     51002.110000      0.000000  \n",
       "50%        1.00000        1.000000    100193.915000      0.000000  \n",
       "75%        1.00000        1.000000    149388.247500      0.000000  \n",
       "max        1.00000        1.000000    199992.480000      1.000000  "
      ]
     },
     "execution_count": 7,
     "metadata": {},
     "output_type": "execute_result"
    }
   ],
   "source": [
    "df.describe()"
   ]
  },
  {
   "cell_type": "markdown",
   "metadata": {},
   "source": [
    "**Посмотрим на распределение значений из каждого столбца:**"
   ]
  },
  {
   "cell_type": "code",
   "execution_count": 8,
   "metadata": {},
   "outputs": [
    {
     "data": {
      "image/png": "[encoded data removed]",
      "text/plain": [
       "<Figure size 1008x1008 with 9 Axes>"
      ]
     },
     "metadata": {
      "needs_background": "light"
     },
     "output_type": "display_data"
    }
   ],
   "source": [
    "df.hist(figsize = (14,14));"
   ]
  },
  {
   "cell_type": "markdown",
   "metadata": {},
   "source": [
    "**Количество пропусков:**"
   ]
  },
  {
   "cell_type": "code",
   "execution_count": 9,
   "metadata": {},
   "outputs": [
    {
     "data": {
      "text/plain": [
       "CreditScore          0\n",
       "Geography            0\n",
       "Gender               0\n",
       "Age                  0\n",
       "Tenure             909\n",
       "Balance              0\n",
       "NumOfProducts        0\n",
       "HasCrCard            0\n",
       "IsActiveMember       0\n",
       "EstimatedSalary      0\n",
       "Exited               0\n",
       "dtype: int64"
      ]
     },
     "execution_count": 9,
     "metadata": {},
     "output_type": "execute_result"
    }
   ],
   "source": [
    "df.isna().sum()"
   ]
  },
  {
   "cell_type": "code",
   "execution_count": 10,
   "metadata": {},
   "outputs": [],
   "source": [
    "df.Tenure = df.Tenure.fillna(df.Tenure.median())\n",
    "df.Tenure = df.Tenure.astype('int')"
   ]
  },
  {
   "cell_type": "code",
   "execution_count": 11,
   "metadata": {},
   "outputs": [
    {
     "data": {
      "text/plain": [
       "5     1836\n",
       "1      952\n",
       "2      950\n",
       "8      933\n",
       "3      928\n",
       "7      925\n",
       "4      885\n",
       "9      882\n",
       "6      881\n",
       "10     446\n",
       "0      382\n",
       "Name: Tenure, dtype: int64"
      ]
     },
     "execution_count": 11,
     "metadata": {},
     "output_type": "execute_result"
    }
   ],
   "source": [
    "df.Tenure.value_counts()"
   ]
  },
  {
   "cell_type": "code",
   "execution_count": 12,
   "metadata": {
    "scrolled": true
   },
   "outputs": [
    {
     "data": {
      "text/html": [
       "<div>\n",
       "<style scoped>\n",
       "    .dataframe tbody tr th:only-of-type {\n",
       "        vertical-align: middle;\n",
       "    }\n",
       "\n",
       "    .dataframe tbody tr th {\n",
       "        vertical-align: top;\n",
       "    }\n",
       "\n",
       "    .dataframe thead th {\n",
       "        text-align: right;\n",
       "    }\n",
       "</style>\n",
       "<table border=\"1\" class=\"dataframe\">\n",
       "  <thead>\n",
       "    <tr style=\"text-align: right;\">\n",
       "      <th></th>\n",
       "      <th>CreditScore</th>\n",
       "      <th>Age</th>\n",
       "      <th>Tenure</th>\n",
       "      <th>Balance</th>\n",
       "      <th>NumOfProducts</th>\n",
       "      <th>HasCrCard</th>\n",
       "      <th>IsActiveMember</th>\n",
       "      <th>EstimatedSalary</th>\n",
       "      <th>Exited</th>\n",
       "    </tr>\n",
       "  </thead>\n",
       "  <tbody>\n",
       "    <tr>\n",
       "      <th>CreditScore</th>\n",
       "      <td>1.000000</td>\n",
       "      <td>-0.003965</td>\n",
       "      <td>-0.000060</td>\n",
       "      <td>0.006268</td>\n",
       "      <td>0.012238</td>\n",
       "      <td>-0.005458</td>\n",
       "      <td>0.025651</td>\n",
       "      <td>-0.001384</td>\n",
       "      <td>-0.027094</td>\n",
       "    </tr>\n",
       "    <tr>\n",
       "      <th>Age</th>\n",
       "      <td>-0.003965</td>\n",
       "      <td>1.000000</td>\n",
       "      <td>-0.012606</td>\n",
       "      <td>0.028308</td>\n",
       "      <td>-0.030680</td>\n",
       "      <td>-0.011721</td>\n",
       "      <td>0.085472</td>\n",
       "      <td>-0.007201</td>\n",
       "      <td>0.285323</td>\n",
       "    </tr>\n",
       "    <tr>\n",
       "      <th>Tenure</th>\n",
       "      <td>-0.000060</td>\n",
       "      <td>-0.012606</td>\n",
       "      <td>1.000000</td>\n",
       "      <td>-0.007535</td>\n",
       "      <td>0.011409</td>\n",
       "      <td>0.025979</td>\n",
       "      <td>-0.030681</td>\n",
       "      <td>0.010049</td>\n",
       "      <td>-0.015989</td>\n",
       "    </tr>\n",
       "    <tr>\n",
       "      <th>Balance</th>\n",
       "      <td>0.006268</td>\n",
       "      <td>0.028308</td>\n",
       "      <td>-0.007535</td>\n",
       "      <td>1.000000</td>\n",
       "      <td>-0.304180</td>\n",
       "      <td>-0.014858</td>\n",
       "      <td>-0.010084</td>\n",
       "      <td>0.012797</td>\n",
       "      <td>0.118533</td>\n",
       "    </tr>\n",
       "    <tr>\n",
       "      <th>NumOfProducts</th>\n",
       "      <td>0.012238</td>\n",
       "      <td>-0.030680</td>\n",
       "      <td>0.011409</td>\n",
       "      <td>-0.304180</td>\n",
       "      <td>1.000000</td>\n",
       "      <td>0.003183</td>\n",
       "      <td>0.009612</td>\n",
       "      <td>0.014204</td>\n",
       "      <td>-0.047820</td>\n",
       "    </tr>\n",
       "    <tr>\n",
       "      <th>HasCrCard</th>\n",
       "      <td>-0.005458</td>\n",
       "      <td>-0.011721</td>\n",
       "      <td>0.025979</td>\n",
       "      <td>-0.014858</td>\n",
       "      <td>0.003183</td>\n",
       "      <td>1.000000</td>\n",
       "      <td>-0.011866</td>\n",
       "      <td>-0.009933</td>\n",
       "      <td>-0.007138</td>\n",
       "    </tr>\n",
       "    <tr>\n",
       "      <th>IsActiveMember</th>\n",
       "      <td>0.025651</td>\n",
       "      <td>0.085472</td>\n",
       "      <td>-0.030681</td>\n",
       "      <td>-0.010084</td>\n",
       "      <td>0.009612</td>\n",
       "      <td>-0.011866</td>\n",
       "      <td>1.000000</td>\n",
       "      <td>-0.011421</td>\n",
       "      <td>-0.156128</td>\n",
       "    </tr>\n",
       "    <tr>\n",
       "      <th>EstimatedSalary</th>\n",
       "      <td>-0.001384</td>\n",
       "      <td>-0.007201</td>\n",
       "      <td>0.010049</td>\n",
       "      <td>0.012797</td>\n",
       "      <td>0.014204</td>\n",
       "      <td>-0.009933</td>\n",
       "      <td>-0.011421</td>\n",
       "      <td>1.000000</td>\n",
       "      <td>0.012097</td>\n",
       "    </tr>\n",
       "    <tr>\n",
       "      <th>Exited</th>\n",
       "      <td>-0.027094</td>\n",
       "      <td>0.285323</td>\n",
       "      <td>-0.015989</td>\n",
       "      <td>0.118533</td>\n",
       "      <td>-0.047820</td>\n",
       "      <td>-0.007138</td>\n",
       "      <td>-0.156128</td>\n",
       "      <td>0.012097</td>\n",
       "      <td>1.000000</td>\n",
       "    </tr>\n",
       "  </tbody>\n",
       "</table>\n",
       "</div>"
      ],
      "text/plain": [
       "                 CreditScore       Age    Tenure   Balance  NumOfProducts  \\\n",
       "CreditScore         1.000000 -0.003965 -0.000060  0.006268       0.012238   \n",
       "Age                -0.003965  1.000000 -0.012606  0.028308      -0.030680   \n",
       "Tenure             -0.000060 -0.012606  1.000000 -0.007535       0.011409   \n",
       "Balance             0.006268  0.028308 -0.007535  1.000000      -0.304180   \n",
       "NumOfProducts       0.012238 -0.030680  0.011409 -0.304180       1.000000   \n",
       "HasCrCard          -0.005458 -0.011721  0.025979 -0.014858       0.003183   \n",
       "IsActiveMember      0.025651  0.085472 -0.030681 -0.010084       0.009612   \n",
       "EstimatedSalary    -0.001384 -0.007201  0.010049  0.012797       0.014204   \n",
       "Exited             -0.027094  0.285323 -0.015989  0.118533      -0.047820   \n",
       "\n",
       "                 HasCrCard  IsActiveMember  EstimatedSalary    Exited  \n",
       "CreditScore      -0.005458        0.025651        -0.001384 -0.027094  \n",
       "Age              -0.011721        0.085472        -0.007201  0.285323  \n",
       "Tenure            0.025979       -0.030681         0.010049 -0.015989  \n",
       "Balance          -0.014858       -0.010084         0.012797  0.118533  \n",
       "NumOfProducts     0.003183        0.009612         0.014204 -0.047820  \n",
       "HasCrCard         1.000000       -0.011866        -0.009933 -0.007138  \n",
       "IsActiveMember   -0.011866        1.000000        -0.011421 -0.156128  \n",
       "EstimatedSalary  -0.009933       -0.011421         1.000000  0.012097  \n",
       "Exited           -0.007138       -0.156128         0.012097  1.000000  "
      ]
     },
     "execution_count": 12,
     "metadata": {},
     "output_type": "execute_result"
    }
   ],
   "source": [
    "df.corr()"
   ]
  },
  {
   "cell_type": "markdown",
   "metadata": {},
   "source": [
    "**Краткий вывод по первому пункту:**\n",
    "* Открыли файл и изучили данные\n",
    "* Посмотрели распределение значений в каждом столбце\n",
    "* Выявлены пропуски в столбце *Tenure*. Значения в столбце от 0 до 10. 0 означает 0 лет клиент пользуется банком. Не будем заполнять пропуски\n",
    "* Не обнаружилось сильно коррелирующих столбцов между собой. У всех корреляция примерно 0\n",
    "* Исследованию не понадобятся столбцы: **RowNumber, CustomerId, Surname**, потому удалили их"
   ]
  },
  {
   "cell_type": "markdown",
   "metadata": {},
   "source": [
    "## Исследование задачи"
   ]
  },
  {
   "cell_type": "markdown",
   "metadata": {},
   "source": [
    "**В датафрейме есть столбцы с категориальными признаками. Преобразуем их методом OHE:**"
   ]
  },
  {
   "cell_type": "code",
   "execution_count": 13,
   "metadata": {},
   "outputs": [
    {
     "data": {
      "text/html": [
       "<div>\n",
       "<style scoped>\n",
       "    .dataframe tbody tr th:only-of-type {\n",
       "        vertical-align: middle;\n",
       "    }\n",
       "\n",
       "    .dataframe tbody tr th {\n",
       "        vertical-align: top;\n",
       "    }\n",
       "\n",
       "    .dataframe thead th {\n",
       "        text-align: right;\n",
       "    }\n",
       "</style>\n",
       "<table border=\"1\" class=\"dataframe\">\n",
       "  <thead>\n",
       "    <tr style=\"text-align: right;\">\n",
       "      <th></th>\n",
       "      <th>CreditScore</th>\n",
       "      <th>Age</th>\n",
       "      <th>Tenure</th>\n",
       "      <th>Balance</th>\n",
       "      <th>NumOfProducts</th>\n",
       "      <th>HasCrCard</th>\n",
       "      <th>IsActiveMember</th>\n",
       "      <th>EstimatedSalary</th>\n",
       "      <th>Exited</th>\n",
       "      <th>Geography_Germany</th>\n",
       "      <th>Geography_Spain</th>\n",
       "      <th>Gender_Male</th>\n",
       "    </tr>\n",
       "  </thead>\n",
       "  <tbody>\n",
       "    <tr>\n",
       "      <th>0</th>\n",
       "      <td>619</td>\n",
       "      <td>42</td>\n",
       "      <td>2</td>\n",
       "      <td>0.00</td>\n",
       "      <td>1</td>\n",
       "      <td>1</td>\n",
       "      <td>1</td>\n",
       "      <td>101348.88</td>\n",
       "      <td>1</td>\n",
       "      <td>0</td>\n",
       "      <td>0</td>\n",
       "      <td>0</td>\n",
       "    </tr>\n",
       "    <tr>\n",
       "      <th>1</th>\n",
       "      <td>608</td>\n",
       "      <td>41</td>\n",
       "      <td>1</td>\n",
       "      <td>83807.86</td>\n",
       "      <td>1</td>\n",
       "      <td>0</td>\n",
       "      <td>1</td>\n",
       "      <td>112542.58</td>\n",
       "      <td>0</td>\n",
       "      <td>0</td>\n",
       "      <td>1</td>\n",
       "      <td>0</td>\n",
       "    </tr>\n",
       "    <tr>\n",
       "      <th>2</th>\n",
       "      <td>502</td>\n",
       "      <td>42</td>\n",
       "      <td>8</td>\n",
       "      <td>159660.80</td>\n",
       "      <td>3</td>\n",
       "      <td>1</td>\n",
       "      <td>0</td>\n",
       "      <td>113931.57</td>\n",
       "      <td>1</td>\n",
       "      <td>0</td>\n",
       "      <td>0</td>\n",
       "      <td>0</td>\n",
       "    </tr>\n",
       "    <tr>\n",
       "      <th>3</th>\n",
       "      <td>699</td>\n",
       "      <td>39</td>\n",
       "      <td>1</td>\n",
       "      <td>0.00</td>\n",
       "      <td>2</td>\n",
       "      <td>0</td>\n",
       "      <td>0</td>\n",
       "      <td>93826.63</td>\n",
       "      <td>0</td>\n",
       "      <td>0</td>\n",
       "      <td>0</td>\n",
       "      <td>0</td>\n",
       "    </tr>\n",
       "    <tr>\n",
       "      <th>4</th>\n",
       "      <td>850</td>\n",
       "      <td>43</td>\n",
       "      <td>2</td>\n",
       "      <td>125510.82</td>\n",
       "      <td>1</td>\n",
       "      <td>1</td>\n",
       "      <td>1</td>\n",
       "      <td>79084.10</td>\n",
       "      <td>0</td>\n",
       "      <td>0</td>\n",
       "      <td>1</td>\n",
       "      <td>0</td>\n",
       "    </tr>\n",
       "  </tbody>\n",
       "</table>\n",
       "</div>"
      ],
      "text/plain": [
       "   CreditScore  Age  Tenure    Balance  NumOfProducts  HasCrCard  \\\n",
       "0          619   42       2       0.00              1          1   \n",
       "1          608   41       1   83807.86              1          0   \n",
       "2          502   42       8  159660.80              3          1   \n",
       "3          699   39       1       0.00              2          0   \n",
       "4          850   43       2  125510.82              1          1   \n",
       "\n",
       "   IsActiveMember  EstimatedSalary  Exited  Geography_Germany  \\\n",
       "0               1        101348.88       1                  0   \n",
       "1               1        112542.58       0                  0   \n",
       "2               0        113931.57       1                  0   \n",
       "3               0         93826.63       0                  0   \n",
       "4               1         79084.10       0                  0   \n",
       "\n",
       "   Geography_Spain  Gender_Male  \n",
       "0                0            0  \n",
       "1                1            0  \n",
       "2                0            0  \n",
       "3                0            0  \n",
       "4                1            0  "
      ]
     },
     "execution_count": 13,
     "metadata": {},
     "output_type": "execute_result"
    }
   ],
   "source": [
    "df = pd.get_dummies(df, drop_first = True)\n",
    "df.head()"
   ]
  },
  {
   "cell_type": "code",
   "execution_count": 14,
   "metadata": {
    "scrolled": true
   },
   "outputs": [],
   "source": [
    "df_train, df_valid = train_test_split(df, test_size = 0.40, random_state = 12345)\n",
    "\n",
    "df_valid, df_test = train_test_split(df_valid, test_size = 0.50, random_state = 12345)"
   ]
  },
  {
   "cell_type": "code",
   "execution_count": 15,
   "metadata": {},
   "outputs": [],
   "source": [
    "features_train = df_train.drop(['Exited'], axis = 1)\n",
    "target_train = df_train['Exited']\n",
    "\n",
    "features_valid = df_valid.drop(['Exited'], axis = 1)\n",
    "target_valid = df_valid['Exited']\n",
    "\n",
    "features_test = df_test.drop(['Exited'], axis = 1)\n",
    "target_test = df_test['Exited']"
   ]
  },
  {
   "cell_type": "code",
   "execution_count": 16,
   "metadata": {
    "scrolled": true
   },
   "outputs": [
    {
     "data": {
      "text/plain": [
       "((6000, 11), (6000,), (2000, 11), (2000,), (2000, 11), (2000,))"
      ]
     },
     "execution_count": 16,
     "metadata": {},
     "output_type": "execute_result"
    }
   ],
   "source": [
    "features_train.shape, target_train.shape, features_valid.shape, target_valid.shape, features_test.shape, target_test.shape"
   ]
  },
  {
   "cell_type": "markdown",
   "metadata": {},
   "source": [
    "**Данные успешно поделили**"
   ]
  },
  {
   "cell_type": "code",
   "execution_count": 17,
   "metadata": {},
   "outputs": [
    {
     "data": {
      "text/plain": [
       "0    0.796\n",
       "1    0.204\n",
       "Name: Exited, dtype: float64"
      ]
     },
     "execution_count": 17,
     "metadata": {},
     "output_type": "execute_result"
    }
   ],
   "source": [
    "df.Exited.value_counts(normalize = True).round(3)"
   ]
  },
  {
   "cell_type": "markdown",
   "metadata": {},
   "source": [
    "**Видим, что факт ухода клиента зафиксирован в 20% случаев. Позже придется балансировать классы**"
   ]
  },
  {
   "cell_type": "markdown",
   "metadata": {},
   "source": [
    "**Видим, что в столбцах Balance, CreditScore, EstimatedSalary разброс сильнее, чем в столбце Age. Так модель подумает, что значения столцов Balance, EstimatedSalary и CreditScore важнее, чем значения в Age. А это неправда. Стандартизируем:**"
   ]
  },
  {
   "cell_type": "code",
   "execution_count": 18,
   "metadata": {},
   "outputs": [],
   "source": [
    "numeric = ['CreditScore', 'Age', 'Balance', 'EstimatedSalary']\n",
    "scaler = StandardScaler()\n",
    "scaler.fit(features_train[numeric]) \n",
    "\n",
    "features_train[numeric] = scaler.transform(features_train[numeric])\n",
    "features_valid[numeric] = scaler.transform(features_valid[numeric])\n",
    "features_test[numeric] = scaler.transform(features_test[numeric])"
   ]
  },
  {
   "cell_type": "markdown",
   "metadata": {},
   "source": [
    "**Теперь приступим к обучению моделей. Использовать будем LogisticRegression и RandomForestClassifier**"
   ]
  },
  {
   "cell_type": "code",
   "execution_count": 19,
   "metadata": {},
   "outputs": [],
   "source": [
    "def stats(predictions, target_valid, features_valid):\n",
    "    print('Accuracy:', accuracy_score(predictions, target_valid))\n",
    "    print('Recall:', recall_score(predictions, target_valid))\n",
    "    print('Precision:',  precision_score(predictions, target_valid))\n",
    "    print('F1:', f1_score(predictions, target_valid))\n",
    "    \n",
    "    probabilities_one_valid = model.predict_proba(features_valid)[:, 1]\n",
    "    print('AUC-ROC:', roc_auc_score(target_valid, probabilities_one_valid))"
   ]
  },
  {
   "cell_type": "code",
   "execution_count": 20,
   "metadata": {},
   "outputs": [
    {
     "name": "stdout",
     "output_type": "stream",
     "text": [
      "Accuracy: 0.702\n",
      "Recall: 0.3810160427807487\n",
      "Precision: 0.6818181818181818\n",
      "F1: 0.4888507718696398\n",
      "AUC-ROC: 0.7636826378093262\n"
     ]
    }
   ],
   "source": [
    "# Logistic Regression\n",
    "model = LogisticRegression(random_state = 12345, class_weight = 'balanced')\n",
    "model.fit(features_train, target_train)\n",
    "predictions = model.predict(features_valid)\n",
    "\n",
    "stats(predictions, target_valid, features_valid)"
   ]
  },
  {
   "cell_type": "code",
   "execution_count": 21,
   "metadata": {},
   "outputs": [
    {
     "name": "stdout",
     "output_type": "stream",
     "text": [
      "Лучшая мера F1: 0.6026986506746627\n",
      "Лучшие параметры: {'Best Estimator': 21, 'Best Depth': 11, 'Best Criterion': 'gini'}\n"
     ]
    }
   ],
   "source": [
    "# Подбор параметров для модели случайного леса\n",
    "best_f1 = 0\n",
    "best_estimators = 0\n",
    "best_depth = 0\n",
    "best_criterion = ''\n",
    "\n",
    "for estimator in range(1,101,10):\n",
    "    for depth in range(1,21):\n",
    "        for criterion in ['gini', 'entropy']:\n",
    "            model = RandomForestClassifier(\n",
    "                                            n_estimators = estimator, \n",
    "                                            max_features = 'sqrt', \n",
    "                                            max_depth = depth,\n",
    "                                            criterion = criterion,\n",
    "                                           )\n",
    "            model.fit(features_train, target_train)\n",
    "\n",
    "            predictions = model.predict(features_valid)\n",
    "            f1 = f1_score(target_valid, predictions)\n",
    "            if f1 > best_f1:\n",
    "                best_f1 = f1\n",
    "                best_estimators = estimator\n",
    "                best_depth=depth\n",
    "                best_criterion = criterion\n",
    "                                \n",
    "params = {'Best Estimator' : best_estimators,\n",
    "          'Best Depth' : best_depth,\n",
    "          'Best Criterion' : best_criterion\n",
    "         }\n",
    "                        \n",
    "print('Лучшая мера F1:', best_f1)\n",
    "print('Лучшие параметры:', params)"
   ]
  },
  {
   "cell_type": "markdown",
   "metadata": {},
   "source": [
    "**Невероятным усилием получили параметры лучшей модели случайного леса**"
   ]
  },
  {
   "cell_type": "markdown",
   "metadata": {},
   "source": [
    "**Вывод**\n",
    "* Разделили выборку на тренировочную, валидационную и тестовую. Модель обучилась на тестовой выборке, проверялась на валидационной, и будет предсказывать на тестовой выборке в 4 пункте\n",
    "* Категориальные признаки трансформировали методом **OHE**\n",
    "* Категоризировали значения в столбцах количественных признаков\n",
    "* Посмотрели на значения целевого признака. Разброс положительных к отрицательным признакам - 20/80. В 3 пункте будем балансировать классы методом **upsampling** и **downsampling**\n",
    "* Перебрали гиперпараметры модели случайного леса: Best Estimator: 61, Best Depth: 6, Best Criterion: entropy. Далее будем использовать их\n",
    "* Модель **LogisticRegression** показала F1 равный 0.488, а модель **RandomForestClassifier** –– 0.63"
   ]
  },
  {
   "cell_type": "markdown",
   "metadata": {},
   "source": [
    "## Борьба с дисбалансом"
   ]
  },
  {
   "cell_type": "code",
   "execution_count": 22,
   "metadata": {},
   "outputs": [],
   "source": [
    "# Upsampling\n",
    "\n",
    "def upsampling(features, target, repeat):\n",
    "    features_zeros = features[target == 0]\n",
    "    features_ones = features[target == 1]\n",
    "    target_zeros = target[target == 0]\n",
    "    target_ones = target[target == 1]\n",
    "\n",
    "    features_upsampled = pd.concat([features_zeros] + [features_ones] * repeat)\n",
    "    target_upsampled = pd.concat([target_zeros] + [target_ones] * repeat)\n",
    "    \n",
    "    features_upsampled, target_upsampled = shuffle(\n",
    "        features_upsampled, target_upsampled, random_state=12345)\n",
    "    \n",
    "    return features_upsampled, target_upsampled"
   ]
  },
  {
   "cell_type": "code",
   "execution_count": 23,
   "metadata": {},
   "outputs": [],
   "source": [
    "features_upsampled_train, target_upsampled_train = upsampling(features_train, target_train, 4)"
   ]
  },
  {
   "cell_type": "markdown",
   "metadata": {},
   "source": [
    "**Посмотрим, как модели покажут себя на выборках без дисбаланса:**"
   ]
  },
  {
   "cell_type": "code",
   "execution_count": 24,
   "metadata": {
    "scrolled": true
   },
   "outputs": [
    {
     "name": "stdout",
     "output_type": "stream",
     "text": [
      "Accuracy: 0.798\n",
      "Recall: 0.511864406779661\n",
      "Precision: 0.722488038277512\n",
      "F1: 0.5992063492063492\n",
      "AUC-ROC: 0.8480195863754317\n"
     ]
    }
   ],
   "source": [
    "model = RandomForestClassifier(n_estimators = 61,\n",
    "                               criterion = 'gini',\n",
    "                               max_features = 'sqrt',\n",
    "                               class_weight = 'balanced',\n",
    "                               max_depth = 6)\n",
    "\n",
    "model.fit(features_upsampled_train, target_upsampled_train)\n",
    "\n",
    "predictions = model.predict(features_valid)\n",
    "stats(predictions, target_valid, features_valid)"
   ]
  },
  {
   "cell_type": "code",
   "execution_count": 25,
   "metadata": {},
   "outputs": [
    {
     "name": "stdout",
     "output_type": "stream",
     "text": [
      "Accuracy: 0.702\n",
      "Recall: 0.3810160427807487\n",
      "Precision: 0.6818181818181818\n",
      "F1: 0.4888507718696398\n",
      "AUC-ROC: 0.7636176120107186\n"
     ]
    }
   ],
   "source": [
    "model = LogisticRegression()\n",
    "\n",
    "model.fit(features_upsampled_train, target_upsampled_train)\n",
    "predictions = model.predict(features_valid)\n",
    "stats(predictions, target_valid, features_valid)"
   ]
  },
  {
   "cell_type": "markdown",
   "metadata": {},
   "source": [
    "**Upsampling не помог: для модели логистической регрессии ничего не изменилось, а для случайного леса метрика F1 уменьшилась на 1%. Попробуем Downsampling**"
   ]
  },
  {
   "cell_type": "code",
   "execution_count": 26,
   "metadata": {},
   "outputs": [],
   "source": [
    "# Downsampling\n",
    "def downsampling(features, target, fraction):\n",
    "    features_zeros = features[target == 0]\n",
    "    features_ones = features[target == 1]\n",
    "    target_zeros = target[target == 0]\n",
    "    target_ones = target[target == 1]\n",
    "\n",
    "    features_downsampled = pd.concat(\n",
    "        [features_zeros.sample(frac=fraction, random_state=12345)] + [features_ones])\n",
    "    target_downsampled = pd.concat(\n",
    "        [target_zeros.sample(frac=fraction, random_state=12345)] + [target_ones])\n",
    "    \n",
    "    features_downsampled, target_downsampled = shuffle(\n",
    "        features_downsampled, target_downsampled, random_state=12345)\n",
    "    \n",
    "    return features_downsampled, target_downsampled"
   ]
  },
  {
   "cell_type": "code",
   "execution_count": 27,
   "metadata": {},
   "outputs": [],
   "source": [
    "features_downsampled_train, target_downsampled_train = downsampling(features_train, target_train, 0.25)"
   ]
  },
  {
   "cell_type": "code",
   "execution_count": 28,
   "metadata": {},
   "outputs": [
    {
     "name": "stdout",
     "output_type": "stream",
     "text": [
      "Accuracy: 0.7005\n",
      "Recall: 0.3781965006729475\n",
      "Precision: 0.6722488038277512\n",
      "F1: 0.48406546080964685\n",
      "AUC-ROC: 0.7622278745939669\n"
     ]
    }
   ],
   "source": [
    "model = LogisticRegression()\n",
    "\n",
    "model.fit(features_downsampled_train, target_downsampled_train)\n",
    "predictions = model.predict(features_valid)\n",
    "stats(predictions, target_valid, features_valid)"
   ]
  },
  {
   "cell_type": "code",
   "execution_count": 29,
   "metadata": {},
   "outputs": [
    {
     "name": "stdout",
     "output_type": "stream",
     "text": [
      "Accuracy: 0.779\n",
      "Recall: 0.4815950920245399\n",
      "Precision: 0.7511961722488039\n",
      "F1: 0.5869158878504672\n",
      "AUC-ROC: 0.8437218347558356\n"
     ]
    }
   ],
   "source": [
    "model = RandomForestClassifier(n_estimators = 61,\n",
    "                               criterion = 'gini',\n",
    "                               max_features = 'sqrt',\n",
    "                               class_weight = 'balanced',\n",
    "                               max_depth = 6)\n",
    "\n",
    "model.fit(features_downsampled_train, target_downsampled_train)\n",
    "\n",
    "predictions = model.predict(features_valid)\n",
    "stats(predictions, target_valid, features_valid)"
   ]
  },
  {
   "cell_type": "markdown",
   "metadata": {},
   "source": [
    "**Downsampling еще хуже сделал. F1 у случайного леса понизилась еще на 1%, а у логистической регрессии – на 0.4%**"
   ]
  },
  {
   "cell_type": "markdown",
   "metadata": {},
   "source": [
    "**Вывод**\n",
    "* Обучили две модели: **Logistic Regression** и **RandomForestClassifier**\n",
    "* Логистическая регрессия показала F1 меру 48%, а случайный лес показал 61% без устранения дисбаланса\n",
    "* В результате апсемплинга логистическая регрессия показала F1 меру 48.8% (без изменений), а случайный лес показал 60% (на 1 процент меньше) –- апсемплинг не помог\n",
    "* В результате даунсемплинга логистическая регрессия показала F1 меру 48.4% (на 0.4% меньше чем в апсемплинге), а случайный лес показал 59% (еще на 1% меньше чем в апсемплинге)\n",
    "* **RandomForestClassifier** лучшая модель, ее будем использовать на тестовой выборке"
   ]
  },
  {
   "cell_type": "markdown",
   "metadata": {},
   "source": [
    "## Тестирование модели"
   ]
  },
  {
   "cell_type": "code",
   "execution_count": 30,
   "metadata": {},
   "outputs": [
    {
     "name": "stdout",
     "output_type": "stream",
     "text": [
      "Accuracy: 0.798\n",
      "Recall: 0.5164075993091537\n",
      "Precision: 0.706855791962175\n",
      "F1: 0.5968063872255489\n",
      "AUC-ROC: 0.8451739020284196\n"
     ]
    }
   ],
   "source": [
    "model = RandomForestClassifier(n_estimators = 61,\n",
    "                               criterion = 'gini',\n",
    "                               max_features = 'sqrt',\n",
    "                               class_weight = 'balanced',\n",
    "                               max_depth = 6)\n",
    "\n",
    "model.fit(features_train, target_train)\n",
    "\n",
    "predictions = model.predict(features_test)\n",
    "stats(predictions, target_test, features_test)"
   ]
  },
  {
   "cell_type": "markdown",
   "metadata": {},
   "source": [
    "**Вывод**\n",
    "* Открыли и изучили данные\n",
    "* Трансформировали категориальные признаки методом OHE, стандартизировали количественные признаки\n",
    "* Выявили дисбаланс классов: 1:4\n",
    "* Проверили Логистическую регрессию и случайный лес без увеличения и уменьшения выборки. Лучшей моделью оказался случайный лес. Его F-мера составила 61%.\n",
    "* После апсемплинга показатели обеих моделей ухудшились, точно как и после даунсемплинге\n",
    "* Решили использовать данные без апсемсплинга и даунсемплинга, на тестовой выборке модель случайного леса показала F1 меру 60,1%, AUC-ROC – 85% "
   ]
  }
 ],
 "metadata": {
  "ExecuteTimeLog": [
   {
    "duration": 451,
    "start_time": "2023-04-23T19:22:09.830Z"
   },
   {
    "duration": 114,
    "start_time": "2023-04-23T19:22:45.104Z"
   },
   {
    "duration": 63,
    "start_time": "2023-04-23T19:23:33.771Z"
   },
   {
    "duration": 6,
    "start_time": "2023-04-23T19:24:54.435Z"
   },
   {
    "duration": 112,
    "start_time": "2023-04-23T19:24:58.688Z"
   },
   {
    "duration": 1950,
    "start_time": "2023-04-23T19:25:05.343Z"
   },
   {
    "duration": 17,
    "start_time": "2023-04-23T19:25:42.099Z"
   },
   {
    "duration": 16,
    "start_time": "2023-04-23T19:26:05.974Z"
   },
   {
    "duration": 15,
    "start_time": "2023-04-23T19:26:11.022Z"
   },
   {
    "duration": 16,
    "start_time": "2023-04-23T19:26:12.606Z"
   },
   {
    "duration": 38,
    "start_time": "2023-04-23T19:26:21.012Z"
   },
   {
    "duration": 36,
    "start_time": "2023-04-23T19:26:22.520Z"
   },
   {
    "duration": 51,
    "start_time": "2023-04-23T19:26:27.877Z"
   },
   {
    "duration": 812,
    "start_time": "2023-04-23T19:26:39.004Z"
   },
   {
    "duration": 887,
    "start_time": "2023-04-23T19:26:44.363Z"
   },
   {
    "duration": 1122,
    "start_time": "2023-04-23T19:26:51.270Z"
   },
   {
    "duration": 7,
    "start_time": "2023-04-23T19:29:17.605Z"
   },
   {
    "duration": 16,
    "start_time": "2023-04-23T19:29:39.429Z"
   },
   {
    "duration": 21,
    "start_time": "2023-04-23T19:30:52.013Z"
   },
   {
    "duration": 1257,
    "start_time": "2023-04-23T20:17:17.701Z"
   },
   {
    "duration": 453,
    "start_time": "2023-04-23T20:18:25.304Z"
   },
   {
    "duration": 58,
    "start_time": "2023-04-23T20:18:25.760Z"
   },
   {
    "duration": 16,
    "start_time": "2023-04-23T20:18:25.820Z"
   },
   {
    "duration": 28,
    "start_time": "2023-04-23T20:18:25.838Z"
   },
   {
    "duration": 45,
    "start_time": "2023-04-23T20:18:25.869Z"
   },
   {
    "duration": 1983,
    "start_time": "2023-04-23T20:18:25.916Z"
   },
   {
    "duration": 8,
    "start_time": "2023-04-23T20:18:27.900Z"
   },
   {
    "duration": 9,
    "start_time": "2023-04-23T20:18:27.910Z"
   },
   {
    "duration": 20019,
    "start_time": "2023-04-23T20:18:27.934Z"
   },
   {
    "duration": 8,
    "start_time": "2023-04-23T20:20:05.006Z"
   },
   {
    "duration": 24,
    "start_time": "2023-04-23T20:20:23.653Z"
   },
   {
    "duration": 108,
    "start_time": "2023-04-23T20:20:42.817Z"
   },
   {
    "duration": 5,
    "start_time": "2023-04-23T20:20:54.827Z"
   },
   {
    "duration": 91,
    "start_time": "2023-04-23T20:22:07.085Z"
   },
   {
    "duration": 91,
    "start_time": "2023-04-23T20:22:11.711Z"
   },
   {
    "duration": 5,
    "start_time": "2023-04-23T20:22:45.876Z"
   },
   {
    "duration": 401,
    "start_time": "2023-04-23T20:23:14.336Z"
   },
   {
    "duration": 65,
    "start_time": "2023-04-23T20:23:14.739Z"
   },
   {
    "duration": 12,
    "start_time": "2023-04-23T20:23:14.806Z"
   },
   {
    "duration": 23,
    "start_time": "2023-04-23T20:23:14.820Z"
   },
   {
    "duration": 49,
    "start_time": "2023-04-23T20:23:14.845Z"
   },
   {
    "duration": 1491,
    "start_time": "2023-04-23T20:23:14.896Z"
   },
   {
    "duration": 8,
    "start_time": "2023-04-23T20:23:16.389Z"
   },
   {
    "duration": 11,
    "start_time": "2023-04-23T20:23:16.399Z"
   },
   {
    "duration": 234,
    "start_time": "2023-04-23T20:23:16.412Z"
   },
   {
    "duration": 120938,
    "start_time": "2023-04-23T20:25:31.559Z"
   },
   {
    "duration": 118,
    "start_time": "2023-04-23T20:40:41.810Z"
   },
   {
    "duration": 152,
    "start_time": "2023-04-23T20:40:44.794Z"
   },
   {
    "duration": 195,
    "start_time": "2023-04-23T20:40:51.310Z"
   },
   {
    "duration": 6,
    "start_time": "2023-04-23T20:41:08.578Z"
   },
   {
    "duration": 7,
    "start_time": "2023-04-23T20:43:46.957Z"
   },
   {
    "duration": 10,
    "start_time": "2023-04-23T20:43:54.531Z"
   },
   {
    "duration": 453,
    "start_time": "2023-04-23T20:43:59.924Z"
   },
   {
    "duration": 969,
    "start_time": "2023-04-23T20:44:06.347Z"
   },
   {
    "duration": 17,
    "start_time": "2023-04-23T20:44:22.698Z"
   },
   {
    "duration": 6,
    "start_time": "2023-04-23T20:45:09.474Z"
   },
   {
    "duration": 9,
    "start_time": "2023-04-23T20:46:36.945Z"
   },
   {
    "duration": 285,
    "start_time": "2023-04-23T21:00:50.445Z"
   },
   {
    "duration": 4,
    "start_time": "2023-04-23T21:01:06.714Z"
   },
   {
    "duration": 115,
    "start_time": "2023-04-23T21:04:42.066Z"
   },
   {
    "duration": 62,
    "start_time": "2023-04-23T21:05:00.063Z"
   },
   {
    "duration": 17,
    "start_time": "2023-04-23T21:05:11.961Z"
   },
   {
    "duration": 22,
    "start_time": "2023-04-23T21:05:34.281Z"
   },
   {
    "duration": 17,
    "start_time": "2023-04-23T21:05:51.481Z"
   },
   {
    "duration": 7,
    "start_time": "2023-04-23T21:07:06.376Z"
   },
   {
    "duration": 11,
    "start_time": "2023-04-23T21:07:09.394Z"
   },
   {
    "duration": 8,
    "start_time": "2023-04-23T21:07:28.607Z"
   },
   {
    "duration": 12,
    "start_time": "2023-04-23T21:07:31.079Z"
   },
   {
    "duration": 8,
    "start_time": "2023-04-23T21:11:17.942Z"
   },
   {
    "duration": 11,
    "start_time": "2023-04-23T21:12:07.628Z"
   },
   {
    "duration": 4,
    "start_time": "2023-04-23T21:13:30.424Z"
   },
   {
    "duration": 5,
    "start_time": "2023-04-23T21:14:07.109Z"
   },
   {
    "duration": 22,
    "start_time": "2023-04-23T21:17:29.520Z"
   },
   {
    "duration": 23,
    "start_time": "2023-04-23T21:18:04.425Z"
   },
   {
    "duration": 4,
    "start_time": "2023-04-23T21:20:28.378Z"
   },
   {
    "duration": 12,
    "start_time": "2023-04-23T21:25:38.074Z"
   },
   {
    "duration": 1555,
    "start_time": "2023-04-24T16:10:42.424Z"
   },
   {
    "duration": 137,
    "start_time": "2023-04-24T16:10:43.981Z"
   },
   {
    "duration": 14,
    "start_time": "2023-04-24T16:10:44.119Z"
   },
   {
    "duration": 18,
    "start_time": "2023-04-24T16:10:44.135Z"
   },
   {
    "duration": 4,
    "start_time": "2023-04-24T16:10:44.154Z"
   },
   {
    "duration": 117,
    "start_time": "2023-04-24T16:10:44.160Z"
   },
   {
    "duration": 0,
    "start_time": "2023-04-24T16:10:44.279Z"
   },
   {
    "duration": 0,
    "start_time": "2023-04-24T16:10:44.280Z"
   },
   {
    "duration": 0,
    "start_time": "2023-04-24T16:10:44.281Z"
   },
   {
    "duration": 0,
    "start_time": "2023-04-24T16:10:44.282Z"
   },
   {
    "duration": 0,
    "start_time": "2023-04-24T16:10:44.283Z"
   },
   {
    "duration": 0,
    "start_time": "2023-04-24T16:10:44.284Z"
   },
   {
    "duration": 0,
    "start_time": "2023-04-24T16:10:44.284Z"
   },
   {
    "duration": 1541,
    "start_time": "2023-04-24T19:06:55.253Z"
   },
   {
    "duration": 99,
    "start_time": "2023-04-24T19:06:56.796Z"
   },
   {
    "duration": 15,
    "start_time": "2023-04-24T19:06:56.896Z"
   },
   {
    "duration": 21,
    "start_time": "2023-04-24T19:06:56.913Z"
   },
   {
    "duration": 5,
    "start_time": "2023-04-24T19:06:56.939Z"
   },
   {
    "duration": 151,
    "start_time": "2023-04-24T19:06:56.947Z"
   },
   {
    "duration": 0,
    "start_time": "2023-04-24T19:06:57.100Z"
   },
   {
    "duration": 0,
    "start_time": "2023-04-24T19:06:57.106Z"
   },
   {
    "duration": 0,
    "start_time": "2023-04-24T19:06:57.108Z"
   },
   {
    "duration": 0,
    "start_time": "2023-04-24T19:06:57.109Z"
   },
   {
    "duration": 0,
    "start_time": "2023-04-24T19:06:57.111Z"
   },
   {
    "duration": 0,
    "start_time": "2023-04-24T19:06:57.113Z"
   },
   {
    "duration": 0,
    "start_time": "2023-04-24T19:06:57.133Z"
   },
   {
    "duration": 1398,
    "start_time": "2023-04-24T19:07:42.216Z"
   },
   {
    "duration": 61,
    "start_time": "2023-04-24T19:07:43.616Z"
   },
   {
    "duration": 13,
    "start_time": "2023-04-24T19:07:43.679Z"
   },
   {
    "duration": 19,
    "start_time": "2023-04-24T19:07:43.694Z"
   },
   {
    "duration": 11,
    "start_time": "2023-04-24T19:07:43.714Z"
   },
   {
    "duration": 57,
    "start_time": "2023-04-24T19:07:43.727Z"
   },
   {
    "duration": 1287,
    "start_time": "2023-04-24T19:07:43.786Z"
   },
   {
    "duration": 8,
    "start_time": "2023-04-24T19:07:45.074Z"
   },
   {
    "duration": 19,
    "start_time": "2023-04-24T19:07:45.083Z"
   },
   {
    "duration": 21,
    "start_time": "2023-04-24T19:07:45.104Z"
   },
   {
    "duration": 11,
    "start_time": "2023-04-24T19:07:45.126Z"
   },
   {
    "duration": 7,
    "start_time": "2023-04-24T19:07:45.138Z"
   },
   {
    "duration": 6,
    "start_time": "2023-04-24T19:07:45.146Z"
   },
   {
    "duration": 5,
    "start_time": "2023-04-24T19:07:54.287Z"
   },
   {
    "duration": 119,
    "start_time": "2023-04-24T19:07:57.169Z"
   },
   {
    "duration": 10,
    "start_time": "2023-04-24T19:08:12.525Z"
   },
   {
    "duration": 1386,
    "start_time": "2023-04-24T19:08:17.338Z"
   },
   {
    "duration": 46,
    "start_time": "2023-04-24T19:08:18.726Z"
   },
   {
    "duration": 12,
    "start_time": "2023-04-24T19:08:18.773Z"
   },
   {
    "duration": 15,
    "start_time": "2023-04-24T19:08:18.787Z"
   },
   {
    "duration": 2,
    "start_time": "2023-04-24T19:08:18.805Z"
   },
   {
    "duration": 42,
    "start_time": "2023-04-24T19:08:18.808Z"
   },
   {
    "duration": 1298,
    "start_time": "2023-04-24T19:08:18.851Z"
   },
   {
    "duration": 7,
    "start_time": "2023-04-24T19:08:20.150Z"
   },
   {
    "duration": 15,
    "start_time": "2023-04-24T19:08:20.159Z"
   },
   {
    "duration": 18,
    "start_time": "2023-04-24T19:08:20.190Z"
   },
   {
    "duration": 11,
    "start_time": "2023-04-24T19:08:20.210Z"
   },
   {
    "duration": 13,
    "start_time": "2023-04-24T19:08:20.223Z"
   },
   {
    "duration": 16,
    "start_time": "2023-04-24T19:08:20.237Z"
   },
   {
    "duration": 12,
    "start_time": "2023-04-24T19:12:10.139Z"
   },
   {
    "duration": 6,
    "start_time": "2023-04-24T19:14:35.154Z"
   },
   {
    "duration": 4,
    "start_time": "2023-04-24T19:18:50.668Z"
   },
   {
    "duration": 45,
    "start_time": "2023-04-24T19:18:52.013Z"
   },
   {
    "duration": 1321,
    "start_time": "2023-04-24T19:18:59.082Z"
   },
   {
    "duration": 76,
    "start_time": "2023-04-24T19:19:00.405Z"
   },
   {
    "duration": 14,
    "start_time": "2023-04-24T19:19:00.483Z"
   },
   {
    "duration": 52,
    "start_time": "2023-04-24T19:19:00.499Z"
   },
   {
    "duration": 37,
    "start_time": "2023-04-24T19:19:00.555Z"
   },
   {
    "duration": 70,
    "start_time": "2023-04-24T19:19:00.594Z"
   },
   {
    "duration": 1146,
    "start_time": "2023-04-24T19:19:00.666Z"
   },
   {
    "duration": 8,
    "start_time": "2023-04-24T19:19:01.813Z"
   },
   {
    "duration": 30,
    "start_time": "2023-04-24T19:19:01.822Z"
   },
   {
    "duration": 57,
    "start_time": "2023-04-24T19:19:01.854Z"
   },
   {
    "duration": 15,
    "start_time": "2023-04-24T19:19:01.913Z"
   },
   {
    "duration": 39,
    "start_time": "2023-04-24T19:19:01.930Z"
   },
   {
    "duration": 31,
    "start_time": "2023-04-24T19:19:01.970Z"
   },
   {
    "duration": 27,
    "start_time": "2023-04-24T19:19:02.003Z"
   },
   {
    "duration": 19,
    "start_time": "2023-04-24T19:21:39.782Z"
   },
   {
    "duration": 2,
    "start_time": "2023-04-24T20:35:05.899Z"
   },
   {
    "duration": 21,
    "start_time": "2023-04-24T20:36:33.920Z"
   },
   {
    "duration": 27,
    "start_time": "2023-04-24T20:36:40.106Z"
   },
   {
    "duration": 18,
    "start_time": "2023-04-24T20:36:45.597Z"
   },
   {
    "duration": 4,
    "start_time": "2023-04-24T20:44:18.468Z"
   },
   {
    "duration": 99,
    "start_time": "2023-04-24T20:44:35.553Z"
   },
   {
    "duration": 21,
    "start_time": "2023-04-24T20:44:51.239Z"
   },
   {
    "duration": 18,
    "start_time": "2023-04-24T20:47:25.615Z"
   },
   {
    "duration": 1494,
    "start_time": "2023-04-24T20:48:16.199Z"
   },
   {
    "duration": 122,
    "start_time": "2023-04-24T20:48:17.695Z"
   },
   {
    "duration": 14,
    "start_time": "2023-04-24T20:48:17.819Z"
   },
   {
    "duration": 17,
    "start_time": "2023-04-24T20:48:17.835Z"
   },
   {
    "duration": 4,
    "start_time": "2023-04-24T20:48:17.855Z"
   },
   {
    "duration": 45,
    "start_time": "2023-04-24T20:48:17.860Z"
   },
   {
    "duration": 1227,
    "start_time": "2023-04-24T20:48:17.906Z"
   },
   {
    "duration": 8,
    "start_time": "2023-04-24T20:48:19.135Z"
   },
   {
    "duration": 19,
    "start_time": "2023-04-24T20:48:19.144Z"
   },
   {
    "duration": 21,
    "start_time": "2023-04-24T20:48:19.165Z"
   },
   {
    "duration": 7,
    "start_time": "2023-04-24T20:48:19.188Z"
   },
   {
    "duration": 13,
    "start_time": "2023-04-24T20:48:19.196Z"
   },
   {
    "duration": 7,
    "start_time": "2023-04-24T20:48:19.211Z"
   },
   {
    "duration": 7,
    "start_time": "2023-04-24T20:48:19.233Z"
   },
   {
    "duration": 26,
    "start_time": "2023-04-24T20:48:19.242Z"
   },
   {
    "duration": 18,
    "start_time": "2023-04-24T20:48:19.270Z"
   },
   {
    "duration": 139,
    "start_time": "2023-04-24T20:48:19.290Z"
   },
   {
    "duration": 14,
    "start_time": "2023-04-24T20:49:14.098Z"
   },
   {
    "duration": 1532,
    "start_time": "2023-04-24T20:54:23.096Z"
   },
   {
    "duration": 44,
    "start_time": "2023-04-24T20:54:24.630Z"
   },
   {
    "duration": 12,
    "start_time": "2023-04-24T20:54:24.678Z"
   },
   {
    "duration": 16,
    "start_time": "2023-04-24T20:54:24.692Z"
   },
   {
    "duration": 8,
    "start_time": "2023-04-24T20:54:24.709Z"
   },
   {
    "duration": 39,
    "start_time": "2023-04-24T20:54:24.718Z"
   },
   {
    "duration": 1082,
    "start_time": "2023-04-24T20:54:24.759Z"
   },
   {
    "duration": 6,
    "start_time": "2023-04-24T20:54:25.843Z"
   },
   {
    "duration": 12,
    "start_time": "2023-04-24T20:54:25.851Z"
   },
   {
    "duration": 17,
    "start_time": "2023-04-24T20:54:25.864Z"
   },
   {
    "duration": 17,
    "start_time": "2023-04-24T20:54:25.883Z"
   },
   {
    "duration": 8,
    "start_time": "2023-04-24T20:54:25.902Z"
   },
   {
    "duration": 6,
    "start_time": "2023-04-24T20:54:25.933Z"
   },
   {
    "duration": 5,
    "start_time": "2023-04-24T20:54:25.940Z"
   },
   {
    "duration": 8,
    "start_time": "2023-04-24T20:54:25.947Z"
   },
   {
    "duration": 21,
    "start_time": "2023-04-24T20:54:25.956Z"
   },
   {
    "duration": 133,
    "start_time": "2023-04-24T20:54:25.978Z"
   },
   {
    "duration": 15,
    "start_time": "2023-04-24T20:56:59.098Z"
   },
   {
    "duration": 3,
    "start_time": "2023-04-24T20:57:06.840Z"
   },
   {
    "duration": 6,
    "start_time": "2023-04-24T20:57:11.507Z"
   },
   {
    "duration": 16,
    "start_time": "2023-04-24T20:57:16.412Z"
   },
   {
    "duration": 5,
    "start_time": "2023-04-24T20:57:48.807Z"
   },
   {
    "duration": 16,
    "start_time": "2023-04-24T20:57:52.607Z"
   },
   {
    "duration": 1453,
    "start_time": "2023-04-24T20:59:50.241Z"
   },
   {
    "duration": 59,
    "start_time": "2023-04-24T20:59:51.696Z"
   },
   {
    "duration": 13,
    "start_time": "2023-04-24T20:59:51.757Z"
   },
   {
    "duration": 20,
    "start_time": "2023-04-24T20:59:51.772Z"
   },
   {
    "duration": 5,
    "start_time": "2023-04-24T20:59:51.795Z"
   },
   {
    "duration": 46,
    "start_time": "2023-04-24T20:59:51.801Z"
   },
   {
    "duration": 1272,
    "start_time": "2023-04-24T20:59:51.849Z"
   },
   {
    "duration": 17,
    "start_time": "2023-04-24T20:59:53.124Z"
   },
   {
    "duration": 22,
    "start_time": "2023-04-24T20:59:53.143Z"
   },
   {
    "duration": 27,
    "start_time": "2023-04-24T20:59:53.166Z"
   },
   {
    "duration": 27,
    "start_time": "2023-04-24T20:59:53.195Z"
   },
   {
    "duration": 19,
    "start_time": "2023-04-24T20:59:53.223Z"
   },
   {
    "duration": 22,
    "start_time": "2023-04-24T20:59:53.244Z"
   },
   {
    "duration": 23,
    "start_time": "2023-04-24T20:59:53.268Z"
   },
   {
    "duration": 33,
    "start_time": "2023-04-24T20:59:53.293Z"
   },
   {
    "duration": 20,
    "start_time": "2023-04-24T20:59:53.328Z"
   },
   {
    "duration": 10,
    "start_time": "2023-04-24T20:59:53.350Z"
   },
   {
    "duration": 990,
    "start_time": "2023-04-24T20:59:53.361Z"
   },
   {
    "duration": 801,
    "start_time": "2023-04-24T21:00:14.141Z"
   },
   {
    "duration": 3,
    "start_time": "2023-04-24T21:00:31.726Z"
   },
   {
    "duration": 4,
    "start_time": "2023-04-24T21:00:39.974Z"
   },
   {
    "duration": 656,
    "start_time": "2023-04-24T21:00:43.279Z"
   },
   {
    "duration": 668,
    "start_time": "2023-04-24T21:01:20.167Z"
   },
   {
    "duration": 438,
    "start_time": "2023-04-24T21:04:07.405Z"
   },
   {
    "duration": 19,
    "start_time": "2023-04-24T21:04:09.573Z"
   },
   {
    "duration": 508,
    "start_time": "2023-04-24T21:04:10.528Z"
   },
   {
    "duration": 16,
    "start_time": "2023-04-24T21:04:16.406Z"
   },
   {
    "duration": 395,
    "start_time": "2023-04-24T21:04:19.340Z"
   },
   {
    "duration": 1586,
    "start_time": "2023-04-24T21:04:25.452Z"
   },
   {
    "duration": 75,
    "start_time": "2023-04-24T21:04:27.041Z"
   },
   {
    "duration": 21,
    "start_time": "2023-04-24T21:04:27.118Z"
   },
   {
    "duration": 30,
    "start_time": "2023-04-24T21:04:27.143Z"
   },
   {
    "duration": 6,
    "start_time": "2023-04-24T21:04:27.175Z"
   },
   {
    "duration": 75,
    "start_time": "2023-04-24T21:04:27.184Z"
   },
   {
    "duration": 1414,
    "start_time": "2023-04-24T21:04:27.262Z"
   },
   {
    "duration": 8,
    "start_time": "2023-04-24T21:04:28.678Z"
   },
   {
    "duration": 29,
    "start_time": "2023-04-24T21:04:28.688Z"
   },
   {
    "duration": 19,
    "start_time": "2023-04-24T21:04:28.720Z"
   },
   {
    "duration": 36,
    "start_time": "2023-04-24T21:04:28.741Z"
   },
   {
    "duration": 18,
    "start_time": "2023-04-24T21:04:28.779Z"
   },
   {
    "duration": 14,
    "start_time": "2023-04-24T21:04:28.799Z"
   },
   {
    "duration": 24,
    "start_time": "2023-04-24T21:04:28.815Z"
   },
   {
    "duration": 35,
    "start_time": "2023-04-24T21:04:28.841Z"
   },
   {
    "duration": 34,
    "start_time": "2023-04-24T21:04:28.878Z"
   },
   {
    "duration": 32,
    "start_time": "2023-04-24T21:04:28.914Z"
   },
   {
    "duration": 292,
    "start_time": "2023-04-24T21:04:28.948Z"
   },
   {
    "duration": 73,
    "start_time": "2023-04-24T21:16:14.412Z"
   },
   {
    "duration": 99,
    "start_time": "2023-04-24T21:16:23.416Z"
   },
   {
    "duration": 3,
    "start_time": "2023-04-24T21:16:54.142Z"
   },
   {
    "duration": 179823,
    "start_time": "2023-04-24T21:16:58.119Z"
   },
   {
    "duration": 3,
    "start_time": "2023-04-24T21:21:01.605Z"
   },
   {
    "duration": 3,
    "start_time": "2023-04-24T21:22:33.081Z"
   },
   {
    "duration": 29,
    "start_time": "2023-04-24T21:22:50.304Z"
   },
   {
    "duration": 435,
    "start_time": "2023-04-24T21:23:18.005Z"
   },
   {
    "duration": 3,
    "start_time": "2023-04-24T21:26:26.511Z"
   },
   {
    "duration": 10,
    "start_time": "2023-04-24T21:27:08.718Z"
   },
   {
    "duration": 5,
    "start_time": "2023-04-24T21:27:11.005Z"
   },
   {
    "duration": 11,
    "start_time": "2023-04-24T21:27:12.169Z"
   },
   {
    "duration": 21,
    "start_time": "2023-04-24T21:28:17.607Z"
   },
   {
    "duration": 185840,
    "start_time": "2023-04-24T21:29:07.780Z"
   },
   {
    "duration": 10,
    "start_time": "2023-04-24T21:32:19.386Z"
   },
   {
    "duration": 27,
    "start_time": "2023-04-24T21:32:28.105Z"
   },
   {
    "duration": 4,
    "start_time": "2023-04-24T21:33:34.891Z"
   },
   {
    "duration": 4,
    "start_time": "2023-04-24T21:33:44.464Z"
   },
   {
    "duration": 11,
    "start_time": "2023-04-24T21:34:15.434Z"
   },
   {
    "duration": 183539,
    "start_time": "2023-04-24T21:34:23.991Z"
   },
   {
    "duration": 32,
    "start_time": "2023-04-24T21:38:03.798Z"
   },
   {
    "duration": 30,
    "start_time": "2023-04-24T21:41:10.474Z"
   },
   {
    "duration": 30475,
    "start_time": "2023-04-24T21:41:33.142Z"
   },
   {
    "duration": 267151,
    "start_time": "2023-04-24T21:42:48.902Z"
   },
   {
    "duration": 34,
    "start_time": "2023-04-24T21:48:56.050Z"
   },
   {
    "duration": 132690,
    "start_time": "2023-04-24T21:53:46.824Z"
   },
   {
    "duration": 33,
    "start_time": "2023-04-24T21:56:03.752Z"
   },
   {
    "duration": 126393,
    "start_time": "2023-04-24T21:59:35.193Z"
   },
   {
    "duration": 19,
    "start_time": "2023-04-24T22:09:14.694Z"
   },
   {
    "duration": 19,
    "start_time": "2023-04-24T22:09:18.877Z"
   },
   {
    "duration": 18,
    "start_time": "2023-04-24T22:09:19.507Z"
   },
   {
    "duration": 19,
    "start_time": "2023-04-24T22:09:19.982Z"
   },
   {
    "duration": 18,
    "start_time": "2023-04-24T22:11:24.400Z"
   },
   {
    "duration": 4,
    "start_time": "2023-04-24T22:11:28.406Z"
   },
   {
    "duration": 9,
    "start_time": "2023-04-24T22:11:29.476Z"
   },
   {
    "duration": 132084,
    "start_time": "2023-04-24T22:11:39.639Z"
   },
   {
    "duration": 30,
    "start_time": "2023-04-24T22:13:55.805Z"
   },
   {
    "duration": 25,
    "start_time": "2023-04-24T22:13:59.032Z"
   },
   {
    "duration": 27,
    "start_time": "2023-04-24T22:14:10.919Z"
   },
   {
    "duration": 272427,
    "start_time": "2023-04-24T22:14:35.430Z"
   },
   {
    "duration": 46,
    "start_time": "2023-04-24T22:19:11.626Z"
   },
   {
    "duration": 33,
    "start_time": "2023-04-24T22:19:16.550Z"
   },
   {
    "duration": 177507,
    "start_time": "2023-04-24T22:19:26.579Z"
   },
   {
    "duration": 23,
    "start_time": "2023-04-24T22:22:30.595Z"
   },
   {
    "duration": 17,
    "start_time": "2023-04-24T22:22:38.842Z"
   },
   {
    "duration": 12,
    "start_time": "2023-04-24T22:28:33.478Z"
   },
   {
    "duration": 188850,
    "start_time": "2023-04-24T22:28:45.175Z"
   },
   {
    "duration": 28,
    "start_time": "2023-04-24T22:33:01.123Z"
   },
   {
    "duration": 28,
    "start_time": "2023-04-24T22:34:13.096Z"
   },
   {
    "duration": 21,
    "start_time": "2023-04-24T22:44:30.705Z"
   },
   {
    "duration": 5716,
    "start_time": "2023-04-24T22:49:48.539Z"
   },
   {
    "duration": 1415,
    "start_time": "2023-04-24T22:51:06.116Z"
   },
   {
    "duration": 138,
    "start_time": "2023-04-24T22:51:07.533Z"
   },
   {
    "duration": 13,
    "start_time": "2023-04-24T22:51:07.673Z"
   },
   {
    "duration": 41,
    "start_time": "2023-04-24T22:51:07.687Z"
   },
   {
    "duration": 4,
    "start_time": "2023-04-24T22:51:07.731Z"
   },
   {
    "duration": 35,
    "start_time": "2023-04-24T22:51:07.737Z"
   },
   {
    "duration": 1174,
    "start_time": "2023-04-24T22:51:07.774Z"
   },
   {
    "duration": 7,
    "start_time": "2023-04-24T22:51:08.950Z"
   },
   {
    "duration": 17,
    "start_time": "2023-04-24T22:51:08.958Z"
   },
   {
    "duration": 6,
    "start_time": "2023-04-24T22:51:08.976Z"
   },
   {
    "duration": 20,
    "start_time": "2023-04-24T22:51:08.983Z"
   },
   {
    "duration": 16,
    "start_time": "2023-04-24T22:51:09.004Z"
   },
   {
    "duration": 6,
    "start_time": "2023-04-24T22:51:09.034Z"
   },
   {
    "duration": 16,
    "start_time": "2023-04-24T22:51:09.042Z"
   },
   {
    "duration": 9,
    "start_time": "2023-04-24T22:51:09.060Z"
   },
   {
    "duration": 11,
    "start_time": "2023-04-24T22:51:09.070Z"
   },
   {
    "duration": 22,
    "start_time": "2023-04-24T22:51:09.083Z"
   },
   {
    "duration": 3,
    "start_time": "2023-04-24T22:51:09.106Z"
   },
   {
    "duration": 45,
    "start_time": "2023-04-24T22:51:09.110Z"
   },
   {
    "duration": 461479,
    "start_time": "2023-04-24T22:51:09.235Z"
   },
   {
    "duration": 38,
    "start_time": "2023-04-24T22:58:50.715Z"
   },
   {
    "duration": 3,
    "start_time": "2023-04-24T22:58:50.754Z"
   },
   {
    "duration": 19,
    "start_time": "2023-04-24T22:58:50.759Z"
   },
   {
    "duration": 619047,
    "start_time": "2023-04-24T22:58:50.780Z"
   },
   {
    "duration": 35,
    "start_time": "2023-04-24T23:09:09.833Z"
   },
   {
    "duration": 4,
    "start_time": "2023-04-24T23:09:09.869Z"
   },
   {
    "duration": 32,
    "start_time": "2023-04-24T23:09:09.875Z"
   },
   {
    "duration": 294528,
    "start_time": "2023-04-24T23:09:09.909Z"
   },
   {
    "duration": 21,
    "start_time": "2023-04-24T23:14:04.439Z"
   },
   {
    "duration": 21,
    "start_time": "2023-04-24T23:14:04.462Z"
   },
   {
    "duration": 454,
    "start_time": "2023-04-24T23:14:04.486Z"
   },
   {
    "duration": 5,
    "start_time": "2023-04-25T09:45:46.101Z"
   },
   {
    "duration": 1264,
    "start_time": "2023-04-25T09:46:00.389Z"
   },
   {
    "duration": 34,
    "start_time": "2023-04-25T09:46:38.551Z"
   },
   {
    "duration": 3653,
    "start_time": "2023-04-25T10:59:17.908Z"
   },
   {
    "duration": 100,
    "start_time": "2023-04-25T10:59:21.568Z"
   },
   {
    "duration": 84,
    "start_time": "2023-04-25T10:59:21.671Z"
   },
   {
    "duration": 28,
    "start_time": "2023-04-25T10:59:21.758Z"
   },
   {
    "duration": 14,
    "start_time": "2023-04-25T10:59:21.842Z"
   },
   {
    "duration": 130,
    "start_time": "2023-04-25T10:59:21.858Z"
   },
   {
    "duration": 3637,
    "start_time": "2023-04-25T10:59:22.047Z"
   },
   {
    "duration": 67,
    "start_time": "2023-04-25T10:59:25.686Z"
   },
   {
    "duration": 38,
    "start_time": "2023-04-25T10:59:25.755Z"
   },
   {
    "duration": 36,
    "start_time": "2023-04-25T10:59:25.842Z"
   },
   {
    "duration": 88,
    "start_time": "2023-04-25T10:59:25.880Z"
   },
   {
    "duration": 103,
    "start_time": "2023-04-25T10:59:25.971Z"
   },
   {
    "duration": 76,
    "start_time": "2023-04-25T10:59:26.077Z"
   },
   {
    "duration": 101,
    "start_time": "2023-04-25T10:59:26.156Z"
   },
   {
    "duration": 46,
    "start_time": "2023-04-25T10:59:26.259Z"
   },
   {
    "duration": 103,
    "start_time": "2023-04-25T10:59:26.308Z"
   },
   {
    "duration": 109,
    "start_time": "2023-04-25T10:59:26.440Z"
   },
   {
    "duration": 6,
    "start_time": "2023-04-25T10:59:26.552Z"
   },
   {
    "duration": 904,
    "start_time": "2023-04-25T10:59:26.560Z"
   },
   {
    "duration": 867151,
    "start_time": "2023-04-25T10:59:27.469Z"
   },
   {
    "duration": 172,
    "start_time": "2023-04-25T11:13:54.623Z"
   },
   {
    "duration": 0,
    "start_time": "2023-04-25T11:13:54.797Z"
   },
   {
    "duration": 0,
    "start_time": "2023-04-25T11:13:54.798Z"
   },
   {
    "duration": 0,
    "start_time": "2023-04-25T11:13:54.800Z"
   },
   {
    "duration": 0,
    "start_time": "2023-04-25T11:13:54.801Z"
   },
   {
    "duration": 0,
    "start_time": "2023-04-25T11:13:54.803Z"
   },
   {
    "duration": 0,
    "start_time": "2023-04-25T11:13:54.804Z"
   },
   {
    "duration": 0,
    "start_time": "2023-04-25T11:13:54.806Z"
   },
   {
    "duration": 0,
    "start_time": "2023-04-25T11:13:54.807Z"
   },
   {
    "duration": 0,
    "start_time": "2023-04-25T11:13:54.808Z"
   },
   {
    "duration": 84,
    "start_time": "2023-04-25T16:01:50.135Z"
   },
   {
    "duration": 52,
    "start_time": "2023-04-25T16:10:35.331Z"
   },
   {
    "duration": 1538,
    "start_time": "2023-04-25T16:10:42.175Z"
   },
   {
    "duration": 390,
    "start_time": "2023-04-25T16:10:43.715Z"
   },
   {
    "duration": 13,
    "start_time": "2023-04-25T16:10:44.107Z"
   },
   {
    "duration": 15,
    "start_time": "2023-04-25T16:10:44.121Z"
   },
   {
    "duration": 3,
    "start_time": "2023-04-25T16:10:44.138Z"
   },
   {
    "duration": 38,
    "start_time": "2023-04-25T16:10:44.143Z"
   },
   {
    "duration": 1204,
    "start_time": "2023-04-25T16:10:44.182Z"
   },
   {
    "duration": 8,
    "start_time": "2023-04-25T16:10:45.388Z"
   },
   {
    "duration": 43,
    "start_time": "2023-04-25T16:10:45.398Z"
   },
   {
    "duration": 14,
    "start_time": "2023-04-25T16:10:45.445Z"
   },
   {
    "duration": 30,
    "start_time": "2023-04-25T16:10:45.461Z"
   },
   {
    "duration": 17,
    "start_time": "2023-04-25T16:10:45.493Z"
   },
   {
    "duration": 7,
    "start_time": "2023-04-25T16:10:45.511Z"
   },
   {
    "duration": 18,
    "start_time": "2023-04-25T16:10:45.519Z"
   },
   {
    "duration": 25,
    "start_time": "2023-04-25T16:10:45.539Z"
   },
   {
    "duration": 19,
    "start_time": "2023-04-25T16:10:45.565Z"
   },
   {
    "duration": 26,
    "start_time": "2023-04-25T16:10:45.586Z"
   },
   {
    "duration": 4,
    "start_time": "2023-04-25T16:10:45.614Z"
   },
   {
    "duration": 521,
    "start_time": "2023-04-25T16:10:45.620Z"
   },
   {
    "duration": 304,
    "start_time": "2023-04-25T16:10:46.143Z"
   },
   {
    "duration": 0,
    "start_time": "2023-04-25T16:10:46.449Z"
   },
   {
    "duration": 0,
    "start_time": "2023-04-25T16:10:46.450Z"
   },
   {
    "duration": 0,
    "start_time": "2023-04-25T16:10:46.451Z"
   },
   {
    "duration": 0,
    "start_time": "2023-04-25T16:10:46.452Z"
   },
   {
    "duration": 0,
    "start_time": "2023-04-25T16:10:46.453Z"
   },
   {
    "duration": 0,
    "start_time": "2023-04-25T16:10:46.454Z"
   },
   {
    "duration": 0,
    "start_time": "2023-04-25T16:10:46.455Z"
   },
   {
    "duration": 0,
    "start_time": "2023-04-25T16:10:46.456Z"
   },
   {
    "duration": 0,
    "start_time": "2023-04-25T16:10:46.457Z"
   },
   {
    "duration": 0,
    "start_time": "2023-04-25T16:10:46.459Z"
   },
   {
    "duration": 1828069,
    "start_time": "2023-04-25T16:11:01.321Z"
   },
   {
    "duration": 696008,
    "start_time": "2023-04-25T16:41:32.493Z"
   },
   {
    "duration": 85,
    "start_time": "2023-04-25T16:59:00.303Z"
   },
   {
    "duration": 694140,
    "start_time": "2023-04-25T16:59:05.086Z"
   },
   {
    "duration": 31,
    "start_time": "2023-04-25T19:31:51.069Z"
   },
   {
    "duration": 7829,
    "start_time": "2023-04-25T19:32:01.732Z"
   },
   {
    "duration": 22,
    "start_time": "2023-04-25T19:33:37.819Z"
   },
   {
    "duration": 52,
    "start_time": "2023-04-25T21:14:45.526Z"
   },
   {
    "duration": 13,
    "start_time": "2023-04-25T21:17:07.815Z"
   },
   {
    "duration": 1317,
    "start_time": "2023-04-25T21:31:28.405Z"
   },
   {
    "duration": 2353,
    "start_time": "2023-04-25T21:31:29.724Z"
   },
   {
    "duration": 122,
    "start_time": "2023-04-25T21:31:32.079Z"
   },
   {
    "duration": 15,
    "start_time": "2023-04-25T21:31:32.202Z"
   },
   {
    "duration": 32,
    "start_time": "2023-04-25T21:31:32.219Z"
   },
   {
    "duration": 24,
    "start_time": "2023-04-25T21:31:32.253Z"
   },
   {
    "duration": 48,
    "start_time": "2023-04-25T21:31:32.278Z"
   },
   {
    "duration": 1171,
    "start_time": "2023-04-25T21:31:32.328Z"
   },
   {
    "duration": 8,
    "start_time": "2023-04-25T21:31:33.501Z"
   },
   {
    "duration": 43,
    "start_time": "2023-04-25T21:31:33.510Z"
   },
   {
    "duration": 17,
    "start_time": "2023-04-25T21:31:33.556Z"
   },
   {
    "duration": 50,
    "start_time": "2023-04-25T21:31:33.574Z"
   },
   {
    "duration": 135,
    "start_time": "2023-04-25T21:31:33.625Z"
   },
   {
    "duration": 7,
    "start_time": "2023-04-25T21:31:33.762Z"
   },
   {
    "duration": 21,
    "start_time": "2023-04-25T21:31:33.770Z"
   },
   {
    "duration": 6,
    "start_time": "2023-04-25T21:31:33.792Z"
   },
   {
    "duration": 10,
    "start_time": "2023-04-25T21:31:33.799Z"
   },
   {
    "duration": 25,
    "start_time": "2023-04-25T21:31:33.810Z"
   },
   {
    "duration": 6,
    "start_time": "2023-04-25T21:31:33.837Z"
   },
   {
    "duration": 1997,
    "start_time": "2023-04-25T21:31:33.845Z"
   },
   {
    "duration": 231,
    "start_time": "2023-04-25T21:31:35.855Z"
   },
   {
    "duration": 0,
    "start_time": "2023-04-25T21:31:36.088Z"
   },
   {
    "duration": 0,
    "start_time": "2023-04-25T21:31:36.089Z"
   },
   {
    "duration": 0,
    "start_time": "2023-04-25T21:31:36.090Z"
   },
   {
    "duration": 0,
    "start_time": "2023-04-25T21:31:36.091Z"
   },
   {
    "duration": 0,
    "start_time": "2023-04-25T21:31:36.092Z"
   },
   {
    "duration": 0,
    "start_time": "2023-04-25T21:31:36.093Z"
   },
   {
    "duration": 0,
    "start_time": "2023-04-25T21:31:36.094Z"
   },
   {
    "duration": 0,
    "start_time": "2023-04-25T21:31:36.095Z"
   },
   {
    "duration": 0,
    "start_time": "2023-04-25T21:31:36.095Z"
   },
   {
    "duration": 0,
    "start_time": "2023-04-25T21:31:36.096Z"
   },
   {
    "duration": 79,
    "start_time": "2023-04-25T21:40:23.373Z"
   },
   {
    "duration": 123173,
    "start_time": "2023-04-25T21:41:36.434Z"
   },
   {
    "duration": 86,
    "start_time": "2023-04-25T21:54:16.317Z"
   },
   {
    "duration": 73,
    "start_time": "2023-04-25T21:54:40.406Z"
   },
   {
    "duration": 117802,
    "start_time": "2023-04-25T21:54:49.912Z"
   },
   {
    "duration": 14,
    "start_time": "2023-04-25T22:05:58.830Z"
   },
   {
    "duration": 14,
    "start_time": "2023-04-25T22:06:03.136Z"
   },
   {
    "duration": 8,
    "start_time": "2023-04-25T22:06:04.838Z"
   },
   {
    "duration": 15,
    "start_time": "2023-04-25T22:06:07.148Z"
   },
   {
    "duration": 429,
    "start_time": "2023-04-25T22:06:09.085Z"
   },
   {
    "duration": 1234,
    "start_time": "2023-04-25T22:09:21.205Z"
   },
   {
    "duration": 1241,
    "start_time": "2023-04-25T22:09:39.850Z"
   },
   {
    "duration": 2058,
    "start_time": "2023-04-25T22:09:41.093Z"
   },
   {
    "duration": 66,
    "start_time": "2023-04-25T22:09:43.153Z"
   },
   {
    "duration": 13,
    "start_time": "2023-04-25T22:09:43.221Z"
   },
   {
    "duration": 18,
    "start_time": "2023-04-25T22:09:43.236Z"
   },
   {
    "duration": 8,
    "start_time": "2023-04-25T22:09:43.255Z"
   },
   {
    "duration": 48,
    "start_time": "2023-04-25T22:09:43.264Z"
   },
   {
    "duration": 1011,
    "start_time": "2023-04-25T22:09:43.314Z"
   },
   {
    "duration": 6,
    "start_time": "2023-04-25T22:09:44.334Z"
   },
   {
    "duration": 11,
    "start_time": "2023-04-25T22:09:44.342Z"
   },
   {
    "duration": 6,
    "start_time": "2023-04-25T22:09:44.354Z"
   },
   {
    "duration": 21,
    "start_time": "2023-04-25T22:09:44.362Z"
   },
   {
    "duration": 106,
    "start_time": "2023-04-25T22:09:44.384Z"
   },
   {
    "duration": 6,
    "start_time": "2023-04-25T22:09:44.492Z"
   },
   {
    "duration": 17,
    "start_time": "2023-04-25T22:09:44.500Z"
   },
   {
    "duration": 15,
    "start_time": "2023-04-25T22:09:44.518Z"
   },
   {
    "duration": 22,
    "start_time": "2023-04-25T22:09:44.534Z"
   },
   {
    "duration": 26,
    "start_time": "2023-04-25T22:09:44.558Z"
   },
   {
    "duration": 23,
    "start_time": "2023-04-25T22:09:44.586Z"
   },
   {
    "duration": 424,
    "start_time": "2023-04-25T22:09:44.611Z"
   },
   {
    "duration": 112935,
    "start_time": "2023-04-25T22:09:45.041Z"
   },
   {
    "duration": 4,
    "start_time": "2023-04-25T22:11:37.977Z"
   },
   {
    "duration": 16,
    "start_time": "2023-04-25T22:11:37.982Z"
   },
   {
    "duration": 409,
    "start_time": "2023-04-25T22:11:37.999Z"
   },
   {
    "duration": 333,
    "start_time": "2023-04-25T22:11:38.410Z"
   },
   {
    "duration": 5,
    "start_time": "2023-04-25T22:11:38.745Z"
   },
   {
    "duration": 197,
    "start_time": "2023-04-25T22:11:38.752Z"
   },
   {
    "duration": 127,
    "start_time": "2023-04-25T22:11:38.950Z"
   },
   {
    "duration": 0,
    "start_time": "2023-04-25T22:11:39.079Z"
   },
   {
    "duration": 0,
    "start_time": "2023-04-25T22:11:39.079Z"
   },
   {
    "duration": 4,
    "start_time": "2023-04-25T22:15:21.720Z"
   },
   {
    "duration": 10,
    "start_time": "2023-04-25T22:15:23.484Z"
   },
   {
    "duration": 29,
    "start_time": "2023-04-25T22:17:13.118Z"
   },
   {
    "duration": 359,
    "start_time": "2023-04-25T22:17:41.155Z"
   },
   {
    "duration": 221,
    "start_time": "2023-04-25T22:17:53.321Z"
   },
   {
    "duration": 212,
    "start_time": "2023-04-25T22:40:15.878Z"
   },
   {
    "duration": 308,
    "start_time": "2023-04-25T22:40:52.775Z"
   },
   {
    "duration": 81,
    "start_time": "2023-04-25T22:53:20.385Z"
   },
   {
    "duration": 1718,
    "start_time": "2023-04-26T14:54:53.506Z"
   },
   {
    "duration": 0,
    "start_time": "2023-04-26T14:54:55.226Z"
   },
   {
    "duration": 0,
    "start_time": "2023-04-26T14:54:55.227Z"
   },
   {
    "duration": 0,
    "start_time": "2023-04-26T14:54:55.229Z"
   },
   {
    "duration": 0,
    "start_time": "2023-04-26T14:54:55.230Z"
   },
   {
    "duration": 0,
    "start_time": "2023-04-26T14:54:55.231Z"
   },
   {
    "duration": 0,
    "start_time": "2023-04-26T14:54:55.232Z"
   },
   {
    "duration": 0,
    "start_time": "2023-04-26T14:54:55.233Z"
   },
   {
    "duration": 0,
    "start_time": "2023-04-26T14:54:55.234Z"
   },
   {
    "duration": 0,
    "start_time": "2023-04-26T14:54:55.235Z"
   },
   {
    "duration": 0,
    "start_time": "2023-04-26T14:54:55.249Z"
   },
   {
    "duration": 0,
    "start_time": "2023-04-26T14:54:55.250Z"
   },
   {
    "duration": 0,
    "start_time": "2023-04-26T14:54:55.251Z"
   },
   {
    "duration": 0,
    "start_time": "2023-04-26T14:54:55.252Z"
   },
   {
    "duration": 0,
    "start_time": "2023-04-26T14:54:55.253Z"
   },
   {
    "duration": 0,
    "start_time": "2023-04-26T14:54:55.254Z"
   },
   {
    "duration": 0,
    "start_time": "2023-04-26T14:54:55.255Z"
   },
   {
    "duration": 0,
    "start_time": "2023-04-26T14:54:55.256Z"
   },
   {
    "duration": 0,
    "start_time": "2023-04-26T14:54:55.257Z"
   },
   {
    "duration": 0,
    "start_time": "2023-04-26T14:54:55.258Z"
   },
   {
    "duration": 0,
    "start_time": "2023-04-26T14:54:55.259Z"
   },
   {
    "duration": 0,
    "start_time": "2023-04-26T14:54:55.260Z"
   },
   {
    "duration": 0,
    "start_time": "2023-04-26T14:54:55.261Z"
   },
   {
    "duration": 0,
    "start_time": "2023-04-26T14:54:55.262Z"
   },
   {
    "duration": 0,
    "start_time": "2023-04-26T14:54:55.263Z"
   },
   {
    "duration": 0,
    "start_time": "2023-04-26T14:54:55.264Z"
   },
   {
    "duration": 0,
    "start_time": "2023-04-26T14:54:55.265Z"
   },
   {
    "duration": 0,
    "start_time": "2023-04-26T14:54:55.267Z"
   },
   {
    "duration": 0,
    "start_time": "2023-04-26T14:54:55.268Z"
   },
   {
    "duration": 0,
    "start_time": "2023-04-26T14:54:55.268Z"
   },
   {
    "duration": 9435,
    "start_time": "2023-04-27T08:05:15.668Z"
   },
   {
    "duration": 1387,
    "start_time": "2023-04-27T08:05:25.106Z"
   },
   {
    "duration": 98,
    "start_time": "2023-04-27T08:05:26.495Z"
   },
   {
    "duration": 18,
    "start_time": "2023-04-27T08:05:26.596Z"
   },
   {
    "duration": 20,
    "start_time": "2023-04-27T08:05:26.617Z"
   },
   {
    "duration": 7,
    "start_time": "2023-04-27T08:05:26.639Z"
   },
   {
    "duration": 57,
    "start_time": "2023-04-27T08:05:26.656Z"
   },
   {
    "duration": 1307,
    "start_time": "2023-04-27T08:05:26.716Z"
   },
   {
    "duration": 10,
    "start_time": "2023-04-27T08:05:28.025Z"
   },
   {
    "duration": 25,
    "start_time": "2023-04-27T08:05:28.038Z"
   },
   {
    "duration": 27,
    "start_time": "2023-04-27T08:05:28.065Z"
   },
   {
    "duration": 136,
    "start_time": "2023-04-27T08:05:28.094Z"
   },
   {
    "duration": 26,
    "start_time": "2023-04-27T08:05:28.232Z"
   },
   {
    "duration": 7,
    "start_time": "2023-04-27T08:05:28.260Z"
   },
   {
    "duration": 17,
    "start_time": "2023-04-27T08:05:28.269Z"
   },
   {
    "duration": 16,
    "start_time": "2023-04-27T08:05:28.287Z"
   },
   {
    "duration": 18,
    "start_time": "2023-04-27T08:05:28.306Z"
   },
   {
    "duration": 36,
    "start_time": "2023-04-27T08:05:28.326Z"
   },
   {
    "duration": 56,
    "start_time": "2023-04-27T08:05:28.364Z"
   },
   {
    "duration": 147,
    "start_time": "2023-04-27T08:05:28.421Z"
   },
   {
    "duration": 121471,
    "start_time": "2023-04-27T08:05:28.570Z"
   },
   {
    "duration": 5,
    "start_time": "2023-04-27T08:07:30.042Z"
   },
   {
    "duration": 13,
    "start_time": "2023-04-27T08:07:30.056Z"
   },
   {
    "duration": 450,
    "start_time": "2023-04-27T08:07:30.070Z"
   },
   {
    "duration": 434,
    "start_time": "2023-04-27T08:07:30.522Z"
   },
   {
    "duration": 6,
    "start_time": "2023-04-27T08:07:30.960Z"
   },
   {
    "duration": 15,
    "start_time": "2023-04-27T08:07:31.057Z"
   },
   {
    "duration": 281,
    "start_time": "2023-04-27T08:07:31.076Z"
   },
   {
    "duration": 332,
    "start_time": "2023-04-27T08:07:31.359Z"
   },
   {
    "duration": 354,
    "start_time": "2023-04-27T08:07:31.693Z"
   }
  ],
  "kernelspec": {
   "display_name": "Python 3 (ipykernel)",
   "language": "python",
   "name": "python3"
  },
  "language_info": {
   "codemirror_mode": {
    "name": "ipython",
    "version": 3
   },
   "file_extension": ".py",
   "mimetype": "text/x-python",
   "name": "python",
   "nbconvert_exporter": "python",
   "pygments_lexer": "ipython3",
   "version": "3.11.5"
  },
  "toc": {
   "base_numbering": 1,
   "nav_menu": {},
   "number_sections": true,
   "sideBar": true,
   "skip_h1_title": true,
   "title_cell": "Содержание",
   "title_sidebar": "Contents",
   "toc_cell": true,
   "toc_position": {
    "height": "calc(100% - 180px)",
    "left": "10px",
    "top": "150px",
    "width": "165px"
   },
   "toc_section_display": true,
   "toc_window_display": false
  }
 },
 "nbformat": 4,
 "nbformat_minor": 2
}
