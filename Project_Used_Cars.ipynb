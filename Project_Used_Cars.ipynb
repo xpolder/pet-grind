{
 "cells": [
  {
   "cell_type": "markdown",
   "metadata": {},
   "source": [
    "# Определение стоимости автомобилей"
   ]
  },
  {
   "cell_type": "markdown",
   "metadata": {},
   "source": [
    "Сервис по продаже автомобилей с пробегом разрабатывает приложение для привлечения новых клиентов. В нём можно быстро узнать рыночную стоимость своего автомобиля. В нашем распоряжении исторические данные: технические характеристики, комплектации и цены автомобилей. Нам нужно построить модель для определения стоимости. \n",
    "\n",
    "Заказчику важны:\n",
    "\n",
    "- качество предсказания;\n",
    "- скорость предсказания;\n",
    "- время обучения."
   ]
  },
  {
   "cell_type": "markdown",
   "metadata": {},
   "source": [
    "## Подготовка данных"
   ]
  },
  {
   "cell_type": "markdown",
   "metadata": {},
   "source": [
    "### Знакомство с данными"
   ]
  },
  {
   "cell_type": "code",
   "execution_count": 42,
   "metadata": {},
   "outputs": [],
   "source": [
    "import pandas as pd\n",
    "import numpy as np\n",
    "from sklearn.linear_model import LinearRegression\n",
    "from sklearn.dummy import DummyRegressor\n",
    "from catboost import CatBoostRegressor\n",
    "from sklearn.model_selection import train_test_split\n",
    "from sklearn.preprocessing import StandardScaler\n",
    "from sklearn.metrics import mean_squared_error\n",
    "import lightgbm as lgb\n",
    "from sklearn.preprocessing import OneHotEncoder\n",
    "from sklearn.model_selection import GridSearchCV\n",
    "from lightgbm import LGBMRegressor"
   ]
  },
  {
   "cell_type": "code",
   "execution_count": 2,
   "metadata": {},
   "outputs": [],
   "source": [
    "pd.set_option('mode.chained_assignment', None)"
   ]
  },
  {
   "cell_type": "code",
   "execution_count": 3,
   "metadata": {
    "scrolled": true
   },
   "outputs": [
    {
     "data": {
      "text/html": [
       "<div>\n",
       "<style scoped>\n",
       "    .dataframe tbody tr th:only-of-type {\n",
       "        vertical-align: middle;\n",
       "    }\n",
       "\n",
       "    .dataframe tbody tr th {\n",
       "        vertical-align: top;\n",
       "    }\n",
       "\n",
       "    .dataframe thead th {\n",
       "        text-align: right;\n",
       "    }\n",
       "</style>\n",
       "<table border=\"1\" class=\"dataframe\">\n",
       "  <thead>\n",
       "    <tr style=\"text-align: right;\">\n",
       "      <th></th>\n",
       "      <th>DateCrawled</th>\n",
       "      <th>Price</th>\n",
       "      <th>VehicleType</th>\n",
       "      <th>RegistrationYear</th>\n",
       "      <th>Gearbox</th>\n",
       "      <th>Power</th>\n",
       "      <th>Model</th>\n",
       "      <th>Kilometer</th>\n",
       "      <th>RegistrationMonth</th>\n",
       "      <th>FuelType</th>\n",
       "      <th>Brand</th>\n",
       "      <th>Repaired</th>\n",
       "      <th>DateCreated</th>\n",
       "      <th>NumberOfPictures</th>\n",
       "      <th>PostalCode</th>\n",
       "      <th>LastSeen</th>\n",
       "    </tr>\n",
       "  </thead>\n",
       "  <tbody>\n",
       "    <tr>\n",
       "      <th>0</th>\n",
       "      <td>2016-03-24 11:52:17</td>\n",
       "      <td>480</td>\n",
       "      <td>NaN</td>\n",
       "      <td>1993</td>\n",
       "      <td>manual</td>\n",
       "      <td>0</td>\n",
       "      <td>golf</td>\n",
       "      <td>150000</td>\n",
       "      <td>0</td>\n",
       "      <td>petrol</td>\n",
       "      <td>volkswagen</td>\n",
       "      <td>NaN</td>\n",
       "      <td>2016-03-24 00:00:00</td>\n",
       "      <td>0</td>\n",
       "      <td>70435</td>\n",
       "      <td>2016-04-07 03:16:57</td>\n",
       "    </tr>\n",
       "    <tr>\n",
       "      <th>1</th>\n",
       "      <td>2016-03-24 10:58:45</td>\n",
       "      <td>18300</td>\n",
       "      <td>coupe</td>\n",
       "      <td>2011</td>\n",
       "      <td>manual</td>\n",
       "      <td>190</td>\n",
       "      <td>NaN</td>\n",
       "      <td>125000</td>\n",
       "      <td>5</td>\n",
       "      <td>gasoline</td>\n",
       "      <td>audi</td>\n",
       "      <td>yes</td>\n",
       "      <td>2016-03-24 00:00:00</td>\n",
       "      <td>0</td>\n",
       "      <td>66954</td>\n",
       "      <td>2016-04-07 01:46:50</td>\n",
       "    </tr>\n",
       "    <tr>\n",
       "      <th>2</th>\n",
       "      <td>2016-03-14 12:52:21</td>\n",
       "      <td>9800</td>\n",
       "      <td>suv</td>\n",
       "      <td>2004</td>\n",
       "      <td>auto</td>\n",
       "      <td>163</td>\n",
       "      <td>grand</td>\n",
       "      <td>125000</td>\n",
       "      <td>8</td>\n",
       "      <td>gasoline</td>\n",
       "      <td>jeep</td>\n",
       "      <td>NaN</td>\n",
       "      <td>2016-03-14 00:00:00</td>\n",
       "      <td>0</td>\n",
       "      <td>90480</td>\n",
       "      <td>2016-04-05 12:47:46</td>\n",
       "    </tr>\n",
       "    <tr>\n",
       "      <th>3</th>\n",
       "      <td>2016-03-17 16:54:04</td>\n",
       "      <td>1500</td>\n",
       "      <td>small</td>\n",
       "      <td>2001</td>\n",
       "      <td>manual</td>\n",
       "      <td>75</td>\n",
       "      <td>golf</td>\n",
       "      <td>150000</td>\n",
       "      <td>6</td>\n",
       "      <td>petrol</td>\n",
       "      <td>volkswagen</td>\n",
       "      <td>no</td>\n",
       "      <td>2016-03-17 00:00:00</td>\n",
       "      <td>0</td>\n",
       "      <td>91074</td>\n",
       "      <td>2016-03-17 17:40:17</td>\n",
       "    </tr>\n",
       "    <tr>\n",
       "      <th>4</th>\n",
       "      <td>2016-03-31 17:25:20</td>\n",
       "      <td>3600</td>\n",
       "      <td>small</td>\n",
       "      <td>2008</td>\n",
       "      <td>manual</td>\n",
       "      <td>69</td>\n",
       "      <td>fabia</td>\n",
       "      <td>90000</td>\n",
       "      <td>7</td>\n",
       "      <td>gasoline</td>\n",
       "      <td>skoda</td>\n",
       "      <td>no</td>\n",
       "      <td>2016-03-31 00:00:00</td>\n",
       "      <td>0</td>\n",
       "      <td>60437</td>\n",
       "      <td>2016-04-06 10:17:21</td>\n",
       "    </tr>\n",
       "    <tr>\n",
       "      <th>...</th>\n",
       "      <td>...</td>\n",
       "      <td>...</td>\n",
       "      <td>...</td>\n",
       "      <td>...</td>\n",
       "      <td>...</td>\n",
       "      <td>...</td>\n",
       "      <td>...</td>\n",
       "      <td>...</td>\n",
       "      <td>...</td>\n",
       "      <td>...</td>\n",
       "      <td>...</td>\n",
       "      <td>...</td>\n",
       "      <td>...</td>\n",
       "      <td>...</td>\n",
       "      <td>...</td>\n",
       "      <td>...</td>\n",
       "    </tr>\n",
       "    <tr>\n",
       "      <th>354364</th>\n",
       "      <td>2016-03-21 09:50:58</td>\n",
       "      <td>0</td>\n",
       "      <td>NaN</td>\n",
       "      <td>2005</td>\n",
       "      <td>manual</td>\n",
       "      <td>0</td>\n",
       "      <td>colt</td>\n",
       "      <td>150000</td>\n",
       "      <td>7</td>\n",
       "      <td>petrol</td>\n",
       "      <td>mitsubishi</td>\n",
       "      <td>yes</td>\n",
       "      <td>2016-03-21 00:00:00</td>\n",
       "      <td>0</td>\n",
       "      <td>2694</td>\n",
       "      <td>2016-03-21 10:42:49</td>\n",
       "    </tr>\n",
       "    <tr>\n",
       "      <th>354365</th>\n",
       "      <td>2016-03-14 17:48:27</td>\n",
       "      <td>2200</td>\n",
       "      <td>NaN</td>\n",
       "      <td>2005</td>\n",
       "      <td>NaN</td>\n",
       "      <td>0</td>\n",
       "      <td>NaN</td>\n",
       "      <td>20000</td>\n",
       "      <td>1</td>\n",
       "      <td>NaN</td>\n",
       "      <td>sonstige_autos</td>\n",
       "      <td>NaN</td>\n",
       "      <td>2016-03-14 00:00:00</td>\n",
       "      <td>0</td>\n",
       "      <td>39576</td>\n",
       "      <td>2016-04-06 00:46:52</td>\n",
       "    </tr>\n",
       "    <tr>\n",
       "      <th>354366</th>\n",
       "      <td>2016-03-05 19:56:21</td>\n",
       "      <td>1199</td>\n",
       "      <td>convertible</td>\n",
       "      <td>2000</td>\n",
       "      <td>auto</td>\n",
       "      <td>101</td>\n",
       "      <td>fortwo</td>\n",
       "      <td>125000</td>\n",
       "      <td>3</td>\n",
       "      <td>petrol</td>\n",
       "      <td>smart</td>\n",
       "      <td>no</td>\n",
       "      <td>2016-03-05 00:00:00</td>\n",
       "      <td>0</td>\n",
       "      <td>26135</td>\n",
       "      <td>2016-03-11 18:17:12</td>\n",
       "    </tr>\n",
       "    <tr>\n",
       "      <th>354367</th>\n",
       "      <td>2016-03-19 18:57:12</td>\n",
       "      <td>9200</td>\n",
       "      <td>bus</td>\n",
       "      <td>1996</td>\n",
       "      <td>manual</td>\n",
       "      <td>102</td>\n",
       "      <td>transporter</td>\n",
       "      <td>150000</td>\n",
       "      <td>3</td>\n",
       "      <td>gasoline</td>\n",
       "      <td>volkswagen</td>\n",
       "      <td>no</td>\n",
       "      <td>2016-03-19 00:00:00</td>\n",
       "      <td>0</td>\n",
       "      <td>87439</td>\n",
       "      <td>2016-04-07 07:15:26</td>\n",
       "    </tr>\n",
       "    <tr>\n",
       "      <th>354368</th>\n",
       "      <td>2016-03-20 19:41:08</td>\n",
       "      <td>3400</td>\n",
       "      <td>wagon</td>\n",
       "      <td>2002</td>\n",
       "      <td>manual</td>\n",
       "      <td>100</td>\n",
       "      <td>golf</td>\n",
       "      <td>150000</td>\n",
       "      <td>6</td>\n",
       "      <td>gasoline</td>\n",
       "      <td>volkswagen</td>\n",
       "      <td>NaN</td>\n",
       "      <td>2016-03-20 00:00:00</td>\n",
       "      <td>0</td>\n",
       "      <td>40764</td>\n",
       "      <td>2016-03-24 12:45:21</td>\n",
       "    </tr>\n",
       "  </tbody>\n",
       "</table>\n",
       "<p>354369 rows × 16 columns</p>\n",
       "</div>"
      ],
      "text/plain": [
       "                DateCrawled  Price  VehicleType  RegistrationYear Gearbox  \\\n",
       "0       2016-03-24 11:52:17    480          NaN              1993  manual   \n",
       "1       2016-03-24 10:58:45  18300        coupe              2011  manual   \n",
       "2       2016-03-14 12:52:21   9800          suv              2004    auto   \n",
       "3       2016-03-17 16:54:04   1500        small              2001  manual   \n",
       "4       2016-03-31 17:25:20   3600        small              2008  manual   \n",
       "...                     ...    ...          ...               ...     ...   \n",
       "354364  2016-03-21 09:50:58      0          NaN              2005  manual   \n",
       "354365  2016-03-14 17:48:27   2200          NaN              2005     NaN   \n",
       "354366  2016-03-05 19:56:21   1199  convertible              2000    auto   \n",
       "354367  2016-03-19 18:57:12   9200          bus              1996  manual   \n",
       "354368  2016-03-20 19:41:08   3400        wagon              2002  manual   \n",
       "\n",
       "        Power        Model  Kilometer  RegistrationMonth  FuelType  \\\n",
       "0           0         golf     150000                  0    petrol   \n",
       "1         190          NaN     125000                  5  gasoline   \n",
       "2         163        grand     125000                  8  gasoline   \n",
       "3          75         golf     150000                  6    petrol   \n",
       "4          69        fabia      90000                  7  gasoline   \n",
       "...       ...          ...        ...                ...       ...   \n",
       "354364      0         colt     150000                  7    petrol   \n",
       "354365      0          NaN      20000                  1       NaN   \n",
       "354366    101       fortwo     125000                  3    petrol   \n",
       "354367    102  transporter     150000                  3  gasoline   \n",
       "354368    100         golf     150000                  6  gasoline   \n",
       "\n",
       "                 Brand Repaired          DateCreated  NumberOfPictures  \\\n",
       "0           volkswagen      NaN  2016-03-24 00:00:00                 0   \n",
       "1                 audi      yes  2016-03-24 00:00:00                 0   \n",
       "2                 jeep      NaN  2016-03-14 00:00:00                 0   \n",
       "3           volkswagen       no  2016-03-17 00:00:00                 0   \n",
       "4                skoda       no  2016-03-31 00:00:00                 0   \n",
       "...                ...      ...                  ...               ...   \n",
       "354364      mitsubishi      yes  2016-03-21 00:00:00                 0   \n",
       "354365  sonstige_autos      NaN  2016-03-14 00:00:00                 0   \n",
       "354366           smart       no  2016-03-05 00:00:00                 0   \n",
       "354367      volkswagen       no  2016-03-19 00:00:00                 0   \n",
       "354368      volkswagen      NaN  2016-03-20 00:00:00                 0   \n",
       "\n",
       "        PostalCode             LastSeen  \n",
       "0            70435  2016-04-07 03:16:57  \n",
       "1            66954  2016-04-07 01:46:50  \n",
       "2            90480  2016-04-05 12:47:46  \n",
       "3            91074  2016-03-17 17:40:17  \n",
       "4            60437  2016-04-06 10:17:21  \n",
       "...            ...                  ...  \n",
       "354364        2694  2016-03-21 10:42:49  \n",
       "354365       39576  2016-04-06 00:46:52  \n",
       "354366       26135  2016-03-11 18:17:12  \n",
       "354367       87439  2016-04-07 07:15:26  \n",
       "354368       40764  2016-03-24 12:45:21  \n",
       "\n",
       "[354369 rows x 16 columns]"
      ]
     },
     "execution_count": 3,
     "metadata": {},
     "output_type": "execute_result"
    }
   ],
   "source": [
    "df = pd.read_csv('/datasets/autos.csv')\n",
    "df"
   ]
  },
  {
   "cell_type": "code",
   "execution_count": 4,
   "metadata": {},
   "outputs": [
    {
     "data": {
      "image/png": "[encoded data removed]",
      "text/plain": [
       "<Figure size 1440x720 with 9 Axes>"
      ]
     },
     "metadata": {
      "needs_background": "light"
     },
     "output_type": "display_data"
    }
   ],
   "source": [
    "df.hist(figsize = (20,10), bins = 30);"
   ]
  },
  {
   "cell_type": "code",
   "execution_count": 5,
   "metadata": {},
   "outputs": [
    {
     "data": {
      "text/plain": [
       "DateCrawled              0\n",
       "Price                    0\n",
       "VehicleType          37490\n",
       "RegistrationYear         0\n",
       "Gearbox              19833\n",
       "Power                    0\n",
       "Model                19705\n",
       "Kilometer                0\n",
       "RegistrationMonth        0\n",
       "FuelType             32895\n",
       "Brand                    0\n",
       "Repaired             71154\n",
       "DateCreated              0\n",
       "NumberOfPictures         0\n",
       "PostalCode               0\n",
       "LastSeen                 0\n",
       "dtype: int64"
      ]
     },
     "execution_count": 5,
     "metadata": {},
     "output_type": "execute_result"
    }
   ],
   "source": [
    "df.isna().sum()"
   ]
  },
  {
   "cell_type": "code",
   "execution_count": 6,
   "metadata": {},
   "outputs": [
    {
     "data": {
      "text/plain": [
       "4"
      ]
     },
     "execution_count": 6,
     "metadata": {},
     "output_type": "execute_result"
    }
   ],
   "source": [
    "df.duplicated().sum()"
   ]
  },
  {
   "cell_type": "code",
   "execution_count": 7,
   "metadata": {},
   "outputs": [
    {
     "data": {
      "text/plain": [
       "0"
      ]
     },
     "execution_count": 7,
     "metadata": {},
     "output_type": "execute_result"
    }
   ],
   "source": [
    "df = df.drop_duplicates()\n",
    "df.duplicated().sum()"
   ]
  },
  {
   "cell_type": "code",
   "execution_count": 8,
   "metadata": {},
   "outputs": [
    {
     "data": {
      "text/plain": [
       "2000    24490\n",
       "1999    22727\n",
       "2005    22109\n",
       "2001    20123\n",
       "2006    19900\n",
       "        ...  \n",
       "4100        1\n",
       "1200        1\n",
       "5300        1\n",
       "8888        1\n",
       "2290        1\n",
       "Name: RegistrationYear, Length: 151, dtype: int64"
      ]
     },
     "execution_count": 8,
     "metadata": {},
     "output_type": "execute_result"
    }
   ],
   "source": [
    "df.RegistrationYear.value_counts()"
   ]
  },
  {
   "cell_type": "code",
   "execution_count": 9,
   "metadata": {},
   "outputs": [
    {
     "data": {
      "text/plain": [
       "0     37352\n",
       "3     34373\n",
       "6     31507\n",
       "4     29270\n",
       "5     29153\n",
       "7     27211\n",
       "10    26099\n",
       "12    24289\n",
       "11    24186\n",
       "9     23813\n",
       "1     23218\n",
       "8     22627\n",
       "2     21267\n",
       "Name: RegistrationMonth, dtype: int64"
      ]
     },
     "execution_count": 9,
     "metadata": {},
     "output_type": "execute_result"
    }
   ],
   "source": [
    "df.RegistrationMonth.value_counts()"
   ]
  },
  {
   "cell_type": "code",
   "execution_count": 10,
   "metadata": {
    "scrolled": true
   },
   "outputs": [
    {
     "name": "stdout",
     "output_type": "stream",
     "text": [
      "1050.0 14600.0\n"
     ]
    },
    {
     "data": {
      "image/png": "[encoded data removed]",
      "text/plain": [
       "<Figure size 720x360 with 1 Axes>"
      ]
     },
     "metadata": {
      "needs_background": "light"
     },
     "output_type": "display_data"
    }
   ],
   "source": [
    "df.Price.plot(kind = 'box', figsize = (10,5))\n",
    "print(df.Price.quantile(0.25), df.Price.quantile(0.95))"
   ]
  },
  {
   "cell_type": "code",
   "execution_count": 11,
   "metadata": {},
   "outputs": [
    {
     "name": "stdout",
     "output_type": "stream",
     "text": [
      "69.0 143.0\n"
     ]
    }
   ],
   "source": [
    "print(df.Power.quantile(0.25), df.Power.quantile(0.75))"
   ]
  },
  {
   "cell_type": "markdown",
   "metadata": {},
   "source": [
    "**Вывод**:\n",
    "1. Данные открыты и изучены\n",
    "2. Много пропусков в столбцах: **VehicleType, Gearbox, Model, FuelType, Repaired**. В категориальных признаках можно заменить пропуски модой, самым часто встречающимся значением в столбце\n",
    "3. Дубликатов найдено 4 штуки, удалили их\n",
    "4. В столбце **RegistrationYear** обнаружены значения меньше 1950 и больше 2023. На следующем этапе удалим эти выбросы\n",
    "5. В столбце **RegistrationMonth** присутствует значение 0, но нету 1. Заменим все нули на единицы\n",
    "6. В столбцах **Power** и **Price** есть выбросы"
   ]
  },
  {
   "cell_type": "markdown",
   "metadata": {},
   "source": [
    "### Предобработка"
   ]
  },
  {
   "cell_type": "markdown",
   "metadata": {},
   "source": [
    "**Заполним модой пропуски в категориальных признаках:**"
   ]
  },
  {
   "cell_type": "code",
   "execution_count": 12,
   "metadata": {},
   "outputs": [
    {
     "data": {
      "text/plain": [
       "DateCrawled          0\n",
       "Price                0\n",
       "VehicleType          0\n",
       "RegistrationYear     0\n",
       "Gearbox              0\n",
       "Power                0\n",
       "Model                0\n",
       "Kilometer            0\n",
       "RegistrationMonth    0\n",
       "FuelType             0\n",
       "Brand                0\n",
       "Repaired             0\n",
       "DateCreated          0\n",
       "NumberOfPictures     0\n",
       "PostalCode           0\n",
       "LastSeen             0\n",
       "dtype: int64"
      ]
     },
     "execution_count": 12,
     "metadata": {},
     "output_type": "execute_result"
    }
   ],
   "source": [
    "columns = ['Gearbox', 'FuelType', 'Repaired', 'VehicleType', 'Model']\n",
    "\n",
    "for column in columns:\n",
    "    df[column] = df[column].fillna('None')\n",
    "    \n",
    "    \n",
    "df.isna().sum()"
   ]
  },
  {
   "cell_type": "markdown",
   "metadata": {},
   "source": [
    "**Удалим выбросы:**"
   ]
  },
  {
   "cell_type": "code",
   "execution_count": 13,
   "metadata": {},
   "outputs": [],
   "source": [
    "df = df[(df['RegistrationYear'] > 1950) & (df['RegistrationYear'] < 2017)]"
   ]
  },
  {
   "cell_type": "code",
   "execution_count": 14,
   "metadata": {
    "scrolled": false
   },
   "outputs": [
    {
     "data": {
      "text/html": [
       "<div>\n",
       "<style scoped>\n",
       "    .dataframe tbody tr th:only-of-type {\n",
       "        vertical-align: middle;\n",
       "    }\n",
       "\n",
       "    .dataframe tbody tr th {\n",
       "        vertical-align: top;\n",
       "    }\n",
       "\n",
       "    .dataframe thead th {\n",
       "        text-align: right;\n",
       "    }\n",
       "</style>\n",
       "<table border=\"1\" class=\"dataframe\">\n",
       "  <thead>\n",
       "    <tr style=\"text-align: right;\">\n",
       "      <th></th>\n",
       "      <th>DateCrawled</th>\n",
       "      <th>Price</th>\n",
       "      <th>VehicleType</th>\n",
       "      <th>RegistrationYear</th>\n",
       "      <th>Gearbox</th>\n",
       "      <th>Power</th>\n",
       "      <th>Model</th>\n",
       "      <th>Kilometer</th>\n",
       "      <th>RegistrationMonth</th>\n",
       "      <th>FuelType</th>\n",
       "      <th>Brand</th>\n",
       "      <th>Repaired</th>\n",
       "      <th>DateCreated</th>\n",
       "      <th>NumberOfPictures</th>\n",
       "      <th>PostalCode</th>\n",
       "      <th>LastSeen</th>\n",
       "    </tr>\n",
       "  </thead>\n",
       "  <tbody>\n",
       "    <tr>\n",
       "      <th>0</th>\n",
       "      <td>2016-03-24 11:52:17</td>\n",
       "      <td>480</td>\n",
       "      <td>None</td>\n",
       "      <td>1993</td>\n",
       "      <td>manual</td>\n",
       "      <td>0</td>\n",
       "      <td>golf</td>\n",
       "      <td>150000</td>\n",
       "      <td>0</td>\n",
       "      <td>petrol</td>\n",
       "      <td>volkswagen</td>\n",
       "      <td>None</td>\n",
       "      <td>2016-03-24 00:00:00</td>\n",
       "      <td>0</td>\n",
       "      <td>70435</td>\n",
       "      <td>2016-04-07 03:16:57</td>\n",
       "    </tr>\n",
       "    <tr>\n",
       "      <th>1</th>\n",
       "      <td>2016-03-24 10:58:45</td>\n",
       "      <td>18300</td>\n",
       "      <td>coupe</td>\n",
       "      <td>2011</td>\n",
       "      <td>manual</td>\n",
       "      <td>190</td>\n",
       "      <td>None</td>\n",
       "      <td>125000</td>\n",
       "      <td>5</td>\n",
       "      <td>gasoline</td>\n",
       "      <td>audi</td>\n",
       "      <td>yes</td>\n",
       "      <td>2016-03-24 00:00:00</td>\n",
       "      <td>0</td>\n",
       "      <td>66954</td>\n",
       "      <td>2016-04-07 01:46:50</td>\n",
       "    </tr>\n",
       "    <tr>\n",
       "      <th>2</th>\n",
       "      <td>2016-03-14 12:52:21</td>\n",
       "      <td>9800</td>\n",
       "      <td>suv</td>\n",
       "      <td>2004</td>\n",
       "      <td>auto</td>\n",
       "      <td>163</td>\n",
       "      <td>grand</td>\n",
       "      <td>125000</td>\n",
       "      <td>8</td>\n",
       "      <td>gasoline</td>\n",
       "      <td>jeep</td>\n",
       "      <td>None</td>\n",
       "      <td>2016-03-14 00:00:00</td>\n",
       "      <td>0</td>\n",
       "      <td>90480</td>\n",
       "      <td>2016-04-05 12:47:46</td>\n",
       "    </tr>\n",
       "    <tr>\n",
       "      <th>3</th>\n",
       "      <td>2016-03-17 16:54:04</td>\n",
       "      <td>1500</td>\n",
       "      <td>small</td>\n",
       "      <td>2001</td>\n",
       "      <td>manual</td>\n",
       "      <td>75</td>\n",
       "      <td>golf</td>\n",
       "      <td>150000</td>\n",
       "      <td>6</td>\n",
       "      <td>petrol</td>\n",
       "      <td>volkswagen</td>\n",
       "      <td>no</td>\n",
       "      <td>2016-03-17 00:00:00</td>\n",
       "      <td>0</td>\n",
       "      <td>91074</td>\n",
       "      <td>2016-03-17 17:40:17</td>\n",
       "    </tr>\n",
       "    <tr>\n",
       "      <th>4</th>\n",
       "      <td>2016-03-31 17:25:20</td>\n",
       "      <td>3600</td>\n",
       "      <td>small</td>\n",
       "      <td>2008</td>\n",
       "      <td>manual</td>\n",
       "      <td>69</td>\n",
       "      <td>fabia</td>\n",
       "      <td>90000</td>\n",
       "      <td>7</td>\n",
       "      <td>gasoline</td>\n",
       "      <td>skoda</td>\n",
       "      <td>no</td>\n",
       "      <td>2016-03-31 00:00:00</td>\n",
       "      <td>0</td>\n",
       "      <td>60437</td>\n",
       "      <td>2016-04-06 10:17:21</td>\n",
       "    </tr>\n",
       "    <tr>\n",
       "      <th>...</th>\n",
       "      <td>...</td>\n",
       "      <td>...</td>\n",
       "      <td>...</td>\n",
       "      <td>...</td>\n",
       "      <td>...</td>\n",
       "      <td>...</td>\n",
       "      <td>...</td>\n",
       "      <td>...</td>\n",
       "      <td>...</td>\n",
       "      <td>...</td>\n",
       "      <td>...</td>\n",
       "      <td>...</td>\n",
       "      <td>...</td>\n",
       "      <td>...</td>\n",
       "      <td>...</td>\n",
       "      <td>...</td>\n",
       "    </tr>\n",
       "    <tr>\n",
       "      <th>354363</th>\n",
       "      <td>2016-03-27 20:36:20</td>\n",
       "      <td>1150</td>\n",
       "      <td>bus</td>\n",
       "      <td>2000</td>\n",
       "      <td>manual</td>\n",
       "      <td>0</td>\n",
       "      <td>zafira</td>\n",
       "      <td>150000</td>\n",
       "      <td>3</td>\n",
       "      <td>petrol</td>\n",
       "      <td>opel</td>\n",
       "      <td>no</td>\n",
       "      <td>2016-03-27 00:00:00</td>\n",
       "      <td>0</td>\n",
       "      <td>26624</td>\n",
       "      <td>2016-03-29 10:17:23</td>\n",
       "    </tr>\n",
       "    <tr>\n",
       "      <th>354365</th>\n",
       "      <td>2016-03-14 17:48:27</td>\n",
       "      <td>2200</td>\n",
       "      <td>None</td>\n",
       "      <td>2005</td>\n",
       "      <td>None</td>\n",
       "      <td>0</td>\n",
       "      <td>None</td>\n",
       "      <td>20000</td>\n",
       "      <td>1</td>\n",
       "      <td>None</td>\n",
       "      <td>sonstige_autos</td>\n",
       "      <td>None</td>\n",
       "      <td>2016-03-14 00:00:00</td>\n",
       "      <td>0</td>\n",
       "      <td>39576</td>\n",
       "      <td>2016-04-06 00:46:52</td>\n",
       "    </tr>\n",
       "    <tr>\n",
       "      <th>354366</th>\n",
       "      <td>2016-03-05 19:56:21</td>\n",
       "      <td>1199</td>\n",
       "      <td>convertible</td>\n",
       "      <td>2000</td>\n",
       "      <td>auto</td>\n",
       "      <td>101</td>\n",
       "      <td>fortwo</td>\n",
       "      <td>125000</td>\n",
       "      <td>3</td>\n",
       "      <td>petrol</td>\n",
       "      <td>smart</td>\n",
       "      <td>no</td>\n",
       "      <td>2016-03-05 00:00:00</td>\n",
       "      <td>0</td>\n",
       "      <td>26135</td>\n",
       "      <td>2016-03-11 18:17:12</td>\n",
       "    </tr>\n",
       "    <tr>\n",
       "      <th>354367</th>\n",
       "      <td>2016-03-19 18:57:12</td>\n",
       "      <td>9200</td>\n",
       "      <td>bus</td>\n",
       "      <td>1996</td>\n",
       "      <td>manual</td>\n",
       "      <td>102</td>\n",
       "      <td>transporter</td>\n",
       "      <td>150000</td>\n",
       "      <td>3</td>\n",
       "      <td>gasoline</td>\n",
       "      <td>volkswagen</td>\n",
       "      <td>no</td>\n",
       "      <td>2016-03-19 00:00:00</td>\n",
       "      <td>0</td>\n",
       "      <td>87439</td>\n",
       "      <td>2016-04-07 07:15:26</td>\n",
       "    </tr>\n",
       "    <tr>\n",
       "      <th>354368</th>\n",
       "      <td>2016-03-20 19:41:08</td>\n",
       "      <td>3400</td>\n",
       "      <td>wagon</td>\n",
       "      <td>2002</td>\n",
       "      <td>manual</td>\n",
       "      <td>100</td>\n",
       "      <td>golf</td>\n",
       "      <td>150000</td>\n",
       "      <td>6</td>\n",
       "      <td>gasoline</td>\n",
       "      <td>volkswagen</td>\n",
       "      <td>None</td>\n",
       "      <td>2016-03-20 00:00:00</td>\n",
       "      <td>0</td>\n",
       "      <td>40764</td>\n",
       "      <td>2016-03-24 12:45:21</td>\n",
       "    </tr>\n",
       "  </tbody>\n",
       "</table>\n",
       "<p>329317 rows × 16 columns</p>\n",
       "</div>"
      ],
      "text/plain": [
       "                DateCrawled  Price  VehicleType  RegistrationYear Gearbox  \\\n",
       "0       2016-03-24 11:52:17    480         None              1993  manual   \n",
       "1       2016-03-24 10:58:45  18300        coupe              2011  manual   \n",
       "2       2016-03-14 12:52:21   9800          suv              2004    auto   \n",
       "3       2016-03-17 16:54:04   1500        small              2001  manual   \n",
       "4       2016-03-31 17:25:20   3600        small              2008  manual   \n",
       "...                     ...    ...          ...               ...     ...   \n",
       "354363  2016-03-27 20:36:20   1150          bus              2000  manual   \n",
       "354365  2016-03-14 17:48:27   2200         None              2005    None   \n",
       "354366  2016-03-05 19:56:21   1199  convertible              2000    auto   \n",
       "354367  2016-03-19 18:57:12   9200          bus              1996  manual   \n",
       "354368  2016-03-20 19:41:08   3400        wagon              2002  manual   \n",
       "\n",
       "        Power        Model  Kilometer  RegistrationMonth  FuelType  \\\n",
       "0           0         golf     150000                  0    petrol   \n",
       "1         190         None     125000                  5  gasoline   \n",
       "2         163        grand     125000                  8  gasoline   \n",
       "3          75         golf     150000                  6    petrol   \n",
       "4          69        fabia      90000                  7  gasoline   \n",
       "...       ...          ...        ...                ...       ...   \n",
       "354363      0       zafira     150000                  3    petrol   \n",
       "354365      0         None      20000                  1      None   \n",
       "354366    101       fortwo     125000                  3    petrol   \n",
       "354367    102  transporter     150000                  3  gasoline   \n",
       "354368    100         golf     150000                  6  gasoline   \n",
       "\n",
       "                 Brand Repaired          DateCreated  NumberOfPictures  \\\n",
       "0           volkswagen     None  2016-03-24 00:00:00                 0   \n",
       "1                 audi      yes  2016-03-24 00:00:00                 0   \n",
       "2                 jeep     None  2016-03-14 00:00:00                 0   \n",
       "3           volkswagen       no  2016-03-17 00:00:00                 0   \n",
       "4                skoda       no  2016-03-31 00:00:00                 0   \n",
       "...                ...      ...                  ...               ...   \n",
       "354363            opel       no  2016-03-27 00:00:00                 0   \n",
       "354365  sonstige_autos     None  2016-03-14 00:00:00                 0   \n",
       "354366           smart       no  2016-03-05 00:00:00                 0   \n",
       "354367      volkswagen       no  2016-03-19 00:00:00                 0   \n",
       "354368      volkswagen     None  2016-03-20 00:00:00                 0   \n",
       "\n",
       "        PostalCode             LastSeen  \n",
       "0            70435  2016-04-07 03:16:57  \n",
       "1            66954  2016-04-07 01:46:50  \n",
       "2            90480  2016-04-05 12:47:46  \n",
       "3            91074  2016-03-17 17:40:17  \n",
       "4            60437  2016-04-06 10:17:21  \n",
       "...            ...                  ...  \n",
       "354363       26624  2016-03-29 10:17:23  \n",
       "354365       39576  2016-04-06 00:46:52  \n",
       "354366       26135  2016-03-11 18:17:12  \n",
       "354367       87439  2016-04-07 07:15:26  \n",
       "354368       40764  2016-03-24 12:45:21  \n",
       "\n",
       "[329317 rows x 16 columns]"
      ]
     },
     "execution_count": 14,
     "metadata": {},
     "output_type": "execute_result"
    }
   ],
   "source": [
    "df = df[df['Price'] > 0]\n",
    "df = df[df['Power'] < 700]"
   ]
  },
  {
   "cell_type": "markdown",
   "metadata": {},
   "source": [
    "**Уберем ненужные колонки:**"
   ]
  },
  {
   "cell_type": "code",
   "execution_count": 15,
   "metadata": {},
   "outputs": [],
   "source": [
    "df = df.drop([\"DateCrawled\",\"DateCreated\",\"LastSeen\",\"NumberOfPictures\",\"PostalCode\", \"RegistrationMonth\"],axis = 1)"
   ]
  },
  {
   "cell_type": "markdown",
   "metadata": {},
   "source": [
    "**Посмотрим на корреляцию признаков с целевым:**"
   ]
  },
  {
   "cell_type": "code",
   "execution_count": 16,
   "metadata": {
    "scrolled": true
   },
   "outputs": [
    {
     "data": {
      "text/html": [
       "<div>\n",
       "<style scoped>\n",
       "    .dataframe tbody tr th:only-of-type {\n",
       "        vertical-align: middle;\n",
       "    }\n",
       "\n",
       "    .dataframe tbody tr th {\n",
       "        vertical-align: top;\n",
       "    }\n",
       "\n",
       "    .dataframe thead th {\n",
       "        text-align: right;\n",
       "    }\n",
       "</style>\n",
       "<table border=\"1\" class=\"dataframe\">\n",
       "  <thead>\n",
       "    <tr style=\"text-align: right;\">\n",
       "      <th></th>\n",
       "      <th>Price</th>\n",
       "      <th>RegistrationYear</th>\n",
       "      <th>Power</th>\n",
       "      <th>Kilometer</th>\n",
       "    </tr>\n",
       "  </thead>\n",
       "  <tbody>\n",
       "    <tr>\n",
       "      <th>Price</th>\n",
       "      <td>1.000000</td>\n",
       "      <td>0.450441</td>\n",
       "      <td>0.491401</td>\n",
       "      <td>-0.354369</td>\n",
       "    </tr>\n",
       "    <tr>\n",
       "      <th>RegistrationYear</th>\n",
       "      <td>0.450441</td>\n",
       "      <td>1.000000</td>\n",
       "      <td>0.152562</td>\n",
       "      <td>-0.233961</td>\n",
       "    </tr>\n",
       "    <tr>\n",
       "      <th>Power</th>\n",
       "      <td>0.491401</td>\n",
       "      <td>0.152562</td>\n",
       "      <td>1.000000</td>\n",
       "      <td>0.081796</td>\n",
       "    </tr>\n",
       "    <tr>\n",
       "      <th>Kilometer</th>\n",
       "      <td>-0.354369</td>\n",
       "      <td>-0.233961</td>\n",
       "      <td>0.081796</td>\n",
       "      <td>1.000000</td>\n",
       "    </tr>\n",
       "  </tbody>\n",
       "</table>\n",
       "</div>"
      ],
      "text/plain": [
       "                     Price  RegistrationYear     Power  Kilometer\n",
       "Price             1.000000          0.450441  0.491401  -0.354369\n",
       "RegistrationYear  0.450441          1.000000  0.152562  -0.233961\n",
       "Power             0.491401          0.152562  1.000000   0.081796\n",
       "Kilometer        -0.354369         -0.233961  0.081796   1.000000"
      ]
     },
     "execution_count": 16,
     "metadata": {},
     "output_type": "execute_result"
    }
   ],
   "source": [
    "df.corr()"
   ]
  },
  {
   "cell_type": "markdown",
   "metadata": {},
   "source": [
    "**Вывод:**\n",
    "1. Ознакомились с данными и их распределениями\n",
    "2. Удалили дубликаты\n",
    "3. Заполнили пропуски в категориальных признаках модой\n",
    "4. Удалили выбросы\n",
    "5. Удалили ненужные для обучения модели столбцы \n",
    "6. Посмотрели корреляцию признаков: самая сильная положительная корреляция с ценой у мощности автомобиля, отрицательная – с пробегом"
   ]
  },
  {
   "cell_type": "markdown",
   "metadata": {},
   "source": [
    "## Разделим и закодируем выборки"
   ]
  },
  {
   "cell_type": "markdown",
   "metadata": {},
   "source": [
    "Краткий план по выполнению этого раздела:\n",
    "   1. Разделим выборки на тренировочную, валидационную и тестовую\n",
    "   2. Преобразуем категориальные признаки (в которых не так много значений) **OHE** способом –– колонки **VehicleType, GearBox, FuelType, Repaired**\n",
    "   3. Преобразуем остальные категориальные признаки с помощью **MEstimateEncoder** –– колонки **Brand, Model**\n",
    "   4. Количественные признаки стандартизируем с помощью **StandardScaler** –– колонки **Kilometer, Power**"
   ]
  },
  {
   "cell_type": "markdown",
   "metadata": {},
   "source": [
    "### Разделим выборки"
   ]
  },
  {
   "cell_type": "code",
   "execution_count": 17,
   "metadata": {},
   "outputs": [],
   "source": [
    "features_train , target_train , features_valid , target_valid , features_test, target_test = train_valid_test_split(\n",
    "df , target = 'Price', train_size = 0.6, valid_size = 0.2, test_size = 0.2, random_state = 12345)"
   ]
  },
  {
   "cell_type": "markdown",
   "metadata": {},
   "source": [
    "Отдельно запишем функции для преобразования признаков для **StandardScaler, OHE, MEstimatorEncoder**:"
   ]
  },
  {
   "cell_type": "code",
   "execution_count": 18,
   "metadata": {},
   "outputs": [],
   "source": [
    "def features_transform_scaler(type_encoding, type_feature, cols):\n",
    "    return pd.DataFrame(data = type_encoding.transform(type_feature[cols]),\n",
    "                        columns = cols,\n",
    "                        index = type_feature.index\n",
    "                       )\n",
    "\n",
    "\n",
    "def features_transform_ohe(type_encoding, type_feature, cols):\n",
    "    return pd.DataFrame(data = type_encoding.transform(type_feature[cols]),\n",
    "                        columns = type_encoding.get_feature_names(cols),\n",
    "                        index = type_feature[cols].index\n",
    "                       )\n",
    "\n",
    "def features_transform_me(type_encoding, type_feature, cols):\n",
    "    return pd.DataFrame(data = type_encoding.transform(type_feature[cols]),\n",
    "                        columns = type_encoding.get_feature_names_out(cols),\n",
    "                        index = type_feature[cols].index\n",
    "                       )"
   ]
  },
  {
   "cell_type": "markdown",
   "metadata": {},
   "source": [
    "### OHE"
   ]
  },
  {
   "cell_type": "markdown",
   "metadata": {},
   "source": [
    "Закодируем методом OHE только те категориальные признаки, в которых встречается мало значений, чтобы не допустить \"проклятья размерности\" ;)"
   ]
  },
  {
   "cell_type": "code",
   "execution_count": 56,
   "metadata": {},
   "outputs": [
    {
     "data": {
      "text/html": [
       "<div>\n",
       "<style scoped>\n",
       "    .dataframe tbody tr th:only-of-type {\n",
       "        vertical-align: middle;\n",
       "    }\n",
       "\n",
       "    .dataframe tbody tr th {\n",
       "        vertical-align: top;\n",
       "    }\n",
       "\n",
       "    .dataframe thead th {\n",
       "        text-align: right;\n",
       "    }\n",
       "</style>\n",
       "<table border=\"1\" class=\"dataframe\">\n",
       "  <thead>\n",
       "    <tr style=\"text-align: right;\">\n",
       "      <th></th>\n",
       "      <th>VehicleType_None</th>\n",
       "      <th>VehicleType_bus</th>\n",
       "      <th>VehicleType_convertible</th>\n",
       "      <th>VehicleType_coupe</th>\n",
       "      <th>VehicleType_other</th>\n",
       "      <th>VehicleType_sedan</th>\n",
       "      <th>VehicleType_small</th>\n",
       "      <th>VehicleType_suv</th>\n",
       "      <th>VehicleType_wagon</th>\n",
       "      <th>Gearbox_None</th>\n",
       "      <th>...</th>\n",
       "      <th>FuelType_cng</th>\n",
       "      <th>FuelType_electric</th>\n",
       "      <th>FuelType_gasoline</th>\n",
       "      <th>FuelType_hybrid</th>\n",
       "      <th>FuelType_lpg</th>\n",
       "      <th>FuelType_other</th>\n",
       "      <th>FuelType_petrol</th>\n",
       "      <th>Repaired_None</th>\n",
       "      <th>Repaired_no</th>\n",
       "      <th>Repaired_yes</th>\n",
       "    </tr>\n",
       "  </thead>\n",
       "  <tbody>\n",
       "    <tr>\n",
       "      <th>58654</th>\n",
       "      <td>0.0</td>\n",
       "      <td>0.0</td>\n",
       "      <td>0.0</td>\n",
       "      <td>0.0</td>\n",
       "      <td>0.0</td>\n",
       "      <td>0.0</td>\n",
       "      <td>0.0</td>\n",
       "      <td>0.0</td>\n",
       "      <td>1.0</td>\n",
       "      <td>0.0</td>\n",
       "      <td>...</td>\n",
       "      <td>0.0</td>\n",
       "      <td>0.0</td>\n",
       "      <td>1.0</td>\n",
       "      <td>0.0</td>\n",
       "      <td>0.0</td>\n",
       "      <td>0.0</td>\n",
       "      <td>0.0</td>\n",
       "      <td>1.0</td>\n",
       "      <td>0.0</td>\n",
       "      <td>0.0</td>\n",
       "    </tr>\n",
       "    <tr>\n",
       "      <th>303415</th>\n",
       "      <td>0.0</td>\n",
       "      <td>0.0</td>\n",
       "      <td>0.0</td>\n",
       "      <td>0.0</td>\n",
       "      <td>0.0</td>\n",
       "      <td>0.0</td>\n",
       "      <td>1.0</td>\n",
       "      <td>0.0</td>\n",
       "      <td>0.0</td>\n",
       "      <td>1.0</td>\n",
       "      <td>...</td>\n",
       "      <td>0.0</td>\n",
       "      <td>0.0</td>\n",
       "      <td>1.0</td>\n",
       "      <td>0.0</td>\n",
       "      <td>0.0</td>\n",
       "      <td>0.0</td>\n",
       "      <td>0.0</td>\n",
       "      <td>0.0</td>\n",
       "      <td>1.0</td>\n",
       "      <td>0.0</td>\n",
       "    </tr>\n",
       "    <tr>\n",
       "      <th>259160</th>\n",
       "      <td>0.0</td>\n",
       "      <td>0.0</td>\n",
       "      <td>0.0</td>\n",
       "      <td>0.0</td>\n",
       "      <td>0.0</td>\n",
       "      <td>0.0</td>\n",
       "      <td>1.0</td>\n",
       "      <td>0.0</td>\n",
       "      <td>0.0</td>\n",
       "      <td>0.0</td>\n",
       "      <td>...</td>\n",
       "      <td>0.0</td>\n",
       "      <td>0.0</td>\n",
       "      <td>0.0</td>\n",
       "      <td>0.0</td>\n",
       "      <td>0.0</td>\n",
       "      <td>0.0</td>\n",
       "      <td>1.0</td>\n",
       "      <td>1.0</td>\n",
       "      <td>0.0</td>\n",
       "      <td>0.0</td>\n",
       "    </tr>\n",
       "    <tr>\n",
       "      <th>192483</th>\n",
       "      <td>0.0</td>\n",
       "      <td>0.0</td>\n",
       "      <td>0.0</td>\n",
       "      <td>0.0</td>\n",
       "      <td>0.0</td>\n",
       "      <td>0.0</td>\n",
       "      <td>1.0</td>\n",
       "      <td>0.0</td>\n",
       "      <td>0.0</td>\n",
       "      <td>0.0</td>\n",
       "      <td>...</td>\n",
       "      <td>0.0</td>\n",
       "      <td>0.0</td>\n",
       "      <td>0.0</td>\n",
       "      <td>0.0</td>\n",
       "      <td>0.0</td>\n",
       "      <td>0.0</td>\n",
       "      <td>1.0</td>\n",
       "      <td>0.0</td>\n",
       "      <td>1.0</td>\n",
       "      <td>0.0</td>\n",
       "    </tr>\n",
       "    <tr>\n",
       "      <th>50210</th>\n",
       "      <td>0.0</td>\n",
       "      <td>0.0</td>\n",
       "      <td>0.0</td>\n",
       "      <td>0.0</td>\n",
       "      <td>0.0</td>\n",
       "      <td>0.0</td>\n",
       "      <td>0.0</td>\n",
       "      <td>1.0</td>\n",
       "      <td>0.0</td>\n",
       "      <td>0.0</td>\n",
       "      <td>...</td>\n",
       "      <td>0.0</td>\n",
       "      <td>0.0</td>\n",
       "      <td>0.0</td>\n",
       "      <td>0.0</td>\n",
       "      <td>1.0</td>\n",
       "      <td>0.0</td>\n",
       "      <td>0.0</td>\n",
       "      <td>1.0</td>\n",
       "      <td>0.0</td>\n",
       "      <td>0.0</td>\n",
       "    </tr>\n",
       "  </tbody>\n",
       "</table>\n",
       "<p>5 rows × 23 columns</p>\n",
       "</div>"
      ],
      "text/plain": [
       "        VehicleType_None  VehicleType_bus  VehicleType_convertible  \\\n",
       "58654                0.0              0.0                      0.0   \n",
       "303415               0.0              0.0                      0.0   \n",
       "259160               0.0              0.0                      0.0   \n",
       "192483               0.0              0.0                      0.0   \n",
       "50210                0.0              0.0                      0.0   \n",
       "\n",
       "        VehicleType_coupe  VehicleType_other  VehicleType_sedan  \\\n",
       "58654                 0.0                0.0                0.0   \n",
       "303415                0.0                0.0                0.0   \n",
       "259160                0.0                0.0                0.0   \n",
       "192483                0.0                0.0                0.0   \n",
       "50210                 0.0                0.0                0.0   \n",
       "\n",
       "        VehicleType_small  VehicleType_suv  VehicleType_wagon  Gearbox_None  \\\n",
       "58654                 0.0              0.0                1.0           0.0   \n",
       "303415                1.0              0.0                0.0           1.0   \n",
       "259160                1.0              0.0                0.0           0.0   \n",
       "192483                1.0              0.0                0.0           0.0   \n",
       "50210                 0.0              1.0                0.0           0.0   \n",
       "\n",
       "        ...  FuelType_cng  FuelType_electric  FuelType_gasoline  \\\n",
       "58654   ...           0.0                0.0                1.0   \n",
       "303415  ...           0.0                0.0                1.0   \n",
       "259160  ...           0.0                0.0                0.0   \n",
       "192483  ...           0.0                0.0                0.0   \n",
       "50210   ...           0.0                0.0                0.0   \n",
       "\n",
       "        FuelType_hybrid  FuelType_lpg  FuelType_other  FuelType_petrol  \\\n",
       "58654               0.0           0.0             0.0              0.0   \n",
       "303415              0.0           0.0             0.0              0.0   \n",
       "259160              0.0           0.0             0.0              1.0   \n",
       "192483              0.0           0.0             0.0              1.0   \n",
       "50210               0.0           1.0             0.0              0.0   \n",
       "\n",
       "        Repaired_None  Repaired_no  Repaired_yes  \n",
       "58654             1.0          0.0           0.0  \n",
       "303415            0.0          1.0           0.0  \n",
       "259160            1.0          0.0           0.0  \n",
       "192483            0.0          1.0           0.0  \n",
       "50210             1.0          0.0           0.0  \n",
       "\n",
       "[5 rows x 23 columns]"
      ]
     },
     "execution_count": 56,
     "metadata": {},
     "output_type": "execute_result"
    }
   ],
   "source": [
    "encoder = OneHotEncoder(sparse = False)\n",
    "columns_ohe = ['VehicleType','Gearbox','FuelType','Repaired']\n",
    "encoder.fit(features_train[columns_ohe])\n",
    "features = [features_train, features_valid, features_test]\n",
    "\n",
    "encoded_features_train = features_transform_ohe(encoder, features_train, columns_ohe)\n",
    "encoded_features_valid = features_transform_ohe(encoder, features_valid, columns_ohe)\n",
    "encoded_features_test = features_transform_ohe(encoder, features_test, columns_ohe)\n",
    "\n",
    "encoded_features_test.head()"
   ]
  },
  {
   "cell_type": "markdown",
   "metadata": {},
   "source": [
    "### MEstimate Encoding"
   ]
  },
  {
   "cell_type": "code",
   "execution_count": 20,
   "metadata": {},
   "outputs": [
    {
     "name": "stdout",
     "output_type": "stream",
     "text": [
      "Requirement already satisfied: category_encoders in /opt/conda/lib/python3.9/site-packages (2.6.2)\n",
      "Requirement already satisfied: pandas>=1.0.5 in /opt/conda/lib/python3.9/site-packages (from category_encoders) (1.2.4)\n",
      "Requirement already satisfied: numpy>=1.14.0 in /opt/conda/lib/python3.9/site-packages (from category_encoders) (1.21.1)\n",
      "Requirement already satisfied: statsmodels>=0.9.0 in /opt/conda/lib/python3.9/site-packages (from category_encoders) (0.13.2)\n",
      "Requirement already satisfied: scipy>=1.0.0 in /opt/conda/lib/python3.9/site-packages (from category_encoders) (1.9.1)\n",
      "Requirement already satisfied: patsy>=0.5.1 in /opt/conda/lib/python3.9/site-packages (from category_encoders) (0.5.2)\n",
      "Requirement already satisfied: scikit-learn>=0.20.0 in /opt/conda/lib/python3.9/site-packages (from category_encoders) (0.24.1)\n",
      "Requirement already satisfied: python-dateutil>=2.7.3 in /opt/conda/lib/python3.9/site-packages (from pandas>=1.0.5->category_encoders) (2.8.1)\n",
      "Requirement already satisfied: pytz>=2017.3 in /opt/conda/lib/python3.9/site-packages (from pandas>=1.0.5->category_encoders) (2021.1)\n",
      "Requirement already satisfied: six in /opt/conda/lib/python3.9/site-packages (from patsy>=0.5.1->category_encoders) (1.16.0)\n",
      "Requirement already satisfied: threadpoolctl>=2.0.0 in /opt/conda/lib/python3.9/site-packages (from scikit-learn>=0.20.0->category_encoders) (3.1.0)\n",
      "Requirement already satisfied: joblib>=0.11 in /opt/conda/lib/python3.9/site-packages (from scikit-learn>=0.20.0->category_encoders) (1.1.0)\n",
      "Requirement already satisfied: packaging>=21.3 in /opt/conda/lib/python3.9/site-packages (from statsmodels>=0.9.0->category_encoders) (21.3)\n",
      "Requirement already satisfied: pyparsing!=3.0.5,>=2.0.2 in /opt/conda/lib/python3.9/site-packages (from packaging>=21.3->statsmodels>=0.9.0->category_encoders) (2.4.7)\n",
      "Note: you may need to restart the kernel to use updated packages.\n"
     ]
    }
   ],
   "source": [
    "pip install category_encoders"
   ]
  },
  {
   "cell_type": "code",
   "execution_count": 21,
   "metadata": {},
   "outputs": [],
   "source": [
    "from category_encoders.m_estimate import MEstimateEncoder"
   ]
  },
  {
   "cell_type": "code",
   "execution_count": 22,
   "metadata": {},
   "outputs": [
    {
     "data": {
      "text/html": [
       "<div>\n",
       "<style scoped>\n",
       "    .dataframe tbody tr th:only-of-type {\n",
       "        vertical-align: middle;\n",
       "    }\n",
       "\n",
       "    .dataframe tbody tr th {\n",
       "        vertical-align: top;\n",
       "    }\n",
       "\n",
       "    .dataframe thead th {\n",
       "        text-align: right;\n",
       "    }\n",
       "</style>\n",
       "<table border=\"1\" class=\"dataframe\">\n",
       "  <thead>\n",
       "    <tr style=\"text-align: right;\">\n",
       "      <th></th>\n",
       "      <th>Brand</th>\n",
       "      <th>Model</th>\n",
       "    </tr>\n",
       "  </thead>\n",
       "  <tbody>\n",
       "    <tr>\n",
       "      <th>58654</th>\n",
       "      <td>4511.704599</td>\n",
       "      <td>11605.164120</td>\n",
       "    </tr>\n",
       "    <tr>\n",
       "      <th>303415</th>\n",
       "      <td>3559.261573</td>\n",
       "      <td>3640.042911</td>\n",
       "    </tr>\n",
       "    <tr>\n",
       "      <th>259160</th>\n",
       "      <td>4585.987736</td>\n",
       "      <td>2651.957372</td>\n",
       "    </tr>\n",
       "    <tr>\n",
       "      <th>192483</th>\n",
       "      <td>3894.170239</td>\n",
       "      <td>3934.276150</td>\n",
       "    </tr>\n",
       "    <tr>\n",
       "      <th>50210</th>\n",
       "      <td>3698.021293</td>\n",
       "      <td>6311.651496</td>\n",
       "    </tr>\n",
       "  </tbody>\n",
       "</table>\n",
       "</div>"
      ],
      "text/plain": [
       "              Brand         Model\n",
       "58654   4511.704599  11605.164120\n",
       "303415  3559.261573   3640.042911\n",
       "259160  4585.987736   2651.957372\n",
       "192483  3894.170239   3934.276150\n",
       "50210   3698.021293   6311.651496"
      ]
     },
     "execution_count": 22,
     "metadata": {},
     "output_type": "execute_result"
    }
   ],
   "source": [
    "encoder = MEstimateEncoder()\n",
    "columns_me = ['Brand', 'Model']\n",
    "encoder.fit(features_train[columns_me], target_train)\n",
    "features_train_me = features_transform_me(encoder, features_train, columns_me)\n",
    "features_valid_me = features_transform_me(encoder, features_valid, columns_me)\n",
    "features_test_me = features_transform_me(encoder, features_test, columns_me)\n",
    "\n",
    "features_test_me.head()"
   ]
  },
  {
   "cell_type": "markdown",
   "metadata": {},
   "source": [
    "### StandardScaler (Стандартизируем Признаки)"
   ]
  },
  {
   "cell_type": "code",
   "execution_count": 23,
   "metadata": {
    "scrolled": true
   },
   "outputs": [
    {
     "data": {
      "text/html": [
       "<div>\n",
       "<style scoped>\n",
       "    .dataframe tbody tr th:only-of-type {\n",
       "        vertical-align: middle;\n",
       "    }\n",
       "\n",
       "    .dataframe tbody tr th {\n",
       "        vertical-align: top;\n",
       "    }\n",
       "\n",
       "    .dataframe thead th {\n",
       "        text-align: right;\n",
       "    }\n",
       "</style>\n",
       "<table border=\"1\" class=\"dataframe\">\n",
       "  <thead>\n",
       "    <tr style=\"text-align: right;\">\n",
       "      <th></th>\n",
       "      <th>Kilometer</th>\n",
       "      <th>Power</th>\n",
       "    </tr>\n",
       "  </thead>\n",
       "  <tbody>\n",
       "    <tr>\n",
       "      <th>58654</th>\n",
       "      <td>0.581465</td>\n",
       "      <td>1.215631</td>\n",
       "    </tr>\n",
       "    <tr>\n",
       "      <th>303415</th>\n",
       "      <td>0.581465</td>\n",
       "      <td>-1.074323</td>\n",
       "    </tr>\n",
       "    <tr>\n",
       "      <th>259160</th>\n",
       "      <td>-0.086133</td>\n",
       "      <td>-1.726324</td>\n",
       "    </tr>\n",
       "    <tr>\n",
       "      <th>192483</th>\n",
       "      <td>-1.287810</td>\n",
       "      <td>-0.231493</td>\n",
       "    </tr>\n",
       "    <tr>\n",
       "      <th>50210</th>\n",
       "      <td>0.581465</td>\n",
       "      <td>1.295143</td>\n",
       "    </tr>\n",
       "  </tbody>\n",
       "</table>\n",
       "</div>"
      ],
      "text/plain": [
       "        Kilometer     Power\n",
       "58654    0.581465  1.215631\n",
       "303415   0.581465 -1.074323\n",
       "259160  -0.086133 -1.726324\n",
       "192483  -1.287810 -0.231493\n",
       "50210    0.581465  1.295143"
      ]
     },
     "execution_count": 23,
     "metadata": {},
     "output_type": "execute_result"
    }
   ],
   "source": [
    "columns = ['Kilometer', 'Power']\n",
    "scaler = StandardScaler()\n",
    "scaler.fit(features_train[columns])\n",
    "features_train_scaler = features_transform_scaler(scaler, features_train, columns)\n",
    "features_valid_scaler = features_transform_scaler(scaler, features_valid, columns)\n",
    "features_test_scaler = features_transform_scaler(scaler, features_test, columns)\n",
    "\n",
    "features_test_scaler.head()"
   ]
  },
  {
   "cell_type": "code",
   "execution_count": 34,
   "metadata": {
    "scrolled": false
   },
   "outputs": [
    {
     "data": {
      "text/html": [
       "<div>\n",
       "<style scoped>\n",
       "    .dataframe tbody tr th:only-of-type {\n",
       "        vertical-align: middle;\n",
       "    }\n",
       "\n",
       "    .dataframe tbody tr th {\n",
       "        vertical-align: top;\n",
       "    }\n",
       "\n",
       "    .dataframe thead th {\n",
       "        text-align: right;\n",
       "    }\n",
       "</style>\n",
       "<table border=\"1\" class=\"dataframe\">\n",
       "  <thead>\n",
       "    <tr style=\"text-align: right;\">\n",
       "      <th></th>\n",
       "      <th>RegistrationYear</th>\n",
       "      <th>Kilometer</th>\n",
       "      <th>Power</th>\n",
       "      <th>Model</th>\n",
       "      <th>Brand</th>\n",
       "      <th>VehicleType_None</th>\n",
       "      <th>VehicleType_bus</th>\n",
       "      <th>VehicleType_convertible</th>\n",
       "      <th>VehicleType_coupe</th>\n",
       "      <th>VehicleType_other</th>\n",
       "      <th>...</th>\n",
       "      <th>FuelType_cng</th>\n",
       "      <th>FuelType_electric</th>\n",
       "      <th>FuelType_gasoline</th>\n",
       "      <th>FuelType_hybrid</th>\n",
       "      <th>FuelType_lpg</th>\n",
       "      <th>FuelType_other</th>\n",
       "      <th>FuelType_petrol</th>\n",
       "      <th>Repaired_None</th>\n",
       "      <th>Repaired_no</th>\n",
       "      <th>Repaired_yes</th>\n",
       "    </tr>\n",
       "  </thead>\n",
       "  <tbody>\n",
       "    <tr>\n",
       "      <th>0</th>\n",
       "      <td>2006</td>\n",
       "      <td>0.581465</td>\n",
       "      <td>1.215631</td>\n",
       "      <td>11605.164120</td>\n",
       "      <td>4511.704599</td>\n",
       "      <td>0.0</td>\n",
       "      <td>0.0</td>\n",
       "      <td>0.0</td>\n",
       "      <td>0.0</td>\n",
       "      <td>0.0</td>\n",
       "      <td>...</td>\n",
       "      <td>0.0</td>\n",
       "      <td>0.0</td>\n",
       "      <td>1.0</td>\n",
       "      <td>0.0</td>\n",
       "      <td>0.0</td>\n",
       "      <td>0.0</td>\n",
       "      <td>0.0</td>\n",
       "      <td>1.0</td>\n",
       "      <td>0.0</td>\n",
       "      <td>0.0</td>\n",
       "    </tr>\n",
       "    <tr>\n",
       "      <th>1</th>\n",
       "      <td>2004</td>\n",
       "      <td>0.581465</td>\n",
       "      <td>-1.074323</td>\n",
       "      <td>3640.042911</td>\n",
       "      <td>3559.261573</td>\n",
       "      <td>0.0</td>\n",
       "      <td>0.0</td>\n",
       "      <td>0.0</td>\n",
       "      <td>0.0</td>\n",
       "      <td>0.0</td>\n",
       "      <td>...</td>\n",
       "      <td>0.0</td>\n",
       "      <td>0.0</td>\n",
       "      <td>1.0</td>\n",
       "      <td>0.0</td>\n",
       "      <td>0.0</td>\n",
       "      <td>0.0</td>\n",
       "      <td>0.0</td>\n",
       "      <td>0.0</td>\n",
       "      <td>1.0</td>\n",
       "      <td>0.0</td>\n",
       "    </tr>\n",
       "    <tr>\n",
       "      <th>2</th>\n",
       "      <td>1993</td>\n",
       "      <td>-0.086133</td>\n",
       "      <td>-1.726324</td>\n",
       "      <td>2651.957372</td>\n",
       "      <td>4585.987736</td>\n",
       "      <td>0.0</td>\n",
       "      <td>0.0</td>\n",
       "      <td>0.0</td>\n",
       "      <td>0.0</td>\n",
       "      <td>0.0</td>\n",
       "      <td>...</td>\n",
       "      <td>0.0</td>\n",
       "      <td>0.0</td>\n",
       "      <td>0.0</td>\n",
       "      <td>0.0</td>\n",
       "      <td>0.0</td>\n",
       "      <td>0.0</td>\n",
       "      <td>1.0</td>\n",
       "      <td>1.0</td>\n",
       "      <td>0.0</td>\n",
       "      <td>0.0</td>\n",
       "    </tr>\n",
       "    <tr>\n",
       "      <th>3</th>\n",
       "      <td>2011</td>\n",
       "      <td>-1.287810</td>\n",
       "      <td>-0.231493</td>\n",
       "      <td>3934.276150</td>\n",
       "      <td>3894.170239</td>\n",
       "      <td>0.0</td>\n",
       "      <td>0.0</td>\n",
       "      <td>0.0</td>\n",
       "      <td>0.0</td>\n",
       "      <td>0.0</td>\n",
       "      <td>...</td>\n",
       "      <td>0.0</td>\n",
       "      <td>0.0</td>\n",
       "      <td>0.0</td>\n",
       "      <td>0.0</td>\n",
       "      <td>0.0</td>\n",
       "      <td>0.0</td>\n",
       "      <td>1.0</td>\n",
       "      <td>0.0</td>\n",
       "      <td>1.0</td>\n",
       "      <td>0.0</td>\n",
       "    </tr>\n",
       "    <tr>\n",
       "      <th>4</th>\n",
       "      <td>1994</td>\n",
       "      <td>0.581465</td>\n",
       "      <td>1.295143</td>\n",
       "      <td>6311.651496</td>\n",
       "      <td>3698.021293</td>\n",
       "      <td>0.0</td>\n",
       "      <td>0.0</td>\n",
       "      <td>0.0</td>\n",
       "      <td>0.0</td>\n",
       "      <td>0.0</td>\n",
       "      <td>...</td>\n",
       "      <td>0.0</td>\n",
       "      <td>0.0</td>\n",
       "      <td>0.0</td>\n",
       "      <td>0.0</td>\n",
       "      <td>1.0</td>\n",
       "      <td>0.0</td>\n",
       "      <td>0.0</td>\n",
       "      <td>1.0</td>\n",
       "      <td>0.0</td>\n",
       "      <td>0.0</td>\n",
       "    </tr>\n",
       "    <tr>\n",
       "      <th>...</th>\n",
       "      <td>...</td>\n",
       "      <td>...</td>\n",
       "      <td>...</td>\n",
       "      <td>...</td>\n",
       "      <td>...</td>\n",
       "      <td>...</td>\n",
       "      <td>...</td>\n",
       "      <td>...</td>\n",
       "      <td>...</td>\n",
       "      <td>...</td>\n",
       "      <td>...</td>\n",
       "      <td>...</td>\n",
       "      <td>...</td>\n",
       "      <td>...</td>\n",
       "      <td>...</td>\n",
       "      <td>...</td>\n",
       "      <td>...</td>\n",
       "      <td>...</td>\n",
       "      <td>...</td>\n",
       "      <td>...</td>\n",
       "      <td>...</td>\n",
       "    </tr>\n",
       "    <tr>\n",
       "      <th>65859</th>\n",
       "      <td>2007</td>\n",
       "      <td>-1.020771</td>\n",
       "      <td>-0.104273</td>\n",
       "      <td>7396.215729</td>\n",
       "      <td>4145.789585</td>\n",
       "      <td>0.0</td>\n",
       "      <td>0.0</td>\n",
       "      <td>0.0</td>\n",
       "      <td>0.0</td>\n",
       "      <td>0.0</td>\n",
       "      <td>...</td>\n",
       "      <td>0.0</td>\n",
       "      <td>0.0</td>\n",
       "      <td>0.0</td>\n",
       "      <td>0.0</td>\n",
       "      <td>0.0</td>\n",
       "      <td>0.0</td>\n",
       "      <td>1.0</td>\n",
       "      <td>0.0</td>\n",
       "      <td>1.0</td>\n",
       "      <td>0.0</td>\n",
       "    </tr>\n",
       "    <tr>\n",
       "      <th>65860</th>\n",
       "      <td>1998</td>\n",
       "      <td>0.581465</td>\n",
       "      <td>-0.581347</td>\n",
       "      <td>4366.341426</td>\n",
       "      <td>4585.987736</td>\n",
       "      <td>0.0</td>\n",
       "      <td>0.0</td>\n",
       "      <td>0.0</td>\n",
       "      <td>0.0</td>\n",
       "      <td>0.0</td>\n",
       "      <td>...</td>\n",
       "      <td>0.0</td>\n",
       "      <td>1.0</td>\n",
       "      <td>0.0</td>\n",
       "      <td>0.0</td>\n",
       "      <td>0.0</td>\n",
       "      <td>0.0</td>\n",
       "      <td>0.0</td>\n",
       "      <td>1.0</td>\n",
       "      <td>0.0</td>\n",
       "      <td>0.0</td>\n",
       "    </tr>\n",
       "    <tr>\n",
       "      <th>65861</th>\n",
       "      <td>1992</td>\n",
       "      <td>0.581465</td>\n",
       "      <td>0.659045</td>\n",
       "      <td>3235.982269</td>\n",
       "      <td>6402.988860</td>\n",
       "      <td>0.0</td>\n",
       "      <td>0.0</td>\n",
       "      <td>0.0</td>\n",
       "      <td>1.0</td>\n",
       "      <td>0.0</td>\n",
       "      <td>...</td>\n",
       "      <td>0.0</td>\n",
       "      <td>0.0</td>\n",
       "      <td>0.0</td>\n",
       "      <td>0.0</td>\n",
       "      <td>0.0</td>\n",
       "      <td>0.0</td>\n",
       "      <td>1.0</td>\n",
       "      <td>1.0</td>\n",
       "      <td>0.0</td>\n",
       "      <td>0.0</td>\n",
       "    </tr>\n",
       "    <tr>\n",
       "      <th>65862</th>\n",
       "      <td>2009</td>\n",
       "      <td>-0.086133</td>\n",
       "      <td>0.181971</td>\n",
       "      <td>9963.314230</td>\n",
       "      <td>9212.783127</td>\n",
       "      <td>0.0</td>\n",
       "      <td>0.0</td>\n",
       "      <td>1.0</td>\n",
       "      <td>0.0</td>\n",
       "      <td>0.0</td>\n",
       "      <td>...</td>\n",
       "      <td>0.0</td>\n",
       "      <td>0.0</td>\n",
       "      <td>0.0</td>\n",
       "      <td>0.0</td>\n",
       "      <td>0.0</td>\n",
       "      <td>0.0</td>\n",
       "      <td>1.0</td>\n",
       "      <td>0.0</td>\n",
       "      <td>1.0</td>\n",
       "      <td>0.0</td>\n",
       "    </tr>\n",
       "    <tr>\n",
       "      <th>65863</th>\n",
       "      <td>2003</td>\n",
       "      <td>-0.753731</td>\n",
       "      <td>-0.120175</td>\n",
       "      <td>4883.052273</td>\n",
       "      <td>2845.627969</td>\n",
       "      <td>0.0</td>\n",
       "      <td>1.0</td>\n",
       "      <td>0.0</td>\n",
       "      <td>0.0</td>\n",
       "      <td>0.0</td>\n",
       "      <td>...</td>\n",
       "      <td>0.0</td>\n",
       "      <td>0.0</td>\n",
       "      <td>0.0</td>\n",
       "      <td>0.0</td>\n",
       "      <td>0.0</td>\n",
       "      <td>0.0</td>\n",
       "      <td>1.0</td>\n",
       "      <td>0.0</td>\n",
       "      <td>1.0</td>\n",
       "      <td>0.0</td>\n",
       "    </tr>\n",
       "  </tbody>\n",
       "</table>\n",
       "<p>65864 rows × 28 columns</p>\n",
       "</div>"
      ],
      "text/plain": [
       "       RegistrationYear  Kilometer     Power         Model        Brand  \\\n",
       "0                  2006   0.581465  1.215631  11605.164120  4511.704599   \n",
       "1                  2004   0.581465 -1.074323   3640.042911  3559.261573   \n",
       "2                  1993  -0.086133 -1.726324   2651.957372  4585.987736   \n",
       "3                  2011  -1.287810 -0.231493   3934.276150  3894.170239   \n",
       "4                  1994   0.581465  1.295143   6311.651496  3698.021293   \n",
       "...                 ...        ...       ...           ...          ...   \n",
       "65859              2007  -1.020771 -0.104273   7396.215729  4145.789585   \n",
       "65860              1998   0.581465 -0.581347   4366.341426  4585.987736   \n",
       "65861              1992   0.581465  0.659045   3235.982269  6402.988860   \n",
       "65862              2009  -0.086133  0.181971   9963.314230  9212.783127   \n",
       "65863              2003  -0.753731 -0.120175   4883.052273  2845.627969   \n",
       "\n",
       "       VehicleType_None  VehicleType_bus  VehicleType_convertible  \\\n",
       "0                   0.0              0.0                      0.0   \n",
       "1                   0.0              0.0                      0.0   \n",
       "2                   0.0              0.0                      0.0   \n",
       "3                   0.0              0.0                      0.0   \n",
       "4                   0.0              0.0                      0.0   \n",
       "...                 ...              ...                      ...   \n",
       "65859               0.0              0.0                      0.0   \n",
       "65860               0.0              0.0                      0.0   \n",
       "65861               0.0              0.0                      0.0   \n",
       "65862               0.0              0.0                      1.0   \n",
       "65863               0.0              1.0                      0.0   \n",
       "\n",
       "       VehicleType_coupe  VehicleType_other  ...  FuelType_cng  \\\n",
       "0                    0.0                0.0  ...           0.0   \n",
       "1                    0.0                0.0  ...           0.0   \n",
       "2                    0.0                0.0  ...           0.0   \n",
       "3                    0.0                0.0  ...           0.0   \n",
       "4                    0.0                0.0  ...           0.0   \n",
       "...                  ...                ...  ...           ...   \n",
       "65859                0.0                0.0  ...           0.0   \n",
       "65860                0.0                0.0  ...           0.0   \n",
       "65861                1.0                0.0  ...           0.0   \n",
       "65862                0.0                0.0  ...           0.0   \n",
       "65863                0.0                0.0  ...           0.0   \n",
       "\n",
       "       FuelType_electric  FuelType_gasoline  FuelType_hybrid  FuelType_lpg  \\\n",
       "0                    0.0                1.0              0.0           0.0   \n",
       "1                    0.0                1.0              0.0           0.0   \n",
       "2                    0.0                0.0              0.0           0.0   \n",
       "3                    0.0                0.0              0.0           0.0   \n",
       "4                    0.0                0.0              0.0           1.0   \n",
       "...                  ...                ...              ...           ...   \n",
       "65859                0.0                0.0              0.0           0.0   \n",
       "65860                1.0                0.0              0.0           0.0   \n",
       "65861                0.0                0.0              0.0           0.0   \n",
       "65862                0.0                0.0              0.0           0.0   \n",
       "65863                0.0                0.0              0.0           0.0   \n",
       "\n",
       "       FuelType_other  FuelType_petrol  Repaired_None  Repaired_no  \\\n",
       "0                 0.0              0.0            1.0          0.0   \n",
       "1                 0.0              0.0            0.0          1.0   \n",
       "2                 0.0              1.0            1.0          0.0   \n",
       "3                 0.0              1.0            0.0          1.0   \n",
       "4                 0.0              0.0            1.0          0.0   \n",
       "...               ...              ...            ...          ...   \n",
       "65859             0.0              1.0            0.0          1.0   \n",
       "65860             0.0              0.0            1.0          0.0   \n",
       "65861             0.0              1.0            1.0          0.0   \n",
       "65862             0.0              1.0            0.0          1.0   \n",
       "65863             0.0              1.0            0.0          1.0   \n",
       "\n",
       "       Repaired_yes  \n",
       "0               0.0  \n",
       "1               0.0  \n",
       "2               0.0  \n",
       "3               0.0  \n",
       "4               0.0  \n",
       "...             ...  \n",
       "65859           0.0  \n",
       "65860           0.0  \n",
       "65861           0.0  \n",
       "65862           0.0  \n",
       "65863           0.0  \n",
       "\n",
       "[65864 rows x 28 columns]"
      ]
     },
     "execution_count": 34,
     "metadata": {},
     "output_type": "execute_result"
    }
   ],
   "source": [
    "features_train_new = pd.DataFrame(index = encoded_features_train.index)\n",
    "features_train_new['RegistrationYear'] = features_train['RegistrationYear']\n",
    "features_train_new['Kilometer'] = features_train_scaler['Kilometer']\n",
    "features_train_new['Power'] = features_train_scaler['Power']\n",
    "features_train_new['Model'] = features_train_me['Model']\n",
    "features_train_new['Brand'] = features_train_me['Brand']\n",
    "\n",
    "features_train_new = pd.merge(features_train_new, encoded_features_train, on = features_train_new.index)\n",
    "features_train_new = features_train_new.drop('key_0', axis = 1)\n",
    "# features_train_new \n",
    "# ––––––––––––––––––––––––––––––––––––––––––––––––––––––––––––––––––––––––––––––––\n",
    "features_valid_new = pd.DataFrame(index = encoded_features_valid.index)\n",
    "features_valid_new['RegistrationYear'] = features_valid['RegistrationYear']\n",
    "features_valid_new['Kilometer'] = features_valid_scaler['Kilometer']\n",
    "features_valid_new['Power'] = features_valid_scaler['Power']\n",
    "features_valid_new['Model'] = features_valid_me['Model']\n",
    "features_valid_new['Brand'] = features_valid_me['Brand']\n",
    "\n",
    "features_valid_new = pd.merge(features_valid_new, encoded_features_valid, on = features_valid_new.index)\n",
    "features_valid_new = features_valid_new.drop('key_0', axis = 1)\n",
    "# features_valid_new \n",
    "# ––––––––––––––––––––––––––––––––––––––––––––––––––––––––––––––––––––––––––––––––\n",
    "features_test_new = pd.DataFrame(index = encoded_features_test.index)\n",
    "features_test_new['RegistrationYear'] = features_test['RegistrationYear']\n",
    "features_test_new['Kilometer'] = features_test_scaler['Kilometer']\n",
    "features_test_new['Power'] = features_test_scaler['Power']\n",
    "features_test_new['Model'] = features_test_me['Model']\n",
    "features_test_new['Brand'] = features_test_me['Brand']\n",
    "\n",
    "features_test_new = pd.merge(features_test_new, encoded_features_test, on = features_test_new.index)\n",
    "features_test_new = features_test_new.drop('key_0', axis = 1)\n",
    "# features_test_new\n"
   ]
  },
  {
   "cell_type": "markdown",
   "metadata": {},
   "source": [
    "## Обучение моделей"
   ]
  },
  {
   "cell_type": "markdown",
   "metadata": {},
   "source": [
    "### LinearRegression"
   ]
  },
  {
   "cell_type": "code",
   "execution_count": 36,
   "metadata": {},
   "outputs": [],
   "source": [
    "import time"
   ]
  },
  {
   "cell_type": "code",
   "execution_count": 48,
   "metadata": {
    "scrolled": true
   },
   "outputs": [
    {
     "name": "stdout",
     "output_type": "stream",
     "text": [
      "0.5025837421417236\n"
     ]
    }
   ],
   "source": [
    "start = time.time()\n",
    "model_lin = LinearRegression()\n",
    "\n",
    "model_lin.fit(features_train_new, target_train)\n",
    "mse_lin = mean_squared_error(model_lin.predict(features_valid_new), target_valid)\n",
    "end = time.time()\n",
    "print(end - start)"
   ]
  },
  {
   "cell_type": "markdown",
   "metadata": {},
   "source": [
    "### Light GBM"
   ]
  },
  {
   "cell_type": "code",
   "execution_count": 45,
   "metadata": {},
   "outputs": [
    {
     "data": {
      "text/plain": [
       "183.42543935775757"
      ]
     },
     "execution_count": 45,
     "metadata": {},
     "output_type": "execute_result"
    }
   ],
   "source": [
    "start = time.time()\n",
    "lgbm = LGBMRegressor()\n",
    "lgbm.fit(features_train_new, target_train)\n",
    "mse_lgbm = mean_squared_error(lgbm.predict(features_valid_new), target_valid)\n",
    "end = time.time()\n",
    "end - start"
   ]
  },
  {
   "cell_type": "markdown",
   "metadata": {},
   "source": [
    "### Cat Boost"
   ]
  },
  {
   "cell_type": "code",
   "execution_count": 58,
   "metadata": {},
   "outputs": [
    {
     "name": "stdout",
     "output_type": "stream",
     "text": [
      "{'learning_rate': 0.4, 'random_state': 12345, 'verbose': False}\n"
     ]
    },
    {
     "data": {
      "text/plain": [
       "317.39153242111206"
      ]
     },
     "execution_count": 58,
     "metadata": {},
     "output_type": "execute_result"
    }
   ],
   "source": [
    "start = time.time()\n",
    "model = CatBoostRegressor() \n",
    "parameters = [{'learning_rate':[0.1,0.4,0.9], 'random_state':[12345], 'verbose':[False]}]\n",
    "\n",
    "model_grid = GridSearchCV(model, parameters, scoring='neg_mean_squared_error')\n",
    "model_grid.fit(features_train_new, target_train)\n",
    "mse_catboost = mean_squared_error(model_grid.predict(features_valid_new), target_valid)\n",
    "print(model_grid.best_params_)\n",
    "end = time.time()\n",
    "end - start"
   ]
  },
  {
   "cell_type": "markdown",
   "metadata": {},
   "source": [
    "**Вывод по 3 пункту:**\n",
    "Модель линейной регрессии обучается за 0,5 сек, LightGBM –– 183, CatBoost –– 317. Проанализируем характеристику **RMSE** у моделей:"
   ]
  },
  {
   "cell_type": "markdown",
   "metadata": {},
   "source": [
    "## Анализ моделей"
   ]
  },
  {
   "cell_type": "code",
   "execution_count": 49,
   "metadata": {},
   "outputs": [
    {
     "name": "stdout",
     "output_type": "stream",
     "text": [
      "2798.664530039228\n"
     ]
    },
    {
     "data": {
      "text/plain": [
       "0.00015354156494140625"
      ]
     },
     "execution_count": 49,
     "metadata": {},
     "output_type": "execute_result"
    }
   ],
   "source": [
    "start = time.time()\n",
    "print(mse_lin**0.5)\n",
    "end = time.time()\n",
    "end - start"
   ]
  },
  {
   "cell_type": "code",
   "execution_count": 50,
   "metadata": {},
   "outputs": [
    {
     "name": "stdout",
     "output_type": "stream",
     "text": [
      "1574.1505674417776\n"
     ]
    },
    {
     "data": {
      "text/plain": [
       "0.00021767616271972656"
      ]
     },
     "execution_count": 50,
     "metadata": {},
     "output_type": "execute_result"
    }
   ],
   "source": [
    "start = time.time()\n",
    "print(mse_catboost**0.5)\n",
    "end = time.time()\n",
    "end - start"
   ]
  },
  {
   "cell_type": "code",
   "execution_count": 51,
   "metadata": {
    "scrolled": true
   },
   "outputs": [
    {
     "name": "stdout",
     "output_type": "stream",
     "text": [
      "1687.7052561802393\n"
     ]
    },
    {
     "data": {
      "text/plain": [
       "0.00013828277587890625"
      ]
     },
     "execution_count": 51,
     "metadata": {},
     "output_type": "execute_result"
    }
   ],
   "source": [
    "start = time.time()\n",
    "print(mse_lgbm**0.5)\n",
    "end = time.time()\n",
    "end - start"
   ]
  },
  {
   "cell_type": "markdown",
   "metadata": {},
   "source": [
    "Лучшая модель по RMSE –– Catboost. Проверим ее на тестовой выборке:"
   ]
  },
  {
   "cell_type": "code",
   "execution_count": 53,
   "metadata": {},
   "outputs": [
    {
     "data": {
      "text/plain": [
       "1590.2591254551842"
      ]
     },
     "execution_count": 53,
     "metadata": {},
     "output_type": "execute_result"
    }
   ],
   "source": [
    "mean_squared_error(model_grid.predict(features_test_new), target_test)**0.5"
   ]
  }
 ],
 "metadata": {
  "ExecuteTimeLog": [
   {
    "duration": 379,
    "start_time": "2023-08-07T16:25:40.724Z"
   },
   {
    "duration": 2987,
    "start_time": "2023-08-07T16:25:48.394Z"
   },
   {
    "duration": 882,
    "start_time": "2023-08-07T16:25:53.464Z"
   },
   {
    "duration": 775,
    "start_time": "2023-08-07T16:25:57.705Z"
   },
   {
    "duration": 1113,
    "start_time": "2023-08-07T16:26:11.361Z"
   },
   {
    "duration": 704,
    "start_time": "2023-08-07T16:26:14.592Z"
   },
   {
    "duration": 1051,
    "start_time": "2023-08-07T16:26:20.143Z"
   },
   {
    "duration": 140,
    "start_time": "2023-08-07T16:26:32.125Z"
   },
   {
    "duration": 816,
    "start_time": "2023-08-07T16:27:06.825Z"
   },
   {
    "duration": 4,
    "start_time": "2023-08-07T16:27:36.408Z"
   },
   {
    "duration": 168,
    "start_time": "2023-08-07T16:46:13.932Z"
   },
   {
    "duration": 283,
    "start_time": "2023-08-07T16:46:20.477Z"
   },
   {
    "duration": 1832,
    "start_time": "2023-08-07T16:47:06.033Z"
   },
   {
    "duration": 1200,
    "start_time": "2023-08-07T16:47:23.301Z"
   },
   {
    "duration": 8,
    "start_time": "2023-08-07T16:47:51.599Z"
   },
   {
    "duration": 219,
    "start_time": "2023-08-07T16:48:15.615Z"
   },
   {
    "duration": 284,
    "start_time": "2023-08-07T16:48:20.699Z"
   },
   {
    "duration": 1391,
    "start_time": "2023-08-07T16:48:26.511Z"
   },
   {
    "duration": 106,
    "start_time": "2023-08-07T16:48:40.808Z"
   },
   {
    "duration": 32,
    "start_time": "2023-08-07T16:49:14.847Z"
   },
   {
    "duration": 28,
    "start_time": "2023-08-07T16:49:22.648Z"
   },
   {
    "duration": 27,
    "start_time": "2023-08-07T16:49:33.618Z"
   },
   {
    "duration": 31,
    "start_time": "2023-08-07T16:49:51.917Z"
   },
   {
    "duration": 21,
    "start_time": "2023-08-07T16:49:56.992Z"
   },
   {
    "duration": 9,
    "start_time": "2023-08-07T16:50:33.390Z"
   },
   {
    "duration": 9,
    "start_time": "2023-08-07T16:50:38.714Z"
   },
   {
    "duration": 22,
    "start_time": "2023-08-07T16:50:58.671Z"
   },
   {
    "duration": 8,
    "start_time": "2023-08-07T16:51:38.023Z"
   },
   {
    "duration": 5,
    "start_time": "2023-08-07T16:53:07.895Z"
   },
   {
    "duration": 11,
    "start_time": "2023-08-07T16:53:15.901Z"
   },
   {
    "duration": 4,
    "start_time": "2023-08-07T16:53:19.470Z"
   },
   {
    "duration": 9,
    "start_time": "2023-08-07T16:55:30.215Z"
   },
   {
    "duration": 72,
    "start_time": "2023-08-07T16:56:28.908Z"
   },
   {
    "duration": 392,
    "start_time": "2023-08-07T16:56:31.545Z"
   },
   {
    "duration": 5,
    "start_time": "2023-08-07T16:56:33.406Z"
   },
   {
    "duration": 6,
    "start_time": "2023-08-07T16:58:45.898Z"
   },
   {
    "duration": 648,
    "start_time": "2023-08-07T16:59:07.441Z"
   },
   {
    "duration": 8,
    "start_time": "2023-08-07T16:59:11.462Z"
   },
   {
    "duration": 392,
    "start_time": "2023-08-07T16:59:23.197Z"
   },
   {
    "duration": 880,
    "start_time": "2023-08-07T16:59:23.592Z"
   },
   {
    "duration": 1353,
    "start_time": "2023-08-07T16:59:24.474Z"
   },
   {
    "duration": 124,
    "start_time": "2023-08-07T16:59:25.829Z"
   },
   {
    "duration": 472,
    "start_time": "2023-08-07T16:59:25.954Z"
   },
   {
    "duration": 21,
    "start_time": "2023-08-07T16:59:26.428Z"
   },
   {
    "duration": 294,
    "start_time": "2023-08-07T16:59:26.451Z"
   },
   {
    "duration": 7,
    "start_time": "2023-08-07T16:59:26.746Z"
   },
   {
    "duration": 3,
    "start_time": "2023-08-07T16:59:53.036Z"
   },
   {
    "duration": 7,
    "start_time": "2023-08-07T17:00:06.711Z"
   },
   {
    "duration": 4,
    "start_time": "2023-08-07T17:00:16.173Z"
   },
   {
    "duration": 5,
    "start_time": "2023-08-07T17:00:30.907Z"
   },
   {
    "duration": 415,
    "start_time": "2023-08-07T17:00:39.865Z"
   },
   {
    "duration": 792,
    "start_time": "2023-08-07T17:00:40.282Z"
   },
   {
    "duration": 1235,
    "start_time": "2023-08-07T17:00:41.076Z"
   },
   {
    "duration": 121,
    "start_time": "2023-08-07T17:00:42.313Z"
   },
   {
    "duration": 426,
    "start_time": "2023-08-07T17:00:42.435Z"
   },
   {
    "duration": 866,
    "start_time": "2023-08-07T17:00:42.863Z"
   },
   {
    "duration": 9,
    "start_time": "2023-08-07T17:00:43.730Z"
   },
   {
    "duration": 305,
    "start_time": "2023-08-07T17:00:43.740Z"
   },
   {
    "duration": 16,
    "start_time": "2023-08-07T17:00:44.046Z"
   },
   {
    "duration": 2,
    "start_time": "2023-08-07T17:01:35.040Z"
   },
   {
    "duration": 70,
    "start_time": "2023-08-07T17:01:37.888Z"
   },
   {
    "duration": 423,
    "start_time": "2023-08-07T17:01:51.444Z"
   },
   {
    "duration": 6,
    "start_time": "2023-08-07T17:01:51.869Z"
   },
   {
    "duration": 869,
    "start_time": "2023-08-07T17:01:51.876Z"
   },
   {
    "duration": 1385,
    "start_time": "2023-08-07T17:01:52.748Z"
   },
   {
    "duration": 126,
    "start_time": "2023-08-07T17:01:54.135Z"
   },
   {
    "duration": 469,
    "start_time": "2023-08-07T17:01:54.262Z"
   },
   {
    "duration": 936,
    "start_time": "2023-08-07T17:01:54.733Z"
   },
   {
    "duration": 7,
    "start_time": "2023-08-07T17:01:55.674Z"
   },
   {
    "duration": 287,
    "start_time": "2023-08-07T17:01:55.682Z"
   },
   {
    "duration": 21,
    "start_time": "2023-08-07T17:01:55.971Z"
   },
   {
    "duration": 7,
    "start_time": "2023-08-07T17:02:07.424Z"
   },
   {
    "duration": 8,
    "start_time": "2023-08-07T17:02:42.378Z"
   },
   {
    "duration": 383,
    "start_time": "2023-08-07T17:03:03.711Z"
   },
   {
    "duration": 3,
    "start_time": "2023-08-07T17:03:04.097Z"
   },
   {
    "duration": 809,
    "start_time": "2023-08-07T17:03:04.102Z"
   },
   {
    "duration": 1309,
    "start_time": "2023-08-07T17:03:04.912Z"
   },
   {
    "duration": 122,
    "start_time": "2023-08-07T17:03:06.223Z"
   },
   {
    "duration": 467,
    "start_time": "2023-08-07T17:03:06.346Z"
   },
   {
    "duration": 880,
    "start_time": "2023-08-07T17:03:06.814Z"
   },
   {
    "duration": 8,
    "start_time": "2023-08-07T17:03:07.695Z"
   },
   {
    "duration": 20,
    "start_time": "2023-08-07T17:03:07.705Z"
   },
   {
    "duration": 286,
    "start_time": "2023-08-07T17:03:07.726Z"
   },
   {
    "duration": 6,
    "start_time": "2023-08-07T17:03:08.013Z"
   },
   {
    "duration": 4,
    "start_time": "2023-08-07T17:03:25.591Z"
   },
   {
    "duration": 8,
    "start_time": "2023-08-07T17:03:31.307Z"
   },
   {
    "duration": 105,
    "start_time": "2023-08-07T17:05:05.357Z"
   },
   {
    "duration": 392,
    "start_time": "2023-08-07T17:05:10.474Z"
   },
   {
    "duration": 2,
    "start_time": "2023-08-07T17:05:10.868Z"
   },
   {
    "duration": 796,
    "start_time": "2023-08-07T17:05:10.873Z"
   },
   {
    "duration": 1223,
    "start_time": "2023-08-07T17:05:11.671Z"
   },
   {
    "duration": 122,
    "start_time": "2023-08-07T17:05:12.895Z"
   },
   {
    "duration": 445,
    "start_time": "2023-08-07T17:05:13.018Z"
   },
   {
    "duration": 924,
    "start_time": "2023-08-07T17:05:13.465Z"
   },
   {
    "duration": 8,
    "start_time": "2023-08-07T17:05:14.390Z"
   },
   {
    "duration": 177,
    "start_time": "2023-08-07T17:05:14.399Z"
   },
   {
    "duration": 274,
    "start_time": "2023-08-07T17:05:14.577Z"
   },
   {
    "duration": 17,
    "start_time": "2023-08-07T17:05:14.852Z"
   },
   {
    "duration": 6,
    "start_time": "2023-08-07T17:05:21.613Z"
   },
   {
    "duration": 8,
    "start_time": "2023-08-07T17:06:08.636Z"
   },
   {
    "duration": 392,
    "start_time": "2023-08-07T17:06:14.576Z"
   },
   {
    "duration": 6,
    "start_time": "2023-08-07T17:06:14.969Z"
   },
   {
    "duration": 855,
    "start_time": "2023-08-07T17:06:14.976Z"
   },
   {
    "duration": 1286,
    "start_time": "2023-08-07T17:06:15.833Z"
   },
   {
    "duration": 129,
    "start_time": "2023-08-07T17:06:17.121Z"
   },
   {
    "duration": 433,
    "start_time": "2023-08-07T17:06:17.252Z"
   },
   {
    "duration": 935,
    "start_time": "2023-08-07T17:06:17.686Z"
   },
   {
    "duration": 8,
    "start_time": "2023-08-07T17:06:18.623Z"
   },
   {
    "duration": 74,
    "start_time": "2023-08-07T17:06:18.632Z"
   },
   {
    "duration": 288,
    "start_time": "2023-08-07T17:06:18.707Z"
   },
   {
    "duration": 16,
    "start_time": "2023-08-07T17:06:18.996Z"
   },
   {
    "duration": 9,
    "start_time": "2023-08-07T17:06:46.075Z"
   },
   {
    "duration": 405,
    "start_time": "2023-08-07T17:09:37.244Z"
   },
   {
    "duration": 2,
    "start_time": "2023-08-07T17:09:37.651Z"
   },
   {
    "duration": 848,
    "start_time": "2023-08-07T17:09:37.655Z"
   },
   {
    "duration": 1258,
    "start_time": "2023-08-07T17:09:38.506Z"
   },
   {
    "duration": 121,
    "start_time": "2023-08-07T17:09:39.766Z"
   },
   {
    "duration": 475,
    "start_time": "2023-08-07T17:09:39.888Z"
   },
   {
    "duration": 959,
    "start_time": "2023-08-07T17:09:40.365Z"
   },
   {
    "duration": 9,
    "start_time": "2023-08-07T17:09:41.326Z"
   },
   {
    "duration": 21,
    "start_time": "2023-08-07T17:09:41.336Z"
   },
   {
    "duration": 275,
    "start_time": "2023-08-07T17:09:41.374Z"
   },
   {
    "duration": 8445,
    "start_time": "2023-08-07T17:10:31.889Z"
   },
   {
    "duration": 9,
    "start_time": "2023-08-07T17:13:27.744Z"
   },
   {
    "duration": 138,
    "start_time": "2023-08-07T17:14:18.724Z"
   },
   {
    "duration": 8,
    "start_time": "2023-08-07T17:15:08.990Z"
   },
   {
    "duration": 19,
    "start_time": "2023-08-07T17:15:11.001Z"
   },
   {
    "duration": 113,
    "start_time": "2023-08-07T17:15:31.827Z"
   },
   {
    "duration": 8,
    "start_time": "2023-08-07T17:15:34.528Z"
   },
   {
    "duration": 21,
    "start_time": "2023-08-07T17:15:38.008Z"
   },
   {
    "duration": 5,
    "start_time": "2023-08-07T17:15:54.008Z"
   },
   {
    "duration": 161,
    "start_time": "2023-08-07T17:19:40.542Z"
   },
   {
    "duration": 10,
    "start_time": "2023-08-07T17:22:18.283Z"
   },
   {
    "duration": 8,
    "start_time": "2023-08-07T17:22:20.970Z"
   },
   {
    "duration": 133,
    "start_time": "2023-08-07T17:22:32.838Z"
   },
   {
    "duration": 149,
    "start_time": "2023-08-07T17:23:12.902Z"
   },
   {
    "duration": 182,
    "start_time": "2023-08-07T17:23:37.292Z"
   },
   {
    "duration": 159,
    "start_time": "2023-08-07T17:24:03.781Z"
   },
   {
    "duration": 9,
    "start_time": "2023-08-07T17:24:20.766Z"
   },
   {
    "duration": 156,
    "start_time": "2023-08-07T17:24:25.615Z"
   },
   {
    "duration": 174,
    "start_time": "2023-08-07T17:24:31.985Z"
   },
   {
    "duration": 13,
    "start_time": "2023-08-07T17:24:42.330Z"
   },
   {
    "duration": 48,
    "start_time": "2023-08-07T17:27:39.260Z"
   },
   {
    "duration": 78,
    "start_time": "2023-08-07T17:27:42.152Z"
   },
   {
    "duration": 44,
    "start_time": "2023-08-07T17:27:47.205Z"
   },
   {
    "duration": 90,
    "start_time": "2023-08-07T17:28:55.500Z"
   },
   {
    "duration": 74,
    "start_time": "2023-08-07T17:30:02.324Z"
   },
   {
    "duration": 134,
    "start_time": "2023-08-07T17:32:14.671Z"
   },
   {
    "duration": 11,
    "start_time": "2023-08-07T17:33:17.089Z"
   },
   {
    "duration": 8,
    "start_time": "2023-08-07T17:33:36.414Z"
   },
   {
    "duration": 10,
    "start_time": "2023-08-07T17:33:40.109Z"
   },
   {
    "duration": 449,
    "start_time": "2023-08-07T17:38:31.353Z"
   },
   {
    "duration": 2,
    "start_time": "2023-08-07T17:38:31.804Z"
   },
   {
    "duration": 935,
    "start_time": "2023-08-07T17:38:31.808Z"
   },
   {
    "duration": 1483,
    "start_time": "2023-08-07T17:38:32.744Z"
   },
   {
    "duration": 126,
    "start_time": "2023-08-07T17:38:34.229Z"
   },
   {
    "duration": 464,
    "start_time": "2023-08-07T17:38:34.356Z"
   },
   {
    "duration": 1018,
    "start_time": "2023-08-07T17:38:34.822Z"
   },
   {
    "duration": 8,
    "start_time": "2023-08-07T17:38:35.842Z"
   },
   {
    "duration": 16,
    "start_time": "2023-08-07T17:38:35.852Z"
   },
   {
    "duration": 167,
    "start_time": "2023-08-07T17:38:35.874Z"
   },
   {
    "duration": 14,
    "start_time": "2023-08-07T17:38:36.043Z"
   },
   {
    "duration": 338,
    "start_time": "2023-08-07T17:38:36.059Z"
   },
   {
    "duration": 7,
    "start_time": "2023-08-07T17:38:36.399Z"
   },
   {
    "duration": 206,
    "start_time": "2023-08-07T17:38:36.408Z"
   },
   {
    "duration": 242,
    "start_time": "2023-08-07T17:38:36.615Z"
   },
   {
    "duration": 68,
    "start_time": "2023-08-07T17:40:44.195Z"
   },
   {
    "duration": 91,
    "start_time": "2023-08-07T17:45:26.761Z"
   },
   {
    "duration": 20,
    "start_time": "2023-08-07T17:49:22.664Z"
   },
   {
    "duration": 46,
    "start_time": "2023-08-07T17:49:25.015Z"
   },
   {
    "duration": 708,
    "start_time": "2023-08-07T19:17:08.805Z"
   },
   {
    "duration": 41,
    "start_time": "2023-08-07T19:17:14.015Z"
   },
   {
    "duration": 15,
    "start_time": "2023-08-07T19:17:24.280Z"
   },
   {
    "duration": 883,
    "start_time": "2023-08-07T19:20:38.157Z"
   },
   {
    "duration": 20,
    "start_time": "2023-08-07T19:21:25.819Z"
   },
   {
    "duration": 620,
    "start_time": "2023-08-07T19:22:45.069Z"
   },
   {
    "duration": 87,
    "start_time": "2023-08-07T19:25:37.612Z"
   },
   {
    "duration": 4,
    "start_time": "2023-08-07T19:25:54.697Z"
   },
   {
    "duration": 5,
    "start_time": "2023-08-07T19:26:10.435Z"
   },
   {
    "duration": 26,
    "start_time": "2023-08-07T19:26:26.340Z"
   },
   {
    "duration": 217,
    "start_time": "2023-08-07T19:26:32.660Z"
   },
   {
    "duration": 14,
    "start_time": "2023-08-07T19:27:17.123Z"
   },
   {
    "duration": 10,
    "start_time": "2023-08-07T19:27:23.232Z"
   },
   {
    "duration": 5,
    "start_time": "2023-08-07T19:27:34.351Z"
   },
   {
    "duration": 1236,
    "start_time": "2023-08-07T19:28:08.615Z"
   },
   {
    "duration": 3,
    "start_time": "2023-08-07T19:28:09.852Z"
   },
   {
    "duration": 1291,
    "start_time": "2023-08-07T19:28:09.856Z"
   },
   {
    "duration": 1140,
    "start_time": "2023-08-07T19:28:11.149Z"
   },
   {
    "duration": 124,
    "start_time": "2023-08-07T19:28:12.291Z"
   },
   {
    "duration": 443,
    "start_time": "2023-08-07T19:28:12.416Z"
   },
   {
    "duration": 894,
    "start_time": "2023-08-07T19:28:12.861Z"
   },
   {
    "duration": 10,
    "start_time": "2023-08-07T19:28:13.757Z"
   },
   {
    "duration": 8,
    "start_time": "2023-08-07T19:28:13.774Z"
   },
   {
    "duration": 173,
    "start_time": "2023-08-07T19:28:13.783Z"
   },
   {
    "duration": 17,
    "start_time": "2023-08-07T19:28:13.957Z"
   },
   {
    "duration": 301,
    "start_time": "2023-08-07T19:28:13.976Z"
   },
   {
    "duration": 7,
    "start_time": "2023-08-07T19:28:14.279Z"
   },
   {
    "duration": 56,
    "start_time": "2023-08-07T19:28:14.288Z"
   },
   {
    "duration": 134,
    "start_time": "2023-08-07T19:28:14.346Z"
   },
   {
    "duration": 15,
    "start_time": "2023-08-07T19:28:14.481Z"
   },
   {
    "duration": 63,
    "start_time": "2023-08-07T19:28:14.497Z"
   },
   {
    "duration": 692,
    "start_time": "2023-08-07T19:28:14.562Z"
   },
   {
    "duration": 19,
    "start_time": "2023-08-07T19:28:15.256Z"
   },
   {
    "duration": 615,
    "start_time": "2023-08-07T19:28:15.276Z"
   },
   {
    "duration": 43,
    "start_time": "2023-08-07T19:28:15.893Z"
   },
   {
    "duration": 1217,
    "start_time": "2023-08-07T19:28:32.710Z"
   },
   {
    "duration": 3,
    "start_time": "2023-08-07T19:28:33.929Z"
   },
   {
    "duration": 2900,
    "start_time": "2023-08-07T19:28:33.933Z"
   },
   {
    "duration": 1153,
    "start_time": "2023-08-07T19:28:36.835Z"
   },
   {
    "duration": 118,
    "start_time": "2023-08-07T19:28:37.990Z"
   },
   {
    "duration": 404,
    "start_time": "2023-08-07T19:28:38.110Z"
   },
   {
    "duration": 818,
    "start_time": "2023-08-07T19:28:38.515Z"
   },
   {
    "duration": 7,
    "start_time": "2023-08-07T19:28:39.335Z"
   },
   {
    "duration": 6,
    "start_time": "2023-08-07T19:28:39.344Z"
   },
   {
    "duration": 151,
    "start_time": "2023-08-07T19:28:39.352Z"
   },
   {
    "duration": 12,
    "start_time": "2023-08-07T19:28:39.505Z"
   },
   {
    "duration": 280,
    "start_time": "2023-08-07T19:28:39.518Z"
   },
   {
    "duration": 8,
    "start_time": "2023-08-07T19:28:39.799Z"
   },
   {
    "duration": 54,
    "start_time": "2023-08-07T19:28:39.808Z"
   },
   {
    "duration": 120,
    "start_time": "2023-08-07T19:28:39.864Z"
   },
   {
    "duration": 14,
    "start_time": "2023-08-07T19:28:39.986Z"
   },
   {
    "duration": 51,
    "start_time": "2023-08-07T19:28:40.002Z"
   },
   {
    "duration": 783,
    "start_time": "2023-08-07T19:28:40.055Z"
   },
   {
    "duration": 13,
    "start_time": "2023-08-07T19:28:40.840Z"
   },
   {
    "duration": 617,
    "start_time": "2023-08-07T19:28:40.855Z"
   },
   {
    "duration": 42,
    "start_time": "2023-08-07T19:28:41.473Z"
   },
   {
    "duration": 47,
    "start_time": "2023-08-07T19:30:30.803Z"
   },
   {
    "duration": 1235,
    "start_time": "2023-08-07T19:30:40.397Z"
   },
   {
    "duration": 1242,
    "start_time": "2023-08-07T19:30:46.207Z"
   },
   {
    "duration": 3,
    "start_time": "2023-08-07T19:30:47.450Z"
   },
   {
    "duration": 3033,
    "start_time": "2023-08-07T19:30:47.454Z"
   },
   {
    "duration": 1240,
    "start_time": "2023-08-07T19:30:50.489Z"
   },
   {
    "duration": 122,
    "start_time": "2023-08-07T19:30:51.731Z"
   },
   {
    "duration": 477,
    "start_time": "2023-08-07T19:30:51.854Z"
   },
   {
    "duration": 939,
    "start_time": "2023-08-07T19:30:52.333Z"
   },
   {
    "duration": 8,
    "start_time": "2023-08-07T19:30:53.273Z"
   },
   {
    "duration": 17,
    "start_time": "2023-08-07T19:30:53.283Z"
   },
   {
    "duration": 160,
    "start_time": "2023-08-07T19:30:53.302Z"
   },
   {
    "duration": 18,
    "start_time": "2023-08-07T19:30:53.463Z"
   },
   {
    "duration": 297,
    "start_time": "2023-08-07T19:30:53.483Z"
   },
   {
    "duration": 7,
    "start_time": "2023-08-07T19:30:53.782Z"
   },
   {
    "duration": 72,
    "start_time": "2023-08-07T19:30:53.792Z"
   },
   {
    "duration": 134,
    "start_time": "2023-08-07T19:30:53.866Z"
   },
   {
    "duration": 15,
    "start_time": "2023-08-07T19:30:54.002Z"
   },
   {
    "duration": 57,
    "start_time": "2023-08-07T19:30:54.019Z"
   },
   {
    "duration": 762,
    "start_time": "2023-08-07T19:30:54.078Z"
   },
   {
    "duration": 14,
    "start_time": "2023-08-07T19:30:54.842Z"
   },
   {
    "duration": 630,
    "start_time": "2023-08-07T19:30:54.857Z"
   },
   {
    "duration": 45,
    "start_time": "2023-08-07T19:30:55.489Z"
   },
   {
    "duration": 3,
    "start_time": "2023-08-07T19:30:55.535Z"
   },
   {
    "duration": 22838,
    "start_time": "2023-08-07T19:30:55.540Z"
   },
   {
    "duration": 3281,
    "start_time": "2023-08-07T19:31:48.791Z"
   },
   {
    "duration": 144,
    "start_time": "2023-08-07T19:32:35.579Z"
   },
   {
    "duration": 161,
    "start_time": "2023-08-07T19:34:23.270Z"
   },
   {
    "duration": 23,
    "start_time": "2023-08-07T19:34:25.234Z"
   },
   {
    "duration": 3,
    "start_time": "2023-08-07T19:36:02.626Z"
   },
   {
    "duration": 24,
    "start_time": "2023-08-07T19:36:05.387Z"
   },
   {
    "duration": 2,
    "start_time": "2023-08-07T19:44:12.313Z"
   },
   {
    "duration": 3,
    "start_time": "2023-08-07T19:45:07.886Z"
   },
   {
    "duration": 3,
    "start_time": "2023-08-07T19:45:22.127Z"
   },
   {
    "duration": 10,
    "start_time": "2023-08-07T19:45:23.891Z"
   },
   {
    "duration": 10,
    "start_time": "2023-08-07T19:45:28.029Z"
   },
   {
    "duration": 4,
    "start_time": "2023-08-07T19:45:37.192Z"
   },
   {
    "duration": 16,
    "start_time": "2023-08-07T19:45:45.575Z"
   },
   {
    "duration": 2,
    "start_time": "2023-08-07T19:53:04.861Z"
   },
   {
    "duration": 12,
    "start_time": "2023-08-07T19:53:19.804Z"
   },
   {
    "duration": 11,
    "start_time": "2023-08-07T19:54:51.814Z"
   },
   {
    "duration": 10,
    "start_time": "2023-08-07T19:58:59.447Z"
   },
   {
    "duration": 83294,
    "start_time": "2023-08-07T19:59:28.292Z"
   },
   {
    "duration": 1213,
    "start_time": "2023-08-08T06:45:10.729Z"
   },
   {
    "duration": 3,
    "start_time": "2023-08-08T06:45:11.944Z"
   },
   {
    "duration": 918,
    "start_time": "2023-08-08T06:45:11.948Z"
   },
   {
    "duration": 1248,
    "start_time": "2023-08-08T06:45:12.868Z"
   },
   {
    "duration": 139,
    "start_time": "2023-08-08T06:45:14.118Z"
   },
   {
    "duration": 452,
    "start_time": "2023-08-08T06:45:14.259Z"
   },
   {
    "duration": 931,
    "start_time": "2023-08-08T06:45:14.713Z"
   },
   {
    "duration": 8,
    "start_time": "2023-08-08T06:45:15.645Z"
   },
   {
    "duration": 66,
    "start_time": "2023-08-08T06:45:15.655Z"
   },
   {
    "duration": 146,
    "start_time": "2023-08-08T06:45:15.722Z"
   },
   {
    "duration": 15,
    "start_time": "2023-08-08T06:45:15.869Z"
   },
   {
    "duration": 307,
    "start_time": "2023-08-08T06:45:15.886Z"
   },
   {
    "duration": 8,
    "start_time": "2023-08-08T06:45:16.196Z"
   },
   {
    "duration": 73,
    "start_time": "2023-08-08T06:45:16.208Z"
   },
   {
    "duration": 131,
    "start_time": "2023-08-08T06:45:16.283Z"
   },
   {
    "duration": 15,
    "start_time": "2023-08-08T06:45:16.415Z"
   },
   {
    "duration": 58,
    "start_time": "2023-08-08T06:45:16.432Z"
   },
   {
    "duration": 810,
    "start_time": "2023-08-08T06:45:16.492Z"
   },
   {
    "duration": 14,
    "start_time": "2023-08-08T06:45:17.304Z"
   },
   {
    "duration": 642,
    "start_time": "2023-08-08T06:45:17.320Z"
   },
   {
    "duration": 51,
    "start_time": "2023-08-08T06:45:17.964Z"
   },
   {
    "duration": 3,
    "start_time": "2023-08-08T06:45:18.016Z"
   },
   {
    "duration": 10,
    "start_time": "2023-08-08T06:45:18.020Z"
   },
   {
    "duration": 54643,
    "start_time": "2023-08-08T06:45:18.032Z"
   },
   {
    "duration": 274597,
    "start_time": "2023-08-08T06:46:12.679Z"
   },
   {
    "duration": 9,
    "start_time": "2023-08-08T06:53:24.353Z"
   },
   {
    "duration": 447725,
    "start_time": "2023-08-08T06:53:32.376Z"
   },
   {
    "duration": 22062,
    "start_time": "2023-08-08T07:02:32.523Z"
   },
   {
    "duration": 13453,
    "start_time": "2023-08-08T07:05:40.359Z"
   },
   {
    "duration": 458854,
    "start_time": "2023-08-08T07:05:54.680Z"
   },
   {
    "duration": 456627,
    "start_time": "2023-08-08T07:16:17.974Z"
   },
   {
    "duration": 116,
    "start_time": "2023-08-08T07:23:54.604Z"
   },
   {
    "duration": 12,
    "start_time": "2023-08-08T07:25:34.926Z"
   },
   {
    "duration": 26802,
    "start_time": "2023-08-08T07:26:15.778Z"
   },
   {
    "duration": 339,
    "start_time": "2023-08-08T07:27:44.837Z"
   },
   {
    "duration": 321,
    "start_time": "2023-08-08T07:27:54.055Z"
   },
   {
    "duration": 179,
    "start_time": "2023-08-08T07:31:06.479Z"
   },
   {
    "duration": 155,
    "start_time": "2023-08-08T07:31:11.232Z"
   },
   {
    "duration": 5248,
    "start_time": "2023-08-08T07:38:05.994Z"
   },
   {
    "duration": 162,
    "start_time": "2023-08-08T07:38:33.294Z"
   },
   {
    "duration": 3,
    "start_time": "2023-08-08T07:39:59.405Z"
   },
   {
    "duration": 779,
    "start_time": "2023-08-08T07:41:08.231Z"
   },
   {
    "duration": 521,
    "start_time": "2023-08-08T07:43:03.501Z"
   },
   {
    "duration": 17,
    "start_time": "2023-08-08T07:43:17.234Z"
   },
   {
    "duration": 10,
    "start_time": "2023-08-08T07:45:29.317Z"
   },
   {
    "duration": 9,
    "start_time": "2023-08-08T07:45:52.010Z"
   },
   {
    "duration": 32,
    "start_time": "2023-08-08T07:46:00.239Z"
   },
   {
    "duration": 7905,
    "start_time": "2023-08-08T07:48:46.879Z"
   },
   {
    "duration": 9346,
    "start_time": "2023-08-08T07:49:27.131Z"
   },
   {
    "duration": 11,
    "start_time": "2023-08-08T07:51:07.928Z"
   },
   {
    "duration": 809,
    "start_time": "2023-08-08T07:51:12.796Z"
   },
   {
    "duration": 498,
    "start_time": "2023-08-08T07:51:14.392Z"
   },
   {
    "duration": 7693,
    "start_time": "2023-08-08T07:51:20.182Z"
   },
   {
    "duration": 5202,
    "start_time": "2023-08-08T07:51:42.983Z"
   },
   {
    "duration": 717,
    "start_time": "2023-08-08T07:52:44.176Z"
   },
   {
    "duration": 193,
    "start_time": "2023-08-08T07:53:22.232Z"
   },
   {
    "duration": 597,
    "start_time": "2023-08-08T07:53:28.594Z"
   },
   {
    "duration": 131,
    "start_time": "2023-08-08T07:56:23.199Z"
   },
   {
    "duration": 23138,
    "start_time": "2023-08-08T07:56:35.242Z"
   },
   {
    "duration": 4966,
    "start_time": "2023-08-08T07:57:02.517Z"
   },
   {
    "duration": 176,
    "start_time": "2023-08-08T07:57:35.415Z"
   },
   {
    "duration": 144,
    "start_time": "2023-08-08T07:57:40.538Z"
   },
   {
    "duration": 185,
    "start_time": "2023-08-08T07:57:42.764Z"
   },
   {
    "duration": 736,
    "start_time": "2023-08-08T07:57:45.765Z"
   },
   {
    "duration": 544,
    "start_time": "2023-08-08T07:58:35.667Z"
   },
   {
    "duration": 11301,
    "start_time": "2023-08-08T07:58:46.588Z"
   },
   {
    "duration": 460814,
    "start_time": "2023-08-08T08:00:03.568Z"
   },
   {
    "duration": 462060,
    "start_time": "2023-08-08T08:08:09.982Z"
   },
   {
    "duration": 183,
    "start_time": "2023-08-08T08:18:38.220Z"
   },
   {
    "duration": 234,
    "start_time": "2023-08-08T08:18:44.954Z"
   },
   {
    "duration": 206,
    "start_time": "2023-08-08T08:18:46.900Z"
   },
   {
    "duration": 724,
    "start_time": "2023-08-08T08:18:49.560Z"
   },
   {
    "duration": 1343,
    "start_time": "2023-08-08T08:20:48.020Z"
   },
   {
    "duration": 3,
    "start_time": "2023-08-08T08:20:49.366Z"
   },
   {
    "duration": 1034,
    "start_time": "2023-08-08T08:20:49.372Z"
   },
   {
    "duration": 1350,
    "start_time": "2023-08-08T08:20:50.409Z"
   },
   {
    "duration": 240,
    "start_time": "2023-08-08T08:20:51.763Z"
   },
   {
    "duration": 550,
    "start_time": "2023-08-08T08:20:52.005Z"
   },
   {
    "duration": 987,
    "start_time": "2023-08-08T08:20:52.556Z"
   },
   {
    "duration": 9,
    "start_time": "2023-08-08T08:20:53.545Z"
   },
   {
    "duration": 23,
    "start_time": "2023-08-08T08:20:53.556Z"
   },
   {
    "duration": 165,
    "start_time": "2023-08-08T08:20:53.581Z"
   },
   {
    "duration": 32,
    "start_time": "2023-08-08T08:20:53.748Z"
   },
   {
    "duration": 353,
    "start_time": "2023-08-08T08:20:53.781Z"
   },
   {
    "duration": 9,
    "start_time": "2023-08-08T08:20:54.136Z"
   },
   {
    "duration": 79,
    "start_time": "2023-08-08T08:20:54.149Z"
   },
   {
    "duration": 188,
    "start_time": "2023-08-08T08:20:54.231Z"
   },
   {
    "duration": 22,
    "start_time": "2023-08-08T08:20:54.421Z"
   },
   {
    "duration": 81,
    "start_time": "2023-08-08T08:20:54.445Z"
   },
   {
    "duration": 1036,
    "start_time": "2023-08-08T08:20:54.528Z"
   },
   {
    "duration": 25,
    "start_time": "2023-08-08T08:20:55.567Z"
   },
   {
    "duration": 16,
    "start_time": "2023-08-08T08:20:55.594Z"
   },
   {
    "duration": 975,
    "start_time": "2023-08-08T08:20:55.611Z"
   },
   {
    "duration": 584,
    "start_time": "2023-08-08T08:20:56.589Z"
   },
   {
    "duration": 44,
    "start_time": "2023-08-08T08:20:57.175Z"
   },
   {
    "duration": 150,
    "start_time": "2023-08-08T08:20:57.221Z"
   },
   {
    "duration": 3,
    "start_time": "2023-08-08T08:20:57.373Z"
   },
   {
    "duration": 27905,
    "start_time": "2023-08-08T08:20:57.377Z"
   },
   {
    "duration": 412927,
    "start_time": "2023-08-08T08:21:25.284Z"
   },
   {
    "duration": 496638,
    "start_time": "2023-08-08T08:28:18.216Z"
   },
   {
    "duration": 524174,
    "start_time": "2023-08-08T08:36:34.857Z"
   },
   {
    "duration": 223,
    "start_time": "2023-08-08T08:45:19.034Z"
   },
   {
    "duration": 417,
    "start_time": "2023-08-08T08:45:19.259Z"
   },
   {
    "duration": 0,
    "start_time": "2023-08-08T08:45:19.678Z"
   },
   {
    "duration": 0,
    "start_time": "2023-08-08T08:45:19.680Z"
   },
   {
    "duration": 175,
    "start_time": "2023-08-08T08:54:22.902Z"
   },
   {
    "duration": 198,
    "start_time": "2023-08-08T08:54:24.621Z"
   },
   {
    "duration": 205,
    "start_time": "2023-08-08T08:54:28.017Z"
   },
   {
    "duration": 713,
    "start_time": "2023-08-08T08:54:29.661Z"
   },
   {
    "duration": 1485,
    "start_time": "2023-09-10T09:50:07.667Z"
   },
   {
    "duration": 3,
    "start_time": "2023-09-10T09:50:10.038Z"
   },
   {
    "duration": 3093,
    "start_time": "2023-09-10T09:50:10.740Z"
   },
   {
    "duration": 1692,
    "start_time": "2023-09-10T09:50:13.835Z"
   },
   {
    "duration": 172,
    "start_time": "2023-09-10T09:50:15.814Z"
   },
   {
    "duration": 494,
    "start_time": "2023-09-10T09:50:19.224Z"
   },
   {
    "duration": 1000,
    "start_time": "2023-09-10T09:50:20.429Z"
   },
   {
    "duration": 8,
    "start_time": "2023-09-10T09:50:22.819Z"
   },
   {
    "duration": 9,
    "start_time": "2023-09-10T09:50:24.964Z"
   },
   {
    "duration": 156,
    "start_time": "2023-09-10T09:50:26.075Z"
   },
   {
    "duration": 13,
    "start_time": "2023-09-10T09:50:27.522Z"
   },
   {
    "duration": 308,
    "start_time": "2023-09-10T09:50:30.223Z"
   },
   {
    "duration": 13,
    "start_time": "2023-09-10T09:52:31.192Z"
   },
   {
    "duration": 348,
    "start_time": "2023-09-10T09:52:33.034Z"
   },
   {
    "duration": 210,
    "start_time": "2023-09-10T10:02:15.889Z"
   },
   {
    "duration": 310,
    "start_time": "2023-09-10T10:05:47.535Z"
   },
   {
    "duration": 231,
    "start_time": "2023-09-10T10:10:11.693Z"
   },
   {
    "duration": 1235,
    "start_time": "2023-09-10T10:10:24.378Z"
   },
   {
    "duration": 3,
    "start_time": "2023-09-10T10:10:25.614Z"
   },
   {
    "duration": 1428,
    "start_time": "2023-09-10T10:10:25.619Z"
   },
   {
    "duration": 1178,
    "start_time": "2023-09-10T10:10:27.050Z"
   },
   {
    "duration": 147,
    "start_time": "2023-09-10T10:10:28.230Z"
   },
   {
    "duration": 511,
    "start_time": "2023-09-10T10:10:28.379Z"
   },
   {
    "duration": 997,
    "start_time": "2023-09-10T10:10:28.892Z"
   },
   {
    "duration": 6,
    "start_time": "2023-09-10T10:10:29.891Z"
   },
   {
    "duration": 5,
    "start_time": "2023-09-10T10:10:29.899Z"
   },
   {
    "duration": 175,
    "start_time": "2023-09-10T10:10:29.906Z"
   },
   {
    "duration": 12,
    "start_time": "2023-09-10T10:10:30.083Z"
   },
   {
    "duration": 288,
    "start_time": "2023-09-10T10:10:30.097Z"
   },
   {
    "duration": 59,
    "start_time": "2023-09-10T10:10:30.386Z"
   },
   {
    "duration": 128,
    "start_time": "2023-09-10T10:10:30.450Z"
   },
   {
    "duration": 14,
    "start_time": "2023-09-10T10:10:30.580Z"
   },
   {
    "duration": 49,
    "start_time": "2023-09-10T10:10:30.596Z"
   },
   {
    "duration": 993,
    "start_time": "2023-09-10T10:10:30.647Z"
   },
   {
    "duration": 17,
    "start_time": "2023-09-10T10:10:31.641Z"
   },
   {
    "duration": 16,
    "start_time": "2023-09-10T10:10:31.661Z"
   },
   {
    "duration": 850,
    "start_time": "2023-09-10T10:10:31.679Z"
   },
   {
    "duration": 841,
    "start_time": "2023-09-10T10:10:32.532Z"
   },
   {
    "duration": 34,
    "start_time": "2023-09-10T10:10:33.376Z"
   },
   {
    "duration": 120,
    "start_time": "2023-09-10T10:10:33.411Z"
   },
   {
    "duration": 2,
    "start_time": "2023-09-10T10:10:33.533Z"
   },
   {
    "duration": 32324,
    "start_time": "2023-09-10T10:10:33.536Z"
   },
   {
    "duration": 4792,
    "start_time": "2023-09-10T10:11:05.862Z"
   },
   {
    "duration": 283019,
    "start_time": "2023-09-10T10:11:10.655Z"
   },
   {
    "duration": 0,
    "start_time": "2023-09-10T10:15:53.675Z"
   },
   {
    "duration": 0,
    "start_time": "2023-09-10T10:15:53.676Z"
   },
   {
    "duration": 0,
    "start_time": "2023-09-10T10:15:53.677Z"
   },
   {
    "duration": 0,
    "start_time": "2023-09-10T10:15:53.678Z"
   },
   {
    "duration": 0,
    "start_time": "2023-09-10T10:15:53.679Z"
   },
   {
    "duration": 0,
    "start_time": "2023-09-10T10:15:53.680Z"
   },
   {
    "duration": 3313,
    "start_time": "2023-09-10T10:15:59.103Z"
   },
   {
    "duration": 87,
    "start_time": "2023-09-10T10:17:09.096Z"
   },
   {
    "duration": 127,
    "start_time": "2023-09-10T10:17:29.859Z"
   },
   {
    "duration": 132,
    "start_time": "2023-09-10T10:17:35.620Z"
   },
   {
    "duration": 19,
    "start_time": "2023-09-10T10:21:44.700Z"
   },
   {
    "duration": 4,
    "start_time": "2023-09-10T10:22:11.292Z"
   },
   {
    "duration": 35,
    "start_time": "2023-09-10T10:22:18.093Z"
   },
   {
    "duration": 29,
    "start_time": "2023-09-10T10:29:10.814Z"
   },
   {
    "duration": 193,
    "start_time": "2023-09-10T10:30:12.363Z"
   },
   {
    "duration": 324,
    "start_time": "2023-09-10T10:30:21.849Z"
   },
   {
    "duration": 361,
    "start_time": "2023-09-10T10:30:35.643Z"
   },
   {
    "duration": 9,
    "start_time": "2023-09-10T10:32:17.967Z"
   },
   {
    "duration": 2738,
    "start_time": "2023-09-10T10:32:30.752Z"
   },
   {
    "duration": 68,
    "start_time": "2023-09-10T10:32:37.698Z"
   },
   {
    "duration": 22,
    "start_time": "2023-09-10T10:35:54.924Z"
   },
   {
    "duration": 420,
    "start_time": "2023-09-10T10:36:00.590Z"
   },
   {
    "duration": 4,
    "start_time": "2023-09-10T10:36:54.391Z"
   },
   {
    "duration": 4,
    "start_time": "2023-09-10T10:37:11.098Z"
   },
   {
    "duration": 352,
    "start_time": "2023-09-10T10:37:12.772Z"
   },
   {
    "duration": 554,
    "start_time": "2023-09-10T10:37:26.079Z"
   },
   {
    "duration": 464,
    "start_time": "2023-09-10T10:37:38.786Z"
   },
   {
    "duration": 480,
    "start_time": "2023-09-10T10:37:56.436Z"
   },
   {
    "duration": 4,
    "start_time": "2023-09-10T10:39:35.740Z"
   },
   {
    "duration": 24,
    "start_time": "2023-09-10T10:42:43.290Z"
   },
   {
    "duration": 24,
    "start_time": "2023-09-10T10:42:50.592Z"
   },
   {
    "duration": 5,
    "start_time": "2023-09-10T10:53:37.879Z"
   },
   {
    "duration": 5,
    "start_time": "2023-09-10T10:53:42.596Z"
   },
   {
    "duration": 4,
    "start_time": "2023-09-10T10:54:21.422Z"
   },
   {
    "duration": 29,
    "start_time": "2023-09-10T10:54:33.332Z"
   },
   {
    "duration": 2846,
    "start_time": "2023-09-10T10:56:53.414Z"
   },
   {
    "duration": 3,
    "start_time": "2023-09-10T11:04:06.441Z"
   },
   {
    "duration": 3,
    "start_time": "2023-09-10T11:04:19.482Z"
   },
   {
    "duration": 19,
    "start_time": "2023-09-10T11:05:13.965Z"
   },
   {
    "duration": 18,
    "start_time": "2023-09-10T11:05:17.865Z"
   },
   {
    "duration": 1430,
    "start_time": "2023-09-10T11:05:41.162Z"
   },
   {
    "duration": 4,
    "start_time": "2023-09-10T11:05:42.594Z"
   },
   {
    "duration": 1109,
    "start_time": "2023-09-10T11:05:42.599Z"
   },
   {
    "duration": 1095,
    "start_time": "2023-09-10T11:05:43.710Z"
   },
   {
    "duration": 138,
    "start_time": "2023-09-10T11:05:44.807Z"
   },
   {
    "duration": 438,
    "start_time": "2023-09-10T11:05:44.947Z"
   },
   {
    "duration": 951,
    "start_time": "2023-09-10T11:05:45.387Z"
   },
   {
    "duration": 14,
    "start_time": "2023-09-10T11:05:46.340Z"
   },
   {
    "duration": 9,
    "start_time": "2023-09-10T11:05:46.356Z"
   },
   {
    "duration": 197,
    "start_time": "2023-09-10T11:05:46.368Z"
   },
   {
    "duration": 14,
    "start_time": "2023-09-10T11:05:46.568Z"
   },
   {
    "duration": 275,
    "start_time": "2023-09-10T11:05:46.583Z"
   },
   {
    "duration": 59,
    "start_time": "2023-09-10T11:05:46.860Z"
   },
   {
    "duration": 133,
    "start_time": "2023-09-10T11:05:46.921Z"
   },
   {
    "duration": 14,
    "start_time": "2023-09-10T11:05:47.056Z"
   },
   {
    "duration": 29,
    "start_time": "2023-09-10T11:05:47.072Z"
   },
   {
    "duration": 142,
    "start_time": "2023-09-10T11:05:47.103Z"
   },
   {
    "duration": 4,
    "start_time": "2023-09-10T11:05:47.246Z"
   },
   {
    "duration": 375,
    "start_time": "2023-09-10T11:05:47.252Z"
   },
   {
    "duration": 2223,
    "start_time": "2023-09-10T11:05:47.629Z"
   },
   {
    "duration": 76,
    "start_time": "2023-09-10T11:05:49.854Z"
   },
   {
    "duration": 532,
    "start_time": "2023-09-10T11:05:49.932Z"
   },
   {
    "duration": 24,
    "start_time": "2023-09-10T11:05:50.465Z"
   },
   {
    "duration": 139,
    "start_time": "2023-09-10T11:05:50.491Z"
   },
   {
    "duration": 0,
    "start_time": "2023-09-10T11:05:50.631Z"
   },
   {
    "duration": 1,
    "start_time": "2023-09-10T11:05:50.632Z"
   },
   {
    "duration": 0,
    "start_time": "2023-09-10T11:05:50.634Z"
   },
   {
    "duration": 0,
    "start_time": "2023-09-10T11:05:50.635Z"
   },
   {
    "duration": 0,
    "start_time": "2023-09-10T11:05:50.644Z"
   },
   {
    "duration": 0,
    "start_time": "2023-09-10T11:05:50.645Z"
   },
   {
    "duration": 0,
    "start_time": "2023-09-10T11:05:50.646Z"
   },
   {
    "duration": 0,
    "start_time": "2023-09-10T11:05:50.648Z"
   },
   {
    "duration": 0,
    "start_time": "2023-09-10T11:05:50.648Z"
   },
   {
    "duration": 9,
    "start_time": "2023-09-10T11:06:19.504Z"
   },
   {
    "duration": 1452,
    "start_time": "2023-09-10T11:07:48.429Z"
   },
   {
    "duration": 7,
    "start_time": "2023-09-10T11:08:21.365Z"
   },
   {
    "duration": 17,
    "start_time": "2023-09-10T11:08:26.273Z"
   },
   {
    "duration": 22,
    "start_time": "2023-09-10T11:09:18.537Z"
   },
   {
    "duration": 1485,
    "start_time": "2023-09-10T11:10:56.277Z"
   },
   {
    "duration": 17,
    "start_time": "2023-09-10T11:12:41.302Z"
   },
   {
    "duration": 239,
    "start_time": "2023-09-10T11:14:20.844Z"
   },
   {
    "duration": 278,
    "start_time": "2023-09-10T11:15:11.049Z"
   },
   {
    "duration": 302,
    "start_time": "2023-09-10T11:19:37.145Z"
   },
   {
    "duration": 10,
    "start_time": "2023-09-10T11:23:38.199Z"
   },
   {
    "duration": 3,
    "start_time": "2023-09-10T11:23:41.452Z"
   },
   {
    "duration": 483,
    "start_time": "2023-09-10T11:23:43.372Z"
   },
   {
    "duration": 607,
    "start_time": "2023-09-10T11:23:53.038Z"
   },
   {
    "duration": 587,
    "start_time": "2023-09-10T11:24:41.485Z"
   },
   {
    "duration": 4,
    "start_time": "2023-09-10T11:24:50.977Z"
   },
   {
    "duration": 9,
    "start_time": "2023-09-10T11:25:50.121Z"
   },
   {
    "duration": 5,
    "start_time": "2023-09-10T11:26:23.587Z"
   },
   {
    "duration": 4,
    "start_time": "2023-09-10T11:26:32.517Z"
   },
   {
    "duration": 208687,
    "start_time": "2023-09-10T11:27:32.879Z"
   },
   {
    "duration": 183430,
    "start_time": "2023-09-10T11:31:38.727Z"
   },
   {
    "duration": 317908,
    "start_time": "2023-09-10T11:35:03.352Z"
   },
   {
    "duration": 10,
    "start_time": "2023-09-10T11:41:08.750Z"
   },
   {
    "duration": 508,
    "start_time": "2023-09-10T11:41:13.553Z"
   },
   {
    "duration": 5,
    "start_time": "2023-09-10T11:41:16.899Z"
   },
   {
    "duration": 6,
    "start_time": "2023-09-10T11:41:21.521Z"
   },
   {
    "duration": 5,
    "start_time": "2023-09-10T11:41:23.789Z"
   },
   {
    "duration": 74,
    "start_time": "2023-09-10T11:43:34.458Z"
   },
   {
    "duration": 78,
    "start_time": "2023-09-10T11:43:37.830Z"
   },
   {
    "duration": 75,
    "start_time": "2023-09-10T12:14:51.900Z"
   },
   {
    "duration": 65,
    "start_time": "2023-09-10T12:17:41.872Z"
   },
   {
    "duration": 342,
    "start_time": "2023-09-10T12:19:26.618Z"
   },
   {
    "duration": 87,
    "start_time": "2023-09-10T12:23:20.812Z"
   },
   {
    "duration": 317396,
    "start_time": "2023-09-10T12:26:08.730Z"
   }
  ],
  "kernelspec": {
   "display_name": "Python 3 (ipykernel)",
   "language": "python",
   "name": "python3"
  },
  "language_info": {
   "codemirror_mode": {
    "name": "ipython",
    "version": 3
   },
   "file_extension": ".py",
   "mimetype": "text/x-python",
   "name": "python",
   "nbconvert_exporter": "python",
   "pygments_lexer": "ipython3",
   "version": "3.11.5"
  },
  "toc": {
   "base_numbering": 1,
   "nav_menu": {},
   "number_sections": true,
   "sideBar": true,
   "skip_h1_title": true,
   "title_cell": "Table of Contents",
   "title_sidebar": "Contents",
   "toc_cell": false,
   "toc_position": {
    "height": "calc(100% - 180px)",
    "left": "10px",
    "top": "150px",
    "width": "165px"
   },
   "toc_section_display": true,
   "toc_window_display": true
  }
 },
 "nbformat": 4,
 "nbformat_minor": 2
}
